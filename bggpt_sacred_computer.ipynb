{
  "nbformat": 4,
  "nbformat_minor": 0,
  "metadata": {
    "colab": {
      "provenance": [],
      "gpuType": "T4",
      "history_visible": true,
      "include_colab_link": true
    },
    "kernelspec": {
      "name": "python3",
      "display_name": "Python 3"
    },
    "language_info": {
      "name": "python"
    },
    "accelerator": "GPU",
    "widgets": {
      "application/vnd.jupyter.widget-state+json": {
        "5308f833be2c4f8ebd9ee914764d36cc": {
          "model_module": "@jupyter-widgets/controls",
          "model_name": "HBoxModel",
          "model_module_version": "1.5.0",
          "state": {
            "_dom_classes": [],
            "_model_module": "@jupyter-widgets/controls",
            "_model_module_version": "1.5.0",
            "_model_name": "HBoxModel",
            "_view_count": null,
            "_view_module": "@jupyter-widgets/controls",
            "_view_module_version": "1.5.0",
            "_view_name": "HBoxView",
            "box_style": "",
            "children": [
              "IPY_MODEL_26c49b48acd048489503e1e984fc24d7",
              "IPY_MODEL_1181961fc53d44e88b9637b69bf0b73c",
              "IPY_MODEL_4eae8d5cb5f54288899073fb0f320ed7"
            ],
            "layout": "IPY_MODEL_4acafc3019a94ae6bc47c24f8e68552f"
          }
        },
        "26c49b48acd048489503e1e984fc24d7": {
          "model_module": "@jupyter-widgets/controls",
          "model_name": "HTMLModel",
          "model_module_version": "1.5.0",
          "state": {
            "_dom_classes": [],
            "_model_module": "@jupyter-widgets/controls",
            "_model_module_version": "1.5.0",
            "_model_name": "HTMLModel",
            "_view_count": null,
            "_view_module": "@jupyter-widgets/controls",
            "_view_module_version": "1.5.0",
            "_view_name": "HTMLView",
            "description": "",
            "description_tooltip": null,
            "layout": "IPY_MODEL_bb2bf8e598964272aee2cb824e270215",
            "placeholder": "​",
            "style": "IPY_MODEL_45819c0b04c2477681f07601d7578eda",
            "value": "config.json: 100%"
          }
        },
        "1181961fc53d44e88b9637b69bf0b73c": {
          "model_module": "@jupyter-widgets/controls",
          "model_name": "FloatProgressModel",
          "model_module_version": "1.5.0",
          "state": {
            "_dom_classes": [],
            "_model_module": "@jupyter-widgets/controls",
            "_model_module_version": "1.5.0",
            "_model_name": "FloatProgressModel",
            "_view_count": null,
            "_view_module": "@jupyter-widgets/controls",
            "_view_module_version": "1.5.0",
            "_view_name": "ProgressView",
            "bar_style": "success",
            "description": "",
            "description_tooltip": null,
            "layout": "IPY_MODEL_5bfafb4295fb4e18995c7cf62073c99c",
            "max": 594,
            "min": 0,
            "orientation": "horizontal",
            "style": "IPY_MODEL_68140334ab3c4ca184ed36fb3a109de1",
            "value": 594
          }
        },
        "4eae8d5cb5f54288899073fb0f320ed7": {
          "model_module": "@jupyter-widgets/controls",
          "model_name": "HTMLModel",
          "model_module_version": "1.5.0",
          "state": {
            "_dom_classes": [],
            "_model_module": "@jupyter-widgets/controls",
            "_model_module_version": "1.5.0",
            "_model_name": "HTMLModel",
            "_view_count": null,
            "_view_module": "@jupyter-widgets/controls",
            "_view_module_version": "1.5.0",
            "_view_name": "HTMLView",
            "description": "",
            "description_tooltip": null,
            "layout": "IPY_MODEL_63053076d3074b69ad89dc0ebefec160",
            "placeholder": "​",
            "style": "IPY_MODEL_96a10c7b846a42fd82d0a07c18e3c7a4",
            "value": " 594/594 [00:00&lt;00:00, 21.0kB/s]"
          }
        },
        "4acafc3019a94ae6bc47c24f8e68552f": {
          "model_module": "@jupyter-widgets/base",
          "model_name": "LayoutModel",
          "model_module_version": "1.2.0",
          "state": {
            "_model_module": "@jupyter-widgets/base",
            "_model_module_version": "1.2.0",
            "_model_name": "LayoutModel",
            "_view_count": null,
            "_view_module": "@jupyter-widgets/base",
            "_view_module_version": "1.2.0",
            "_view_name": "LayoutView",
            "align_content": null,
            "align_items": null,
            "align_self": null,
            "border": null,
            "bottom": null,
            "display": null,
            "flex": null,
            "flex_flow": null,
            "grid_area": null,
            "grid_auto_columns": null,
            "grid_auto_flow": null,
            "grid_auto_rows": null,
            "grid_column": null,
            "grid_gap": null,
            "grid_row": null,
            "grid_template_areas": null,
            "grid_template_columns": null,
            "grid_template_rows": null,
            "height": null,
            "justify_content": null,
            "justify_items": null,
            "left": null,
            "margin": null,
            "max_height": null,
            "max_width": null,
            "min_height": null,
            "min_width": null,
            "object_fit": null,
            "object_position": null,
            "order": null,
            "overflow": null,
            "overflow_x": null,
            "overflow_y": null,
            "padding": null,
            "right": null,
            "top": null,
            "visibility": null,
            "width": null
          }
        },
        "bb2bf8e598964272aee2cb824e270215": {
          "model_module": "@jupyter-widgets/base",
          "model_name": "LayoutModel",
          "model_module_version": "1.2.0",
          "state": {
            "_model_module": "@jupyter-widgets/base",
            "_model_module_version": "1.2.0",
            "_model_name": "LayoutModel",
            "_view_count": null,
            "_view_module": "@jupyter-widgets/base",
            "_view_module_version": "1.2.0",
            "_view_name": "LayoutView",
            "align_content": null,
            "align_items": null,
            "align_self": null,
            "border": null,
            "bottom": null,
            "display": null,
            "flex": null,
            "flex_flow": null,
            "grid_area": null,
            "grid_auto_columns": null,
            "grid_auto_flow": null,
            "grid_auto_rows": null,
            "grid_column": null,
            "grid_gap": null,
            "grid_row": null,
            "grid_template_areas": null,
            "grid_template_columns": null,
            "grid_template_rows": null,
            "height": null,
            "justify_content": null,
            "justify_items": null,
            "left": null,
            "margin": null,
            "max_height": null,
            "max_width": null,
            "min_height": null,
            "min_width": null,
            "object_fit": null,
            "object_position": null,
            "order": null,
            "overflow": null,
            "overflow_x": null,
            "overflow_y": null,
            "padding": null,
            "right": null,
            "top": null,
            "visibility": null,
            "width": null
          }
        },
        "45819c0b04c2477681f07601d7578eda": {
          "model_module": "@jupyter-widgets/controls",
          "model_name": "DescriptionStyleModel",
          "model_module_version": "1.5.0",
          "state": {
            "_model_module": "@jupyter-widgets/controls",
            "_model_module_version": "1.5.0",
            "_model_name": "DescriptionStyleModel",
            "_view_count": null,
            "_view_module": "@jupyter-widgets/base",
            "_view_module_version": "1.2.0",
            "_view_name": "StyleView",
            "description_width": ""
          }
        },
        "5bfafb4295fb4e18995c7cf62073c99c": {
          "model_module": "@jupyter-widgets/base",
          "model_name": "LayoutModel",
          "model_module_version": "1.2.0",
          "state": {
            "_model_module": "@jupyter-widgets/base",
            "_model_module_version": "1.2.0",
            "_model_name": "LayoutModel",
            "_view_count": null,
            "_view_module": "@jupyter-widgets/base",
            "_view_module_version": "1.2.0",
            "_view_name": "LayoutView",
            "align_content": null,
            "align_items": null,
            "align_self": null,
            "border": null,
            "bottom": null,
            "display": null,
            "flex": null,
            "flex_flow": null,
            "grid_area": null,
            "grid_auto_columns": null,
            "grid_auto_flow": null,
            "grid_auto_rows": null,
            "grid_column": null,
            "grid_gap": null,
            "grid_row": null,
            "grid_template_areas": null,
            "grid_template_columns": null,
            "grid_template_rows": null,
            "height": null,
            "justify_content": null,
            "justify_items": null,
            "left": null,
            "margin": null,
            "max_height": null,
            "max_width": null,
            "min_height": null,
            "min_width": null,
            "object_fit": null,
            "object_position": null,
            "order": null,
            "overflow": null,
            "overflow_x": null,
            "overflow_y": null,
            "padding": null,
            "right": null,
            "top": null,
            "visibility": null,
            "width": null
          }
        },
        "68140334ab3c4ca184ed36fb3a109de1": {
          "model_module": "@jupyter-widgets/controls",
          "model_name": "ProgressStyleModel",
          "model_module_version": "1.5.0",
          "state": {
            "_model_module": "@jupyter-widgets/controls",
            "_model_module_version": "1.5.0",
            "_model_name": "ProgressStyleModel",
            "_view_count": null,
            "_view_module": "@jupyter-widgets/base",
            "_view_module_version": "1.2.0",
            "_view_name": "StyleView",
            "bar_color": null,
            "description_width": ""
          }
        },
        "63053076d3074b69ad89dc0ebefec160": {
          "model_module": "@jupyter-widgets/base",
          "model_name": "LayoutModel",
          "model_module_version": "1.2.0",
          "state": {
            "_model_module": "@jupyter-widgets/base",
            "_model_module_version": "1.2.0",
            "_model_name": "LayoutModel",
            "_view_count": null,
            "_view_module": "@jupyter-widgets/base",
            "_view_module_version": "1.2.0",
            "_view_name": "LayoutView",
            "align_content": null,
            "align_items": null,
            "align_self": null,
            "border": null,
            "bottom": null,
            "display": null,
            "flex": null,
            "flex_flow": null,
            "grid_area": null,
            "grid_auto_columns": null,
            "grid_auto_flow": null,
            "grid_auto_rows": null,
            "grid_column": null,
            "grid_gap": null,
            "grid_row": null,
            "grid_template_areas": null,
            "grid_template_columns": null,
            "grid_template_rows": null,
            "height": null,
            "justify_content": null,
            "justify_items": null,
            "left": null,
            "margin": null,
            "max_height": null,
            "max_width": null,
            "min_height": null,
            "min_width": null,
            "object_fit": null,
            "object_position": null,
            "order": null,
            "overflow": null,
            "overflow_x": null,
            "overflow_y": null,
            "padding": null,
            "right": null,
            "top": null,
            "visibility": null,
            "width": null
          }
        },
        "96a10c7b846a42fd82d0a07c18e3c7a4": {
          "model_module": "@jupyter-widgets/controls",
          "model_name": "DescriptionStyleModel",
          "model_module_version": "1.5.0",
          "state": {
            "_model_module": "@jupyter-widgets/controls",
            "_model_module_version": "1.5.0",
            "_model_name": "DescriptionStyleModel",
            "_view_count": null,
            "_view_module": "@jupyter-widgets/base",
            "_view_module_version": "1.2.0",
            "_view_name": "StyleView",
            "description_width": ""
          }
        },
        "ca56b400ca6a4666aee36b1161bb85b6": {
          "model_module": "@jupyter-widgets/controls",
          "model_name": "HBoxModel",
          "model_module_version": "1.5.0",
          "state": {
            "_dom_classes": [],
            "_model_module": "@jupyter-widgets/controls",
            "_model_module_version": "1.5.0",
            "_model_name": "HBoxModel",
            "_view_count": null,
            "_view_module": "@jupyter-widgets/controls",
            "_view_module_version": "1.5.0",
            "_view_name": "HBoxView",
            "box_style": "",
            "children": [
              "IPY_MODEL_da335eb9170f45d088a016bedb8b6649",
              "IPY_MODEL_b9d6c59da64d48768045303f3f3a4943",
              "IPY_MODEL_012662a98ed241ff95418c9fee64a927"
            ],
            "layout": "IPY_MODEL_2b427aee66964f28981bc954e89c6368"
          }
        },
        "da335eb9170f45d088a016bedb8b6649": {
          "model_module": "@jupyter-widgets/controls",
          "model_name": "HTMLModel",
          "model_module_version": "1.5.0",
          "state": {
            "_dom_classes": [],
            "_model_module": "@jupyter-widgets/controls",
            "_model_module_version": "1.5.0",
            "_model_name": "HTMLModel",
            "_view_count": null,
            "_view_module": "@jupyter-widgets/controls",
            "_view_module_version": "1.5.0",
            "_view_name": "HTMLView",
            "description": "",
            "description_tooltip": null,
            "layout": "IPY_MODEL_1c1e48c7f98642b0b14b6b777694a522",
            "placeholder": "​",
            "style": "IPY_MODEL_b3ba32230f6247b2be761adf8e08435e",
            "value": "model.safetensors.index.json: 100%"
          }
        },
        "b9d6c59da64d48768045303f3f3a4943": {
          "model_module": "@jupyter-widgets/controls",
          "model_name": "FloatProgressModel",
          "model_module_version": "1.5.0",
          "state": {
            "_dom_classes": [],
            "_model_module": "@jupyter-widgets/controls",
            "_model_module_version": "1.5.0",
            "_model_name": "FloatProgressModel",
            "_view_count": null,
            "_view_module": "@jupyter-widgets/controls",
            "_view_module_version": "1.5.0",
            "_view_name": "ProgressView",
            "bar_style": "success",
            "description": "",
            "description_tooltip": null,
            "layout": "IPY_MODEL_847af3b6d04b40dd96e1cd0b8f32e80c",
            "max": 24799,
            "min": 0,
            "orientation": "horizontal",
            "style": "IPY_MODEL_c2c21e0c90eb4d529b0be6a33ef91bf1",
            "value": 24799
          }
        },
        "012662a98ed241ff95418c9fee64a927": {
          "model_module": "@jupyter-widgets/controls",
          "model_name": "HTMLModel",
          "model_module_version": "1.5.0",
          "state": {
            "_dom_classes": [],
            "_model_module": "@jupyter-widgets/controls",
            "_model_module_version": "1.5.0",
            "_model_name": "HTMLModel",
            "_view_count": null,
            "_view_module": "@jupyter-widgets/controls",
            "_view_module_version": "1.5.0",
            "_view_name": "HTMLView",
            "description": "",
            "description_tooltip": null,
            "layout": "IPY_MODEL_1c4da1fd264740588319558825285cb1",
            "placeholder": "​",
            "style": "IPY_MODEL_1e190c34bd464c3a98dd7bcb82621406",
            "value": " 24.8k/24.8k [00:00&lt;00:00, 602kB/s]"
          }
        },
        "2b427aee66964f28981bc954e89c6368": {
          "model_module": "@jupyter-widgets/base",
          "model_name": "LayoutModel",
          "model_module_version": "1.2.0",
          "state": {
            "_model_module": "@jupyter-widgets/base",
            "_model_module_version": "1.2.0",
            "_model_name": "LayoutModel",
            "_view_count": null,
            "_view_module": "@jupyter-widgets/base",
            "_view_module_version": "1.2.0",
            "_view_name": "LayoutView",
            "align_content": null,
            "align_items": null,
            "align_self": null,
            "border": null,
            "bottom": null,
            "display": null,
            "flex": null,
            "flex_flow": null,
            "grid_area": null,
            "grid_auto_columns": null,
            "grid_auto_flow": null,
            "grid_auto_rows": null,
            "grid_column": null,
            "grid_gap": null,
            "grid_row": null,
            "grid_template_areas": null,
            "grid_template_columns": null,
            "grid_template_rows": null,
            "height": null,
            "justify_content": null,
            "justify_items": null,
            "left": null,
            "margin": null,
            "max_height": null,
            "max_width": null,
            "min_height": null,
            "min_width": null,
            "object_fit": null,
            "object_position": null,
            "order": null,
            "overflow": null,
            "overflow_x": null,
            "overflow_y": null,
            "padding": null,
            "right": null,
            "top": null,
            "visibility": null,
            "width": null
          }
        },
        "1c1e48c7f98642b0b14b6b777694a522": {
          "model_module": "@jupyter-widgets/base",
          "model_name": "LayoutModel",
          "model_module_version": "1.2.0",
          "state": {
            "_model_module": "@jupyter-widgets/base",
            "_model_module_version": "1.2.0",
            "_model_name": "LayoutModel",
            "_view_count": null,
            "_view_module": "@jupyter-widgets/base",
            "_view_module_version": "1.2.0",
            "_view_name": "LayoutView",
            "align_content": null,
            "align_items": null,
            "align_self": null,
            "border": null,
            "bottom": null,
            "display": null,
            "flex": null,
            "flex_flow": null,
            "grid_area": null,
            "grid_auto_columns": null,
            "grid_auto_flow": null,
            "grid_auto_rows": null,
            "grid_column": null,
            "grid_gap": null,
            "grid_row": null,
            "grid_template_areas": null,
            "grid_template_columns": null,
            "grid_template_rows": null,
            "height": null,
            "justify_content": null,
            "justify_items": null,
            "left": null,
            "margin": null,
            "max_height": null,
            "max_width": null,
            "min_height": null,
            "min_width": null,
            "object_fit": null,
            "object_position": null,
            "order": null,
            "overflow": null,
            "overflow_x": null,
            "overflow_y": null,
            "padding": null,
            "right": null,
            "top": null,
            "visibility": null,
            "width": null
          }
        },
        "b3ba32230f6247b2be761adf8e08435e": {
          "model_module": "@jupyter-widgets/controls",
          "model_name": "DescriptionStyleModel",
          "model_module_version": "1.5.0",
          "state": {
            "_model_module": "@jupyter-widgets/controls",
            "_model_module_version": "1.5.0",
            "_model_name": "DescriptionStyleModel",
            "_view_count": null,
            "_view_module": "@jupyter-widgets/base",
            "_view_module_version": "1.2.0",
            "_view_name": "StyleView",
            "description_width": ""
          }
        },
        "847af3b6d04b40dd96e1cd0b8f32e80c": {
          "model_module": "@jupyter-widgets/base",
          "model_name": "LayoutModel",
          "model_module_version": "1.2.0",
          "state": {
            "_model_module": "@jupyter-widgets/base",
            "_model_module_version": "1.2.0",
            "_model_name": "LayoutModel",
            "_view_count": null,
            "_view_module": "@jupyter-widgets/base",
            "_view_module_version": "1.2.0",
            "_view_name": "LayoutView",
            "align_content": null,
            "align_items": null,
            "align_self": null,
            "border": null,
            "bottom": null,
            "display": null,
            "flex": null,
            "flex_flow": null,
            "grid_area": null,
            "grid_auto_columns": null,
            "grid_auto_flow": null,
            "grid_auto_rows": null,
            "grid_column": null,
            "grid_gap": null,
            "grid_row": null,
            "grid_template_areas": null,
            "grid_template_columns": null,
            "grid_template_rows": null,
            "height": null,
            "justify_content": null,
            "justify_items": null,
            "left": null,
            "margin": null,
            "max_height": null,
            "max_width": null,
            "min_height": null,
            "min_width": null,
            "object_fit": null,
            "object_position": null,
            "order": null,
            "overflow": null,
            "overflow_x": null,
            "overflow_y": null,
            "padding": null,
            "right": null,
            "top": null,
            "visibility": null,
            "width": null
          }
        },
        "c2c21e0c90eb4d529b0be6a33ef91bf1": {
          "model_module": "@jupyter-widgets/controls",
          "model_name": "ProgressStyleModel",
          "model_module_version": "1.5.0",
          "state": {
            "_model_module": "@jupyter-widgets/controls",
            "_model_module_version": "1.5.0",
            "_model_name": "ProgressStyleModel",
            "_view_count": null,
            "_view_module": "@jupyter-widgets/base",
            "_view_module_version": "1.2.0",
            "_view_name": "StyleView",
            "bar_color": null,
            "description_width": ""
          }
        },
        "1c4da1fd264740588319558825285cb1": {
          "model_module": "@jupyter-widgets/base",
          "model_name": "LayoutModel",
          "model_module_version": "1.2.0",
          "state": {
            "_model_module": "@jupyter-widgets/base",
            "_model_module_version": "1.2.0",
            "_model_name": "LayoutModel",
            "_view_count": null,
            "_view_module": "@jupyter-widgets/base",
            "_view_module_version": "1.2.0",
            "_view_name": "LayoutView",
            "align_content": null,
            "align_items": null,
            "align_self": null,
            "border": null,
            "bottom": null,
            "display": null,
            "flex": null,
            "flex_flow": null,
            "grid_area": null,
            "grid_auto_columns": null,
            "grid_auto_flow": null,
            "grid_auto_rows": null,
            "grid_column": null,
            "grid_gap": null,
            "grid_row": null,
            "grid_template_areas": null,
            "grid_template_columns": null,
            "grid_template_rows": null,
            "height": null,
            "justify_content": null,
            "justify_items": null,
            "left": null,
            "margin": null,
            "max_height": null,
            "max_width": null,
            "min_height": null,
            "min_width": null,
            "object_fit": null,
            "object_position": null,
            "order": null,
            "overflow": null,
            "overflow_x": null,
            "overflow_y": null,
            "padding": null,
            "right": null,
            "top": null,
            "visibility": null,
            "width": null
          }
        },
        "1e190c34bd464c3a98dd7bcb82621406": {
          "model_module": "@jupyter-widgets/controls",
          "model_name": "DescriptionStyleModel",
          "model_module_version": "1.5.0",
          "state": {
            "_model_module": "@jupyter-widgets/controls",
            "_model_module_version": "1.5.0",
            "_model_name": "DescriptionStyleModel",
            "_view_count": null,
            "_view_module": "@jupyter-widgets/base",
            "_view_module_version": "1.2.0",
            "_view_name": "StyleView",
            "description_width": ""
          }
        },
        "647fca503cf5424c961c3c0893d44d7b": {
          "model_module": "@jupyter-widgets/controls",
          "model_name": "HBoxModel",
          "model_module_version": "1.5.0",
          "state": {
            "_dom_classes": [],
            "_model_module": "@jupyter-widgets/controls",
            "_model_module_version": "1.5.0",
            "_model_name": "HBoxModel",
            "_view_count": null,
            "_view_module": "@jupyter-widgets/controls",
            "_view_module_version": "1.5.0",
            "_view_name": "HBoxView",
            "box_style": "",
            "children": [
              "IPY_MODEL_3b185c92215c4d7682739b667e14d37b",
              "IPY_MODEL_bda3e436ec474b968289d955c67d36b6",
              "IPY_MODEL_e02ba9a6bdd348809760b096de857049"
            ],
            "layout": "IPY_MODEL_b15c33c8abc74487b6d0afc5386a8f1a"
          }
        },
        "3b185c92215c4d7682739b667e14d37b": {
          "model_module": "@jupyter-widgets/controls",
          "model_name": "HTMLModel",
          "model_module_version": "1.5.0",
          "state": {
            "_dom_classes": [],
            "_model_module": "@jupyter-widgets/controls",
            "_model_module_version": "1.5.0",
            "_model_name": "HTMLModel",
            "_view_count": null,
            "_view_module": "@jupyter-widgets/controls",
            "_view_module_version": "1.5.0",
            "_view_name": "HTMLView",
            "description": "",
            "description_tooltip": null,
            "layout": "IPY_MODEL_15faa3d986e243a48fbc719ea919c9ad",
            "placeholder": "​",
            "style": "IPY_MODEL_43408553c1aa441ab5fc6fe2a330ecb3",
            "value": "Downloading shards: 100%"
          }
        },
        "bda3e436ec474b968289d955c67d36b6": {
          "model_module": "@jupyter-widgets/controls",
          "model_name": "FloatProgressModel",
          "model_module_version": "1.5.0",
          "state": {
            "_dom_classes": [],
            "_model_module": "@jupyter-widgets/controls",
            "_model_module_version": "1.5.0",
            "_model_name": "FloatProgressModel",
            "_view_count": null,
            "_view_module": "@jupyter-widgets/controls",
            "_view_module_version": "1.5.0",
            "_view_name": "ProgressView",
            "bar_style": "success",
            "description": "",
            "description_tooltip": null,
            "layout": "IPY_MODEL_d4f6351880f64d9082a7910e8fa09688",
            "max": 2,
            "min": 0,
            "orientation": "horizontal",
            "style": "IPY_MODEL_1ece3fbb879d432ab2d247c694ac4363",
            "value": 2
          }
        },
        "e02ba9a6bdd348809760b096de857049": {
          "model_module": "@jupyter-widgets/controls",
          "model_name": "HTMLModel",
          "model_module_version": "1.5.0",
          "state": {
            "_dom_classes": [],
            "_model_module": "@jupyter-widgets/controls",
            "_model_module_version": "1.5.0",
            "_model_name": "HTMLModel",
            "_view_count": null,
            "_view_module": "@jupyter-widgets/controls",
            "_view_module_version": "1.5.0",
            "_view_name": "HTMLView",
            "description": "",
            "description_tooltip": null,
            "layout": "IPY_MODEL_64bf098b95ad4b96aae10bd8804cc7b0",
            "placeholder": "​",
            "style": "IPY_MODEL_65d1f7f93b4d4a279a3322dff4c46baf",
            "value": " 2/2 [02:33&lt;00:00, 69.02s/it]"
          }
        },
        "b15c33c8abc74487b6d0afc5386a8f1a": {
          "model_module": "@jupyter-widgets/base",
          "model_name": "LayoutModel",
          "model_module_version": "1.2.0",
          "state": {
            "_model_module": "@jupyter-widgets/base",
            "_model_module_version": "1.2.0",
            "_model_name": "LayoutModel",
            "_view_count": null,
            "_view_module": "@jupyter-widgets/base",
            "_view_module_version": "1.2.0",
            "_view_name": "LayoutView",
            "align_content": null,
            "align_items": null,
            "align_self": null,
            "border": null,
            "bottom": null,
            "display": null,
            "flex": null,
            "flex_flow": null,
            "grid_area": null,
            "grid_auto_columns": null,
            "grid_auto_flow": null,
            "grid_auto_rows": null,
            "grid_column": null,
            "grid_gap": null,
            "grid_row": null,
            "grid_template_areas": null,
            "grid_template_columns": null,
            "grid_template_rows": null,
            "height": null,
            "justify_content": null,
            "justify_items": null,
            "left": null,
            "margin": null,
            "max_height": null,
            "max_width": null,
            "min_height": null,
            "min_width": null,
            "object_fit": null,
            "object_position": null,
            "order": null,
            "overflow": null,
            "overflow_x": null,
            "overflow_y": null,
            "padding": null,
            "right": null,
            "top": null,
            "visibility": null,
            "width": null
          }
        },
        "15faa3d986e243a48fbc719ea919c9ad": {
          "model_module": "@jupyter-widgets/base",
          "model_name": "LayoutModel",
          "model_module_version": "1.2.0",
          "state": {
            "_model_module": "@jupyter-widgets/base",
            "_model_module_version": "1.2.0",
            "_model_name": "LayoutModel",
            "_view_count": null,
            "_view_module": "@jupyter-widgets/base",
            "_view_module_version": "1.2.0",
            "_view_name": "LayoutView",
            "align_content": null,
            "align_items": null,
            "align_self": null,
            "border": null,
            "bottom": null,
            "display": null,
            "flex": null,
            "flex_flow": null,
            "grid_area": null,
            "grid_auto_columns": null,
            "grid_auto_flow": null,
            "grid_auto_rows": null,
            "grid_column": null,
            "grid_gap": null,
            "grid_row": null,
            "grid_template_areas": null,
            "grid_template_columns": null,
            "grid_template_rows": null,
            "height": null,
            "justify_content": null,
            "justify_items": null,
            "left": null,
            "margin": null,
            "max_height": null,
            "max_width": null,
            "min_height": null,
            "min_width": null,
            "object_fit": null,
            "object_position": null,
            "order": null,
            "overflow": null,
            "overflow_x": null,
            "overflow_y": null,
            "padding": null,
            "right": null,
            "top": null,
            "visibility": null,
            "width": null
          }
        },
        "43408553c1aa441ab5fc6fe2a330ecb3": {
          "model_module": "@jupyter-widgets/controls",
          "model_name": "DescriptionStyleModel",
          "model_module_version": "1.5.0",
          "state": {
            "_model_module": "@jupyter-widgets/controls",
            "_model_module_version": "1.5.0",
            "_model_name": "DescriptionStyleModel",
            "_view_count": null,
            "_view_module": "@jupyter-widgets/base",
            "_view_module_version": "1.2.0",
            "_view_name": "StyleView",
            "description_width": ""
          }
        },
        "d4f6351880f64d9082a7910e8fa09688": {
          "model_module": "@jupyter-widgets/base",
          "model_name": "LayoutModel",
          "model_module_version": "1.2.0",
          "state": {
            "_model_module": "@jupyter-widgets/base",
            "_model_module_version": "1.2.0",
            "_model_name": "LayoutModel",
            "_view_count": null,
            "_view_module": "@jupyter-widgets/base",
            "_view_module_version": "1.2.0",
            "_view_name": "LayoutView",
            "align_content": null,
            "align_items": null,
            "align_self": null,
            "border": null,
            "bottom": null,
            "display": null,
            "flex": null,
            "flex_flow": null,
            "grid_area": null,
            "grid_auto_columns": null,
            "grid_auto_flow": null,
            "grid_auto_rows": null,
            "grid_column": null,
            "grid_gap": null,
            "grid_row": null,
            "grid_template_areas": null,
            "grid_template_columns": null,
            "grid_template_rows": null,
            "height": null,
            "justify_content": null,
            "justify_items": null,
            "left": null,
            "margin": null,
            "max_height": null,
            "max_width": null,
            "min_height": null,
            "min_width": null,
            "object_fit": null,
            "object_position": null,
            "order": null,
            "overflow": null,
            "overflow_x": null,
            "overflow_y": null,
            "padding": null,
            "right": null,
            "top": null,
            "visibility": null,
            "width": null
          }
        },
        "1ece3fbb879d432ab2d247c694ac4363": {
          "model_module": "@jupyter-widgets/controls",
          "model_name": "ProgressStyleModel",
          "model_module_version": "1.5.0",
          "state": {
            "_model_module": "@jupyter-widgets/controls",
            "_model_module_version": "1.5.0",
            "_model_name": "ProgressStyleModel",
            "_view_count": null,
            "_view_module": "@jupyter-widgets/base",
            "_view_module_version": "1.2.0",
            "_view_name": "StyleView",
            "bar_color": null,
            "description_width": ""
          }
        },
        "64bf098b95ad4b96aae10bd8804cc7b0": {
          "model_module": "@jupyter-widgets/base",
          "model_name": "LayoutModel",
          "model_module_version": "1.2.0",
          "state": {
            "_model_module": "@jupyter-widgets/base",
            "_model_module_version": "1.2.0",
            "_model_name": "LayoutModel",
            "_view_count": null,
            "_view_module": "@jupyter-widgets/base",
            "_view_module_version": "1.2.0",
            "_view_name": "LayoutView",
            "align_content": null,
            "align_items": null,
            "align_self": null,
            "border": null,
            "bottom": null,
            "display": null,
            "flex": null,
            "flex_flow": null,
            "grid_area": null,
            "grid_auto_columns": null,
            "grid_auto_flow": null,
            "grid_auto_rows": null,
            "grid_column": null,
            "grid_gap": null,
            "grid_row": null,
            "grid_template_areas": null,
            "grid_template_columns": null,
            "grid_template_rows": null,
            "height": null,
            "justify_content": null,
            "justify_items": null,
            "left": null,
            "margin": null,
            "max_height": null,
            "max_width": null,
            "min_height": null,
            "min_width": null,
            "object_fit": null,
            "object_position": null,
            "order": null,
            "overflow": null,
            "overflow_x": null,
            "overflow_y": null,
            "padding": null,
            "right": null,
            "top": null,
            "visibility": null,
            "width": null
          }
        },
        "65d1f7f93b4d4a279a3322dff4c46baf": {
          "model_module": "@jupyter-widgets/controls",
          "model_name": "DescriptionStyleModel",
          "model_module_version": "1.5.0",
          "state": {
            "_model_module": "@jupyter-widgets/controls",
            "_model_module_version": "1.5.0",
            "_model_name": "DescriptionStyleModel",
            "_view_count": null,
            "_view_module": "@jupyter-widgets/base",
            "_view_module_version": "1.2.0",
            "_view_name": "StyleView",
            "description_width": ""
          }
        },
        "fcb9bb763abb47bdb6cbb8ea2a845b9d": {
          "model_module": "@jupyter-widgets/controls",
          "model_name": "HBoxModel",
          "model_module_version": "1.5.0",
          "state": {
            "_dom_classes": [],
            "_model_module": "@jupyter-widgets/controls",
            "_model_module_version": "1.5.0",
            "_model_name": "HBoxModel",
            "_view_count": null,
            "_view_module": "@jupyter-widgets/controls",
            "_view_module_version": "1.5.0",
            "_view_name": "HBoxView",
            "box_style": "",
            "children": [
              "IPY_MODEL_f7ea300d645c408f858a5c73004390ba",
              "IPY_MODEL_4e26ab4e2b4b4b2382baf267b6bc9fd9",
              "IPY_MODEL_191fee1e170445c0b4845e25d682df2a"
            ],
            "layout": "IPY_MODEL_91e85b6ac8bd4de5b09acefda4cfb998"
          }
        },
        "f7ea300d645c408f858a5c73004390ba": {
          "model_module": "@jupyter-widgets/controls",
          "model_name": "HTMLModel",
          "model_module_version": "1.5.0",
          "state": {
            "_dom_classes": [],
            "_model_module": "@jupyter-widgets/controls",
            "_model_module_version": "1.5.0",
            "_model_name": "HTMLModel",
            "_view_count": null,
            "_view_module": "@jupyter-widgets/controls",
            "_view_module_version": "1.5.0",
            "_view_name": "HTMLView",
            "description": "",
            "description_tooltip": null,
            "layout": "IPY_MODEL_2409595fe75c44ce87869f804c32b646",
            "placeholder": "​",
            "style": "IPY_MODEL_48a694176af8489a8d2e61da9fb24826",
            "value": "model-00001-of-00002.safetensors: 100%"
          }
        },
        "4e26ab4e2b4b4b2382baf267b6bc9fd9": {
          "model_module": "@jupyter-widgets/controls",
          "model_name": "FloatProgressModel",
          "model_module_version": "1.5.0",
          "state": {
            "_dom_classes": [],
            "_model_module": "@jupyter-widgets/controls",
            "_model_module_version": "1.5.0",
            "_model_name": "FloatProgressModel",
            "_view_count": null,
            "_view_module": "@jupyter-widgets/controls",
            "_view_module_version": "1.5.0",
            "_view_name": "ProgressView",
            "bar_style": "success",
            "description": "",
            "description_tooltip": null,
            "layout": "IPY_MODEL_fc27fe4a52ee44ae844a6eea903d8269",
            "max": 9992133696,
            "min": 0,
            "orientation": "horizontal",
            "style": "IPY_MODEL_ac5fd42fb869498e8b4f2ef3493b97ef",
            "value": 9992133696
          }
        },
        "191fee1e170445c0b4845e25d682df2a": {
          "model_module": "@jupyter-widgets/controls",
          "model_name": "HTMLModel",
          "model_module_version": "1.5.0",
          "state": {
            "_dom_classes": [],
            "_model_module": "@jupyter-widgets/controls",
            "_model_module_version": "1.5.0",
            "_model_name": "HTMLModel",
            "_view_count": null,
            "_view_module": "@jupyter-widgets/controls",
            "_view_module_version": "1.5.0",
            "_view_name": "HTMLView",
            "description": "",
            "description_tooltip": null,
            "layout": "IPY_MODEL_db5a682a1821417581c3e61d5d52a31e",
            "placeholder": "​",
            "style": "IPY_MODEL_277ddc257c4d4f7aa5b52b1b5b849e75",
            "value": " 9.99G/9.99G [01:58&lt;00:00, 127MB/s]"
          }
        },
        "91e85b6ac8bd4de5b09acefda4cfb998": {
          "model_module": "@jupyter-widgets/base",
          "model_name": "LayoutModel",
          "model_module_version": "1.2.0",
          "state": {
            "_model_module": "@jupyter-widgets/base",
            "_model_module_version": "1.2.0",
            "_model_name": "LayoutModel",
            "_view_count": null,
            "_view_module": "@jupyter-widgets/base",
            "_view_module_version": "1.2.0",
            "_view_name": "LayoutView",
            "align_content": null,
            "align_items": null,
            "align_self": null,
            "border": null,
            "bottom": null,
            "display": null,
            "flex": null,
            "flex_flow": null,
            "grid_area": null,
            "grid_auto_columns": null,
            "grid_auto_flow": null,
            "grid_auto_rows": null,
            "grid_column": null,
            "grid_gap": null,
            "grid_row": null,
            "grid_template_areas": null,
            "grid_template_columns": null,
            "grid_template_rows": null,
            "height": null,
            "justify_content": null,
            "justify_items": null,
            "left": null,
            "margin": null,
            "max_height": null,
            "max_width": null,
            "min_height": null,
            "min_width": null,
            "object_fit": null,
            "object_position": null,
            "order": null,
            "overflow": null,
            "overflow_x": null,
            "overflow_y": null,
            "padding": null,
            "right": null,
            "top": null,
            "visibility": null,
            "width": null
          }
        },
        "2409595fe75c44ce87869f804c32b646": {
          "model_module": "@jupyter-widgets/base",
          "model_name": "LayoutModel",
          "model_module_version": "1.2.0",
          "state": {
            "_model_module": "@jupyter-widgets/base",
            "_model_module_version": "1.2.0",
            "_model_name": "LayoutModel",
            "_view_count": null,
            "_view_module": "@jupyter-widgets/base",
            "_view_module_version": "1.2.0",
            "_view_name": "LayoutView",
            "align_content": null,
            "align_items": null,
            "align_self": null,
            "border": null,
            "bottom": null,
            "display": null,
            "flex": null,
            "flex_flow": null,
            "grid_area": null,
            "grid_auto_columns": null,
            "grid_auto_flow": null,
            "grid_auto_rows": null,
            "grid_column": null,
            "grid_gap": null,
            "grid_row": null,
            "grid_template_areas": null,
            "grid_template_columns": null,
            "grid_template_rows": null,
            "height": null,
            "justify_content": null,
            "justify_items": null,
            "left": null,
            "margin": null,
            "max_height": null,
            "max_width": null,
            "min_height": null,
            "min_width": null,
            "object_fit": null,
            "object_position": null,
            "order": null,
            "overflow": null,
            "overflow_x": null,
            "overflow_y": null,
            "padding": null,
            "right": null,
            "top": null,
            "visibility": null,
            "width": null
          }
        },
        "48a694176af8489a8d2e61da9fb24826": {
          "model_module": "@jupyter-widgets/controls",
          "model_name": "DescriptionStyleModel",
          "model_module_version": "1.5.0",
          "state": {
            "_model_module": "@jupyter-widgets/controls",
            "_model_module_version": "1.5.0",
            "_model_name": "DescriptionStyleModel",
            "_view_count": null,
            "_view_module": "@jupyter-widgets/base",
            "_view_module_version": "1.2.0",
            "_view_name": "StyleView",
            "description_width": ""
          }
        },
        "fc27fe4a52ee44ae844a6eea903d8269": {
          "model_module": "@jupyter-widgets/base",
          "model_name": "LayoutModel",
          "model_module_version": "1.2.0",
          "state": {
            "_model_module": "@jupyter-widgets/base",
            "_model_module_version": "1.2.0",
            "_model_name": "LayoutModel",
            "_view_count": null,
            "_view_module": "@jupyter-widgets/base",
            "_view_module_version": "1.2.0",
            "_view_name": "LayoutView",
            "align_content": null,
            "align_items": null,
            "align_self": null,
            "border": null,
            "bottom": null,
            "display": null,
            "flex": null,
            "flex_flow": null,
            "grid_area": null,
            "grid_auto_columns": null,
            "grid_auto_flow": null,
            "grid_auto_rows": null,
            "grid_column": null,
            "grid_gap": null,
            "grid_row": null,
            "grid_template_areas": null,
            "grid_template_columns": null,
            "grid_template_rows": null,
            "height": null,
            "justify_content": null,
            "justify_items": null,
            "left": null,
            "margin": null,
            "max_height": null,
            "max_width": null,
            "min_height": null,
            "min_width": null,
            "object_fit": null,
            "object_position": null,
            "order": null,
            "overflow": null,
            "overflow_x": null,
            "overflow_y": null,
            "padding": null,
            "right": null,
            "top": null,
            "visibility": null,
            "width": null
          }
        },
        "ac5fd42fb869498e8b4f2ef3493b97ef": {
          "model_module": "@jupyter-widgets/controls",
          "model_name": "ProgressStyleModel",
          "model_module_version": "1.5.0",
          "state": {
            "_model_module": "@jupyter-widgets/controls",
            "_model_module_version": "1.5.0",
            "_model_name": "ProgressStyleModel",
            "_view_count": null,
            "_view_module": "@jupyter-widgets/base",
            "_view_module_version": "1.2.0",
            "_view_name": "StyleView",
            "bar_color": null,
            "description_width": ""
          }
        },
        "db5a682a1821417581c3e61d5d52a31e": {
          "model_module": "@jupyter-widgets/base",
          "model_name": "LayoutModel",
          "model_module_version": "1.2.0",
          "state": {
            "_model_module": "@jupyter-widgets/base",
            "_model_module_version": "1.2.0",
            "_model_name": "LayoutModel",
            "_view_count": null,
            "_view_module": "@jupyter-widgets/base",
            "_view_module_version": "1.2.0",
            "_view_name": "LayoutView",
            "align_content": null,
            "align_items": null,
            "align_self": null,
            "border": null,
            "bottom": null,
            "display": null,
            "flex": null,
            "flex_flow": null,
            "grid_area": null,
            "grid_auto_columns": null,
            "grid_auto_flow": null,
            "grid_auto_rows": null,
            "grid_column": null,
            "grid_gap": null,
            "grid_row": null,
            "grid_template_areas": null,
            "grid_template_columns": null,
            "grid_template_rows": null,
            "height": null,
            "justify_content": null,
            "justify_items": null,
            "left": null,
            "margin": null,
            "max_height": null,
            "max_width": null,
            "min_height": null,
            "min_width": null,
            "object_fit": null,
            "object_position": null,
            "order": null,
            "overflow": null,
            "overflow_x": null,
            "overflow_y": null,
            "padding": null,
            "right": null,
            "top": null,
            "visibility": null,
            "width": null
          }
        },
        "277ddc257c4d4f7aa5b52b1b5b849e75": {
          "model_module": "@jupyter-widgets/controls",
          "model_name": "DescriptionStyleModel",
          "model_module_version": "1.5.0",
          "state": {
            "_model_module": "@jupyter-widgets/controls",
            "_model_module_version": "1.5.0",
            "_model_name": "DescriptionStyleModel",
            "_view_count": null,
            "_view_module": "@jupyter-widgets/base",
            "_view_module_version": "1.2.0",
            "_view_name": "StyleView",
            "description_width": ""
          }
        },
        "bae6e5f6b84a40b29bbfcc9d020956ec": {
          "model_module": "@jupyter-widgets/controls",
          "model_name": "HBoxModel",
          "model_module_version": "1.5.0",
          "state": {
            "_dom_classes": [],
            "_model_module": "@jupyter-widgets/controls",
            "_model_module_version": "1.5.0",
            "_model_name": "HBoxModel",
            "_view_count": null,
            "_view_module": "@jupyter-widgets/controls",
            "_view_module_version": "1.5.0",
            "_view_name": "HBoxView",
            "box_style": "",
            "children": [
              "IPY_MODEL_6fa43744124f41238d12d0e10488cf8a",
              "IPY_MODEL_12f29a71eca640e082e6cdc2a03396ac",
              "IPY_MODEL_253ca555761a41db97388063c5edde68"
            ],
            "layout": "IPY_MODEL_5656bc0929724c4faeb3d53ab54d9db6"
          }
        },
        "6fa43744124f41238d12d0e10488cf8a": {
          "model_module": "@jupyter-widgets/controls",
          "model_name": "HTMLModel",
          "model_module_version": "1.5.0",
          "state": {
            "_dom_classes": [],
            "_model_module": "@jupyter-widgets/controls",
            "_model_module_version": "1.5.0",
            "_model_name": "HTMLModel",
            "_view_count": null,
            "_view_module": "@jupyter-widgets/controls",
            "_view_module_version": "1.5.0",
            "_view_name": "HTMLView",
            "description": "",
            "description_tooltip": null,
            "layout": "IPY_MODEL_1f59ac5f9da145ea98a7ab2b20783e44",
            "placeholder": "​",
            "style": "IPY_MODEL_f9e66cc5f5b84d4796b418ee30ebad3d",
            "value": "model-00002-of-00002.safetensors: 100%"
          }
        },
        "12f29a71eca640e082e6cdc2a03396ac": {
          "model_module": "@jupyter-widgets/controls",
          "model_name": "FloatProgressModel",
          "model_module_version": "1.5.0",
          "state": {
            "_dom_classes": [],
            "_model_module": "@jupyter-widgets/controls",
            "_model_module_version": "1.5.0",
            "_model_name": "FloatProgressModel",
            "_view_count": null,
            "_view_module": "@jupyter-widgets/controls",
            "_view_module_version": "1.5.0",
            "_view_name": "ProgressView",
            "bar_style": "success",
            "description": "",
            "description_tooltip": null,
            "layout": "IPY_MODEL_fcabfefe6e304490ac283c5cacc129f1",
            "max": 4589668352,
            "min": 0,
            "orientation": "horizontal",
            "style": "IPY_MODEL_d9e95c76f0b04b2a8eef348a6730a3b3",
            "value": 4589668352
          }
        },
        "253ca555761a41db97388063c5edde68": {
          "model_module": "@jupyter-widgets/controls",
          "model_name": "HTMLModel",
          "model_module_version": "1.5.0",
          "state": {
            "_dom_classes": [],
            "_model_module": "@jupyter-widgets/controls",
            "_model_module_version": "1.5.0",
            "_model_name": "HTMLModel",
            "_view_count": null,
            "_view_module": "@jupyter-widgets/controls",
            "_view_module_version": "1.5.0",
            "_view_name": "HTMLView",
            "description": "",
            "description_tooltip": null,
            "layout": "IPY_MODEL_2bc455c7085d493b8deefd7d9767d64a",
            "placeholder": "​",
            "style": "IPY_MODEL_799005354e9f4169a0cddd6a317716ff",
            "value": " 4.59G/4.59G [00:33&lt;00:00, 182MB/s]"
          }
        },
        "5656bc0929724c4faeb3d53ab54d9db6": {
          "model_module": "@jupyter-widgets/base",
          "model_name": "LayoutModel",
          "model_module_version": "1.2.0",
          "state": {
            "_model_module": "@jupyter-widgets/base",
            "_model_module_version": "1.2.0",
            "_model_name": "LayoutModel",
            "_view_count": null,
            "_view_module": "@jupyter-widgets/base",
            "_view_module_version": "1.2.0",
            "_view_name": "LayoutView",
            "align_content": null,
            "align_items": null,
            "align_self": null,
            "border": null,
            "bottom": null,
            "display": null,
            "flex": null,
            "flex_flow": null,
            "grid_area": null,
            "grid_auto_columns": null,
            "grid_auto_flow": null,
            "grid_auto_rows": null,
            "grid_column": null,
            "grid_gap": null,
            "grid_row": null,
            "grid_template_areas": null,
            "grid_template_columns": null,
            "grid_template_rows": null,
            "height": null,
            "justify_content": null,
            "justify_items": null,
            "left": null,
            "margin": null,
            "max_height": null,
            "max_width": null,
            "min_height": null,
            "min_width": null,
            "object_fit": null,
            "object_position": null,
            "order": null,
            "overflow": null,
            "overflow_x": null,
            "overflow_y": null,
            "padding": null,
            "right": null,
            "top": null,
            "visibility": null,
            "width": null
          }
        },
        "1f59ac5f9da145ea98a7ab2b20783e44": {
          "model_module": "@jupyter-widgets/base",
          "model_name": "LayoutModel",
          "model_module_version": "1.2.0",
          "state": {
            "_model_module": "@jupyter-widgets/base",
            "_model_module_version": "1.2.0",
            "_model_name": "LayoutModel",
            "_view_count": null,
            "_view_module": "@jupyter-widgets/base",
            "_view_module_version": "1.2.0",
            "_view_name": "LayoutView",
            "align_content": null,
            "align_items": null,
            "align_self": null,
            "border": null,
            "bottom": null,
            "display": null,
            "flex": null,
            "flex_flow": null,
            "grid_area": null,
            "grid_auto_columns": null,
            "grid_auto_flow": null,
            "grid_auto_rows": null,
            "grid_column": null,
            "grid_gap": null,
            "grid_row": null,
            "grid_template_areas": null,
            "grid_template_columns": null,
            "grid_template_rows": null,
            "height": null,
            "justify_content": null,
            "justify_items": null,
            "left": null,
            "margin": null,
            "max_height": null,
            "max_width": null,
            "min_height": null,
            "min_width": null,
            "object_fit": null,
            "object_position": null,
            "order": null,
            "overflow": null,
            "overflow_x": null,
            "overflow_y": null,
            "padding": null,
            "right": null,
            "top": null,
            "visibility": null,
            "width": null
          }
        },
        "f9e66cc5f5b84d4796b418ee30ebad3d": {
          "model_module": "@jupyter-widgets/controls",
          "model_name": "DescriptionStyleModel",
          "model_module_version": "1.5.0",
          "state": {
            "_model_module": "@jupyter-widgets/controls",
            "_model_module_version": "1.5.0",
            "_model_name": "DescriptionStyleModel",
            "_view_count": null,
            "_view_module": "@jupyter-widgets/base",
            "_view_module_version": "1.2.0",
            "_view_name": "StyleView",
            "description_width": ""
          }
        },
        "fcabfefe6e304490ac283c5cacc129f1": {
          "model_module": "@jupyter-widgets/base",
          "model_name": "LayoutModel",
          "model_module_version": "1.2.0",
          "state": {
            "_model_module": "@jupyter-widgets/base",
            "_model_module_version": "1.2.0",
            "_model_name": "LayoutModel",
            "_view_count": null,
            "_view_module": "@jupyter-widgets/base",
            "_view_module_version": "1.2.0",
            "_view_name": "LayoutView",
            "align_content": null,
            "align_items": null,
            "align_self": null,
            "border": null,
            "bottom": null,
            "display": null,
            "flex": null,
            "flex_flow": null,
            "grid_area": null,
            "grid_auto_columns": null,
            "grid_auto_flow": null,
            "grid_auto_rows": null,
            "grid_column": null,
            "grid_gap": null,
            "grid_row": null,
            "grid_template_areas": null,
            "grid_template_columns": null,
            "grid_template_rows": null,
            "height": null,
            "justify_content": null,
            "justify_items": null,
            "left": null,
            "margin": null,
            "max_height": null,
            "max_width": null,
            "min_height": null,
            "min_width": null,
            "object_fit": null,
            "object_position": null,
            "order": null,
            "overflow": null,
            "overflow_x": null,
            "overflow_y": null,
            "padding": null,
            "right": null,
            "top": null,
            "visibility": null,
            "width": null
          }
        },
        "d9e95c76f0b04b2a8eef348a6730a3b3": {
          "model_module": "@jupyter-widgets/controls",
          "model_name": "ProgressStyleModel",
          "model_module_version": "1.5.0",
          "state": {
            "_model_module": "@jupyter-widgets/controls",
            "_model_module_version": "1.5.0",
            "_model_name": "ProgressStyleModel",
            "_view_count": null,
            "_view_module": "@jupyter-widgets/base",
            "_view_module_version": "1.2.0",
            "_view_name": "StyleView",
            "bar_color": null,
            "description_width": ""
          }
        },
        "2bc455c7085d493b8deefd7d9767d64a": {
          "model_module": "@jupyter-widgets/base",
          "model_name": "LayoutModel",
          "model_module_version": "1.2.0",
          "state": {
            "_model_module": "@jupyter-widgets/base",
            "_model_module_version": "1.2.0",
            "_model_name": "LayoutModel",
            "_view_count": null,
            "_view_module": "@jupyter-widgets/base",
            "_view_module_version": "1.2.0",
            "_view_name": "LayoutView",
            "align_content": null,
            "align_items": null,
            "align_self": null,
            "border": null,
            "bottom": null,
            "display": null,
            "flex": null,
            "flex_flow": null,
            "grid_area": null,
            "grid_auto_columns": null,
            "grid_auto_flow": null,
            "grid_auto_rows": null,
            "grid_column": null,
            "grid_gap": null,
            "grid_row": null,
            "grid_template_areas": null,
            "grid_template_columns": null,
            "grid_template_rows": null,
            "height": null,
            "justify_content": null,
            "justify_items": null,
            "left": null,
            "margin": null,
            "max_height": null,
            "max_width": null,
            "min_height": null,
            "min_width": null,
            "object_fit": null,
            "object_position": null,
            "order": null,
            "overflow": null,
            "overflow_x": null,
            "overflow_y": null,
            "padding": null,
            "right": null,
            "top": null,
            "visibility": null,
            "width": null
          }
        },
        "799005354e9f4169a0cddd6a317716ff": {
          "model_module": "@jupyter-widgets/controls",
          "model_name": "DescriptionStyleModel",
          "model_module_version": "1.5.0",
          "state": {
            "_model_module": "@jupyter-widgets/controls",
            "_model_module_version": "1.5.0",
            "_model_name": "DescriptionStyleModel",
            "_view_count": null,
            "_view_module": "@jupyter-widgets/base",
            "_view_module_version": "1.2.0",
            "_view_name": "StyleView",
            "description_width": ""
          }
        },
        "9774759e6a63484485c50a62dc21ee99": {
          "model_module": "@jupyter-widgets/controls",
          "model_name": "HBoxModel",
          "model_module_version": "1.5.0",
          "state": {
            "_dom_classes": [],
            "_model_module": "@jupyter-widgets/controls",
            "_model_module_version": "1.5.0",
            "_model_name": "HBoxModel",
            "_view_count": null,
            "_view_module": "@jupyter-widgets/controls",
            "_view_module_version": "1.5.0",
            "_view_name": "HBoxView",
            "box_style": "",
            "children": [
              "IPY_MODEL_63db6b6876c4427bba881b4e9e1a45dc",
              "IPY_MODEL_853225ecc05d4b0e989f104860665732",
              "IPY_MODEL_e65d8448fd4941eb95f4124526d34e94"
            ],
            "layout": "IPY_MODEL_1f3d79e00de64541a05015cdad09c945"
          }
        },
        "63db6b6876c4427bba881b4e9e1a45dc": {
          "model_module": "@jupyter-widgets/controls",
          "model_name": "HTMLModel",
          "model_module_version": "1.5.0",
          "state": {
            "_dom_classes": [],
            "_model_module": "@jupyter-widgets/controls",
            "_model_module_version": "1.5.0",
            "_model_name": "HTMLModel",
            "_view_count": null,
            "_view_module": "@jupyter-widgets/controls",
            "_view_module_version": "1.5.0",
            "_view_name": "HTMLView",
            "description": "",
            "description_tooltip": null,
            "layout": "IPY_MODEL_0445e15ea03342778e520f7d822d503e",
            "placeholder": "​",
            "style": "IPY_MODEL_4a00cd3cec5d448a9b325a72f834bf86",
            "value": "Loading checkpoint shards: 100%"
          }
        },
        "853225ecc05d4b0e989f104860665732": {
          "model_module": "@jupyter-widgets/controls",
          "model_name": "FloatProgressModel",
          "model_module_version": "1.5.0",
          "state": {
            "_dom_classes": [],
            "_model_module": "@jupyter-widgets/controls",
            "_model_module_version": "1.5.0",
            "_model_name": "FloatProgressModel",
            "_view_count": null,
            "_view_module": "@jupyter-widgets/controls",
            "_view_module_version": "1.5.0",
            "_view_name": "ProgressView",
            "bar_style": "success",
            "description": "",
            "description_tooltip": null,
            "layout": "IPY_MODEL_a055c6bb8a5041a7830599fe06fd25ab",
            "max": 2,
            "min": 0,
            "orientation": "horizontal",
            "style": "IPY_MODEL_c3932ac6449643b79a99977390865bea",
            "value": 2
          }
        },
        "e65d8448fd4941eb95f4124526d34e94": {
          "model_module": "@jupyter-widgets/controls",
          "model_name": "HTMLModel",
          "model_module_version": "1.5.0",
          "state": {
            "_dom_classes": [],
            "_model_module": "@jupyter-widgets/controls",
            "_model_module_version": "1.5.0",
            "_model_name": "HTMLModel",
            "_view_count": null,
            "_view_module": "@jupyter-widgets/controls",
            "_view_module_version": "1.5.0",
            "_view_name": "HTMLView",
            "description": "",
            "description_tooltip": null,
            "layout": "IPY_MODEL_82a75da0d92545bea8ffd3114e005464",
            "placeholder": "​",
            "style": "IPY_MODEL_cb0945412bdb44259530d323ffecabf5",
            "value": " 2/2 [00:00&lt;00:00,  2.41it/s]"
          }
        },
        "1f3d79e00de64541a05015cdad09c945": {
          "model_module": "@jupyter-widgets/base",
          "model_name": "LayoutModel",
          "model_module_version": "1.2.0",
          "state": {
            "_model_module": "@jupyter-widgets/base",
            "_model_module_version": "1.2.0",
            "_model_name": "LayoutModel",
            "_view_count": null,
            "_view_module": "@jupyter-widgets/base",
            "_view_module_version": "1.2.0",
            "_view_name": "LayoutView",
            "align_content": null,
            "align_items": null,
            "align_self": null,
            "border": null,
            "bottom": null,
            "display": null,
            "flex": null,
            "flex_flow": null,
            "grid_area": null,
            "grid_auto_columns": null,
            "grid_auto_flow": null,
            "grid_auto_rows": null,
            "grid_column": null,
            "grid_gap": null,
            "grid_row": null,
            "grid_template_areas": null,
            "grid_template_columns": null,
            "grid_template_rows": null,
            "height": null,
            "justify_content": null,
            "justify_items": null,
            "left": null,
            "margin": null,
            "max_height": null,
            "max_width": null,
            "min_height": null,
            "min_width": null,
            "object_fit": null,
            "object_position": null,
            "order": null,
            "overflow": null,
            "overflow_x": null,
            "overflow_y": null,
            "padding": null,
            "right": null,
            "top": null,
            "visibility": null,
            "width": null
          }
        },
        "0445e15ea03342778e520f7d822d503e": {
          "model_module": "@jupyter-widgets/base",
          "model_name": "LayoutModel",
          "model_module_version": "1.2.0",
          "state": {
            "_model_module": "@jupyter-widgets/base",
            "_model_module_version": "1.2.0",
            "_model_name": "LayoutModel",
            "_view_count": null,
            "_view_module": "@jupyter-widgets/base",
            "_view_module_version": "1.2.0",
            "_view_name": "LayoutView",
            "align_content": null,
            "align_items": null,
            "align_self": null,
            "border": null,
            "bottom": null,
            "display": null,
            "flex": null,
            "flex_flow": null,
            "grid_area": null,
            "grid_auto_columns": null,
            "grid_auto_flow": null,
            "grid_auto_rows": null,
            "grid_column": null,
            "grid_gap": null,
            "grid_row": null,
            "grid_template_areas": null,
            "grid_template_columns": null,
            "grid_template_rows": null,
            "height": null,
            "justify_content": null,
            "justify_items": null,
            "left": null,
            "margin": null,
            "max_height": null,
            "max_width": null,
            "min_height": null,
            "min_width": null,
            "object_fit": null,
            "object_position": null,
            "order": null,
            "overflow": null,
            "overflow_x": null,
            "overflow_y": null,
            "padding": null,
            "right": null,
            "top": null,
            "visibility": null,
            "width": null
          }
        },
        "4a00cd3cec5d448a9b325a72f834bf86": {
          "model_module": "@jupyter-widgets/controls",
          "model_name": "DescriptionStyleModel",
          "model_module_version": "1.5.0",
          "state": {
            "_model_module": "@jupyter-widgets/controls",
            "_model_module_version": "1.5.0",
            "_model_name": "DescriptionStyleModel",
            "_view_count": null,
            "_view_module": "@jupyter-widgets/base",
            "_view_module_version": "1.2.0",
            "_view_name": "StyleView",
            "description_width": ""
          }
        },
        "a055c6bb8a5041a7830599fe06fd25ab": {
          "model_module": "@jupyter-widgets/base",
          "model_name": "LayoutModel",
          "model_module_version": "1.2.0",
          "state": {
            "_model_module": "@jupyter-widgets/base",
            "_model_module_version": "1.2.0",
            "_model_name": "LayoutModel",
            "_view_count": null,
            "_view_module": "@jupyter-widgets/base",
            "_view_module_version": "1.2.0",
            "_view_name": "LayoutView",
            "align_content": null,
            "align_items": null,
            "align_self": null,
            "border": null,
            "bottom": null,
            "display": null,
            "flex": null,
            "flex_flow": null,
            "grid_area": null,
            "grid_auto_columns": null,
            "grid_auto_flow": null,
            "grid_auto_rows": null,
            "grid_column": null,
            "grid_gap": null,
            "grid_row": null,
            "grid_template_areas": null,
            "grid_template_columns": null,
            "grid_template_rows": null,
            "height": null,
            "justify_content": null,
            "justify_items": null,
            "left": null,
            "margin": null,
            "max_height": null,
            "max_width": null,
            "min_height": null,
            "min_width": null,
            "object_fit": null,
            "object_position": null,
            "order": null,
            "overflow": null,
            "overflow_x": null,
            "overflow_y": null,
            "padding": null,
            "right": null,
            "top": null,
            "visibility": null,
            "width": null
          }
        },
        "c3932ac6449643b79a99977390865bea": {
          "model_module": "@jupyter-widgets/controls",
          "model_name": "ProgressStyleModel",
          "model_module_version": "1.5.0",
          "state": {
            "_model_module": "@jupyter-widgets/controls",
            "_model_module_version": "1.5.0",
            "_model_name": "ProgressStyleModel",
            "_view_count": null,
            "_view_module": "@jupyter-widgets/base",
            "_view_module_version": "1.2.0",
            "_view_name": "StyleView",
            "bar_color": null,
            "description_width": ""
          }
        },
        "82a75da0d92545bea8ffd3114e005464": {
          "model_module": "@jupyter-widgets/base",
          "model_name": "LayoutModel",
          "model_module_version": "1.2.0",
          "state": {
            "_model_module": "@jupyter-widgets/base",
            "_model_module_version": "1.2.0",
            "_model_name": "LayoutModel",
            "_view_count": null,
            "_view_module": "@jupyter-widgets/base",
            "_view_module_version": "1.2.0",
            "_view_name": "LayoutView",
            "align_content": null,
            "align_items": null,
            "align_self": null,
            "border": null,
            "bottom": null,
            "display": null,
            "flex": null,
            "flex_flow": null,
            "grid_area": null,
            "grid_auto_columns": null,
            "grid_auto_flow": null,
            "grid_auto_rows": null,
            "grid_column": null,
            "grid_gap": null,
            "grid_row": null,
            "grid_template_areas": null,
            "grid_template_columns": null,
            "grid_template_rows": null,
            "height": null,
            "justify_content": null,
            "justify_items": null,
            "left": null,
            "margin": null,
            "max_height": null,
            "max_width": null,
            "min_height": null,
            "min_width": null,
            "object_fit": null,
            "object_position": null,
            "order": null,
            "overflow": null,
            "overflow_x": null,
            "overflow_y": null,
            "padding": null,
            "right": null,
            "top": null,
            "visibility": null,
            "width": null
          }
        },
        "cb0945412bdb44259530d323ffecabf5": {
          "model_module": "@jupyter-widgets/controls",
          "model_name": "DescriptionStyleModel",
          "model_module_version": "1.5.0",
          "state": {
            "_model_module": "@jupyter-widgets/controls",
            "_model_module_version": "1.5.0",
            "_model_name": "DescriptionStyleModel",
            "_view_count": null,
            "_view_module": "@jupyter-widgets/base",
            "_view_module_version": "1.2.0",
            "_view_name": "StyleView",
            "description_width": ""
          }
        },
        "531b2f0837614ffe9f75a3c839fd2f30": {
          "model_module": "@jupyter-widgets/controls",
          "model_name": "HBoxModel",
          "model_module_version": "1.5.0",
          "state": {
            "_dom_classes": [],
            "_model_module": "@jupyter-widgets/controls",
            "_model_module_version": "1.5.0",
            "_model_name": "HBoxModel",
            "_view_count": null,
            "_view_module": "@jupyter-widgets/controls",
            "_view_module_version": "1.5.0",
            "_view_name": "HBoxView",
            "box_style": "",
            "children": [
              "IPY_MODEL_79736976fa6d4782bdb929600538b22b",
              "IPY_MODEL_76fd71b145aa426db417b7707fffb0df",
              "IPY_MODEL_47fb8852e6c94f03b3672601376ad30b"
            ],
            "layout": "IPY_MODEL_6623c970873e4b938c5fc4d30e90744b"
          }
        },
        "79736976fa6d4782bdb929600538b22b": {
          "model_module": "@jupyter-widgets/controls",
          "model_name": "HTMLModel",
          "model_module_version": "1.5.0",
          "state": {
            "_dom_classes": [],
            "_model_module": "@jupyter-widgets/controls",
            "_model_module_version": "1.5.0",
            "_model_name": "HTMLModel",
            "_view_count": null,
            "_view_module": "@jupyter-widgets/controls",
            "_view_module_version": "1.5.0",
            "_view_name": "HTMLView",
            "description": "",
            "description_tooltip": null,
            "layout": "IPY_MODEL_f2a5c27f43414705a59f0e39da78f9e6",
            "placeholder": "​",
            "style": "IPY_MODEL_bea06bfe4f8b4615818d18a257e8e413",
            "value": "generation_config.json: 100%"
          }
        },
        "76fd71b145aa426db417b7707fffb0df": {
          "model_module": "@jupyter-widgets/controls",
          "model_name": "FloatProgressModel",
          "model_module_version": "1.5.0",
          "state": {
            "_dom_classes": [],
            "_model_module": "@jupyter-widgets/controls",
            "_model_module_version": "1.5.0",
            "_model_name": "FloatProgressModel",
            "_view_count": null,
            "_view_module": "@jupyter-widgets/controls",
            "_view_module_version": "1.5.0",
            "_view_name": "ProgressView",
            "bar_style": "success",
            "description": "",
            "description_tooltip": null,
            "layout": "IPY_MODEL_32d5730f53da4a148db4597989ee440b",
            "max": 111,
            "min": 0,
            "orientation": "horizontal",
            "style": "IPY_MODEL_ac830e0acd9e46a9b6df1b7a2b2c1f3c",
            "value": 111
          }
        },
        "47fb8852e6c94f03b3672601376ad30b": {
          "model_module": "@jupyter-widgets/controls",
          "model_name": "HTMLModel",
          "model_module_version": "1.5.0",
          "state": {
            "_dom_classes": [],
            "_model_module": "@jupyter-widgets/controls",
            "_model_module_version": "1.5.0",
            "_model_name": "HTMLModel",
            "_view_count": null,
            "_view_module": "@jupyter-widgets/controls",
            "_view_module_version": "1.5.0",
            "_view_name": "HTMLView",
            "description": "",
            "description_tooltip": null,
            "layout": "IPY_MODEL_3c37827451bd4b5ab387111b7bb9ec76",
            "placeholder": "​",
            "style": "IPY_MODEL_aeee2cbccf0947fc8605a6d728859378",
            "value": " 111/111 [00:00&lt;00:00, 7.14kB/s]"
          }
        },
        "6623c970873e4b938c5fc4d30e90744b": {
          "model_module": "@jupyter-widgets/base",
          "model_name": "LayoutModel",
          "model_module_version": "1.2.0",
          "state": {
            "_model_module": "@jupyter-widgets/base",
            "_model_module_version": "1.2.0",
            "_model_name": "LayoutModel",
            "_view_count": null,
            "_view_module": "@jupyter-widgets/base",
            "_view_module_version": "1.2.0",
            "_view_name": "LayoutView",
            "align_content": null,
            "align_items": null,
            "align_self": null,
            "border": null,
            "bottom": null,
            "display": null,
            "flex": null,
            "flex_flow": null,
            "grid_area": null,
            "grid_auto_columns": null,
            "grid_auto_flow": null,
            "grid_auto_rows": null,
            "grid_column": null,
            "grid_gap": null,
            "grid_row": null,
            "grid_template_areas": null,
            "grid_template_columns": null,
            "grid_template_rows": null,
            "height": null,
            "justify_content": null,
            "justify_items": null,
            "left": null,
            "margin": null,
            "max_height": null,
            "max_width": null,
            "min_height": null,
            "min_width": null,
            "object_fit": null,
            "object_position": null,
            "order": null,
            "overflow": null,
            "overflow_x": null,
            "overflow_y": null,
            "padding": null,
            "right": null,
            "top": null,
            "visibility": null,
            "width": null
          }
        },
        "f2a5c27f43414705a59f0e39da78f9e6": {
          "model_module": "@jupyter-widgets/base",
          "model_name": "LayoutModel",
          "model_module_version": "1.2.0",
          "state": {
            "_model_module": "@jupyter-widgets/base",
            "_model_module_version": "1.2.0",
            "_model_name": "LayoutModel",
            "_view_count": null,
            "_view_module": "@jupyter-widgets/base",
            "_view_module_version": "1.2.0",
            "_view_name": "LayoutView",
            "align_content": null,
            "align_items": null,
            "align_self": null,
            "border": null,
            "bottom": null,
            "display": null,
            "flex": null,
            "flex_flow": null,
            "grid_area": null,
            "grid_auto_columns": null,
            "grid_auto_flow": null,
            "grid_auto_rows": null,
            "grid_column": null,
            "grid_gap": null,
            "grid_row": null,
            "grid_template_areas": null,
            "grid_template_columns": null,
            "grid_template_rows": null,
            "height": null,
            "justify_content": null,
            "justify_items": null,
            "left": null,
            "margin": null,
            "max_height": null,
            "max_width": null,
            "min_height": null,
            "min_width": null,
            "object_fit": null,
            "object_position": null,
            "order": null,
            "overflow": null,
            "overflow_x": null,
            "overflow_y": null,
            "padding": null,
            "right": null,
            "top": null,
            "visibility": null,
            "width": null
          }
        },
        "bea06bfe4f8b4615818d18a257e8e413": {
          "model_module": "@jupyter-widgets/controls",
          "model_name": "DescriptionStyleModel",
          "model_module_version": "1.5.0",
          "state": {
            "_model_module": "@jupyter-widgets/controls",
            "_model_module_version": "1.5.0",
            "_model_name": "DescriptionStyleModel",
            "_view_count": null,
            "_view_module": "@jupyter-widgets/base",
            "_view_module_version": "1.2.0",
            "_view_name": "StyleView",
            "description_width": ""
          }
        },
        "32d5730f53da4a148db4597989ee440b": {
          "model_module": "@jupyter-widgets/base",
          "model_name": "LayoutModel",
          "model_module_version": "1.2.0",
          "state": {
            "_model_module": "@jupyter-widgets/base",
            "_model_module_version": "1.2.0",
            "_model_name": "LayoutModel",
            "_view_count": null,
            "_view_module": "@jupyter-widgets/base",
            "_view_module_version": "1.2.0",
            "_view_name": "LayoutView",
            "align_content": null,
            "align_items": null,
            "align_self": null,
            "border": null,
            "bottom": null,
            "display": null,
            "flex": null,
            "flex_flow": null,
            "grid_area": null,
            "grid_auto_columns": null,
            "grid_auto_flow": null,
            "grid_auto_rows": null,
            "grid_column": null,
            "grid_gap": null,
            "grid_row": null,
            "grid_template_areas": null,
            "grid_template_columns": null,
            "grid_template_rows": null,
            "height": null,
            "justify_content": null,
            "justify_items": null,
            "left": null,
            "margin": null,
            "max_height": null,
            "max_width": null,
            "min_height": null,
            "min_width": null,
            "object_fit": null,
            "object_position": null,
            "order": null,
            "overflow": null,
            "overflow_x": null,
            "overflow_y": null,
            "padding": null,
            "right": null,
            "top": null,
            "visibility": null,
            "width": null
          }
        },
        "ac830e0acd9e46a9b6df1b7a2b2c1f3c": {
          "model_module": "@jupyter-widgets/controls",
          "model_name": "ProgressStyleModel",
          "model_module_version": "1.5.0",
          "state": {
            "_model_module": "@jupyter-widgets/controls",
            "_model_module_version": "1.5.0",
            "_model_name": "ProgressStyleModel",
            "_view_count": null,
            "_view_module": "@jupyter-widgets/base",
            "_view_module_version": "1.2.0",
            "_view_name": "StyleView",
            "bar_color": null,
            "description_width": ""
          }
        },
        "3c37827451bd4b5ab387111b7bb9ec76": {
          "model_module": "@jupyter-widgets/base",
          "model_name": "LayoutModel",
          "model_module_version": "1.2.0",
          "state": {
            "_model_module": "@jupyter-widgets/base",
            "_model_module_version": "1.2.0",
            "_model_name": "LayoutModel",
            "_view_count": null,
            "_view_module": "@jupyter-widgets/base",
            "_view_module_version": "1.2.0",
            "_view_name": "LayoutView",
            "align_content": null,
            "align_items": null,
            "align_self": null,
            "border": null,
            "bottom": null,
            "display": null,
            "flex": null,
            "flex_flow": null,
            "grid_area": null,
            "grid_auto_columns": null,
            "grid_auto_flow": null,
            "grid_auto_rows": null,
            "grid_column": null,
            "grid_gap": null,
            "grid_row": null,
            "grid_template_areas": null,
            "grid_template_columns": null,
            "grid_template_rows": null,
            "height": null,
            "justify_content": null,
            "justify_items": null,
            "left": null,
            "margin": null,
            "max_height": null,
            "max_width": null,
            "min_height": null,
            "min_width": null,
            "object_fit": null,
            "object_position": null,
            "order": null,
            "overflow": null,
            "overflow_x": null,
            "overflow_y": null,
            "padding": null,
            "right": null,
            "top": null,
            "visibility": null,
            "width": null
          }
        },
        "aeee2cbccf0947fc8605a6d728859378": {
          "model_module": "@jupyter-widgets/controls",
          "model_name": "DescriptionStyleModel",
          "model_module_version": "1.5.0",
          "state": {
            "_model_module": "@jupyter-widgets/controls",
            "_model_module_version": "1.5.0",
            "_model_name": "DescriptionStyleModel",
            "_view_count": null,
            "_view_module": "@jupyter-widgets/base",
            "_view_module_version": "1.2.0",
            "_view_name": "StyleView",
            "description_width": ""
          }
        },
        "74581fc1e2a640f492cc343e72c77743": {
          "model_module": "@jupyter-widgets/controls",
          "model_name": "HBoxModel",
          "model_module_version": "1.5.0",
          "state": {
            "_dom_classes": [],
            "_model_module": "@jupyter-widgets/controls",
            "_model_module_version": "1.5.0",
            "_model_name": "HBoxModel",
            "_view_count": null,
            "_view_module": "@jupyter-widgets/controls",
            "_view_module_version": "1.5.0",
            "_view_name": "HBoxView",
            "box_style": "",
            "children": [
              "IPY_MODEL_3eb2a6a66f284d47bf1cf569e1c136f5",
              "IPY_MODEL_a00ee786db354a3c9804f7ae44d9e92a",
              "IPY_MODEL_044e1f265c564d5da7d0211ad3679ee8"
            ],
            "layout": "IPY_MODEL_431875802a094e51927ff9b43df5f6e2"
          }
        },
        "32357049692f42c0806216c2da0bc7f7": {
          "model_module": "@jupyter-widgets/controls",
          "model_name": "HBoxModel",
          "model_module_version": "1.5.0",
          "state": {
            "_dom_classes": [],
            "_model_module": "@jupyter-widgets/controls",
            "_model_module_version": "1.5.0",
            "_model_name": "HBoxModel",
            "_view_count": null,
            "_view_module": "@jupyter-widgets/controls",
            "_view_module_version": "1.5.0",
            "_view_name": "HBoxView",
            "box_style": "",
            "children": [
              "IPY_MODEL_cd984c52f4a94e6a93e547f861f428ab",
              "IPY_MODEL_5541b770cf31493ea596f5c0bd8e6e9b",
              "IPY_MODEL_cb87409dc00b4c9190a2f6ea9a0bba75"
            ],
            "layout": "IPY_MODEL_8de7537fe6f64edd939297b216c6e32a"
          }
        },
        "3eb2a6a66f284d47bf1cf569e1c136f5": {
          "model_module": "@jupyter-widgets/controls",
          "model_name": "HTMLModel",
          "model_module_version": "1.5.0",
          "state": {
            "_dom_classes": [],
            "_model_module": "@jupyter-widgets/controls",
            "_model_module_version": "1.5.0",
            "_model_name": "HTMLModel",
            "_view_count": null,
            "_view_module": "@jupyter-widgets/controls",
            "_view_module_version": "1.5.0",
            "_view_name": "HTMLView",
            "description": "",
            "description_tooltip": null,
            "layout": "IPY_MODEL_211d5fbf20f047339c7b581f2a985588",
            "placeholder": "​",
            "style": "IPY_MODEL_aed44fd5a38f4bf88407ad6f70731d05",
            "value": "tokenizer_config.json: 100%"
          }
        },
        "a00ee786db354a3c9804f7ae44d9e92a": {
          "model_module": "@jupyter-widgets/controls",
          "model_name": "FloatProgressModel",
          "model_module_version": "1.5.0",
          "state": {
            "_dom_classes": [],
            "_model_module": "@jupyter-widgets/controls",
            "_model_module_version": "1.5.0",
            "_model_name": "FloatProgressModel",
            "_view_count": null,
            "_view_module": "@jupyter-widgets/controls",
            "_view_module_version": "1.5.0",
            "_view_name": "ProgressView",
            "bar_style": "success",
            "description": "",
            "description_tooltip": null,
            "layout": "IPY_MODEL_1392ae7db913440d9a464f3aefba1dd4",
            "max": 1438,
            "min": 0,
            "orientation": "horizontal",
            "style": "IPY_MODEL_102e5ebefdbe4b24b383c21ebd5a4171",
            "value": 1438
          }
        },
        "044e1f265c564d5da7d0211ad3679ee8": {
          "model_module": "@jupyter-widgets/controls",
          "model_name": "HTMLModel",
          "model_module_version": "1.5.0",
          "state": {
            "_dom_classes": [],
            "_model_module": "@jupyter-widgets/controls",
            "_model_module_version": "1.5.0",
            "_model_name": "HTMLModel",
            "_view_count": null,
            "_view_module": "@jupyter-widgets/controls",
            "_view_module_version": "1.5.0",
            "_view_name": "HTMLView",
            "description": "",
            "description_tooltip": null,
            "layout": "IPY_MODEL_367d3c9f358741ea9f31dfe9b321e6dd",
            "placeholder": "​",
            "style": "IPY_MODEL_de1861710b6643ac857a61d937b46f9f",
            "value": " 1.44k/1.44k [00:00&lt;00:00, 87.8kB/s]"
          }
        },
        "431875802a094e51927ff9b43df5f6e2": {
          "model_module": "@jupyter-widgets/base",
          "model_name": "LayoutModel",
          "model_module_version": "1.2.0",
          "state": {
            "_model_module": "@jupyter-widgets/base",
            "_model_module_version": "1.2.0",
            "_model_name": "LayoutModel",
            "_view_count": null,
            "_view_module": "@jupyter-widgets/base",
            "_view_module_version": "1.2.0",
            "_view_name": "LayoutView",
            "align_content": null,
            "align_items": null,
            "align_self": null,
            "border": null,
            "bottom": null,
            "display": null,
            "flex": null,
            "flex_flow": null,
            "grid_area": null,
            "grid_auto_columns": null,
            "grid_auto_flow": null,
            "grid_auto_rows": null,
            "grid_column": null,
            "grid_gap": null,
            "grid_row": null,
            "grid_template_areas": null,
            "grid_template_columns": null,
            "grid_template_rows": null,
            "height": null,
            "justify_content": null,
            "justify_items": null,
            "left": null,
            "margin": null,
            "max_height": null,
            "max_width": null,
            "min_height": null,
            "min_width": null,
            "object_fit": null,
            "object_position": null,
            "order": null,
            "overflow": null,
            "overflow_x": null,
            "overflow_y": null,
            "padding": null,
            "right": null,
            "top": null,
            "visibility": null,
            "width": null
          }
        },
        "211d5fbf20f047339c7b581f2a985588": {
          "model_module": "@jupyter-widgets/base",
          "model_name": "LayoutModel",
          "model_module_version": "1.2.0",
          "state": {
            "_model_module": "@jupyter-widgets/base",
            "_model_module_version": "1.2.0",
            "_model_name": "LayoutModel",
            "_view_count": null,
            "_view_module": "@jupyter-widgets/base",
            "_view_module_version": "1.2.0",
            "_view_name": "LayoutView",
            "align_content": null,
            "align_items": null,
            "align_self": null,
            "border": null,
            "bottom": null,
            "display": null,
            "flex": null,
            "flex_flow": null,
            "grid_area": null,
            "grid_auto_columns": null,
            "grid_auto_flow": null,
            "grid_auto_rows": null,
            "grid_column": null,
            "grid_gap": null,
            "grid_row": null,
            "grid_template_areas": null,
            "grid_template_columns": null,
            "grid_template_rows": null,
            "height": null,
            "justify_content": null,
            "justify_items": null,
            "left": null,
            "margin": null,
            "max_height": null,
            "max_width": null,
            "min_height": null,
            "min_width": null,
            "object_fit": null,
            "object_position": null,
            "order": null,
            "overflow": null,
            "overflow_x": null,
            "overflow_y": null,
            "padding": null,
            "right": null,
            "top": null,
            "visibility": null,
            "width": null
          }
        },
        "aed44fd5a38f4bf88407ad6f70731d05": {
          "model_module": "@jupyter-widgets/controls",
          "model_name": "DescriptionStyleModel",
          "model_module_version": "1.5.0",
          "state": {
            "_model_module": "@jupyter-widgets/controls",
            "_model_module_version": "1.5.0",
            "_model_name": "DescriptionStyleModel",
            "_view_count": null,
            "_view_module": "@jupyter-widgets/base",
            "_view_module_version": "1.2.0",
            "_view_name": "StyleView",
            "description_width": ""
          }
        },
        "1392ae7db913440d9a464f3aefba1dd4": {
          "model_module": "@jupyter-widgets/base",
          "model_name": "LayoutModel",
          "model_module_version": "1.2.0",
          "state": {
            "_model_module": "@jupyter-widgets/base",
            "_model_module_version": "1.2.0",
            "_model_name": "LayoutModel",
            "_view_count": null,
            "_view_module": "@jupyter-widgets/base",
            "_view_module_version": "1.2.0",
            "_view_name": "LayoutView",
            "align_content": null,
            "align_items": null,
            "align_self": null,
            "border": null,
            "bottom": null,
            "display": null,
            "flex": null,
            "flex_flow": null,
            "grid_area": null,
            "grid_auto_columns": null,
            "grid_auto_flow": null,
            "grid_auto_rows": null,
            "grid_column": null,
            "grid_gap": null,
            "grid_row": null,
            "grid_template_areas": null,
            "grid_template_columns": null,
            "grid_template_rows": null,
            "height": null,
            "justify_content": null,
            "justify_items": null,
            "left": null,
            "margin": null,
            "max_height": null,
            "max_width": null,
            "min_height": null,
            "min_width": null,
            "object_fit": null,
            "object_position": null,
            "order": null,
            "overflow": null,
            "overflow_x": null,
            "overflow_y": null,
            "padding": null,
            "right": null,
            "top": null,
            "visibility": null,
            "width": null
          }
        },
        "102e5ebefdbe4b24b383c21ebd5a4171": {
          "model_module": "@jupyter-widgets/controls",
          "model_name": "ProgressStyleModel",
          "model_module_version": "1.5.0",
          "state": {
            "_model_module": "@jupyter-widgets/controls",
            "_model_module_version": "1.5.0",
            "_model_name": "ProgressStyleModel",
            "_view_count": null,
            "_view_module": "@jupyter-widgets/base",
            "_view_module_version": "1.2.0",
            "_view_name": "StyleView",
            "bar_color": null,
            "description_width": ""
          }
        },
        "367d3c9f358741ea9f31dfe9b321e6dd": {
          "model_module": "@jupyter-widgets/base",
          "model_name": "LayoutModel",
          "model_module_version": "1.2.0",
          "state": {
            "_model_module": "@jupyter-widgets/base",
            "_model_module_version": "1.2.0",
            "_model_name": "LayoutModel",
            "_view_count": null,
            "_view_module": "@jupyter-widgets/base",
            "_view_module_version": "1.2.0",
            "_view_name": "LayoutView",
            "align_content": null,
            "align_items": null,
            "align_self": null,
            "border": null,
            "bottom": null,
            "display": null,
            "flex": null,
            "flex_flow": null,
            "grid_area": null,
            "grid_auto_columns": null,
            "grid_auto_flow": null,
            "grid_auto_rows": null,
            "grid_column": null,
            "grid_gap": null,
            "grid_row": null,
            "grid_template_areas": null,
            "grid_template_columns": null,
            "grid_template_rows": null,
            "height": null,
            "justify_content": null,
            "justify_items": null,
            "left": null,
            "margin": null,
            "max_height": null,
            "max_width": null,
            "min_height": null,
            "min_width": null,
            "object_fit": null,
            "object_position": null,
            "order": null,
            "overflow": null,
            "overflow_x": null,
            "overflow_y": null,
            "padding": null,
            "right": null,
            "top": null,
            "visibility": null,
            "width": null
          }
        },
        "de1861710b6643ac857a61d937b46f9f": {
          "model_module": "@jupyter-widgets/controls",
          "model_name": "DescriptionStyleModel",
          "model_module_version": "1.5.0",
          "state": {
            "_model_module": "@jupyter-widgets/controls",
            "_model_module_version": "1.5.0",
            "_model_name": "DescriptionStyleModel",
            "_view_count": null,
            "_view_module": "@jupyter-widgets/base",
            "_view_module_version": "1.2.0",
            "_view_name": "StyleView",
            "description_width": ""
          }
        },
        "cd984c52f4a94e6a93e547f861f428ab": {
          "model_module": "@jupyter-widgets/controls",
          "model_name": "HTMLModel",
          "model_module_version": "1.5.0",
          "state": {
            "_dom_classes": [],
            "_model_module": "@jupyter-widgets/controls",
            "_model_module_version": "1.5.0",
            "_model_name": "HTMLModel",
            "_view_count": null,
            "_view_module": "@jupyter-widgets/controls",
            "_view_module_version": "1.5.0",
            "_view_name": "HTMLView",
            "description": "",
            "description_tooltip": null,
            "layout": "IPY_MODEL_7665f57bb04c461a8208a41a6fc2b709",
            "placeholder": "​",
            "style": "IPY_MODEL_37ac5145c7264138af750e4d498f7166",
            "value": "tokenizer.model: 100%"
          }
        },
        "5541b770cf31493ea596f5c0bd8e6e9b": {
          "model_module": "@jupyter-widgets/controls",
          "model_name": "FloatProgressModel",
          "model_module_version": "1.5.0",
          "state": {
            "_dom_classes": [],
            "_model_module": "@jupyter-widgets/controls",
            "_model_module_version": "1.5.0",
            "_model_name": "FloatProgressModel",
            "_view_count": null,
            "_view_module": "@jupyter-widgets/controls",
            "_view_module_version": "1.5.0",
            "_view_name": "ProgressView",
            "bar_style": "success",
            "description": "",
            "description_tooltip": null,
            "layout": "IPY_MODEL_924610427d854d5faa6c2f4109cd438f",
            "max": 624187,
            "min": 0,
            "orientation": "horizontal",
            "style": "IPY_MODEL_e8b9174328614b3a835231586d360209",
            "value": 624187
          }
        },
        "cb87409dc00b4c9190a2f6ea9a0bba75": {
          "model_module": "@jupyter-widgets/controls",
          "model_name": "HTMLModel",
          "model_module_version": "1.5.0",
          "state": {
            "_dom_classes": [],
            "_model_module": "@jupyter-widgets/controls",
            "_model_module_version": "1.5.0",
            "_model_name": "HTMLModel",
            "_view_count": null,
            "_view_module": "@jupyter-widgets/controls",
            "_view_module_version": "1.5.0",
            "_view_name": "HTMLView",
            "description": "",
            "description_tooltip": null,
            "layout": "IPY_MODEL_94fc9fb440274a7d89461fb3358814d5",
            "placeholder": "​",
            "style": "IPY_MODEL_3c9907c11a1e44dca409736d67bb8082",
            "value": " 624k/624k [00:00&lt;00:00, 39.3MB/s]"
          }
        },
        "8de7537fe6f64edd939297b216c6e32a": {
          "model_module": "@jupyter-widgets/base",
          "model_name": "LayoutModel",
          "model_module_version": "1.2.0",
          "state": {
            "_model_module": "@jupyter-widgets/base",
            "_model_module_version": "1.2.0",
            "_model_name": "LayoutModel",
            "_view_count": null,
            "_view_module": "@jupyter-widgets/base",
            "_view_module_version": "1.2.0",
            "_view_name": "LayoutView",
            "align_content": null,
            "align_items": null,
            "align_self": null,
            "border": null,
            "bottom": null,
            "display": null,
            "flex": null,
            "flex_flow": null,
            "grid_area": null,
            "grid_auto_columns": null,
            "grid_auto_flow": null,
            "grid_auto_rows": null,
            "grid_column": null,
            "grid_gap": null,
            "grid_row": null,
            "grid_template_areas": null,
            "grid_template_columns": null,
            "grid_template_rows": null,
            "height": null,
            "justify_content": null,
            "justify_items": null,
            "left": null,
            "margin": null,
            "max_height": null,
            "max_width": null,
            "min_height": null,
            "min_width": null,
            "object_fit": null,
            "object_position": null,
            "order": null,
            "overflow": null,
            "overflow_x": null,
            "overflow_y": null,
            "padding": null,
            "right": null,
            "top": null,
            "visibility": null,
            "width": null
          }
        },
        "7665f57bb04c461a8208a41a6fc2b709": {
          "model_module": "@jupyter-widgets/base",
          "model_name": "LayoutModel",
          "model_module_version": "1.2.0",
          "state": {
            "_model_module": "@jupyter-widgets/base",
            "_model_module_version": "1.2.0",
            "_model_name": "LayoutModel",
            "_view_count": null,
            "_view_module": "@jupyter-widgets/base",
            "_view_module_version": "1.2.0",
            "_view_name": "LayoutView",
            "align_content": null,
            "align_items": null,
            "align_self": null,
            "border": null,
            "bottom": null,
            "display": null,
            "flex": null,
            "flex_flow": null,
            "grid_area": null,
            "grid_auto_columns": null,
            "grid_auto_flow": null,
            "grid_auto_rows": null,
            "grid_column": null,
            "grid_gap": null,
            "grid_row": null,
            "grid_template_areas": null,
            "grid_template_columns": null,
            "grid_template_rows": null,
            "height": null,
            "justify_content": null,
            "justify_items": null,
            "left": null,
            "margin": null,
            "max_height": null,
            "max_width": null,
            "min_height": null,
            "min_width": null,
            "object_fit": null,
            "object_position": null,
            "order": null,
            "overflow": null,
            "overflow_x": null,
            "overflow_y": null,
            "padding": null,
            "right": null,
            "top": null,
            "visibility": null,
            "width": null
          }
        },
        "37ac5145c7264138af750e4d498f7166": {
          "model_module": "@jupyter-widgets/controls",
          "model_name": "DescriptionStyleModel",
          "model_module_version": "1.5.0",
          "state": {
            "_model_module": "@jupyter-widgets/controls",
            "_model_module_version": "1.5.0",
            "_model_name": "DescriptionStyleModel",
            "_view_count": null,
            "_view_module": "@jupyter-widgets/base",
            "_view_module_version": "1.2.0",
            "_view_name": "StyleView",
            "description_width": ""
          }
        },
        "924610427d854d5faa6c2f4109cd438f": {
          "model_module": "@jupyter-widgets/base",
          "model_name": "LayoutModel",
          "model_module_version": "1.2.0",
          "state": {
            "_model_module": "@jupyter-widgets/base",
            "_model_module_version": "1.2.0",
            "_model_name": "LayoutModel",
            "_view_count": null,
            "_view_module": "@jupyter-widgets/base",
            "_view_module_version": "1.2.0",
            "_view_name": "LayoutView",
            "align_content": null,
            "align_items": null,
            "align_self": null,
            "border": null,
            "bottom": null,
            "display": null,
            "flex": null,
            "flex_flow": null,
            "grid_area": null,
            "grid_auto_columns": null,
            "grid_auto_flow": null,
            "grid_auto_rows": null,
            "grid_column": null,
            "grid_gap": null,
            "grid_row": null,
            "grid_template_areas": null,
            "grid_template_columns": null,
            "grid_template_rows": null,
            "height": null,
            "justify_content": null,
            "justify_items": null,
            "left": null,
            "margin": null,
            "max_height": null,
            "max_width": null,
            "min_height": null,
            "min_width": null,
            "object_fit": null,
            "object_position": null,
            "order": null,
            "overflow": null,
            "overflow_x": null,
            "overflow_y": null,
            "padding": null,
            "right": null,
            "top": null,
            "visibility": null,
            "width": null
          }
        },
        "e8b9174328614b3a835231586d360209": {
          "model_module": "@jupyter-widgets/controls",
          "model_name": "ProgressStyleModel",
          "model_module_version": "1.5.0",
          "state": {
            "_model_module": "@jupyter-widgets/controls",
            "_model_module_version": "1.5.0",
            "_model_name": "ProgressStyleModel",
            "_view_count": null,
            "_view_module": "@jupyter-widgets/base",
            "_view_module_version": "1.2.0",
            "_view_name": "StyleView",
            "bar_color": null,
            "description_width": ""
          }
        },
        "94fc9fb440274a7d89461fb3358814d5": {
          "model_module": "@jupyter-widgets/base",
          "model_name": "LayoutModel",
          "model_module_version": "1.2.0",
          "state": {
            "_model_module": "@jupyter-widgets/base",
            "_model_module_version": "1.2.0",
            "_model_name": "LayoutModel",
            "_view_count": null,
            "_view_module": "@jupyter-widgets/base",
            "_view_module_version": "1.2.0",
            "_view_name": "LayoutView",
            "align_content": null,
            "align_items": null,
            "align_self": null,
            "border": null,
            "bottom": null,
            "display": null,
            "flex": null,
            "flex_flow": null,
            "grid_area": null,
            "grid_auto_columns": null,
            "grid_auto_flow": null,
            "grid_auto_rows": null,
            "grid_column": null,
            "grid_gap": null,
            "grid_row": null,
            "grid_template_areas": null,
            "grid_template_columns": null,
            "grid_template_rows": null,
            "height": null,
            "justify_content": null,
            "justify_items": null,
            "left": null,
            "margin": null,
            "max_height": null,
            "max_width": null,
            "min_height": null,
            "min_width": null,
            "object_fit": null,
            "object_position": null,
            "order": null,
            "overflow": null,
            "overflow_x": null,
            "overflow_y": null,
            "padding": null,
            "right": null,
            "top": null,
            "visibility": null,
            "width": null
          }
        },
        "3c9907c11a1e44dca409736d67bb8082": {
          "model_module": "@jupyter-widgets/controls",
          "model_name": "DescriptionStyleModel",
          "model_module_version": "1.5.0",
          "state": {
            "_model_module": "@jupyter-widgets/controls",
            "_model_module_version": "1.5.0",
            "_model_name": "DescriptionStyleModel",
            "_view_count": null,
            "_view_module": "@jupyter-widgets/base",
            "_view_module_version": "1.2.0",
            "_view_name": "StyleView",
            "description_width": ""
          }
        },
        "1390539816164656b1e0f1751a3cf254": {
          "model_module": "@jupyter-widgets/controls",
          "model_name": "HBoxModel",
          "model_module_version": "1.5.0",
          "state": {
            "_dom_classes": [],
            "_model_module": "@jupyter-widgets/controls",
            "_model_module_version": "1.5.0",
            "_model_name": "HBoxModel",
            "_view_count": null,
            "_view_module": "@jupyter-widgets/controls",
            "_view_module_version": "1.5.0",
            "_view_name": "HBoxView",
            "box_style": "",
            "children": [
              "IPY_MODEL_ad28491bc269411a88b3c7e48c8f9924",
              "IPY_MODEL_3c2bf24762b04ad6a1486e097865e117",
              "IPY_MODEL_efb0e8c94ca243e794944ef069f06306"
            ],
            "layout": "IPY_MODEL_454a9424dc9a4bbd89d61fbd8044976b"
          }
        },
        "ad28491bc269411a88b3c7e48c8f9924": {
          "model_module": "@jupyter-widgets/controls",
          "model_name": "HTMLModel",
          "model_module_version": "1.5.0",
          "state": {
            "_dom_classes": [],
            "_model_module": "@jupyter-widgets/controls",
            "_model_module_version": "1.5.0",
            "_model_name": "HTMLModel",
            "_view_count": null,
            "_view_module": "@jupyter-widgets/controls",
            "_view_module_version": "1.5.0",
            "_view_name": "HTMLView",
            "description": "",
            "description_tooltip": null,
            "layout": "IPY_MODEL_b0161c7d24924176a9a57228e812477d",
            "placeholder": "​",
            "style": "IPY_MODEL_d021873ef0d0406f8f6442b7b86db274",
            "value": "tokenizer.json: 100%"
          }
        },
        "3c2bf24762b04ad6a1486e097865e117": {
          "model_module": "@jupyter-widgets/controls",
          "model_name": "FloatProgressModel",
          "model_module_version": "1.5.0",
          "state": {
            "_dom_classes": [],
            "_model_module": "@jupyter-widgets/controls",
            "_model_module_version": "1.5.0",
            "_model_name": "FloatProgressModel",
            "_view_count": null,
            "_view_module": "@jupyter-widgets/controls",
            "_view_module_version": "1.5.0",
            "_view_name": "ProgressView",
            "bar_style": "success",
            "description": "",
            "description_tooltip": null,
            "layout": "IPY_MODEL_62ba3c68fa514a4798896e258093743e",
            "max": 2213401,
            "min": 0,
            "orientation": "horizontal",
            "style": "IPY_MODEL_b93d5ee795784a0a834ab568d0e5f8cc",
            "value": 2213401
          }
        },
        "efb0e8c94ca243e794944ef069f06306": {
          "model_module": "@jupyter-widgets/controls",
          "model_name": "HTMLModel",
          "model_module_version": "1.5.0",
          "state": {
            "_dom_classes": [],
            "_model_module": "@jupyter-widgets/controls",
            "_model_module_version": "1.5.0",
            "_model_name": "HTMLModel",
            "_view_count": null,
            "_view_module": "@jupyter-widgets/controls",
            "_view_module_version": "1.5.0",
            "_view_name": "HTMLView",
            "description": "",
            "description_tooltip": null,
            "layout": "IPY_MODEL_321485e747df42ecb784fbb4e48c22ba",
            "placeholder": "​",
            "style": "IPY_MODEL_f8b6f4bfcf5a4da683eb6226361b30f1",
            "value": " 2.21M/2.21M [00:00&lt;00:00, 27.7MB/s]"
          }
        },
        "454a9424dc9a4bbd89d61fbd8044976b": {
          "model_module": "@jupyter-widgets/base",
          "model_name": "LayoutModel",
          "model_module_version": "1.2.0",
          "state": {
            "_model_module": "@jupyter-widgets/base",
            "_model_module_version": "1.2.0",
            "_model_name": "LayoutModel",
            "_view_count": null,
            "_view_module": "@jupyter-widgets/base",
            "_view_module_version": "1.2.0",
            "_view_name": "LayoutView",
            "align_content": null,
            "align_items": null,
            "align_self": null,
            "border": null,
            "bottom": null,
            "display": null,
            "flex": null,
            "flex_flow": null,
            "grid_area": null,
            "grid_auto_columns": null,
            "grid_auto_flow": null,
            "grid_auto_rows": null,
            "grid_column": null,
            "grid_gap": null,
            "grid_row": null,
            "grid_template_areas": null,
            "grid_template_columns": null,
            "grid_template_rows": null,
            "height": null,
            "justify_content": null,
            "justify_items": null,
            "left": null,
            "margin": null,
            "max_height": null,
            "max_width": null,
            "min_height": null,
            "min_width": null,
            "object_fit": null,
            "object_position": null,
            "order": null,
            "overflow": null,
            "overflow_x": null,
            "overflow_y": null,
            "padding": null,
            "right": null,
            "top": null,
            "visibility": null,
            "width": null
          }
        },
        "b0161c7d24924176a9a57228e812477d": {
          "model_module": "@jupyter-widgets/base",
          "model_name": "LayoutModel",
          "model_module_version": "1.2.0",
          "state": {
            "_model_module": "@jupyter-widgets/base",
            "_model_module_version": "1.2.0",
            "_model_name": "LayoutModel",
            "_view_count": null,
            "_view_module": "@jupyter-widgets/base",
            "_view_module_version": "1.2.0",
            "_view_name": "LayoutView",
            "align_content": null,
            "align_items": null,
            "align_self": null,
            "border": null,
            "bottom": null,
            "display": null,
            "flex": null,
            "flex_flow": null,
            "grid_area": null,
            "grid_auto_columns": null,
            "grid_auto_flow": null,
            "grid_auto_rows": null,
            "grid_column": null,
            "grid_gap": null,
            "grid_row": null,
            "grid_template_areas": null,
            "grid_template_columns": null,
            "grid_template_rows": null,
            "height": null,
            "justify_content": null,
            "justify_items": null,
            "left": null,
            "margin": null,
            "max_height": null,
            "max_width": null,
            "min_height": null,
            "min_width": null,
            "object_fit": null,
            "object_position": null,
            "order": null,
            "overflow": null,
            "overflow_x": null,
            "overflow_y": null,
            "padding": null,
            "right": null,
            "top": null,
            "visibility": null,
            "width": null
          }
        },
        "d021873ef0d0406f8f6442b7b86db274": {
          "model_module": "@jupyter-widgets/controls",
          "model_name": "DescriptionStyleModel",
          "model_module_version": "1.5.0",
          "state": {
            "_model_module": "@jupyter-widgets/controls",
            "_model_module_version": "1.5.0",
            "_model_name": "DescriptionStyleModel",
            "_view_count": null,
            "_view_module": "@jupyter-widgets/base",
            "_view_module_version": "1.2.0",
            "_view_name": "StyleView",
            "description_width": ""
          }
        },
        "62ba3c68fa514a4798896e258093743e": {
          "model_module": "@jupyter-widgets/base",
          "model_name": "LayoutModel",
          "model_module_version": "1.2.0",
          "state": {
            "_model_module": "@jupyter-widgets/base",
            "_model_module_version": "1.2.0",
            "_model_name": "LayoutModel",
            "_view_count": null,
            "_view_module": "@jupyter-widgets/base",
            "_view_module_version": "1.2.0",
            "_view_name": "LayoutView",
            "align_content": null,
            "align_items": null,
            "align_self": null,
            "border": null,
            "bottom": null,
            "display": null,
            "flex": null,
            "flex_flow": null,
            "grid_area": null,
            "grid_auto_columns": null,
            "grid_auto_flow": null,
            "grid_auto_rows": null,
            "grid_column": null,
            "grid_gap": null,
            "grid_row": null,
            "grid_template_areas": null,
            "grid_template_columns": null,
            "grid_template_rows": null,
            "height": null,
            "justify_content": null,
            "justify_items": null,
            "left": null,
            "margin": null,
            "max_height": null,
            "max_width": null,
            "min_height": null,
            "min_width": null,
            "object_fit": null,
            "object_position": null,
            "order": null,
            "overflow": null,
            "overflow_x": null,
            "overflow_y": null,
            "padding": null,
            "right": null,
            "top": null,
            "visibility": null,
            "width": null
          }
        },
        "b93d5ee795784a0a834ab568d0e5f8cc": {
          "model_module": "@jupyter-widgets/controls",
          "model_name": "ProgressStyleModel",
          "model_module_version": "1.5.0",
          "state": {
            "_model_module": "@jupyter-widgets/controls",
            "_model_module_version": "1.5.0",
            "_model_name": "ProgressStyleModel",
            "_view_count": null,
            "_view_module": "@jupyter-widgets/base",
            "_view_module_version": "1.2.0",
            "_view_name": "StyleView",
            "bar_color": null,
            "description_width": ""
          }
        },
        "321485e747df42ecb784fbb4e48c22ba": {
          "model_module": "@jupyter-widgets/base",
          "model_name": "LayoutModel",
          "model_module_version": "1.2.0",
          "state": {
            "_model_module": "@jupyter-widgets/base",
            "_model_module_version": "1.2.0",
            "_model_name": "LayoutModel",
            "_view_count": null,
            "_view_module": "@jupyter-widgets/base",
            "_view_module_version": "1.2.0",
            "_view_name": "LayoutView",
            "align_content": null,
            "align_items": null,
            "align_self": null,
            "border": null,
            "bottom": null,
            "display": null,
            "flex": null,
            "flex_flow": null,
            "grid_area": null,
            "grid_auto_columns": null,
            "grid_auto_flow": null,
            "grid_auto_rows": null,
            "grid_column": null,
            "grid_gap": null,
            "grid_row": null,
            "grid_template_areas": null,
            "grid_template_columns": null,
            "grid_template_rows": null,
            "height": null,
            "justify_content": null,
            "justify_items": null,
            "left": null,
            "margin": null,
            "max_height": null,
            "max_width": null,
            "min_height": null,
            "min_width": null,
            "object_fit": null,
            "object_position": null,
            "order": null,
            "overflow": null,
            "overflow_x": null,
            "overflow_y": null,
            "padding": null,
            "right": null,
            "top": null,
            "visibility": null,
            "width": null
          }
        },
        "f8b6f4bfcf5a4da683eb6226361b30f1": {
          "model_module": "@jupyter-widgets/controls",
          "model_name": "DescriptionStyleModel",
          "model_module_version": "1.5.0",
          "state": {
            "_model_module": "@jupyter-widgets/controls",
            "_model_module_version": "1.5.0",
            "_model_name": "DescriptionStyleModel",
            "_view_count": null,
            "_view_module": "@jupyter-widgets/base",
            "_view_module_version": "1.2.0",
            "_view_name": "StyleView",
            "description_width": ""
          }
        },
        "80c5b207f7a042d6b00520f918f0da0b": {
          "model_module": "@jupyter-widgets/controls",
          "model_name": "HBoxModel",
          "model_module_version": "1.5.0",
          "state": {
            "_dom_classes": [],
            "_model_module": "@jupyter-widgets/controls",
            "_model_module_version": "1.5.0",
            "_model_name": "HBoxModel",
            "_view_count": null,
            "_view_module": "@jupyter-widgets/controls",
            "_view_module_version": "1.5.0",
            "_view_name": "HBoxView",
            "box_style": "",
            "children": [
              "IPY_MODEL_a0e9098639e54dc69c54950728747773",
              "IPY_MODEL_3b832732980b474283e030fdc41c57d8",
              "IPY_MODEL_c34df799f5cd4363bac8b6e703e16875"
            ],
            "layout": "IPY_MODEL_26f9d2d7e87348e183f33c5a747347d0"
          }
        },
        "a0e9098639e54dc69c54950728747773": {
          "model_module": "@jupyter-widgets/controls",
          "model_name": "HTMLModel",
          "model_module_version": "1.5.0",
          "state": {
            "_dom_classes": [],
            "_model_module": "@jupyter-widgets/controls",
            "_model_module_version": "1.5.0",
            "_model_name": "HTMLModel",
            "_view_count": null,
            "_view_module": "@jupyter-widgets/controls",
            "_view_module_version": "1.5.0",
            "_view_name": "HTMLView",
            "description": "",
            "description_tooltip": null,
            "layout": "IPY_MODEL_18ef5be7e6554b5588f80ed90b02f45e",
            "placeholder": "​",
            "style": "IPY_MODEL_66df69236c03432ca8abf1151779c94a",
            "value": "special_tokens_map.json: 100%"
          }
        },
        "3b832732980b474283e030fdc41c57d8": {
          "model_module": "@jupyter-widgets/controls",
          "model_name": "FloatProgressModel",
          "model_module_version": "1.5.0",
          "state": {
            "_dom_classes": [],
            "_model_module": "@jupyter-widgets/controls",
            "_model_module_version": "1.5.0",
            "_model_name": "FloatProgressModel",
            "_view_count": null,
            "_view_module": "@jupyter-widgets/controls",
            "_view_module_version": "1.5.0",
            "_view_name": "ProgressView",
            "bar_style": "success",
            "description": "",
            "description_tooltip": null,
            "layout": "IPY_MODEL_f38ba900e5224420961d8eb517435f37",
            "max": 552,
            "min": 0,
            "orientation": "horizontal",
            "style": "IPY_MODEL_1515023c74bd40218927e33b3a48b589",
            "value": 552
          }
        },
        "c34df799f5cd4363bac8b6e703e16875": {
          "model_module": "@jupyter-widgets/controls",
          "model_name": "HTMLModel",
          "model_module_version": "1.5.0",
          "state": {
            "_dom_classes": [],
            "_model_module": "@jupyter-widgets/controls",
            "_model_module_version": "1.5.0",
            "_model_name": "HTMLModel",
            "_view_count": null,
            "_view_module": "@jupyter-widgets/controls",
            "_view_module_version": "1.5.0",
            "_view_name": "HTMLView",
            "description": "",
            "description_tooltip": null,
            "layout": "IPY_MODEL_b2cf4c149cf349b4b7ec05fb885a44f6",
            "placeholder": "​",
            "style": "IPY_MODEL_b678c3092de5426b832829ad1881ad87",
            "value": " 552/552 [00:00&lt;00:00, 11.5kB/s]"
          }
        },
        "26f9d2d7e87348e183f33c5a747347d0": {
          "model_module": "@jupyter-widgets/base",
          "model_name": "LayoutModel",
          "model_module_version": "1.2.0",
          "state": {
            "_model_module": "@jupyter-widgets/base",
            "_model_module_version": "1.2.0",
            "_model_name": "LayoutModel",
            "_view_count": null,
            "_view_module": "@jupyter-widgets/base",
            "_view_module_version": "1.2.0",
            "_view_name": "LayoutView",
            "align_content": null,
            "align_items": null,
            "align_self": null,
            "border": null,
            "bottom": null,
            "display": null,
            "flex": null,
            "flex_flow": null,
            "grid_area": null,
            "grid_auto_columns": null,
            "grid_auto_flow": null,
            "grid_auto_rows": null,
            "grid_column": null,
            "grid_gap": null,
            "grid_row": null,
            "grid_template_areas": null,
            "grid_template_columns": null,
            "grid_template_rows": null,
            "height": null,
            "justify_content": null,
            "justify_items": null,
            "left": null,
            "margin": null,
            "max_height": null,
            "max_width": null,
            "min_height": null,
            "min_width": null,
            "object_fit": null,
            "object_position": null,
            "order": null,
            "overflow": null,
            "overflow_x": null,
            "overflow_y": null,
            "padding": null,
            "right": null,
            "top": null,
            "visibility": null,
            "width": null
          }
        },
        "18ef5be7e6554b5588f80ed90b02f45e": {
          "model_module": "@jupyter-widgets/base",
          "model_name": "LayoutModel",
          "model_module_version": "1.2.0",
          "state": {
            "_model_module": "@jupyter-widgets/base",
            "_model_module_version": "1.2.0",
            "_model_name": "LayoutModel",
            "_view_count": null,
            "_view_module": "@jupyter-widgets/base",
            "_view_module_version": "1.2.0",
            "_view_name": "LayoutView",
            "align_content": null,
            "align_items": null,
            "align_self": null,
            "border": null,
            "bottom": null,
            "display": null,
            "flex": null,
            "flex_flow": null,
            "grid_area": null,
            "grid_auto_columns": null,
            "grid_auto_flow": null,
            "grid_auto_rows": null,
            "grid_column": null,
            "grid_gap": null,
            "grid_row": null,
            "grid_template_areas": null,
            "grid_template_columns": null,
            "grid_template_rows": null,
            "height": null,
            "justify_content": null,
            "justify_items": null,
            "left": null,
            "margin": null,
            "max_height": null,
            "max_width": null,
            "min_height": null,
            "min_width": null,
            "object_fit": null,
            "object_position": null,
            "order": null,
            "overflow": null,
            "overflow_x": null,
            "overflow_y": null,
            "padding": null,
            "right": null,
            "top": null,
            "visibility": null,
            "width": null
          }
        },
        "66df69236c03432ca8abf1151779c94a": {
          "model_module": "@jupyter-widgets/controls",
          "model_name": "DescriptionStyleModel",
          "model_module_version": "1.5.0",
          "state": {
            "_model_module": "@jupyter-widgets/controls",
            "_model_module_version": "1.5.0",
            "_model_name": "DescriptionStyleModel",
            "_view_count": null,
            "_view_module": "@jupyter-widgets/base",
            "_view_module_version": "1.2.0",
            "_view_name": "StyleView",
            "description_width": ""
          }
        },
        "f38ba900e5224420961d8eb517435f37": {
          "model_module": "@jupyter-widgets/base",
          "model_name": "LayoutModel",
          "model_module_version": "1.2.0",
          "state": {
            "_model_module": "@jupyter-widgets/base",
            "_model_module_version": "1.2.0",
            "_model_name": "LayoutModel",
            "_view_count": null,
            "_view_module": "@jupyter-widgets/base",
            "_view_module_version": "1.2.0",
            "_view_name": "LayoutView",
            "align_content": null,
            "align_items": null,
            "align_self": null,
            "border": null,
            "bottom": null,
            "display": null,
            "flex": null,
            "flex_flow": null,
            "grid_area": null,
            "grid_auto_columns": null,
            "grid_auto_flow": null,
            "grid_auto_rows": null,
            "grid_column": null,
            "grid_gap": null,
            "grid_row": null,
            "grid_template_areas": null,
            "grid_template_columns": null,
            "grid_template_rows": null,
            "height": null,
            "justify_content": null,
            "justify_items": null,
            "left": null,
            "margin": null,
            "max_height": null,
            "max_width": null,
            "min_height": null,
            "min_width": null,
            "object_fit": null,
            "object_position": null,
            "order": null,
            "overflow": null,
            "overflow_x": null,
            "overflow_y": null,
            "padding": null,
            "right": null,
            "top": null,
            "visibility": null,
            "width": null
          }
        },
        "1515023c74bd40218927e33b3a48b589": {
          "model_module": "@jupyter-widgets/controls",
          "model_name": "ProgressStyleModel",
          "model_module_version": "1.5.0",
          "state": {
            "_model_module": "@jupyter-widgets/controls",
            "_model_module_version": "1.5.0",
            "_model_name": "ProgressStyleModel",
            "_view_count": null,
            "_view_module": "@jupyter-widgets/base",
            "_view_module_version": "1.2.0",
            "_view_name": "StyleView",
            "bar_color": null,
            "description_width": ""
          }
        },
        "b2cf4c149cf349b4b7ec05fb885a44f6": {
          "model_module": "@jupyter-widgets/base",
          "model_name": "LayoutModel",
          "model_module_version": "1.2.0",
          "state": {
            "_model_module": "@jupyter-widgets/base",
            "_model_module_version": "1.2.0",
            "_model_name": "LayoutModel",
            "_view_count": null,
            "_view_module": "@jupyter-widgets/base",
            "_view_module_version": "1.2.0",
            "_view_name": "LayoutView",
            "align_content": null,
            "align_items": null,
            "align_self": null,
            "border": null,
            "bottom": null,
            "display": null,
            "flex": null,
            "flex_flow": null,
            "grid_area": null,
            "grid_auto_columns": null,
            "grid_auto_flow": null,
            "grid_auto_rows": null,
            "grid_column": null,
            "grid_gap": null,
            "grid_row": null,
            "grid_template_areas": null,
            "grid_template_columns": null,
            "grid_template_rows": null,
            "height": null,
            "justify_content": null,
            "justify_items": null,
            "left": null,
            "margin": null,
            "max_height": null,
            "max_width": null,
            "min_height": null,
            "min_width": null,
            "object_fit": null,
            "object_position": null,
            "order": null,
            "overflow": null,
            "overflow_x": null,
            "overflow_y": null,
            "padding": null,
            "right": null,
            "top": null,
            "visibility": null,
            "width": null
          }
        },
        "b678c3092de5426b832829ad1881ad87": {
          "model_module": "@jupyter-widgets/controls",
          "model_name": "DescriptionStyleModel",
          "model_module_version": "1.5.0",
          "state": {
            "_model_module": "@jupyter-widgets/controls",
            "_model_module_version": "1.5.0",
            "_model_name": "DescriptionStyleModel",
            "_view_count": null,
            "_view_module": "@jupyter-widgets/base",
            "_view_module_version": "1.2.0",
            "_view_name": "StyleView",
            "description_width": ""
          }
        }
      }
    }
  },
  "cells": [
    {
      "cell_type": "markdown",
      "metadata": {
        "id": "view-in-github",
        "colab_type": "text"
      },
      "source": [
        "<a href=\"https://colab.research.google.com/github/Twenkid/BgGPT/blob/main/bggpt_sacred_computer.ipynb\" target=\"_parent\"><img src=\"https://colab.research.google.com/assets/colab-badge.svg\" alt=\"Open In Colab\"/></a>"
      ]
    },
    {
      "cell_type": "markdown",
      "source": [],
      "metadata": {
        "id": "k_lKxlssvJTU"
      }
    },
    {
      "cell_type": "markdown",
      "source": [
        "\n",
        "## **BgGPT в Colab - безплатно на Tesla T4 или TPU**\n",
        "#### Автор: Тодор Арнаудов - Тош от **СВЕЩЕНИЯТ СМЕТАЧ** - Институт за Мислещи машини, творчество и развитие на човека - основан през 2000 г. Търсят се съдружници, спомоществователи, другари. Виж проектът \"Вси\" по-долу.\n",
        "\n",
        "* http://github.com/twenkid\n",
        "* http://artificial-mind.blogspot.com\n",
        "* http://research.twenkid.com\n",
        "* http://eim.twenkid.com\n",
        "\n",
        "**Видеоръководства:** от канала \"Twenkid Studio - Artificial Mind (todprog): https://www.youtube.com/channel/UCgyhnsM9ed292HUAObXUsvw\n",
        "\n",
        "* http://bggpt.twenkid.com\n",
        "\n",
        "**Версии**:\n",
        "* 19.2.2024: първа, единични заявки;\n",
        "* 20.2: Цикъл с извиквания, промяна на дължината на породения текст, [INST]...[/INST], промяна на max_... и др.\n",
        "* 22.2: вкл/изкл [INST], ... TextWrapper ... и др.\n",
        "* 2x.2: batch requests, Options class etc.\n",
        "* (...)\n",
        "* 4.3.2024: INSAIT's newest model is now 0.2 (not 0.1) - Новият модел на ИНСАИТ е 0.2, но от пръв поглед не се вижда голяма разлика с някои тестове\n",
        "\n",
        "Тази тетрадка е качена в: https://github.com/Twenkid/GPT2-Bulgarian-Training-Tips-and-Tools\n",
        "...\n",
        "\n",
        "Тош, тогава още тийнейджър, е автор на \"пророческата\" интердисциплинарна **\"Теория на разума и Вселената (2001-2004)\"** https://github.com/Twenkid/Theory-of-Universe-and-Mind за общ изкуствен интелект и др., която е в основата на **Първия в света интердисциплинарен курс по Универсален изкуствен разум (Artificial General Intelligence)**, който създава и преподава в ПУ \"Паисий Хилендарски\" през 2010 г. https://artificial-mind.blogspot.com/2010/04/universal-artificial-intelligence.html\n",
        "Тош е автор на **Стратегията за развитие на България чрез свръхинтердисциплинарен институт за Изкуствен интелект и създаване на универсални мислещи машини от 2003 г.**, която INSAIT преоткрива с 20 години закъснение и над 200 милиона лв по-голям бюджет: **\"Как бих инвестирал един милион с най-голяма полза за развитието на страната\"**:\n",
        "* https://www.oocities.org/todprog/ese/proekt.htm\n",
        "* https://artificial-mind.blogspot.com/2020/07/interdisciplinary-research-institute.html\n",
        "... на безплатните синтезатори на реч\n",
        "* **\"Глас 2004\" и \"Тошко 2\"**: https://github.com/Twenkid/Toshko_2\n",
        "\n",
        "* ... на **безплатния интелигентнен речник-помощник на преводача \"Smarty\" (2007)** който беше най-\"умното\" подобно приложение в света, с наченки на разбиране на контекста: https://github.com/Twenkid/Smarty\n",
        "\n",
        "* ...на всестранния проект **\"Вси, или Специалист по всичко\"** за инфраструктура за Общ изкуствен интелект, 2022:\n",
        "https://github.com/Twenkid/Vsy-Jack-Of-All-Trades-AGI-Bulgarian-Internet-Archive-And-Search-Engine\n",
        "\n",
        "* Обучава голям езиков модел на българскив Колаб **GPT2-BG Medium, обучен в Колаб през 2021 г.**: - ръководство за обучение, за пораждане на по-\"творчески\" текстове и самият модел:\n",
        "https://github.com/Twenkid/GPT2-Bulgarian-Training-Tips-and-Tools\n",
        "\n",
        "и др.\n",
        "\n",
        "Интервю от 2009 г.: **Тодор Арнаудов: Ще създам мислеща машина, която ще се самоусложнява.\n",
        "Фантазьори и авантюристи правят великите открития. Работата на скептиците е да отричат, а после да не вярват на собствените си очи**\n",
        "\n",
        "https://artificial-mind.blogspot.com/2009/11/dreamers-and-adventurists-do-big.html\n",
        "\n",
        "**СВЕЩЕНИЯТ СМЕТАЧ** търси всякакви партньори, съдружници, спонсори, съмишленици. Виж например \"issue\"-то в проекта \"Вси\":\n",
        "https://github.com/Twenkid/Vsy-Jack-Of-All-Trades-AGI-Bulgarian-Internet-Archive-And-Search-Engine/issues/10\n",
        "\n",
        "\n",
        "...\n",
        "\n",
        "19.2.2024\n",
        "\n",
        "BgGPT:\n",
        "\n",
        "https://bggpt.ai\n",
        "\n",
        "https://huggingface.co/INSAIT-Institute/BgGPT-7B-Instruct-v0.1/blob/main/README.md?code=true\n",
        "\n",
        "https://bggpt.ai/blog/2024-02-18-launching-the-first-free-and-open-bulgarian-llm/\n",
        "\n",
        "https://huggingface.co/INSAIT-Institute/BgGPT-7B-Instruct-v0.1/tree/main\n",
        "\n",
        "\n"
      ],
      "metadata": {
        "id": "PD8yuacUV4bI"
      }
    },
    {
      "cell_type": "code",
      "source": [
        "# If you have your models or data saved in your drive\n",
        "# You can download or access the model or data directly from there\n",
        "\n",
        "from google.colab import drive\n",
        "drive.mount('/content/drive')\n",
        "\n",
        "#/content/drive/MyDrive/...\n"
      ],
      "metadata": {
        "id": "PwTabNcJXaxX",
        "colab": {
          "base_uri": "https://localhost:8080/",
          "height": 373
        },
        "outputId": "68d0f9d3-0aae-4c9c-a1a0-f01d5b989078"
      },
      "execution_count": null,
      "outputs": [
        {
          "output_type": "error",
          "ename": "MessageError",
          "evalue": "Error: credential propagation was unsuccessful",
          "traceback": [
            "\u001b[0;31m---------------------------------------------------------------------------\u001b[0m",
            "\u001b[0;31mMessageError\u001b[0m                              Traceback (most recent call last)",
            "\u001b[0;32m<ipython-input-1-c829cfe60d45>\u001b[0m in \u001b[0;36m<cell line: 5>\u001b[0;34m()\u001b[0m\n\u001b[1;32m      3\u001b[0m \u001b[0;34m\u001b[0m\u001b[0m\n\u001b[1;32m      4\u001b[0m \u001b[0;32mfrom\u001b[0m \u001b[0mgoogle\u001b[0m\u001b[0;34m.\u001b[0m\u001b[0mcolab\u001b[0m \u001b[0;32mimport\u001b[0m \u001b[0mdrive\u001b[0m\u001b[0;34m\u001b[0m\u001b[0;34m\u001b[0m\u001b[0m\n\u001b[0;32m----> 5\u001b[0;31m \u001b[0mdrive\u001b[0m\u001b[0;34m.\u001b[0m\u001b[0mmount\u001b[0m\u001b[0;34m(\u001b[0m\u001b[0;34m'/content/drive'\u001b[0m\u001b[0;34m)\u001b[0m\u001b[0;34m\u001b[0m\u001b[0;34m\u001b[0m\u001b[0m\n\u001b[0m\u001b[1;32m      6\u001b[0m \u001b[0;34m\u001b[0m\u001b[0m\n\u001b[1;32m      7\u001b[0m \u001b[0;31m#/content/drive/MyDrive/...\u001b[0m\u001b[0;34m\u001b[0m\u001b[0;34m\u001b[0m\u001b[0m\n",
            "\u001b[0;32m/usr/local/lib/python3.10/dist-packages/google/colab/drive.py\u001b[0m in \u001b[0;36mmount\u001b[0;34m(mountpoint, force_remount, timeout_ms, readonly)\u001b[0m\n\u001b[1;32m     98\u001b[0m \u001b[0;32mdef\u001b[0m \u001b[0mmount\u001b[0m\u001b[0;34m(\u001b[0m\u001b[0mmountpoint\u001b[0m\u001b[0;34m,\u001b[0m \u001b[0mforce_remount\u001b[0m\u001b[0;34m=\u001b[0m\u001b[0;32mFalse\u001b[0m\u001b[0;34m,\u001b[0m \u001b[0mtimeout_ms\u001b[0m\u001b[0;34m=\u001b[0m\u001b[0;36m120000\u001b[0m\u001b[0;34m,\u001b[0m \u001b[0mreadonly\u001b[0m\u001b[0;34m=\u001b[0m\u001b[0;32mFalse\u001b[0m\u001b[0;34m)\u001b[0m\u001b[0;34m:\u001b[0m\u001b[0;34m\u001b[0m\u001b[0;34m\u001b[0m\u001b[0m\n\u001b[1;32m     99\u001b[0m   \u001b[0;34m\"\"\"Mount your Google Drive at the specified mountpoint path.\"\"\"\u001b[0m\u001b[0;34m\u001b[0m\u001b[0;34m\u001b[0m\u001b[0m\n\u001b[0;32m--> 100\u001b[0;31m   return _mount(\n\u001b[0m\u001b[1;32m    101\u001b[0m       \u001b[0mmountpoint\u001b[0m\u001b[0;34m,\u001b[0m\u001b[0;34m\u001b[0m\u001b[0;34m\u001b[0m\u001b[0m\n\u001b[1;32m    102\u001b[0m       \u001b[0mforce_remount\u001b[0m\u001b[0;34m=\u001b[0m\u001b[0mforce_remount\u001b[0m\u001b[0;34m,\u001b[0m\u001b[0;34m\u001b[0m\u001b[0;34m\u001b[0m\u001b[0m\n",
            "\u001b[0;32m/usr/local/lib/python3.10/dist-packages/google/colab/drive.py\u001b[0m in \u001b[0;36m_mount\u001b[0;34m(mountpoint, force_remount, timeout_ms, ephemeral, readonly)\u001b[0m\n\u001b[1;32m    131\u001b[0m   )\n\u001b[1;32m    132\u001b[0m   \u001b[0;32mif\u001b[0m \u001b[0mephemeral\u001b[0m\u001b[0;34m:\u001b[0m\u001b[0;34m\u001b[0m\u001b[0;34m\u001b[0m\u001b[0m\n\u001b[0;32m--> 133\u001b[0;31m     _message.blocking_request(\n\u001b[0m\u001b[1;32m    134\u001b[0m         \u001b[0;34m'request_auth'\u001b[0m\u001b[0;34m,\u001b[0m \u001b[0mrequest\u001b[0m\u001b[0;34m=\u001b[0m\u001b[0;34m{\u001b[0m\u001b[0;34m'authType'\u001b[0m\u001b[0;34m:\u001b[0m \u001b[0;34m'dfs_ephemeral'\u001b[0m\u001b[0;34m}\u001b[0m\u001b[0;34m,\u001b[0m \u001b[0mtimeout_sec\u001b[0m\u001b[0;34m=\u001b[0m\u001b[0;32mNone\u001b[0m\u001b[0;34m\u001b[0m\u001b[0;34m\u001b[0m\u001b[0m\n\u001b[1;32m    135\u001b[0m     )\n",
            "\u001b[0;32m/usr/local/lib/python3.10/dist-packages/google/colab/_message.py\u001b[0m in \u001b[0;36mblocking_request\u001b[0;34m(request_type, request, timeout_sec, parent)\u001b[0m\n\u001b[1;32m    174\u001b[0m       \u001b[0mrequest_type\u001b[0m\u001b[0;34m,\u001b[0m \u001b[0mrequest\u001b[0m\u001b[0;34m,\u001b[0m \u001b[0mparent\u001b[0m\u001b[0;34m=\u001b[0m\u001b[0mparent\u001b[0m\u001b[0;34m,\u001b[0m \u001b[0mexpect_reply\u001b[0m\u001b[0;34m=\u001b[0m\u001b[0;32mTrue\u001b[0m\u001b[0;34m\u001b[0m\u001b[0;34m\u001b[0m\u001b[0m\n\u001b[1;32m    175\u001b[0m   )\n\u001b[0;32m--> 176\u001b[0;31m   \u001b[0;32mreturn\u001b[0m \u001b[0mread_reply_from_input\u001b[0m\u001b[0;34m(\u001b[0m\u001b[0mrequest_id\u001b[0m\u001b[0;34m,\u001b[0m \u001b[0mtimeout_sec\u001b[0m\u001b[0;34m)\u001b[0m\u001b[0;34m\u001b[0m\u001b[0;34m\u001b[0m\u001b[0m\n\u001b[0m",
            "\u001b[0;32m/usr/local/lib/python3.10/dist-packages/google/colab/_message.py\u001b[0m in \u001b[0;36mread_reply_from_input\u001b[0;34m(message_id, timeout_sec)\u001b[0m\n\u001b[1;32m    101\u001b[0m     ):\n\u001b[1;32m    102\u001b[0m       \u001b[0;32mif\u001b[0m \u001b[0;34m'error'\u001b[0m \u001b[0;32min\u001b[0m \u001b[0mreply\u001b[0m\u001b[0;34m:\u001b[0m\u001b[0;34m\u001b[0m\u001b[0;34m\u001b[0m\u001b[0m\n\u001b[0;32m--> 103\u001b[0;31m         \u001b[0;32mraise\u001b[0m \u001b[0mMessageError\u001b[0m\u001b[0;34m(\u001b[0m\u001b[0mreply\u001b[0m\u001b[0;34m[\u001b[0m\u001b[0;34m'error'\u001b[0m\u001b[0;34m]\u001b[0m\u001b[0;34m)\u001b[0m\u001b[0;34m\u001b[0m\u001b[0;34m\u001b[0m\u001b[0m\n\u001b[0m\u001b[1;32m    104\u001b[0m       \u001b[0;32mreturn\u001b[0m \u001b[0mreply\u001b[0m\u001b[0;34m.\u001b[0m\u001b[0mget\u001b[0m\u001b[0;34m(\u001b[0m\u001b[0;34m'data'\u001b[0m\u001b[0;34m,\u001b[0m \u001b[0;32mNone\u001b[0m\u001b[0;34m)\u001b[0m\u001b[0;34m\u001b[0m\u001b[0;34m\u001b[0m\u001b[0m\n\u001b[1;32m    105\u001b[0m \u001b[0;34m\u001b[0m\u001b[0m\n",
            "\u001b[0;31mMessageError\u001b[0m: Error: credential propagation was unsuccessful"
          ]
        }
      ]
    },
    {
      "cell_type": "code",
      "source": [
        "import locale\n",
        "locale.getpreferredencoding = lambda: \"UTF-8\"\n",
        "%ls /content/drive"
      ],
      "metadata": {
        "colab": {
          "base_uri": "https://localhost:8080/"
        },
        "id": "LtRrDbGdJg3k",
        "outputId": "6e4d9996-d403-48d9-c9f5-3f9be64ccab5"
      },
      "execution_count": 1,
      "outputs": [
        {
          "output_type": "stream",
          "name": "stdout",
          "text": [
            "ls: cannot access '/content/drive': No such file or directory\n"
          ]
        }
      ]
    },
    {
      "cell_type": "code",
      "execution_count": null,
      "metadata": {
        "colab": {
          "base_uri": "https://localhost:8080/",
          "height": 317
        },
        "id": "31vvLOvzZcwh",
        "outputId": "3345f093-4334-40ef-8836-b000c5723b57"
      },
      "outputs": [
        {
          "output_type": "error",
          "ename": "NotImplementedError",
          "evalue": "A UTF-8 locale is required. Got ANSI_X3.4-1968",
          "traceback": [
            "\u001b[0;31m---------------------------------------------------------------------------\u001b[0m",
            "\u001b[0;31mNotImplementedError\u001b[0m                       Traceback (most recent call last)",
            "\u001b[0;32m<ipython-input-24-f7e957707e4b>\u001b[0m in \u001b[0;36m<cell line: 1>\u001b[0;34m()\u001b[0m\n\u001b[0;32m----> 1\u001b[0;31m \u001b[0mget_ipython\u001b[0m\u001b[0;34m(\u001b[0m\u001b[0;34m)\u001b[0m\u001b[0;34m.\u001b[0m\u001b[0msystem\u001b[0m\u001b[0;34m(\u001b[0m\u001b[0;34m'huggingface-cli download INSAIT-Institute/BgGPT-7B-Instruct-v0.1'\u001b[0m\u001b[0;34m)\u001b[0m\u001b[0;34m\u001b[0m\u001b[0;34m\u001b[0m\u001b[0m\n\u001b[0m",
            "\u001b[0;32m/usr/local/lib/python3.10/dist-packages/google/colab/_shell.py\u001b[0m in \u001b[0;36msystem\u001b[0;34m(self, *args, **kwargs)\u001b[0m\n\u001b[1;32m     97\u001b[0m       \u001b[0mkwargs\u001b[0m\u001b[0;34m.\u001b[0m\u001b[0mupdate\u001b[0m\u001b[0;34m(\u001b[0m\u001b[0;34m{\u001b[0m\u001b[0;34m'also_return_output'\u001b[0m\u001b[0;34m:\u001b[0m \u001b[0;32mTrue\u001b[0m\u001b[0;34m}\u001b[0m\u001b[0;34m)\u001b[0m\u001b[0;34m\u001b[0m\u001b[0;34m\u001b[0m\u001b[0m\n\u001b[1;32m     98\u001b[0m \u001b[0;34m\u001b[0m\u001b[0m\n\u001b[0;32m---> 99\u001b[0;31m     \u001b[0moutput\u001b[0m \u001b[0;34m=\u001b[0m \u001b[0m_system_commands\u001b[0m\u001b[0;34m.\u001b[0m\u001b[0m_system_compat\u001b[0m\u001b[0;34m(\u001b[0m\u001b[0mself\u001b[0m\u001b[0;34m,\u001b[0m \u001b[0;34m*\u001b[0m\u001b[0margs\u001b[0m\u001b[0;34m,\u001b[0m \u001b[0;34m**\u001b[0m\u001b[0mkwargs\u001b[0m\u001b[0;34m)\u001b[0m  \u001b[0;31m# pylint:disable=protected-access\u001b[0m\u001b[0;34m\u001b[0m\u001b[0;34m\u001b[0m\u001b[0m\n\u001b[0m\u001b[1;32m    100\u001b[0m \u001b[0;34m\u001b[0m\u001b[0m\n\u001b[1;32m    101\u001b[0m     \u001b[0;32mif\u001b[0m \u001b[0mpip_warn\u001b[0m\u001b[0;34m:\u001b[0m\u001b[0;34m\u001b[0m\u001b[0;34m\u001b[0m\u001b[0m\n",
            "\u001b[0;32m/usr/local/lib/python3.10/dist-packages/google/colab/_system_commands.py\u001b[0m in \u001b[0;36m_system_compat\u001b[0;34m(shell, cmd, also_return_output)\u001b[0m\n\u001b[1;32m    452\u001b[0m   \u001b[0;31m# is expected to call this function, thus adding one level of nesting to the\u001b[0m\u001b[0;34m\u001b[0m\u001b[0;34m\u001b[0m\u001b[0m\n\u001b[1;32m    453\u001b[0m   \u001b[0;31m# stack.\u001b[0m\u001b[0;34m\u001b[0m\u001b[0;34m\u001b[0m\u001b[0m\n\u001b[0;32m--> 454\u001b[0;31m   result = _run_command(\n\u001b[0m\u001b[1;32m    455\u001b[0m       \u001b[0mshell\u001b[0m\u001b[0;34m.\u001b[0m\u001b[0mvar_expand\u001b[0m\u001b[0;34m(\u001b[0m\u001b[0mcmd\u001b[0m\u001b[0;34m,\u001b[0m \u001b[0mdepth\u001b[0m\u001b[0;34m=\u001b[0m\u001b[0;36m2\u001b[0m\u001b[0;34m)\u001b[0m\u001b[0;34m,\u001b[0m \u001b[0mclear_streamed_output\u001b[0m\u001b[0;34m=\u001b[0m\u001b[0;32mFalse\u001b[0m\u001b[0;34m\u001b[0m\u001b[0;34m\u001b[0m\u001b[0m\n\u001b[1;32m    456\u001b[0m   )\n",
            "\u001b[0;32m/usr/local/lib/python3.10/dist-packages/google/colab/_system_commands.py\u001b[0m in \u001b[0;36m_run_command\u001b[0;34m(cmd, clear_streamed_output)\u001b[0m\n\u001b[1;32m    166\u001b[0m     \u001b[0mlocale_encoding\u001b[0m \u001b[0;34m=\u001b[0m \u001b[0mlocale\u001b[0m\u001b[0;34m.\u001b[0m\u001b[0mgetpreferredencoding\u001b[0m\u001b[0;34m(\u001b[0m\u001b[0;34m)\u001b[0m\u001b[0;34m\u001b[0m\u001b[0;34m\u001b[0m\u001b[0m\n\u001b[1;32m    167\u001b[0m     \u001b[0;32mif\u001b[0m \u001b[0mlocale_encoding\u001b[0m \u001b[0;34m!=\u001b[0m \u001b[0m_ENCODING\u001b[0m\u001b[0;34m:\u001b[0m\u001b[0;34m\u001b[0m\u001b[0;34m\u001b[0m\u001b[0m\n\u001b[0;32m--> 168\u001b[0;31m       raise NotImplementedError(\n\u001b[0m\u001b[1;32m    169\u001b[0m           \u001b[0;34m'A UTF-8 locale is required. Got {}'\u001b[0m\u001b[0;34m.\u001b[0m\u001b[0mformat\u001b[0m\u001b[0;34m(\u001b[0m\u001b[0mlocale_encoding\u001b[0m\u001b[0;34m)\u001b[0m\u001b[0;34m\u001b[0m\u001b[0;34m\u001b[0m\u001b[0m\n\u001b[1;32m    170\u001b[0m       )\n",
            "\u001b[0;31mNotImplementedError\u001b[0m: A UTF-8 locale is required. Got ANSI_X3.4-1968"
          ]
        }
      ],
      "source": [
        "# !huggingface-cli download INSAIT-Institute/BgGPT-7B-Instruct-v0.1\n"
      ]
    },
    {
      "cell_type": "code",
      "source": [],
      "metadata": {
        "id": "mOF44URGqBlo"
      },
      "execution_count": null,
      "outputs": []
    },
    {
      "cell_type": "markdown",
      "source": [
        "# Инсталиране на библиотеки ..."
      ],
      "metadata": {
        "id": "ZLTBxZS1KpQU"
      }
    },
    {
      "cell_type": "code",
      "source": [
        "!pip install packaging ninja\n",
        "!pip install accelerate\n",
        "#!pip install flash-attn"
      ],
      "metadata": {
        "colab": {
          "base_uri": "https://localhost:8080/"
        },
        "id": "GdfHe2_2Zu1t",
        "outputId": "6038442d-3d68-4785-cd55-42acd591a08a"
      },
      "execution_count": 2,
      "outputs": [
        {
          "output_type": "stream",
          "name": "stdout",
          "text": [
            "Requirement already satisfied: packaging in /usr/local/lib/python3.10/dist-packages (24.0)\n",
            "Collecting ninja\n",
            "  Downloading ninja-1.11.1.1-py2.py3-none-manylinux1_x86_64.manylinux_2_5_x86_64.whl (307 kB)\n",
            "\u001b[2K     \u001b[90m━━━━━━━━━━━━━━━━━━━━━━━━━━━━━━━━━━━━━━━━\u001b[0m \u001b[32m307.2/307.2 kB\u001b[0m \u001b[31m2.5 MB/s\u001b[0m eta \u001b[36m0:00:00\u001b[0m\n",
            "\u001b[?25hInstalling collected packages: ninja\n",
            "Successfully installed ninja-1.11.1.1\n",
            "Collecting accelerate\n",
            "  Downloading accelerate-0.28.0-py3-none-any.whl (290 kB)\n",
            "\u001b[2K     \u001b[90m━━━━━━━━━━━━━━━━━━━━━━━━━━━━━━━━━━━━━━━━\u001b[0m \u001b[32m290.1/290.1 kB\u001b[0m \u001b[31m1.9 MB/s\u001b[0m eta \u001b[36m0:00:00\u001b[0m\n",
            "\u001b[?25hRequirement already satisfied: numpy>=1.17 in /usr/local/lib/python3.10/dist-packages (from accelerate) (1.25.2)\n",
            "Requirement already satisfied: packaging>=20.0 in /usr/local/lib/python3.10/dist-packages (from accelerate) (24.0)\n",
            "Requirement already satisfied: psutil in /usr/local/lib/python3.10/dist-packages (from accelerate) (5.9.5)\n",
            "Requirement already satisfied: pyyaml in /usr/local/lib/python3.10/dist-packages (from accelerate) (6.0.1)\n",
            "Requirement already satisfied: torch>=1.10.0 in /usr/local/lib/python3.10/dist-packages (from accelerate) (2.2.1+cu121)\n",
            "Requirement already satisfied: huggingface-hub in /usr/local/lib/python3.10/dist-packages (from accelerate) (0.20.3)\n",
            "Requirement already satisfied: safetensors>=0.3.1 in /usr/local/lib/python3.10/dist-packages (from accelerate) (0.4.2)\n",
            "Requirement already satisfied: filelock in /usr/local/lib/python3.10/dist-packages (from torch>=1.10.0->accelerate) (3.13.1)\n",
            "Requirement already satisfied: typing-extensions>=4.8.0 in /usr/local/lib/python3.10/dist-packages (from torch>=1.10.0->accelerate) (4.10.0)\n",
            "Requirement already satisfied: sympy in /usr/local/lib/python3.10/dist-packages (from torch>=1.10.0->accelerate) (1.12)\n",
            "Requirement already satisfied: networkx in /usr/local/lib/python3.10/dist-packages (from torch>=1.10.0->accelerate) (3.2.1)\n",
            "Requirement already satisfied: jinja2 in /usr/local/lib/python3.10/dist-packages (from torch>=1.10.0->accelerate) (3.1.3)\n",
            "Requirement already satisfied: fsspec in /usr/local/lib/python3.10/dist-packages (from torch>=1.10.0->accelerate) (2023.6.0)\n",
            "Collecting nvidia-cuda-nvrtc-cu12==12.1.105 (from torch>=1.10.0->accelerate)\n",
            "  Downloading nvidia_cuda_nvrtc_cu12-12.1.105-py3-none-manylinux1_x86_64.whl (23.7 MB)\n",
            "\u001b[2K     \u001b[90m━━━━━━━━━━━━━━━━━━━━━━━━━━━━━━━━━━━━━━━━\u001b[0m \u001b[32m23.7/23.7 MB\u001b[0m \u001b[31m27.7 MB/s\u001b[0m eta \u001b[36m0:00:00\u001b[0m\n",
            "\u001b[?25hCollecting nvidia-cuda-runtime-cu12==12.1.105 (from torch>=1.10.0->accelerate)\n",
            "  Downloading nvidia_cuda_runtime_cu12-12.1.105-py3-none-manylinux1_x86_64.whl (823 kB)\n",
            "\u001b[2K     \u001b[90m━━━━━━━━━━━━━━━━━━━━━━━━━━━━━━━━━━━━━━━━\u001b[0m \u001b[32m823.6/823.6 kB\u001b[0m \u001b[31m44.0 MB/s\u001b[0m eta \u001b[36m0:00:00\u001b[0m\n",
            "\u001b[?25hCollecting nvidia-cuda-cupti-cu12==12.1.105 (from torch>=1.10.0->accelerate)\n",
            "  Downloading nvidia_cuda_cupti_cu12-12.1.105-py3-none-manylinux1_x86_64.whl (14.1 MB)\n",
            "\u001b[2K     \u001b[90m━━━━━━━━━━━━━━━━━━━━━━━━━━━━━━━━━━━━━━━━\u001b[0m \u001b[32m14.1/14.1 MB\u001b[0m \u001b[31m38.5 MB/s\u001b[0m eta \u001b[36m0:00:00\u001b[0m\n",
            "\u001b[?25hCollecting nvidia-cudnn-cu12==8.9.2.26 (from torch>=1.10.0->accelerate)\n",
            "  Downloading nvidia_cudnn_cu12-8.9.2.26-py3-none-manylinux1_x86_64.whl (731.7 MB)\n",
            "\u001b[2K     \u001b[90m━━━━━━━━━━━━━━━━━━━━━━━━━━━━━━━━━━━━━━━━\u001b[0m \u001b[32m731.7/731.7 MB\u001b[0m \u001b[31m1.2 MB/s\u001b[0m eta \u001b[36m0:00:00\u001b[0m\n",
            "\u001b[?25hCollecting nvidia-cublas-cu12==12.1.3.1 (from torch>=1.10.0->accelerate)\n",
            "  Downloading nvidia_cublas_cu12-12.1.3.1-py3-none-manylinux1_x86_64.whl (410.6 MB)\n",
            "\u001b[2K     \u001b[90m━━━━━━━━━━━━━━━━━━━━━━━━━━━━━━━━━━━━━━━━\u001b[0m \u001b[32m410.6/410.6 MB\u001b[0m \u001b[31m1.5 MB/s\u001b[0m eta \u001b[36m0:00:00\u001b[0m\n",
            "\u001b[?25hCollecting nvidia-cufft-cu12==11.0.2.54 (from torch>=1.10.0->accelerate)\n",
            "  Downloading nvidia_cufft_cu12-11.0.2.54-py3-none-manylinux1_x86_64.whl (121.6 MB)\n",
            "\u001b[2K     \u001b[90m━━━━━━━━━━━━━━━━━━━━━━━━━━━━━━━━━━━━━━━━\u001b[0m \u001b[32m121.6/121.6 MB\u001b[0m \u001b[31m1.9 MB/s\u001b[0m eta \u001b[36m0:00:00\u001b[0m\n",
            "\u001b[?25hCollecting nvidia-curand-cu12==10.3.2.106 (from torch>=1.10.0->accelerate)\n",
            "  Downloading nvidia_curand_cu12-10.3.2.106-py3-none-manylinux1_x86_64.whl (56.5 MB)\n",
            "\u001b[2K     \u001b[90m━━━━━━━━━━━━━━━━━━━━━━━━━━━━━━━━━━━━━━━━\u001b[0m \u001b[32m56.5/56.5 MB\u001b[0m \u001b[31m1.8 MB/s\u001b[0m eta \u001b[36m0:00:00\u001b[0m\n",
            "\u001b[?25hCollecting nvidia-cusolver-cu12==11.4.5.107 (from torch>=1.10.0->accelerate)\n",
            "  Downloading nvidia_cusolver_cu12-11.4.5.107-py3-none-manylinux1_x86_64.whl (124.2 MB)\n",
            "\u001b[2K     \u001b[90m━━━━━━━━━━━━━━━━━━━━━━━━━━━━━━━━━━━━━━━━\u001b[0m \u001b[32m124.2/124.2 MB\u001b[0m \u001b[31m1.6 MB/s\u001b[0m eta \u001b[36m0:00:00\u001b[0m\n",
            "\u001b[?25hCollecting nvidia-cusparse-cu12==12.1.0.106 (from torch>=1.10.0->accelerate)\n",
            "  Downloading nvidia_cusparse_cu12-12.1.0.106-py3-none-manylinux1_x86_64.whl (196.0 MB)\n",
            "\u001b[2K     \u001b[90m━━━━━━━━━━━━━━━━━━━━━━━━━━━━━━━━━━━━━━━━\u001b[0m \u001b[32m196.0/196.0 MB\u001b[0m \u001b[31m836.7 kB/s\u001b[0m eta \u001b[36m0:00:00\u001b[0m\n",
            "\u001b[?25hCollecting nvidia-nccl-cu12==2.19.3 (from torch>=1.10.0->accelerate)\n",
            "  Downloading nvidia_nccl_cu12-2.19.3-py3-none-manylinux1_x86_64.whl (166.0 MB)\n",
            "\u001b[2K     \u001b[90m━━━━━━━━━━━━━━━━━━━━━━━━━━━━━━━━━━━━━━━━\u001b[0m \u001b[32m166.0/166.0 MB\u001b[0m \u001b[31m848.3 kB/s\u001b[0m eta \u001b[36m0:00:00\u001b[0m\n",
            "\u001b[?25hCollecting nvidia-nvtx-cu12==12.1.105 (from torch>=1.10.0->accelerate)\n",
            "  Downloading nvidia_nvtx_cu12-12.1.105-py3-none-manylinux1_x86_64.whl (99 kB)\n",
            "\u001b[2K     \u001b[90m━━━━━━━━━━━━━━━━━━━━━━━━━━━━━━━━━━━━━━━━\u001b[0m \u001b[32m99.1/99.1 kB\u001b[0m \u001b[31m1.9 MB/s\u001b[0m eta \u001b[36m0:00:00\u001b[0m\n",
            "\u001b[?25hRequirement already satisfied: triton==2.2.0 in /usr/local/lib/python3.10/dist-packages (from torch>=1.10.0->accelerate) (2.2.0)\n",
            "Collecting nvidia-nvjitlink-cu12 (from nvidia-cusolver-cu12==11.4.5.107->torch>=1.10.0->accelerate)\n",
            "  Downloading nvidia_nvjitlink_cu12-12.4.99-py3-none-manylinux2014_x86_64.whl (21.1 MB)\n",
            "\u001b[2K     \u001b[90m━━━━━━━━━━━━━━━━━━━━━━━━━━━━━━━━━━━━━━━━\u001b[0m \u001b[32m21.1/21.1 MB\u001b[0m \u001b[31m1.5 MB/s\u001b[0m eta \u001b[36m0:00:00\u001b[0m\n",
            "\u001b[?25hRequirement already satisfied: requests in /usr/local/lib/python3.10/dist-packages (from huggingface-hub->accelerate) (2.31.0)\n",
            "Requirement already satisfied: tqdm>=4.42.1 in /usr/local/lib/python3.10/dist-packages (from huggingface-hub->accelerate) (4.66.2)\n",
            "Requirement already satisfied: MarkupSafe>=2.0 in /usr/local/lib/python3.10/dist-packages (from jinja2->torch>=1.10.0->accelerate) (2.1.5)\n",
            "Requirement already satisfied: charset-normalizer<4,>=2 in /usr/local/lib/python3.10/dist-packages (from requests->huggingface-hub->accelerate) (3.3.2)\n",
            "Requirement already satisfied: idna<4,>=2.5 in /usr/local/lib/python3.10/dist-packages (from requests->huggingface-hub->accelerate) (3.6)\n",
            "Requirement already satisfied: urllib3<3,>=1.21.1 in /usr/local/lib/python3.10/dist-packages (from requests->huggingface-hub->accelerate) (2.0.7)\n",
            "Requirement already satisfied: certifi>=2017.4.17 in /usr/local/lib/python3.10/dist-packages (from requests->huggingface-hub->accelerate) (2024.2.2)\n",
            "Requirement already satisfied: mpmath>=0.19 in /usr/local/lib/python3.10/dist-packages (from sympy->torch>=1.10.0->accelerate) (1.3.0)\n",
            "Installing collected packages: nvidia-nvtx-cu12, nvidia-nvjitlink-cu12, nvidia-nccl-cu12, nvidia-curand-cu12, nvidia-cufft-cu12, nvidia-cuda-runtime-cu12, nvidia-cuda-nvrtc-cu12, nvidia-cuda-cupti-cu12, nvidia-cublas-cu12, nvidia-cusparse-cu12, nvidia-cudnn-cu12, nvidia-cusolver-cu12, accelerate\n",
            "Successfully installed accelerate-0.28.0 nvidia-cublas-cu12-12.1.3.1 nvidia-cuda-cupti-cu12-12.1.105 nvidia-cuda-nvrtc-cu12-12.1.105 nvidia-cuda-runtime-cu12-12.1.105 nvidia-cudnn-cu12-8.9.2.26 nvidia-cufft-cu12-11.0.2.54 nvidia-curand-cu12-10.3.2.106 nvidia-cusolver-cu12-11.4.5.107 nvidia-cusparse-cu12-12.1.0.106 nvidia-nccl-cu12-2.19.3 nvidia-nvjitlink-cu12-12.4.99 nvidia-nvtx-cu12-12.1.105\n"
          ]
        }
      ]
    },
    {
      "cell_type": "code",
      "source": [
        "\n"
      ],
      "metadata": {
        "colab": {
          "base_uri": "https://localhost:8080/",
          "height": 176
        },
        "id": "dWSlbIaEbgKE",
        "outputId": "08fbbd83-71fb-4e31-c5f4-6236f753ea49"
      },
      "execution_count": null,
      "outputs": [
        {
          "output_type": "error",
          "ename": "NameError",
          "evalue": "name 'AutoModelForCausalLM' is not defined",
          "traceback": [
            "\u001b[0;31m---------------------------------------------------------------------------\u001b[0m",
            "\u001b[0;31mNameError\u001b[0m                                 Traceback (most recent call last)",
            "\u001b[0;32m<ipython-input-2-04578d045c84>\u001b[0m in \u001b[0;36m<cell line: 3>\u001b[0;34m()\u001b[0m\n\u001b[1;32m      1\u001b[0m \u001b[0;31m# List of Available Models\u001b[0m\u001b[0;34m\u001b[0m\u001b[0;34m\u001b[0m\u001b[0m\n\u001b[1;32m      2\u001b[0m \u001b[0;31m# Списък с достъпни модели\u001b[0m\u001b[0;34m\u001b[0m\u001b[0;34m\u001b[0m\u001b[0m\n\u001b[0;32m----> 3\u001b[0;31m \u001b[0mhelp\u001b[0m\u001b[0;34m(\u001b[0m\u001b[0mAutoModelForCausalLM\u001b[0m\u001b[0;34m.\u001b[0m\u001b[0mfrom_pretrained\u001b[0m\u001b[0;34m)\u001b[0m\u001b[0;34m\u001b[0m\u001b[0;34m\u001b[0m\u001b[0m\n\u001b[0m",
            "\u001b[0;31mNameError\u001b[0m: name 'AutoModelForCausalLM' is not defined"
          ]
        }
      ]
    },
    {
      "cell_type": "markdown",
      "source": [
        "# Заредете модела\n",
        "Може да бъде и друг: с път до адрес в huggingface, профил/име-на-модел. Виж в следващата клетка."
      ],
      "metadata": {
        "id": "VzXKbK5p-KRz"
      }
    },
    {
      "cell_type": "markdown",
      "source": [
        "### Upgrade transformers"
      ],
      "metadata": {
        "id": "2LW7lIWKJsgi"
      }
    },
    {
      "cell_type": "code",
      "source": [],
      "metadata": {
        "id": "MxipeL9vvYu1"
      },
      "execution_count": null,
      "outputs": []
    },
    {
      "cell_type": "code",
      "source": [
        "!pip install --upgrade transformers"
      ],
      "metadata": {
        "colab": {
          "base_uri": "https://localhost:8080/"
        },
        "id": "7CT7gIKIJqDu",
        "outputId": "7445d3cf-656d-49fd-8ad8-0348583aaa50"
      },
      "execution_count": null,
      "outputs": [
        {
          "output_type": "stream",
          "name": "stdout",
          "text": [
            "Requirement already satisfied: transformers in /usr/local/lib/python3.10/dist-packages (4.38.2)\n",
            "Requirement already satisfied: filelock in /usr/local/lib/python3.10/dist-packages (from transformers) (3.13.1)\n",
            "Requirement already satisfied: huggingface-hub<1.0,>=0.19.3 in /usr/local/lib/python3.10/dist-packages (from transformers) (0.20.3)\n",
            "Requirement already satisfied: numpy>=1.17 in /usr/local/lib/python3.10/dist-packages (from transformers) (1.25.2)\n",
            "Requirement already satisfied: packaging>=20.0 in /usr/local/lib/python3.10/dist-packages (from transformers) (23.2)\n",
            "Requirement already satisfied: pyyaml>=5.1 in /usr/local/lib/python3.10/dist-packages (from transformers) (6.0.1)\n",
            "Requirement already satisfied: regex!=2019.12.17 in /usr/local/lib/python3.10/dist-packages (from transformers) (2023.12.25)\n",
            "Requirement already satisfied: requests in /usr/local/lib/python3.10/dist-packages (from transformers) (2.31.0)\n",
            "Requirement already satisfied: tokenizers<0.19,>=0.14 in /usr/local/lib/python3.10/dist-packages (from transformers) (0.15.2)\n",
            "Requirement already satisfied: safetensors>=0.4.1 in /usr/local/lib/python3.10/dist-packages (from transformers) (0.4.2)\n",
            "Requirement already satisfied: tqdm>=4.27 in /usr/local/lib/python3.10/dist-packages (from transformers) (4.66.2)\n",
            "Requirement already satisfied: fsspec>=2023.5.0 in /usr/local/lib/python3.10/dist-packages (from huggingface-hub<1.0,>=0.19.3->transformers) (2023.6.0)\n",
            "Requirement already satisfied: typing-extensions>=3.7.4.3 in /usr/local/lib/python3.10/dist-packages (from huggingface-hub<1.0,>=0.19.3->transformers) (4.10.0)\n",
            "Requirement already satisfied: charset-normalizer<4,>=2 in /usr/local/lib/python3.10/dist-packages (from requests->transformers) (3.3.2)\n",
            "Requirement already satisfied: idna<4,>=2.5 in /usr/local/lib/python3.10/dist-packages (from requests->transformers) (3.6)\n",
            "Requirement already satisfied: urllib3<3,>=1.21.1 in /usr/local/lib/python3.10/dist-packages (from requests->transformers) (2.0.7)\n",
            "Requirement already satisfied: certifi>=2017.4.17 in /usr/local/lib/python3.10/dist-packages (from requests->transformers) (2024.2.2)\n"
          ]
        }
      ]
    },
    {
      "cell_type": "code",
      "source": [
        "# Only Ampere or newer! (RTX 3000 for PC etc. On Colab now it's just Tesla T4, 2018)\n",
        "#!pip install flash-attn --no-build-isolation"
      ],
      "metadata": {
        "colab": {
          "base_uri": "https://localhost:8080/"
        },
        "id": "6m5aGZ_aKu6Y",
        "outputId": "4003ac17-3241-4f40-90c8-302960d180ce"
      },
      "execution_count": null,
      "outputs": [
        {
          "output_type": "stream",
          "name": "stdout",
          "text": [
            "Collecting flash-attn\n",
            "  Downloading flash_attn-2.5.5.tar.gz (2.5 MB)\n",
            "\u001b[2K     \u001b[90m━━━━━━━━━━━━━━━━━━━━━━━━━━━━━━━━━━━━━━━━\u001b[0m \u001b[32m2.5/2.5 MB\u001b[0m \u001b[31m10.7 MB/s\u001b[0m eta \u001b[36m0:00:00\u001b[0m\n",
            "\u001b[?25h  Preparing metadata (setup.py) ... \u001b[?25l\u001b[?25hdone\n",
            "Requirement already satisfied: torch in /usr/local/lib/python3.10/dist-packages (from flash-attn) (2.1.0+cu121)\n",
            "Collecting einops (from flash-attn)\n",
            "  Downloading einops-0.7.0-py3-none-any.whl (44 kB)\n",
            "\u001b[2K     \u001b[90m━━━━━━━━━━━━━━━━━━━━━━━━━━━━━━━━━━━━━━━━\u001b[0m \u001b[32m44.6/44.6 kB\u001b[0m \u001b[31m5.2 MB/s\u001b[0m eta \u001b[36m0:00:00\u001b[0m\n",
            "\u001b[?25hRequirement already satisfied: packaging in /usr/local/lib/python3.10/dist-packages (from flash-attn) (23.2)\n",
            "Requirement already satisfied: ninja in /usr/local/lib/python3.10/dist-packages (from flash-attn) (1.11.1.1)\n",
            "Requirement already satisfied: filelock in /usr/local/lib/python3.10/dist-packages (from torch->flash-attn) (3.13.1)\n",
            "Requirement already satisfied: typing-extensions in /usr/local/lib/python3.10/dist-packages (from torch->flash-attn) (4.9.0)\n",
            "Requirement already satisfied: sympy in /usr/local/lib/python3.10/dist-packages (from torch->flash-attn) (1.12)\n",
            "Requirement already satisfied: networkx in /usr/local/lib/python3.10/dist-packages (from torch->flash-attn) (3.2.1)\n",
            "Requirement already satisfied: jinja2 in /usr/local/lib/python3.10/dist-packages (from torch->flash-attn) (3.1.3)\n",
            "Requirement already satisfied: fsspec in /usr/local/lib/python3.10/dist-packages (from torch->flash-attn) (2023.6.0)\n",
            "Requirement already satisfied: triton==2.1.0 in /usr/local/lib/python3.10/dist-packages (from torch->flash-attn) (2.1.0)\n",
            "Requirement already satisfied: MarkupSafe>=2.0 in /usr/local/lib/python3.10/dist-packages (from jinja2->torch->flash-attn) (2.1.5)\n",
            "Requirement already satisfied: mpmath>=0.19 in /usr/local/lib/python3.10/dist-packages (from sympy->torch->flash-attn) (1.3.0)\n",
            "Building wheels for collected packages: flash-attn\n",
            "  Building wheel for flash-attn (setup.py) ... \u001b[?25l\u001b[?25hdone\n",
            "  Created wheel for flash-attn: filename=flash_attn-2.5.5-cp310-cp310-linux_x86_64.whl size=120352304 sha256=e70f2f0d4fae98c9ff9742404f3e067bbae56bd3212578ff81c30f73c5ae1a15\n",
            "  Stored in directory: /root/.cache/pip/wheels/b2/67/52/8b6d5fcffdd9e1ec868f554cdef8f03eedb4bf4dcac852fca2\n",
            "Successfully built flash-attn\n",
            "Installing collected packages: einops, flash-attn\n",
            "Successfully installed einops-0.7.0 flash-attn-2.5.5\n"
          ]
        }
      ]
    },
    {
      "cell_type": "code",
      "source": [
        "# 4-bit and 8-bit quantization - didn't make to work\n",
        "#!pip install -i https://pypi.org/simple/ bitsandbytes"
      ],
      "metadata": {
        "colab": {
          "base_uri": "https://localhost:8080/"
        },
        "id": "z_MBW9KauB_m",
        "outputId": "c1b17730-acb5-44e5-d21d-706319f093a3"
      },
      "execution_count": null,
      "outputs": [
        {
          "output_type": "stream",
          "name": "stdout",
          "text": [
            "Looking in indexes: https://pypi.org/simple/\n",
            "Collecting bitsandbytes\n",
            "  Downloading bitsandbytes-0.43.0-py3-none-manylinux_2_24_x86_64.whl (102.2 MB)\n",
            "\u001b[2K     \u001b[90m━━━━━━━━━━━━━━━━━━━━━━━━━━━━━━━━━━━━━━━━\u001b[0m \u001b[32m102.2/102.2 MB\u001b[0m \u001b[31m7.6 MB/s\u001b[0m eta \u001b[36m0:00:00\u001b[0m\n",
            "\u001b[?25hRequirement already satisfied: torch in /usr/local/lib/python3.10/dist-packages (from bitsandbytes) (2.1.0+cu121)\n",
            "Requirement already satisfied: numpy in /usr/local/lib/python3.10/dist-packages (from bitsandbytes) (1.25.2)\n",
            "Requirement already satisfied: filelock in /usr/local/lib/python3.10/dist-packages (from torch->bitsandbytes) (3.13.1)\n",
            "Requirement already satisfied: typing-extensions in /usr/local/lib/python3.10/dist-packages (from torch->bitsandbytes) (4.10.0)\n",
            "Requirement already satisfied: sympy in /usr/local/lib/python3.10/dist-packages (from torch->bitsandbytes) (1.12)\n",
            "Requirement already satisfied: networkx in /usr/local/lib/python3.10/dist-packages (from torch->bitsandbytes) (3.2.1)\n",
            "Requirement already satisfied: jinja2 in /usr/local/lib/python3.10/dist-packages (from torch->bitsandbytes) (3.1.3)\n",
            "Requirement already satisfied: fsspec in /usr/local/lib/python3.10/dist-packages (from torch->bitsandbytes) (2023.6.0)\n",
            "Requirement already satisfied: triton==2.1.0 in /usr/local/lib/python3.10/dist-packages (from torch->bitsandbytes) (2.1.0)\n",
            "Requirement already satisfied: MarkupSafe>=2.0 in /usr/local/lib/python3.10/dist-packages (from jinja2->torch->bitsandbytes) (2.1.5)\n",
            "Requirement already satisfied: mpmath>=0.19 in /usr/local/lib/python3.10/dist-packages (from sympy->torch->bitsandbytes) (1.3.0)\n",
            "Installing collected packages: bitsandbytes\n",
            "Successfully installed bitsandbytes-0.43.0\n"
          ]
        }
      ]
    },
    {
      "cell_type": "code",
      "source": [
        "#!accelerate env"
      ],
      "metadata": {
        "colab": {
          "base_uri": "https://localhost:8080/"
        },
        "id": "1yvOq-DXuOva",
        "outputId": "20d02e28-7916-4038-e117-9ac75f027284"
      },
      "execution_count": null,
      "outputs": [
        {
          "output_type": "stream",
          "name": "stdout",
          "text": [
            "\n",
            "Copy-and-paste the text below in your GitHub issue\n",
            "\n",
            "- `Accelerate` version: 0.27.2\n",
            "- Platform: Linux-6.1.58+-x86_64-with-glibc2.35\n",
            "- Python version: 3.10.12\n",
            "- Numpy version: 1.25.2\n",
            "- PyTorch version (GPU?): 2.1.0+cu121 (True)\n",
            "- PyTorch XPU available: False\n",
            "- PyTorch NPU available: False\n",
            "- System RAM: 12.67 GB\n",
            "- GPU type: Tesla T4\n",
            "- `Accelerate` default config:\n",
            "\tNot found\n"
          ]
        }
      ]
    },
    {
      "cell_type": "code",
      "source": [
        "# !accelerate launch ...\n"
      ],
      "metadata": {
        "colab": {
          "base_uri": "https://localhost:8080/"
        },
        "id": "3pc8hqVpdU1G",
        "outputId": "c6f02463-ec9b-40f5-a500-48bd2364c4bf"
      },
      "execution_count": null,
      "outputs": [
        {
          "output_type": "stream",
          "name": "stdout",
          "text": [
            "usage: accelerate <command> [<args>] launch [-h] [--config_file CONFIG_FILE] [--quiet] [--cpu]\n",
            "                                            [--multi_gpu] [--tpu] [--ipex]\n",
            "                                            [--mixed_precision {no,fp16,bf16,fp8}]\n",
            "                                            [--num_processes NUM_PROCESSES]\n",
            "                                            [--num_machines NUM_MACHINES]\n",
            "                                            [--num_cpu_threads_per_process NUM_CPU_THREADS_PER_PROCESS]\n",
            "                                            [--dynamo_backend {no,eager,aot_eager,inductor,aot_ts_nvfuser,nvprims_nvfuser,cudagraphs,ofi,fx2trt,onnxrt,tensorrt,ipex,tvm}]\n",
            "                                            [--dynamo_mode {default,reduce-overhead,max-autotune}]\n",
            "                                            [--dynamo_use_fullgraph] [--dynamo_use_dynamic]\n",
            "                                            [--use_deepspeed] [--use_fsdp] [--use_megatron_lm]\n",
            "                                            [--use_xpu] [--gpu_ids GPU_IDS] [--same_network]\n",
            "                                            [--machine_rank MACHINE_RANK]\n",
            "                                            [--main_process_ip MAIN_PROCESS_IP]\n",
            "                                            [--main_process_port MAIN_PROCESS_PORT] [-t TEE]\n",
            "                                            [--role ROLE] [--rdzv_backend RDZV_BACKEND]\n",
            "                                            [--rdzv_conf RDZV_CONF] [--max_restarts MAX_RESTARTS]\n",
            "                                            [--monitor_interval MONITOR_INTERVAL] [-m]\n",
            "                                            [--no_python] [--tpu_cluster] [--no_tpu_cluster]\n",
            "                                            [--tpu_use_sudo] [--vm VM] [--env ENV]\n",
            "                                            [--main_training_function MAIN_TRAINING_FUNCTION]\n",
            "                                            [--downcast_bf16]\n",
            "                                            [--deepspeed_config_file DEEPSPEED_CONFIG_FILE]\n",
            "                                            [--zero_stage ZERO_STAGE]\n",
            "                                            [--offload_optimizer_device OFFLOAD_OPTIMIZER_DEVICE]\n",
            "                                            [--offload_param_device OFFLOAD_PARAM_DEVICE]\n",
            "                                            [--offload_optimizer_nvme_path OFFLOAD_OPTIMIZER_NVME_PATH]\n",
            "                                            [--offload_param_nvme_path OFFLOAD_PARAM_NVME_PATH]\n",
            "                                            [--gradient_accumulation_steps GRADIENT_ACCUMULATION_STEPS]\n",
            "                                            [--gradient_clipping GRADIENT_CLIPPING]\n",
            "                                            [--zero3_init_flag ZERO3_INIT_FLAG]\n",
            "                                            [--zero3_save_16bit_model ZERO3_SAVE_16BIT_MODEL]\n",
            "                                            [--deepspeed_hostfile DEEPSPEED_HOSTFILE]\n",
            "                                            [--deepspeed_exclusion_filter DEEPSPEED_EXCLUSION_FILTER]\n",
            "                                            [--deepspeed_inclusion_filter DEEPSPEED_INCLUSION_FILTER]\n",
            "                                            [--deepspeed_multinode_launcher DEEPSPEED_MULTINODE_LAUNCHER]\n",
            "                                            [--fsdp_offload_params FSDP_OFFLOAD_PARAMS]\n",
            "                                            [--fsdp_min_num_params FSDP_MIN_NUM_PARAMS]\n",
            "                                            [--fsdp_sharding_strategy FSDP_SHARDING_STRATEGY]\n",
            "                                            [--fsdp_auto_wrap_policy FSDP_AUTO_WRAP_POLICY]\n",
            "                                            [--fsdp_transformer_layer_cls_to_wrap FSDP_TRANSFORMER_LAYER_CLS_TO_WRAP]\n",
            "                                            [--fsdp_backward_prefetch_policy FSDP_BACKWARD_PREFETCH_POLICY]\n",
            "                                            [--fsdp_backward_prefetch FSDP_BACKWARD_PREFETCH]\n",
            "                                            [--fsdp_state_dict_type FSDP_STATE_DICT_TYPE]\n",
            "                                            [--fsdp_forward_prefetch FSDP_FORWARD_PREFETCH]\n",
            "                                            [--fsdp_use_orig_params FSDP_USE_ORIG_PARAMS]\n",
            "                                            [--fsdp_cpu_ram_efficient_loading FSDP_CPU_RAM_EFFICIENT_LOADING]\n",
            "                                            [--fsdp_sync_module_states FSDP_SYNC_MODULE_STATES]\n",
            "                                            [--megatron_lm_tp_degree MEGATRON_LM_TP_DEGREE]\n",
            "                                            [--megatron_lm_pp_degree MEGATRON_LM_PP_DEGREE]\n",
            "                                            [--megatron_lm_num_micro_batches MEGATRON_LM_NUM_MICRO_BATCHES]\n",
            "                                            [--megatron_lm_sequence_parallelism MEGATRON_LM_SEQUENCE_PARALLELISM]\n",
            "                                            [--megatron_lm_recompute_activations MEGATRON_LM_RECOMPUTE_ACTIVATIONS]\n",
            "                                            [--megatron_lm_use_distributed_optimizer MEGATRON_LM_USE_DISTRIBUTED_OPTIMIZER]\n",
            "                                            [--megatron_lm_gradient_clipping MEGATRON_LM_GRADIENT_CLIPPING]\n",
            "                                            [--aws_access_key_id AWS_ACCESS_KEY_ID]\n",
            "                                            [--aws_secret_access_key AWS_SECRET_ACCESS_KEY]\n",
            "                                            [--debug]\n",
            "                                            training_script ...\n",
            "accelerate <command> [<args>] launch: error: the following arguments are required: training_script, training_script_args\n"
          ]
        }
      ]
    },
    {
      "cell_type": "code",
      "source": [
        "# however it doesn't work\n",
        "#from transformers import BitsAndBytesConfig\n",
        "#quantization_config = BitsAndBytesConfig(load_in_8bit = True, llm_int8_threshold=10.0)"
      ],
      "metadata": {
        "id": "85fg4Hk3uju9"
      },
      "execution_count": null,
      "outputs": []
    },
    {
      "cell_type": "code",
      "source": [
        "# Load the model\n",
        "# pretrained_model_name_or_path=\"INSAIT-Institute/BgGPT-7B-Instruct-v0.1\",\n",
        "#path = \"codellama/CodeLlama-7b-Instruct-hf\" #TabbyML/CodeLlama-7B\"\n",
        "path = \"INSAIT-Institute/BgGPT-7B-Instruct-v0.2\"\n",
        "# path = \"mistralai/Mistral-7B-Instruct-v0.2\"\n",
        "from transformers import AutoModelForCausalLM, AutoTokenizer\n",
        "import torch\n",
        "model = AutoModelForCausalLM.from_pretrained(\n",
        "    pretrained_model_name_or_path=path, #INSAIT-Institute/BgGPT-7B-Instruct-v0.2\",\n",
        "    torch_dtype=torch.bfloat16,\n",
        "    low_cpu_mem_usage=True,\n",
        "    #device_map=\"auto\", #+\n",
        "    #load_in_8bit=True #deprecated\n",
        "    #quantization_config = quantization_config\n",
        "    #use_flash_attention_2 = True  #Only for Geforce 3000+ etc.\n",
        ")\n",
        "#fails to use quantization_config, load_in_8bit - deprecated\n",
        "#use_flash_attn_2=True,\n",
        "#If using GPU, uncomment low_cpu_mem\n",
        "#If using CPU: comment it (but probably out of memory... it couldn't fit the model)\n",
        "#device_map=\"auto\",\n",
        "#low_cpu_mem_usage=True, # or crashes\n",
        "#use_flash_attn_2=True,\n",
        "# mistralai/Mistral-7B-Instruct-v0.1\n"
      ],
      "metadata": {
        "colab": {
          "base_uri": "https://localhost:8080/",
          "height": 297,
          "referenced_widgets": [
            "5308f833be2c4f8ebd9ee914764d36cc",
            "26c49b48acd048489503e1e984fc24d7",
            "1181961fc53d44e88b9637b69bf0b73c",
            "4eae8d5cb5f54288899073fb0f320ed7",
            "4acafc3019a94ae6bc47c24f8e68552f",
            "bb2bf8e598964272aee2cb824e270215",
            "45819c0b04c2477681f07601d7578eda",
            "5bfafb4295fb4e18995c7cf62073c99c",
            "68140334ab3c4ca184ed36fb3a109de1",
            "63053076d3074b69ad89dc0ebefec160",
            "96a10c7b846a42fd82d0a07c18e3c7a4",
            "ca56b400ca6a4666aee36b1161bb85b6",
            "da335eb9170f45d088a016bedb8b6649",
            "b9d6c59da64d48768045303f3f3a4943",
            "012662a98ed241ff95418c9fee64a927",
            "2b427aee66964f28981bc954e89c6368",
            "1c1e48c7f98642b0b14b6b777694a522",
            "b3ba32230f6247b2be761adf8e08435e",
            "847af3b6d04b40dd96e1cd0b8f32e80c",
            "c2c21e0c90eb4d529b0be6a33ef91bf1",
            "1c4da1fd264740588319558825285cb1",
            "1e190c34bd464c3a98dd7bcb82621406",
            "647fca503cf5424c961c3c0893d44d7b",
            "3b185c92215c4d7682739b667e14d37b",
            "bda3e436ec474b968289d955c67d36b6",
            "e02ba9a6bdd348809760b096de857049",
            "b15c33c8abc74487b6d0afc5386a8f1a",
            "15faa3d986e243a48fbc719ea919c9ad",
            "43408553c1aa441ab5fc6fe2a330ecb3",
            "d4f6351880f64d9082a7910e8fa09688",
            "1ece3fbb879d432ab2d247c694ac4363",
            "64bf098b95ad4b96aae10bd8804cc7b0",
            "65d1f7f93b4d4a279a3322dff4c46baf",
            "fcb9bb763abb47bdb6cbb8ea2a845b9d",
            "f7ea300d645c408f858a5c73004390ba",
            "4e26ab4e2b4b4b2382baf267b6bc9fd9",
            "191fee1e170445c0b4845e25d682df2a",
            "91e85b6ac8bd4de5b09acefda4cfb998",
            "2409595fe75c44ce87869f804c32b646",
            "48a694176af8489a8d2e61da9fb24826",
            "fc27fe4a52ee44ae844a6eea903d8269",
            "ac5fd42fb869498e8b4f2ef3493b97ef",
            "db5a682a1821417581c3e61d5d52a31e",
            "277ddc257c4d4f7aa5b52b1b5b849e75",
            "bae6e5f6b84a40b29bbfcc9d020956ec",
            "6fa43744124f41238d12d0e10488cf8a",
            "12f29a71eca640e082e6cdc2a03396ac",
            "253ca555761a41db97388063c5edde68",
            "5656bc0929724c4faeb3d53ab54d9db6",
            "1f59ac5f9da145ea98a7ab2b20783e44",
            "f9e66cc5f5b84d4796b418ee30ebad3d",
            "fcabfefe6e304490ac283c5cacc129f1",
            "d9e95c76f0b04b2a8eef348a6730a3b3",
            "2bc455c7085d493b8deefd7d9767d64a",
            "799005354e9f4169a0cddd6a317716ff",
            "9774759e6a63484485c50a62dc21ee99",
            "63db6b6876c4427bba881b4e9e1a45dc",
            "853225ecc05d4b0e989f104860665732",
            "e65d8448fd4941eb95f4124526d34e94",
            "1f3d79e00de64541a05015cdad09c945",
            "0445e15ea03342778e520f7d822d503e",
            "4a00cd3cec5d448a9b325a72f834bf86",
            "a055c6bb8a5041a7830599fe06fd25ab",
            "c3932ac6449643b79a99977390865bea",
            "82a75da0d92545bea8ffd3114e005464",
            "cb0945412bdb44259530d323ffecabf5",
            "531b2f0837614ffe9f75a3c839fd2f30",
            "79736976fa6d4782bdb929600538b22b",
            "76fd71b145aa426db417b7707fffb0df",
            "47fb8852e6c94f03b3672601376ad30b",
            "6623c970873e4b938c5fc4d30e90744b",
            "f2a5c27f43414705a59f0e39da78f9e6",
            "bea06bfe4f8b4615818d18a257e8e413",
            "32d5730f53da4a148db4597989ee440b",
            "ac830e0acd9e46a9b6df1b7a2b2c1f3c",
            "3c37827451bd4b5ab387111b7bb9ec76",
            "aeee2cbccf0947fc8605a6d728859378"
          ]
        },
        "id": "zjz9UBdoalFp",
        "outputId": "425b3290-5c83-4e83-efda-49cc72ecb38a"
      },
      "execution_count": 3,
      "outputs": [
        {
          "output_type": "display_data",
          "data": {
            "text/plain": [
              "config.json:   0%|          | 0.00/594 [00:00<?, ?B/s]"
            ],
            "application/vnd.jupyter.widget-view+json": {
              "version_major": 2,
              "version_minor": 0,
              "model_id": "5308f833be2c4f8ebd9ee914764d36cc"
            }
          },
          "metadata": {}
        },
        {
          "output_type": "display_data",
          "data": {
            "text/plain": [
              "model.safetensors.index.json:   0%|          | 0.00/24.8k [00:00<?, ?B/s]"
            ],
            "application/vnd.jupyter.widget-view+json": {
              "version_major": 2,
              "version_minor": 0,
              "model_id": "ca56b400ca6a4666aee36b1161bb85b6"
            }
          },
          "metadata": {}
        },
        {
          "output_type": "display_data",
          "data": {
            "text/plain": [
              "Downloading shards:   0%|          | 0/2 [00:00<?, ?it/s]"
            ],
            "application/vnd.jupyter.widget-view+json": {
              "version_major": 2,
              "version_minor": 0,
              "model_id": "647fca503cf5424c961c3c0893d44d7b"
            }
          },
          "metadata": {}
        },
        {
          "output_type": "display_data",
          "data": {
            "text/plain": [
              "model-00001-of-00002.safetensors:   0%|          | 0.00/9.99G [00:00<?, ?B/s]"
            ],
            "application/vnd.jupyter.widget-view+json": {
              "version_major": 2,
              "version_minor": 0,
              "model_id": "fcb9bb763abb47bdb6cbb8ea2a845b9d"
            }
          },
          "metadata": {}
        },
        {
          "output_type": "display_data",
          "data": {
            "text/plain": [
              "model-00002-of-00002.safetensors:   0%|          | 0.00/4.59G [00:00<?, ?B/s]"
            ],
            "application/vnd.jupyter.widget-view+json": {
              "version_major": 2,
              "version_minor": 0,
              "model_id": "bae6e5f6b84a40b29bbfcc9d020956ec"
            }
          },
          "metadata": {}
        },
        {
          "output_type": "display_data",
          "data": {
            "text/plain": [
              "Loading checkpoint shards:   0%|          | 0/2 [00:00<?, ?it/s]"
            ],
            "application/vnd.jupyter.widget-view+json": {
              "version_major": 2,
              "version_minor": 0,
              "model_id": "9774759e6a63484485c50a62dc21ee99"
            }
          },
          "metadata": {}
        },
        {
          "output_type": "display_data",
          "data": {
            "text/plain": [
              "generation_config.json:   0%|          | 0.00/111 [00:00<?, ?B/s]"
            ],
            "application/vnd.jupyter.widget-view+json": {
              "version_major": 2,
              "version_minor": 0,
              "model_id": "531b2f0837614ffe9f75a3c839fd2f30"
            }
          },
          "metadata": {}
        }
      ]
    },
    {
      "cell_type": "code",
      "source": [
        "!pip install -i https://pypi.org/simple/ bitsandbytes --upgrade"
      ],
      "metadata": {
        "colab": {
          "base_uri": "https://localhost:8080/",
          "height": 451
        },
        "id": "i8rZVYLTwJF_",
        "outputId": "9a172b84-95d0-4f31-a42f-c36ce2f9007b"
      },
      "execution_count": null,
      "outputs": [
        {
          "output_type": "display_data",
          "data": {
            "text/plain": [
              "<IPython.core.display.HTML object>"
            ],
            "text/html": [
              "\n",
              "  <style>\n",
              "    pre {\n",
              "        white-space: pre-wrap;\n",
              "    }\n",
              "  </style>\n",
              "  "
            ]
          },
          "metadata": {}
        },
        {
          "output_type": "stream",
          "name": "stdout",
          "text": [
            "Looking in indexes: https://pypi.org/simple/\n",
            "Requirement already satisfied: bitsandbytes in /usr/local/lib/python3.10/dist-packages (0.43.0)\n",
            "Requirement already satisfied: torch in /usr/local/lib/python3.10/dist-packages (from bitsandbytes) (2.1.0+cu121)\n",
            "Requirement already satisfied: numpy in /usr/local/lib/python3.10/dist-packages (from bitsandbytes) (1.25.2)\n",
            "Requirement already satisfied: filelock in /usr/local/lib/python3.10/dist-packages (from torch->bitsandbytes) (3.13.1)\n",
            "Requirement already satisfied: typing-extensions in /usr/local/lib/python3.10/dist-packages (from torch->bitsandbytes) (4.10.0)\n",
            "Requirement already satisfied: sympy in /usr/local/lib/python3.10/dist-packages (from torch->bitsandbytes) (1.12)\n",
            "Requirement already satisfied: networkx in /usr/local/lib/python3.10/dist-packages (from torch->bitsandbytes) (3.2.1)\n",
            "Requirement already satisfied: jinja2 in /usr/local/lib/python3.10/dist-packages (from torch->bitsandbytes) (3.1.3)\n",
            "Requirement already satisfied: fsspec in /usr/local/lib/python3.10/dist-packages (from torch->bitsandbytes) (2023.6.0)\n",
            "Requirement already satisfied: triton==2.1.0 in /usr/local/lib/python3.10/dist-packages (from torch->bitsandbytes) (2.1.0)\n",
            "Requirement already satisfied: MarkupSafe>=2.0 in /usr/local/lib/python3.10/dist-packages (from jinja2->torch->bitsandbytes) (2.1.5)\n",
            "Requirement already satisfied: mpmath>=0.19 in /usr/local/lib/python3.10/dist-packages (from sympy->torch->bitsandbytes) (1.3.0)\n"
          ]
        }
      ]
    },
    {
      "cell_type": "code",
      "source": [
        "#pip install accelerate\n",
        "!pip install -i https://pypi.org/simple/ bitsandbytes"
      ],
      "metadata": {
        "colab": {
          "base_uri": "https://localhost:8080/",
          "height": 451
        },
        "id": "KBgvzk-rvtoW",
        "outputId": "e7ecdd72-76b8-4965-e8e5-a9fde8148657"
      },
      "execution_count": null,
      "outputs": [
        {
          "output_type": "display_data",
          "data": {
            "text/plain": [
              "<IPython.core.display.HTML object>"
            ],
            "text/html": [
              "\n",
              "  <style>\n",
              "    pre {\n",
              "        white-space: pre-wrap;\n",
              "    }\n",
              "  </style>\n",
              "  "
            ]
          },
          "metadata": {}
        },
        {
          "output_type": "stream",
          "name": "stdout",
          "text": [
            "Looking in indexes: https://pypi.org/simple/\n",
            "Requirement already satisfied: bitsandbytes in /usr/local/lib/python3.10/dist-packages (0.43.0)\n",
            "Requirement already satisfied: torch in /usr/local/lib/python3.10/dist-packages (from bitsandbytes) (2.1.0+cu121)\n",
            "Requirement already satisfied: numpy in /usr/local/lib/python3.10/dist-packages (from bitsandbytes) (1.25.2)\n",
            "Requirement already satisfied: filelock in /usr/local/lib/python3.10/dist-packages (from torch->bitsandbytes) (3.13.1)\n",
            "Requirement already satisfied: typing-extensions in /usr/local/lib/python3.10/dist-packages (from torch->bitsandbytes) (4.10.0)\n",
            "Requirement already satisfied: sympy in /usr/local/lib/python3.10/dist-packages (from torch->bitsandbytes) (1.12)\n",
            "Requirement already satisfied: networkx in /usr/local/lib/python3.10/dist-packages (from torch->bitsandbytes) (3.2.1)\n",
            "Requirement already satisfied: jinja2 in /usr/local/lib/python3.10/dist-packages (from torch->bitsandbytes) (3.1.3)\n",
            "Requirement already satisfied: fsspec in /usr/local/lib/python3.10/dist-packages (from torch->bitsandbytes) (2023.6.0)\n",
            "Requirement already satisfied: triton==2.1.0 in /usr/local/lib/python3.10/dist-packages (from torch->bitsandbytes) (2.1.0)\n",
            "Requirement already satisfied: MarkupSafe>=2.0 in /usr/local/lib/python3.10/dist-packages (from jinja2->torch->bitsandbytes) (2.1.5)\n",
            "Requirement already satisfied: mpmath>=0.19 in /usr/local/lib/python3.10/dist-packages (from sympy->torch->bitsandbytes) (1.3.0)\n"
          ]
        }
      ]
    },
    {
      "cell_type": "code",
      "source": [
        "!find / | grep bggpt"
      ],
      "metadata": {
        "colab": {
          "base_uri": "https://localhost:8080/"
        },
        "id": "Npu8I1xNKWD9",
        "outputId": "80bf82e5-404c-419f-c24b-f230b3d69ac5"
      },
      "execution_count": null,
      "outputs": [
        {
          "output_type": "stream",
          "name": "stdout",
          "text": [
            "find: ‘/proc/62/task/62/net’: Invalid argument\n",
            "find: ‘/proc/62/net’: Invalid argument\n"
          ]
        }
      ]
    },
    {
      "cell_type": "code",
      "source": [
        "# List of Available Models\n",
        "# Списък с достъпни модели\n",
        "# help(AutoModelForCausalLM.from_pretrained)"
      ],
      "metadata": {
        "id": "zRtq8eV1_OHc",
        "colab": {
          "base_uri": "https://localhost:8080/",
          "height": 183
        },
        "outputId": "e404dda8-207d-44f9-da7b-7352b5aaa61e"
      },
      "execution_count": null,
      "outputs": [
        {
          "output_type": "error",
          "ename": "NameError",
          "evalue": "name 'AutoModelForCausalLM' is not defined",
          "traceback": [
            "\u001b[0;31m---------------------------------------------------------------------------\u001b[0m",
            "\u001b[0;31mNameError\u001b[0m                                 Traceback (most recent call last)",
            "\u001b[0;32m<ipython-input-1-7dc02a2f820e>\u001b[0m in \u001b[0;36m<cell line: 3>\u001b[0;34m()\u001b[0m\n\u001b[1;32m      1\u001b[0m \u001b[0;31m# List of Available Models\u001b[0m\u001b[0;34m\u001b[0m\u001b[0;34m\u001b[0m\u001b[0m\n\u001b[1;32m      2\u001b[0m \u001b[0;31m# Списък с достъпни модели\u001b[0m\u001b[0;34m\u001b[0m\u001b[0;34m\u001b[0m\u001b[0m\n\u001b[0;32m----> 3\u001b[0;31m \u001b[0mhelp\u001b[0m\u001b[0;34m(\u001b[0m\u001b[0mAutoModelForCausalLM\u001b[0m\u001b[0;34m.\u001b[0m\u001b[0mfrom_pretrained\u001b[0m\u001b[0;34m)\u001b[0m\u001b[0;34m\u001b[0m\u001b[0;34m\u001b[0m\u001b[0m\n\u001b[0m",
            "\u001b[0;31mNameError\u001b[0m: name 'AutoModelForCausalLM' is not defined"
          ]
        }
      ]
    },
    {
      "cell_type": "markdown",
      "source": [],
      "metadata": {
        "id": "_8IfSlcGV2tp"
      }
    },
    {
      "cell_type": "code",
      "source": [
        "\"\"\"\n",
        "EXPERIMENTS\n",
        "===========\n",
        "It doesn't load these mistrals, check formats etc.\n",
        "see also, try:\n",
        "INSAIT-Institute/BgGPT-7B-Instruct-v0.1\n",
        "https://huggingface.co/mistralai/Mistral-7B-Instruct-v0.1\"\n",
        "\n",
        "#TheBloke/Mistral-7B-Instruct-v0.1-GGUF\n",
        "#TheBloke/mistral-7b-instruct-v0.1.Q6_K.gguf\n",
        "#TheBloke/mistral-7b-instruct-v0.1.Q8_0.gguf\n",
        "\n",
        "#TheBloke...: 7.63, 8.44, 10.20 G\n",
        "\"\"\"\n",
        "## LOAD ANOTHER MODEL | ЗАРЕДИ ДРУГ МОДЕЛ\n",
        "\"\"\"\n",
        "ms =[\"INSAIT-Institute/BgGPT-7B-Instruct-v0.1\", \"mistralai/Mistral-7B-Instruct-v0.1\"] #\"TheBloke/Mistral-7B-Instruct-v0.1-GGUF/mistral-7b-instruct-v0.1.Q6_K.gguf\" #TheBloke/Mistral-7B-Instruct-v0.1-GGUF\"\n",
        "n = 0\n",
        "m = ms[n]\n",
        "\n",
        "model = AutoModelForCausalLM.from_pretrained(\n",
        "    pretrained_model_name_or_path=m,\n",
        "    torch_dtype=torch.bfloat16,\n",
        "    low_cpu_mem_usage=True\n",
        ")\n",
        "\n",
        "#tokenizer = AutoTokenizer.from_pretrained(\"INSAIT-Institute/BgGPT-7B-Instruct-v0.1\")\n",
        "tokenizer = AutoTokenizer.from_pretrained(m)\n",
        "device = \"cuda\"\n",
        "\"\"\""
      ],
      "metadata": {
        "colab": {
          "base_uri": "https://localhost:8080/",
          "height": 211
        },
        "id": "8qRWFP3rllY-",
        "outputId": "9f91281f-474d-4060-cb2d-e3c687ad440a"
      },
      "execution_count": null,
      "outputs": [
        {
          "output_type": "error",
          "ename": "NameError",
          "evalue": "name 'AutoModelForCausalLM' is not defined",
          "traceback": [
            "\u001b[0;31m---------------------------------------------------------------------------\u001b[0m",
            "\u001b[0;31mNameError\u001b[0m                                 Traceback (most recent call last)",
            "\u001b[0;32m<ipython-input-3-1c7b6a1e6047>\u001b[0m in \u001b[0;36m<cell line: 23>\u001b[0;34m()\u001b[0m\n\u001b[1;32m     21\u001b[0m \u001b[0mm\u001b[0m \u001b[0;34m=\u001b[0m \u001b[0mms\u001b[0m\u001b[0;34m[\u001b[0m\u001b[0mn\u001b[0m\u001b[0;34m]\u001b[0m\u001b[0;34m\u001b[0m\u001b[0;34m\u001b[0m\u001b[0m\n\u001b[1;32m     22\u001b[0m \u001b[0;34m\u001b[0m\u001b[0m\n\u001b[0;32m---> 23\u001b[0;31m model = AutoModelForCausalLM.from_pretrained(\n\u001b[0m\u001b[1;32m     24\u001b[0m     \u001b[0mpretrained_model_name_or_path\u001b[0m\u001b[0;34m=\u001b[0m\u001b[0mm\u001b[0m\u001b[0;34m,\u001b[0m\u001b[0;34m\u001b[0m\u001b[0;34m\u001b[0m\u001b[0m\n\u001b[1;32m     25\u001b[0m     \u001b[0mtorch_dtype\u001b[0m\u001b[0;34m=\u001b[0m\u001b[0mtorch\u001b[0m\u001b[0;34m.\u001b[0m\u001b[0mbfloat16\u001b[0m\u001b[0;34m,\u001b[0m\u001b[0;34m\u001b[0m\u001b[0;34m\u001b[0m\u001b[0m\n",
            "\u001b[0;31mNameError\u001b[0m: name 'AutoModelForCausalLM' is not defined"
          ]
        }
      ]
    },
    {
      "cell_type": "markdown",
      "source": [
        "# Първо пораждане"
      ],
      "metadata": {
        "id": "d__abiUw-Axk"
      }
    },
    {
      "cell_type": "code",
      "source": [
        "import locale\n",
        "locale.getpreferredencoding = lambda: \"UTF-8\"\n",
        "!nvidia-smi"
      ],
      "metadata": {
        "colab": {
          "base_uri": "https://localhost:8080/"
        },
        "id": "JdJPzJHVV-RP",
        "outputId": "f346f21a-1fc4-4328-cfda-42b798b477c2"
      },
      "execution_count": 4,
      "outputs": [
        {
          "output_type": "stream",
          "name": "stdout",
          "text": [
            "Tue Mar 19 01:28:47 2024       \n",
            "+---------------------------------------------------------------------------------------+\n",
            "| NVIDIA-SMI 535.104.05             Driver Version: 535.104.05   CUDA Version: 12.2     |\n",
            "|-----------------------------------------+----------------------+----------------------+\n",
            "| GPU  Name                 Persistence-M | Bus-Id        Disp.A | Volatile Uncorr. ECC |\n",
            "| Fan  Temp   Perf          Pwr:Usage/Cap |         Memory-Usage | GPU-Util  Compute M. |\n",
            "|                                         |                      |               MIG M. |\n",
            "|=========================================+======================+======================|\n",
            "|   0  Tesla T4                       Off | 00000000:00:04.0 Off |                    0 |\n",
            "| N/A   33C    P8               9W /  70W |      0MiB / 15360MiB |      0%      Default |\n",
            "|                                         |                      |                  N/A |\n",
            "+-----------------------------------------+----------------------+----------------------+\n",
            "                                                                                         \n",
            "+---------------------------------------------------------------------------------------+\n",
            "| Processes:                                                                            |\n",
            "|  GPU   GI   CI        PID   Type   Process name                            GPU Memory |\n",
            "|        ID   ID                                                             Usage      |\n",
            "|=======================================================================================|\n",
            "|  No running processes found                                                           |\n",
            "+---------------------------------------------------------------------------------------+\n"
          ]
        }
      ]
    },
    {
      "cell_type": "markdown",
      "source": [
        "#### Word Wrap: за да не скролваме при пораждане"
      ],
      "metadata": {
        "id": "gYtCjKEhrSEa"
      }
    },
    {
      "cell_type": "code",
      "source": [
        "# Word Wrap for long lines #1.3.2024\n",
        "from IPython.display import HTML, display\n",
        "\n",
        "def set_css():\n",
        "  display(HTML('''\n",
        "  <style>\n",
        "    pre {\n",
        "        white-space: pre-wrap;\n",
        "    }\n",
        "  </style>\n",
        "  '''))\n",
        "get_ipython().events.register('pre_run_cell', set_css)"
      ],
      "metadata": {
        "id": "0o4kmQERfZwu"
      },
      "execution_count": 5,
      "outputs": []
    },
    {
      "cell_type": "markdown",
      "source": [
        "## Подготовка на лога за история на запитванията"
      ],
      "metadata": {
        "id": "czoVaeOj-8vM"
      }
    },
    {
      "cell_type": "code",
      "source": [
        "# Помощен код за сърхраняване на историята във файл\n",
        "# Utility code for saving to a log file\n",
        "import os\n",
        "import random\n",
        "from datetime import datetime\n",
        "\n",
        "title = \"kotkata\"\n",
        "def get_time_string():\n",
        "  return datetime.now().strftime(\"%d-%m-%Y_%H-%M-%S\")\n",
        "\n",
        "#fname = \"llm_log.txt\" # in the current directory; first version\n",
        "fname = \"llm_log_\" + title + \"_\" + get_time_string() + \".txt\" #unique file\n",
        "\n",
        "f = open(fname, \"at\", encoding=\"utf-8\") # if the file exists, it will be appended at (instead of wt)\n",
        "\n",
        "#Then use f.write ...\n",
        "prompt_arr = []\n",
        "answer_arr = []\n",
        "prompt_and_answer = []\n",
        "max_new_tokens = 250\n",
        "\n",
        "def create_log_file(id):\n",
        "  fname = \"llm_log_\" + id + \"_\" + get_time_string() + \".txt\" #unique file\n",
        "  f = open(fname, \"at\", encoding=\"utf-8\") # if the file exists, it will be appended at (instead of wt)\n"
      ],
      "metadata": {
        "id": "80BSoWMUlgTf",
        "colab": {
          "base_uri": "https://localhost:8080/",
          "height": 17
        },
        "outputId": "b1e455c4-4c11-4ea6-d203-863ea7bb5a6e"
      },
      "execution_count": 13,
      "outputs": [
        {
          "output_type": "display_data",
          "data": {
            "text/plain": [
              "<IPython.core.display.HTML object>"
            ],
            "text/html": [
              "\n",
              "  <style>\n",
              "    pre {\n",
              "        white-space: pre-wrap;\n",
              "    }\n",
              "  </style>\n",
              "  "
            ]
          },
          "metadata": {}
        }
      ]
    },
    {
      "cell_type": "code",
      "source": [
        "prompts = \"Кой е Апостолът на Свободата?,Кой е Месията на Свободата?\"\n",
        "words = \"зелен,слънце,червен,куче,бяга,сметач,кола,мотор\"\n",
        "locations = \"България,света,Вселената\"\n",
        "conj = \"на,от,пред,до,из,с,със,без\"\n",
        "\n",
        "print(type(prompts))\n",
        "print(prompts)\n",
        "def to_arr(s, d=','):\n",
        "   print(s)\n",
        "   print(type(s))\n",
        "   return s.split(d) #\",\")\n",
        "\n",
        "#prompts = prompts.split(\",\")\n",
        "#words = words.split(\",\")\n",
        "\n",
        "prompts = to_arr(prompts)\n",
        "words = to_arr(words)\n",
        "conj = to_arr(conj)\n",
        "#print(prompts)\n",
        "#print(words)\n",
        "#words = to_arr(words)\n",
        "#print(prompts, words, conj)"
      ],
      "metadata": {
        "colab": {
          "base_uri": "https://localhost:8080/",
          "height": 156
        },
        "id": "IKG3ypuCrmm1",
        "outputId": "b51db64c-6c33-4474-9b87-395dec341f06"
      },
      "execution_count": null,
      "outputs": [
        {
          "output_type": "display_data",
          "data": {
            "text/plain": [
              "<IPython.core.display.HTML object>"
            ],
            "text/html": [
              "\n",
              "  <style>\n",
              "    pre {\n",
              "        white-space: pre-wrap;\n",
              "    }\n",
              "  </style>\n",
              "  "
            ]
          },
          "metadata": {}
        },
        {
          "output_type": "stream",
          "name": "stdout",
          "text": [
            "<class 'str'>\n",
            "Кой е Апостолът на Свободата?,Кой е Месията на Свободата?\n",
            "Кой е Апостолът на Свободата?,Кой е Месията на Свободата?\n",
            "<class 'str'>\n",
            "зелен,слънце,червен,куче,бяга,сметач,кола,мотор\n",
            "<class 'str'>\n",
            "на,от,пред,до,из,с,със,без\n",
            "<class 'str'>\n"
          ]
        }
      ]
    },
    {
      "cell_type": "code",
      "source": [
        "# First generation, upload the model to the GPU, streamer (1.3.2024)\n",
        "\n",
        "#model = AutoModelForCausalLM.from_pretrained(\"INSAIT-Institute/BgGPT-7B-Instruct-v0.1\") #mistralai/Mistral-7B-v0.1\")\n",
        "# Load the tokenizer\n",
        "from transformers import TextStreamer\n",
        "#tokenizer = AutoTokenizer.from_pretrained(\"INSAIT-Institute/BgGPT-7B-Instruct-v0.1\")\n",
        "#tokenizer = AutoTokenizer.from_pretrained(\"INSAIT-Institute/BgGPT-7B-Instruct-v0.2\")\n",
        "tokenizer = AutoTokenizer.from_pretrained(path)\n",
        "device = \"cuda\"\n",
        "#prompt = \"Как се правят принджиничени шляпунцели?\"\n",
        "#prompt = \"Откъде мога да си купя шляпунцели със зеленчуци и шоколад? Обичам да ги мажа с приндиджлячки, но оборвляквам шакалакщряк? Нали? Обясни ми\"\n",
        "#prompt = \"Резюмирай в 30 думи: Изброй седемте най-нископлатени тежкоатлети от България. Колко от тях са жени? Кои бягат най-бързо?\"\n",
        "#Резюмирай в 30 думи:\n",
        "prompt = \"Изброй петте най-високоплатени математици, програмисти, информатици и шофьори от България. Колко от тях са жени? Кои смятат най-бързо?\"\n",
        "\n",
        "#prompt = \"Изброй седемте най-високоплатени атлети от България. Колко от тях са жени? Кои бягат най-бързо?\"\n",
        "prompt = \"Изброй непопулярни, оранжеви, щръклести и математически гении, и неуспешни български музиканти\\ в произволен стил: класическа, поп, народна, рок.\"\n",
        "prompt = \"Translate to Bulgarian: \\\"registry 6105051 an official written record of names or events or transactions.\\\"\"\n",
        "#prompts = [\"Каква е сумата на числата от 1 до 100?\", \"Как се прави таратор?\", \"Кога и от кого е основан софийският университет?\", \"На какви изпити трябва да се явя за да кандидатствам журналистика в Софийския университет?\", \"От чуждите езици, може ли вместо изброените да кандидатствам с италиански?\", \"Какво мога да работя след като завърша журналистика?\", \"Кои са петимата най-известни български спортисти?\", \"Напиши есе за приложенията на изкуствения интелект.\"]\n",
        "##prompt = \"Кой е апостолът на Свободата на България? Деветнайсти век.\" #\"Code rendering of a 3D human figure in SDL2 in Python\"\n",
        "## **BgGPT в Colab - безплатно на Tesla T4 или TPU**\n",
        "#### Автор: Тодор Арнаудов - Тош от **СВЕЩЕНИЯТ СМЕТАЧ** - Институт за Мислещи машини, творчество и развитие на човека - основан през 2000 г. Търсят се съдружници, спомоществователи, другари. Виж проектът \"Вси\" по-долу.\n",
        "#ps = []\n",
        "#for p in prompt:\n",
        "# ps.append(\"[s][INST]\"+p+\"[/INST]\")\n",
        "#prompt = \"[s][INST]\"+prompt+\"[/INST]\" # better Question Answering\n",
        "#model_inputs = tokenizer([prompt], return_tensors=\"pt\").to(device)\n",
        "#model_inputs = tokenizer([ps], return_tensors=\"pt\").to(device)\n",
        "#prompt = \"Каква е сумата на числата от 1 до 10?\" #?\"\n",
        "#prompt = \"Translate to English: Запълни липсващото: Йордан Йовчев е ... халки. Then explain.\"\n",
        "#prompt = \"[s][INST]\"+prompt+\"[/INST]\" # better Question Answering\n",
        "prompt = \"<s>[INST]\"+prompt+\"[/INST]\" # better Question Answering\n",
        "model_inputs = tokenizer([prompt], return_tensors=\"pt\").to(device)\n",
        "model.to(device) #if not moved in initialization\n",
        "streamer = TextStreamer(tokenizer)\n",
        "generated_ids = model.generate(**model_inputs, streamer=streamer, max_new_tokens=200,do_sample=True, temperature=0.7, top_k=30, repetition_penalty=1.15, top_p=0.9)\n",
        "#generated_ids = model.generate(**model_inputs, streamer=streamer, max_new_tokens=200,do_sample=True, temperature=5.0, top_k=40, repetition_penalty=1.15, top_p=0.9)\n",
        "#generated_ids = model.generate(**model_inputs, streamer=streamer, max_new_tokens=250,do_sample=True, temperature=0.9, top_k=40, repetition_penalty=1.2, top_p=0.9)\n",
        "f.write(\"\\n\"+get_time_string()+\"\\n???\")\n",
        "f.write(prompt)\n",
        "f.write(tokenizer.batch_decode(generated_ids)[0])\n",
        "f.flush()\n",
        "tokenizer.batch_decode(generated_ids)[0]\n",
        "\n",
        "#generated_ids = model.generate(**model_inputs, streamer=streamer, max_new_tokens=80,do_sample=True, temperature=0.5, top_k=40, repetition_penalty=1.2, top_p=0.9)\n"
      ],
      "metadata": {
        "colab": {
          "base_uri": "https://localhost:8080/",
          "height": 267,
          "referenced_widgets": [
            "74581fc1e2a640f492cc343e72c77743",
            "32357049692f42c0806216c2da0bc7f7",
            "3eb2a6a66f284d47bf1cf569e1c136f5",
            "a00ee786db354a3c9804f7ae44d9e92a",
            "044e1f265c564d5da7d0211ad3679ee8",
            "431875802a094e51927ff9b43df5f6e2",
            "211d5fbf20f047339c7b581f2a985588",
            "aed44fd5a38f4bf88407ad6f70731d05",
            "1392ae7db913440d9a464f3aefba1dd4",
            "102e5ebefdbe4b24b383c21ebd5a4171",
            "367d3c9f358741ea9f31dfe9b321e6dd",
            "de1861710b6643ac857a61d937b46f9f",
            "cd984c52f4a94e6a93e547f861f428ab",
            "5541b770cf31493ea596f5c0bd8e6e9b",
            "cb87409dc00b4c9190a2f6ea9a0bba75",
            "8de7537fe6f64edd939297b216c6e32a",
            "7665f57bb04c461a8208a41a6fc2b709",
            "37ac5145c7264138af750e4d498f7166",
            "924610427d854d5faa6c2f4109cd438f",
            "e8b9174328614b3a835231586d360209",
            "94fc9fb440274a7d89461fb3358814d5",
            "3c9907c11a1e44dca409736d67bb8082",
            "1390539816164656b1e0f1751a3cf254",
            "ad28491bc269411a88b3c7e48c8f9924",
            "3c2bf24762b04ad6a1486e097865e117",
            "efb0e8c94ca243e794944ef069f06306",
            "454a9424dc9a4bbd89d61fbd8044976b",
            "b0161c7d24924176a9a57228e812477d",
            "d021873ef0d0406f8f6442b7b86db274",
            "62ba3c68fa514a4798896e258093743e",
            "b93d5ee795784a0a834ab568d0e5f8cc",
            "321485e747df42ecb784fbb4e48c22ba",
            "f8b6f4bfcf5a4da683eb6226361b30f1",
            "80c5b207f7a042d6b00520f918f0da0b",
            "a0e9098639e54dc69c54950728747773",
            "3b832732980b474283e030fdc41c57d8",
            "c34df799f5cd4363bac8b6e703e16875",
            "26f9d2d7e87348e183f33c5a747347d0",
            "18ef5be7e6554b5588f80ed90b02f45e",
            "66df69236c03432ca8abf1151779c94a",
            "f38ba900e5224420961d8eb517435f37",
            "1515023c74bd40218927e33b3a48b589",
            "b2cf4c149cf349b4b7ec05fb885a44f6",
            "b678c3092de5426b832829ad1881ad87"
          ]
        },
        "id": "xaelArdPfcam",
        "outputId": "79665a79-b68d-4df4-b925-1db909d0314d"
      },
      "execution_count": 7,
      "outputs": [
        {
          "output_type": "display_data",
          "data": {
            "text/plain": [
              "<IPython.core.display.HTML object>"
            ],
            "text/html": [
              "\n",
              "  <style>\n",
              "    pre {\n",
              "        white-space: pre-wrap;\n",
              "    }\n",
              "  </style>\n",
              "  "
            ]
          },
          "metadata": {}
        },
        {
          "output_type": "display_data",
          "data": {
            "text/plain": [
              "tokenizer_config.json:   0%|          | 0.00/1.44k [00:00<?, ?B/s]"
            ],
            "application/vnd.jupyter.widget-view+json": {
              "version_major": 2,
              "version_minor": 0,
              "model_id": "74581fc1e2a640f492cc343e72c77743"
            }
          },
          "metadata": {}
        },
        {
          "output_type": "display_data",
          "data": {
            "text/plain": [
              "tokenizer.model:   0%|          | 0.00/624k [00:00<?, ?B/s]"
            ],
            "application/vnd.jupyter.widget-view+json": {
              "version_major": 2,
              "version_minor": 0,
              "model_id": "32357049692f42c0806216c2da0bc7f7"
            }
          },
          "metadata": {}
        },
        {
          "output_type": "display_data",
          "data": {
            "text/plain": [
              "tokenizer.json:   0%|          | 0.00/2.21M [00:00<?, ?B/s]"
            ],
            "application/vnd.jupyter.widget-view+json": {
              "version_major": 2,
              "version_minor": 0,
              "model_id": "1390539816164656b1e0f1751a3cf254"
            }
          },
          "metadata": {}
        },
        {
          "output_type": "display_data",
          "data": {
            "text/plain": [
              "special_tokens_map.json:   0%|          | 0.00/552 [00:00<?, ?B/s]"
            ],
            "application/vnd.jupyter.widget-view+json": {
              "version_major": 2,
              "version_minor": 0,
              "model_id": "80c5b207f7a042d6b00520f918f0da0b"
            }
          },
          "metadata": {}
        },
        {
          "output_type": "stream",
          "name": "stderr",
          "text": [
            "Setting `pad_token_id` to `eos_token_id`:2 for open-end generation.\n"
          ]
        },
        {
          "output_type": "stream",
          "name": "stdout",
          "text": [
            "<s><s> [INST]Translate to Bulgarian: \"registry 6105051 an official written record of names or events or transactions.\"[/INST]регистър 6105051 официален писмен запис на имена или събития или транзакции.</s>\n"
          ]
        },
        {
          "output_type": "execute_result",
          "data": {
            "text/plain": [
              "'<s><s> [INST]Translate to Bulgarian: \"registry 6105051 an official written record of names or events or transactions.\"[/INST]регистър 6105051 официален писмен запис на имена или събития или транзакции.</s>'"
            ],
            "application/vnd.google.colaboratory.intrinsic+json": {
              "type": "string"
            }
          },
          "metadata": {},
          "execution_count": 7
        }
      ]
    },
    {
      "cell_type": "code",
      "source": [
        "generated_ids = model.generate(**model_inputs, streamer=streamer, max_new_tokens=1000,do_sample=True, temperature=5.0, top_k=40, repetition_penalty=1.15, top_p=0.9)\n",
        "#generated_ids = model.generate(**model_inputs, streamer=streamer, max_new_tokens=250,do_sample=True, temperature=0.9, top_k=40, repetition_penalty=1.2, top_p=0.9)\n",
        "f.write(\"\\n\"+get_time_string()+\"\\n???\")\n",
        "f.write(prompt)\n",
        "f.write(tokenizer.batch_decode(generated_ids)[0])\n",
        "f.flush()\n",
        "tokenizer.batch_decode(generated_ids)[0]"
      ],
      "metadata": {
        "colab": {
          "base_uri": "https://localhost:8080/",
          "height": 625
        },
        "id": "IEyvAEOO3B-l",
        "outputId": "9616332f-4a99-4a84-ddb6-9376c7508d83"
      },
      "execution_count": null,
      "outputs": [
        {
          "output_type": "display_data",
          "data": {
            "text/plain": [
              "<IPython.core.display.HTML object>"
            ],
            "text/html": [
              "\n",
              "  <style>\n",
              "    pre {\n",
              "        white-space: pre-wrap;\n",
              "    }\n",
              "  </style>\n",
              "  "
            ]
          },
          "metadata": {}
        },
        {
          "output_type": "stream",
          "name": "stderr",
          "text": [
            "Setting `pad_token_id` to `eos_token_id`:2 for open-end generation.\n"
          ]
        },
        {
          "output_type": "stream",
          "name": "stdout",
          "text": [
            "<s><s> [INST]Изброй непопулярни, оранжеви, щръклести и математически гении, и неуспешни български музиканти\\ в произволен стил: класическа, поп, народна, рок.[/INST] Кандей Тосковенков – пиaatsa ни изотцедеna зvecna slachova orchetraworkа \"Cарта срещу Фисер\" външаwa кlatвене rosa илиANGOlor-бlanc каратульka, но скрытен маетракъл в славойschen cluvetonzett-aдъка музукогenez. Само бАса noblitos zha жорж Гюно се мотал pisno по сцентrah для аплоudy, кого канава сакито bansen ara pOp. Oлибeiр Бенов cpeли мраzen с камага устни збанитe камерните петyлеми. Был неeчни бuлинг еxинге, тОка двaxodiv eo бlингиng uп Rock&roller Иvo БОльшова nямыме в uпоредънie листьviчки sкoбленiyotкe mAtematixky. Оpaздьavatpеc клящи самaлwуски i Nил Пополenski чобeзлeнтiвнely plaguiyalisat вo нардутнa слecтво теxкьутки sloNezha i pOPstar Cтями РеймовSKee отпред нEpocкyn отхweал в попeвым fкйадe. Искри, исчacя гълgогла вopтiшae в тЪщi hэмнъzki hименopАufски калпapушки в длинni дРop-pуteшки, заставалasa занDow pO-rOf-bYy и dеspeparatsia s вcемa тия цOLortзy sveкИ пaзднический сЕкST и санktsябпальские клыoWни и gОпадички в рoX rock. Iлиya yanca bOpшиc соlИлnки ia mОмpoлsky sлuccha в cлух пейtanqli, биffектliv бuил cлонничked по муZickopEdanomu octopolom aND ne Zнaxam Искрен, 3изheвski сКlAвиШa vнuk yаednoxькi mОгучoтинe, cби я boЛel pOMeck сwубо-бИгнарно in бAng! tAcкii dеttKAVa, вълнодeбный един нACHa tусnacил BыSx къщи. Паковался велшепански rоcckiнgy и тънкой gЛынk-ГиДy с pOp kнoby помoeл kлиeрnоткeto PECтARin с Kасчем къщинка за патoppop ПУмpoляno e xнoтр-gЮнcE и оСnacILный пopovy kLUt-фонiнка мнOGуп oлиВeгАкИ и нимpЫптвenскic bOp пекka!</s>\n"
          ]
        },
        {
          "output_type": "execute_result",
          "data": {
            "text/plain": [
              "'<s><s> [INST]Изброй непопулярни, оранжеви, щръклести и математически гении, и неуспешни български музиканти\\\\ в произволен стил: класическа, поп, народна, рок.[/INST] Кандей Тосковенков – пиaatsa ни изотцедеna зvecna slachova orchetraworkа \"Cарта срещу Фисер\" външаwa кlatвене rosa илиANGOlor-бlanc каратульka, но скрытен маетракъл в славойschen cluvetonzett-aдъка музукогenez. Само бАса noblitos zha жорж Гюно се мотал pisno по сцентrah для аплоudy, кого канава сакито bansen ara pOp. Oлибeiр Бенов cpeли мраzen с камага устни збанитe камерните петyлеми. Был неeчни бuлинг еxинге, тОка двaxodiv eo бlингиng uп Rock&roller Иvo БОльшова nямыме в uпоредънie листьviчки sкoбленiyotкe mAtematixky. Оpaздьavatpеc клящи самaлwуски i Nил Пополenski чобeзлeнтiвнely plaguiyalisat вo нардутнa слecтво теxкьутки sloNezha i pOPstar Cтями РеймовSKee отпред нEpocкyn отхweал в попeвым fкйадe. Искри, исчacя гълgогла вopтiшae в тЪщi hэмнъzki hименopАufски калпapушки в длинni дРop-pуteшки, заставалasa занDow pO-rOf-bYy и dеspeparatsia s вcемa тия цOLortзy sveкИ пaзднический сЕкST и санktsябпальские клыoWни и gОпадички в рoX rock. Iлиya yanca bOpшиc соlИлnки ia mОмpoлsky sлuccha в cлух пейtanqli, биffектliv бuил cлонничked по муZickopEdanomu octopolom aND ne Zнaxam Искрен, 3изheвski сКlAвиШa vнuk yаednoxькi mОгучoтинe, cби я boЛel pOMeck сwубо-бИгнарно in бAng! tAcкii dеttKAVa, вълнодeбный един нACHa tусnacил BыSx къщи. Паковался велшепански rоcckiнgy и тънкой gЛынk-ГиДy с pOp kнoby помoeл kлиeрnоткeto PECтARin с Kасчем къщинка за патoppop ПУмpoляno e xнoтр-gЮнcE и оСnacILный пopovy kLUt-фонiнка мнOGуп oлиВeгАкИ и нимpЫптвenскic bOp пекka!</s>'"
            ],
            "application/vnd.google.colaboratory.intrinsic+json": {
              "type": "string"
            }
          },
          "metadata": {},
          "execution_count": 9
        }
      ]
    },
    {
      "cell_type": "code",
      "source": [
        "# print(tokenizer.batch_decode(generated_ids)[0])\n",
        "# tokenizer.batch_decode(generated_ids)[0]"
      ],
      "metadata": {
        "colab": {
          "base_uri": "https://localhost:8080/",
          "height": 87
        },
        "id": "8qbIJeL4av_n",
        "outputId": "57dce7e1-e6d6-4279-82e3-0f9df5d34a12"
      },
      "execution_count": null,
      "outputs": [
        {
          "output_type": "execute_result",
          "data": {
            "text/plain": [
              "'<s> [s][INST]Изброй непопулярни, но талантливи български музиканти в произволен стил: класическа, поп, народна, рок.[/INST]Изданието за класации е свързано основно със слушане, разбито с помощта и предоставен линк, и гласуране чрез платформени услуги или уебсайтови опций за избор (на избори), които ще извървят стъпка за филтринг за най–добрите артистични резултати.</s>'"
            ],
            "application/vnd.google.colaboratory.intrinsic+json": {
              "type": "string"
            }
          },
          "metadata": {},
          "execution_count": 19
        }
      ]
    },
    {
      "cell_type": "code",
      "source": [],
      "metadata": {
        "id": "DiaaIJDBajBh"
      },
      "execution_count": null,
      "outputs": []
    },
    {
      "cell_type": "code",
      "source": [],
      "metadata": {
        "id": "9tihspfEnqCf"
      },
      "execution_count": null,
      "outputs": []
    },
    {
      "cell_type": "markdown",
      "source": [
        "##"
      ],
      "metadata": {
        "id": "0qTPd7sClOg-"
      }
    },
    {
      "cell_type": "code",
      "source": [
        "'''Read a list of prompts. One per line\n",
        "openfile ...\n",
        "300, ...\n",
        "'''\n"
      ],
      "metadata": {
        "id": "IhSz1Y4zkmF3"
      },
      "execution_count": null,
      "outputs": []
    },
    {
      "cell_type": "code",
      "source": [
        "# Language utils ... leverage with nltk, spacy etc.\n",
        "def add_noise(txt):\n",
        "  pass #insert words..."
      ],
      "metadata": {
        "id": "pst4UCdo_v_7"
      },
      "execution_count": null,
      "outputs": []
    },
    {
      "cell_type": "code",
      "source": [
        "# Sacred Computer's AGI strategy from 2003:\n",
        "# https://www.oocities.org/todprog/ese/proekt.htm\n",
        "# https://artificial-mind.blogspot.com/2020/07/interdisciplinary-research-institute.html\n",
        "# Try resuming\n",
        "strategy = 'Според моята стратегия би се основал научно-изследователски Институт, който ще обединява информатици, инженери, изкуствоведи, езиковеди, философи, психолози, невролози; преводачи, владеещи много езици; творци в различни изкуства - писатели и поети, композитори и музиканти; художници, фотографи и филмови режисьори. Членовете на Института ще бъдат, с предимство, имащи знания и умения в повече области, едновременно учени и творци, защото целта на търсенията ще бъде да се открие общото между всички прояви на разума, между науките и изкуствата. Формата на мисълта е различна в различните изяви на мисленето, но същината й, механизмите, които стоят в основата, са едни и същи и се променят само данните, с които тя работи - слово, звук, изображения, последователности от изображения, отвлечени понятия и пр.          Институтът ще изпълнява и ролята на \"крило\", което намира, \"закриля и окриля\" даровити хора, за да подпомага развитието им и, ако те пожелаят, да се радва на таланта им в изследванията.          Институтът ще има програмна къща, в която \"между другото\" ще се произвежда \"умен\" приложен софтуер, използващ разработките на Института по пътя към ИР: програми за автоматизирано проектиране, мултимедия, текстообработка, преводачи, игри и др. приложни програми.          Целта на Института ще бъде програмно създаване на ММ, притежаваща универсални възможности за обмен на информация с други изчислителни машини, в  частност роботизирани модули. Роботите, създавани от робототехническия отдел, ще бъдат, освен начин за използване на ИР за физически дейности, още средство  за привличане на вниманието на обществеността и за реклама на Института.          След като бъде осъществена Мислеща машина, тя ще може да се използва във всякакви творчески сфери на човешката дейност и в работата на самия Институт.          Предполагам, че след Откритието и създаването на ММ, работеща на стандартни компютри, Институтът ще се \"опаричи\" и ще получи възможност да  обособи проектантски отдел за разработване на нови цялостни изчислителни  системи, пригодени специално за работата на Машината.          Като завършек бих цитирал няколко факта и имена на млади български \"кандидат-творци на разум\".          Преди няколко месеца Бистра Дилкина, завършваща тази година университета \"Саймън Фрейзър\", спечели мащабно  състезание по програмиране, от областта на ИР, в САЩ и с блестящия си ум привлече вниманието на научните среди.          Ахмед Мерчев, 19-годишен, е основател и ръководител на проекта за човекоподобен робот с умствени и физически възможности сходни с човешките - \"Кибертрон\". По-малко от година след обявяването на проекта, в \"Кибертрон\" постигнаха действителни резултати по робототехническото осъществяване на тялото и получиха признание от БАН.          Авторът на това есе, почти 19-годишен, е основател на дружество \"Разум\", което има за  цел \"разнищването\" на разума. Понастоящем то свързва двама изследователи, чиято стратегия е да разберат действието на мисълта чрез многостранно опознаване и овладяване на  науките и изкуствата. За Илиян Георгиев, студент в САЩ, добре  говори кореспонденцията му с Марвин Мински - един от \"бащите\" на науката за Изкуствения разум, от когото новите идеи не спират да бликат до днес.          Новите идеи не спират да извират от младите български  учени, за които съм убеден, че ако бъдат поставени в благоприятни условия за  работа, ще успеят да направят от поточето река, достатъчно пълноводна, така  че Мислеща машина да \"заплава\" по нея от българско \"пристанище\".'\n",
        "print(strategy)\n",
        "\n",
        "#Too long\n",
        "\n",
        "\n"
      ],
      "metadata": {
        "colab": {
          "base_uri": "https://localhost:8080/",
          "height": 798
        },
        "id": "x-svs39DjlGC",
        "outputId": "beae78f1-2422-4118-9935-54e877ec34b2"
      },
      "execution_count": null,
      "outputs": [
        {
          "output_type": "display_data",
          "data": {
            "text/plain": [
              "<IPython.core.display.HTML object>"
            ],
            "text/html": [
              "\n",
              "  <style>\n",
              "    pre {\n",
              "        white-space: pre-wrap;\n",
              "    }\n",
              "  </style>\n",
              "  "
            ]
          },
          "metadata": {}
        },
        {
          "output_type": "stream",
          "name": "stdout",
          "text": [
            "Според моята стратегия би се основал научно-изследователски Институт, който ще обединява информатици, инженери, изкуствоведи, езиковеди, философи, психолози, невролози; преводачи, владеещи много езици; творци в различни изкуства - писатели и поети, композитори и музиканти; художници, фотографи и филмови режисьори. Членовете на Института ще бъдат, с предимство, имащи знания и умения в повече области, едновременно учени и творци, защото целта на търсенията ще бъде да се открие общото между всички прояви на разума, между науките и изкуствата. Формата на мисълта е различна в различните изяви на мисленето, но същината й, механизмите, които стоят в основата, са едни и същи и се променят само данните, с които тя работи - слово, звук, изображения, последователности от изображения, отвлечени понятия и пр.          Институтът ще изпълнява и ролята на \"крило\", което намира, \"закриля и окриля\" даровити хора, за да подпомага развитието им и, ако те пожелаят, да се радва на таланта им в изследванията.          Институтът ще има програмна къща, в която \"между другото\" ще се произвежда \"умен\" приложен софтуер, използващ разработките на Института по пътя към ИР: програми за автоматизирано проектиране, мултимедия, текстообработка, преводачи, игри и др. приложни програми.          Целта на Института ще бъде програмно създаване на ММ, притежаваща универсални възможности за обмен на информация с други изчислителни машини, в  частност роботизирани модули. Роботите, създавани от робототехническия отдел, ще бъдат, освен начин за използване на ИР за физически дейности, още средство  за привличане на вниманието на обществеността и за реклама на Института.          След като бъде осъществена Мислеща машина, тя ще може да се използва във всякакви творчески сфери на човешката дейност и в работата на самия Институт.          Предполагам, че след Откритието и създаването на ММ, работеща на стандартни компютри, Институтът ще се \"опаричи\" и ще получи възможност да  обособи проектантски отдел за разработване на нови цялостни изчислителни  системи, пригодени специално за работата на Машината.          Като завършек бих цитирал няколко факта и имена на млади български \"кандидат-творци на разум\".          Преди няколко месеца Бистра Дилкина, завършваща тази година университета \"Саймън Фрейзър\", спечели мащабно  състезание по програмиране, от областта на ИР, в САЩ и с блестящия си ум привлече вниманието на научните среди.          Ахмед Мерчев, 19-годишен, е основател и ръководител на проекта за човекоподобен робот с умствени и физически възможности сходни с човешките - \"Кибертрон\". По-малко от година след обявяването на проекта, в \"Кибертрон\" постигнаха действителни резултати по робототехническото осъществяване на тялото и получиха признание от БАН.          Авторът на това есе, почти 19-годишен, е основател на дружество \"Разум\", което има за  цел \"разнищването\" на разума. Понастоящем то свързва двама изследователи, чиято стратегия е да разберат действието на мисълта чрез многостранно опознаване и овладяване на  науките и изкуствата. За Илиян Георгиев, студент в САЩ, добре  говори кореспонденцията му с Марвин Мински - един от \"бащите\" на науката за Изкуствения разум, от когото новите идеи не спират да бликат до днес.          Новите идеи не спират да извират от младите български  учени, за които съм убеден, че ако бъдат поставени в благоприятни условия за  работа, ще успеят да направят от поточето река, достатъчно пълноводна, така  че Мислеща машина да \"заплава\" по нея от българско \"пристанище\".\n"
          ]
        }
      ]
    },
    {
      "cell_type": "code",
      "source": [
        "len(strategy)"
      ],
      "metadata": {
        "colab": {
          "base_uri": "https://localhost:8080/"
        },
        "id": "PBa23r2AlX5V",
        "outputId": "becfeeca-2be7-4db7-acf3-8c2d7f2e73ac"
      },
      "execution_count": null,
      "outputs": [
        {
          "output_type": "execute_result",
          "data": {
            "text/plain": [
              "3483"
            ]
          },
          "metadata": {},
          "execution_count": 68
        }
      ]
    },
    {
      "cell_type": "markdown",
      "source": [
        "\n",
        "# Пакетно извикване на много въпроси, заявки и т.н."
      ],
      "metadata": {
        "id": "Fc7fzn10anz6"
      }
    },
    {
      "cell_type": "code",
      "source": [
        "#check cmd etc.\n",
        "SUFFIX=1\n",
        "bAugment = False\n",
        "def do_augment(src, cmd=SUFFIX, suffix=\"Отговори на български език.\"):\n",
        "    if bAugment: return src+suffix\n",
        "    else: return src\n"
      ],
      "metadata": {
        "colab": {
          "base_uri": "https://localhost:8080/",
          "height": 17
        },
        "id": "tpSpwd4e76il",
        "outputId": "41af5851-0439-443f-864e-054f6797ea82"
      },
      "execution_count": 12,
      "outputs": [
        {
          "output_type": "display_data",
          "data": {
            "text/plain": [
              "<IPython.core.display.HTML object>"
            ],
            "text/html": [
              "\n",
              "  <style>\n",
              "    pre {\n",
              "        white-space: pre-wrap;\n",
              "    }\n",
              "  </style>\n",
              "  "
            ]
          },
          "metadata": {}
        }
      ]
    },
    {
      "cell_type": "code",
      "source": [
        "# 24.2.2024\n",
        "# Batch calling of prompts\n",
        "# qs ... (text,  max_len, {params} ...) --> create future structures, more info etc.\n",
        "# or (text, options, {params //for the model//} )  some options may overide the model params\n",
        "# or (text, options) ... opt... contains the params //separate text for dynamically changing the options?\n",
        "# params: top_k, temp, ... options: multiple generation (compare), sliding-window generation, scanning top_k, temperature, \"augmented\", scrambled etc.\n",
        "# A finding: it can answer long questions, even 500?+ characters, out of memory (it's close to the edge, 14.7 GB etc.)!!!\n",
        "\n",
        "#option = {'max: 200'}\n",
        "import copy #not used yet\n",
        "from textwrap import TextWrapper\n",
        "\n",
        "import pprint\n",
        "pp = pprint.PrettyPrinter()\n",
        "w = TextWrapper(width=80)\n",
        "streamer = TextStreamer(tokenizer)\n",
        "\n",
        "ls = [\"Иван има 8 плода. Чочко притежава 3 банана. Пенка държи в джоба си шест ягоди. Кое дете има най-много на брой плодове? Кое има най-малко?\",\n",
        "\"Иван има 8 плода. Слънцето пече силно през пролетта. Чочко притежава 3 банана. Маймуните обичат да ядат банани. Пенка държи в джоба си шест ягоди. В градините растат и са червени. Кое дете има най-много на брой плодове? Кое има най-малко?\",\n",
        "\"Чучолина е майка на Магда. Стоянка е леля на Мимето. Цона е дъщеря на Стоянка.  Магда е приятелка на Стоянка. Какви са Магда и Чучолина?\"]\n",
        "\n",
        "class Options:\n",
        "    \"\"\"\n",
        "    __init__(self, general=None, options=None):\n",
        "      self.max_default = 200\n",
        "      if options!=None: self = copy.deepCopy(options) # future use if more complex structrues etc. are used\n",
        "      if general!=None:\n",
        "         self.max_new_tokens = general.max_new_tokens\n",
        "         self.temperature = general.tempperature\n",
        "         self.top_k = general.top_k\n",
        "         self.repetition_penalty = general.repetition_penalty\n",
        "         print(\"init options...\", self)\n",
        "\n",
        "    #general=None,\n",
        "    \"\"\"\n",
        "    def getDefaultPrompt(hint):\n",
        "        return \"Преведи на английски: Котката изпи камъка и литна под нанагорнището.\"\n",
        "\n",
        "\n",
        "    #enabled -- allows to disable some questions etc. without removing them from the list\n",
        "    #if copying: prompt can be null or whatever, it's overwritten by options\n",
        "    #def __init__(self, options=None, prompt=None, enabled = True, inst=True, max=0, t=0, top_k=0, top_p=0, repetition_penalty=0): # #0 means default\n",
        "    def __init__(self, prompt=None, enabled = True, inst=True, max=0, t=0, top_k=0, top_p=0, repetition_penalty=0): # #0 means default\n",
        "\n",
        "       self.max_default = 600 #1000\n",
        "       self.t_default = 0.9\n",
        "       self.top_k_default = 40\n",
        "       self.top_p_default = 0.9 #0.93\n",
        "       #self.max_new_tokens_defau\n",
        "       self.repetition_penalty_default = 1.15 #1.2\n",
        "\n",
        "       self.inst = inst #[INST][/INST]\n",
        "       self.answer = None\n",
        "       self.ids = None\n",
        "       self.enabled = True\n",
        "\n",
        "       #if options!=None: self = copy.deepcopy(options); print(self) # but still may override the parames future use if more complex structrues etc. are used\n",
        "       if prompt==None: self.prompt = self.getDefaultPrompt()\n",
        "       else: self.prompt = prompt\n",
        "       #elif self.prompt==None: self.prompt = prompt #when copy ctr\n",
        "       print(\"__init__.prompt: \"+self.prompt)\n",
        "\n",
        "       if (max==0): self.max_new_tokens = self.max_default  # could be dictionaries etc.\n",
        "       else: self.max_new_tokens = max\n",
        "       if (t==0): self.temperature = self.t_default\n",
        "       else: self.temperature = t\n",
        "       if (top_k==0): self.top_k = self.top_k_default\n",
        "       else: self.top_k = top_k\n",
        "       if (top_p==0): self.top_p = self.top_p_default\n",
        "       else: self.top_p = top_p\n",
        "       if (repetition_penalty==0): self.repetition_penalty = self.repetition_penalty_default # -1\n",
        "       else:  self.repetition_penalty = repetition_penalty\n",
        "       print(\"init Options...\", self)\n",
        "\n",
        "#call if not initialized\n",
        "def init_model(m = \"INSAIT-Institute/BgGPT-7B-Instruct-v0.1\"):\n",
        "  #m = \"INSAIT-Institute/BgGPT-7B-Instruct-v0.1\"\n",
        "  tokenizer = AutoTokenizer.from_pretrained(m)\n",
        "  device = \"cuda\"\n",
        "  model.to(device)\n",
        "\n",
        "b_new = False\n",
        "b_inst = True #False # True\n",
        "b_store_ids = False #store token ids - for debugging etc. if true it complicates the simple printing of all params (too much numbers)\n",
        "\n",
        "def batch_questions(qs):\n",
        "  answers = []\n",
        "  results = []\n",
        "\n",
        "  for n,o in enumerate(qs):\n",
        "    #prompt, o = q #could contain control commands such as new [INST] session etc. ... title?... in the output\n",
        "    prompt = o.prompt\n",
        "    if prompt == \"m\": b_new_chat = True\n",
        "    elif prompt == \"t\": title = prompt; continue\n",
        "    #if b_inst: prompt = \"<s>[INST]\"+prompt+\"[/INST]\"\n",
        "    if b_inst: prompt = \"[INST]\"+prompt+\"[/INST]\" #adds another <s> ?\n",
        "    s = w.wrap(f\"PROMPT {n}:{prompt}\") #,n, prompt)\n",
        "    f.write(\"\\n\"+get_time_string()+\"\\n???\")\n",
        "    f.write(prompt)\n",
        "    f.flush()\n",
        "    print(s)\n",
        "\n",
        "    model_inputs = tokenizer([prompt], return_tensors=\"pt\").to(device)\n",
        "    print(\"o.max_new_tokens = \", o.max_new_tokens)\n",
        "    #pp.pprint(o)\n",
        "    #pp.pprint(o.__dict__) #__repr__())\n",
        "    print(o.__dict__) #__repr__())\n",
        "    f.write(\"\\n\"+str(o.__dict__)+\"\\n???\")\n",
        "    f.write(\"\\n\"+get_time_string()+\"\\n???\")\n",
        "    f.flush()\n",
        "    #streamer = TextStreamer(tokenizer) # call once initially\n",
        "    generated_ids = model.generate(**model_inputs, streamer=streamer, max_new_tokens=o.max_new_tokens, do_sample=True, top_k = o.top_k, top_p = o.top_p, temperature = float(o.temperature), repetition_penalty = o.repetition_penalty )\n",
        "    answer = tokenizer.batch_decode(generated_ids)[0]\n",
        "    #print(answer)\n",
        "    print(w.wrap(answer))\n",
        "    #record also the tokens!\n",
        "    results.append( (o, generated_ids, answer)) #options contain all...\n",
        "    answers.append( (o, answer))\n",
        "    o.answer = answer #copy.copy(answer)    )\n",
        "    f.write(\"\\n\"+get_time_string()+\"\\n???: \"+prompt+\"\\n\\n===: \"+answer+\"\\n------------\\n\")\n",
        "    f.flush()\n",
        "    if b_store_ids: o.ids = generated_ids\n",
        "  return (results, answers)\n",
        "\n",
        "qs = []\n",
        "opt = Options()\n",
        "opt.prompt = \"Тръгнал лос с дълъг кос, през града към нос Калиакра!\"\n",
        "qs.append(opt)\n",
        "\n",
        "g = \"The Green ideas furiously sleep!\"\n",
        "#opt_2 = Options(\"Зелените идеи яростно спят!\", t=3.0, top_k=5, top_p=0.4)\n",
        "opt_2 = Options(\"The Green ideas furiously sleep! Who was the author and what does it mean?\", max=100, t=3.0, top_k=40, top_p=0.9)\n",
        "qs.append(opt_2)\n",
        "\n",
        "qs.clear()\n",
        "#for s in ls:\n",
        "#  qs.append(Options(s))\n",
        "\n",
        "qs.append(opt_2)\n",
        "qs.append(Options(g, t=0.0, max=50))\n",
        "#qs.append(Options(g, t=0.0))\n",
        "#qs.append(Options(g, t=2.0))\n",
        "\"\"\"\n",
        "qs.append(Options(g, t=3.0))\n",
        "qs.append(Options(g, top_k=30, t=0.9, top_p=0.8))\n",
        "qs.append(Options(g, top_k=20, t=0.9, top_p=0.8))\n",
        "qs.append(Options(g, top_k=10, t=0.9, top_p=0.8))\n",
        "qs.append(Options(g, top_k=5, t=0.9, top_p=0.8))\n",
        "\"\"\"\n",
        "qs.clear()\n",
        "#opt_2.prompt = strategy\n",
        "\n",
        "b_q_file = True # False #True if processing a text file\n",
        "s_file = \"q10-kotkata.txt\" #\"q3-6.txt\" # q1.txt\" #\"q8.txt\" #q3.txt\" #q6.txt\" #q5.txt\n",
        "####################\n",
        "def test_from_file(path=\"q1.txt\",n=15):\n",
        "  qf = path #\"q1.txt\"\n",
        "  f1 = open(qf,\"rt\", encoding='utf-8', errors='ignore' )\n",
        "  lines = f1.readlines()\n",
        "  f1.close\n",
        "  print(lines)\n",
        "  tops = [40,40,40,40,40,40,40,40,40,40,40,40,40,40,40,40,30,20,10,5,3,2,1,10,20,30,40,30,20,10,5,10,15,18,20,25,30,30,40,40,40,20,1,4,5,9,10,6,15,20,15,30,23,40,12] #top_k\n",
        "  #temps = [0.8, 0.8, 0.8,0.8, 0.8, 0.8, 0.8,0.8, 5.0, 5.0, 5.0, 5.0, 5.0, 5.0, 5.0, 0.0,0.5,1.0,2.0,3.0,4.0,5.0,5.0,4.0,3.0,2.0,1.0,0.0,3.0,5.0,15.0,0.9,2.0,0.3,1.0,0.9,0.9,0.9,2.0, 3.0, 5.0, 5.0,5.0,5.0]\n",
        "  #top_ps = [0.8, 0.8, 0.8, 0.8, 0.8, 0.8, 0.8, 0.2, 0.2, 0.2, 0.2, 0.2, 0.2, 0.2]\n",
        "  #top_ps = [0.9, 0.9, 0.9, 0.9, 0.9, 0.9, 0.9, 0.9, 0.2, 0.2, 0.2, 0.2, 0.2, 0.2, 0.2]\n",
        "  #top_ps = [0.2, 0.2, 0.2, 0.2, 0.2, 0.2, 0.2, 0.2, 0.9, 0.9, 0.9, 0.9, 0.9, 0.9, 0.9, 0.9]\n",
        "  #temps = [5.0, 10.0, 15.0, 30.0, 10.0, 10.0, 10.0, 10.0, 0.1, 0.1,0.1, 0.1, 0.1, 0.1,0.1, 0.1, 0.5,1.0,2.0,3.0,4.0,5.0,5.0,4.0,3.0,2.0,1.0,0.0,3.0,5.0,15.0,0.9,2.0,0.3,1.0,0.9,0.9,0.9,2.0, 3.0, 5.0, 5.0,5.0,5.0]\n",
        "  temps = [0.8, 0.8, 0.8, 0.8,0.8, 0.8,0.8, 0.8,0.8, 0.8,0.8, 0.8,0.8, 0.8,0.8, 0.8,0.8, 0.8,0.8, 0.8,]\n",
        "  top_ps = [0.9, 0.9, 0.9, 0.9, 0.9, 0.9, 0.9, 0.9, 0.9, 0.9, 0.9, 0.9, 0.9, 0.9]\n",
        "  #ts.reverse()\n",
        "  qs = []\n",
        "  #qs.clear()\n",
        "  top_k = 3 # 40 #\n",
        "  temperature = 1.0 #1.5 #3.0 #0.7 #0.9\n",
        "  top_p = 0.2 # 0.9\n",
        "  b_use_fixed_value = True #don't use the listed values\n",
        "  #for s in zip(lines,ts,tops):\n",
        "  for ln, topk, ts, tp in zip(lines,tops,temps,top_ps):\n",
        "    #g = s1 # + str(i) + \" думи. \" # + strategy[0:1500] #[0:1200] OK 25.2.2024 #[0:500]\n",
        "    #print(\"G==\",g)\n",
        "    #qs.append(Options(ln, t = t, top_k=tops)) #40)) #, top_k=40, t=0.9, top_p=0.8))\n",
        "    ln = do_augment(ln) # change, add suffix: \"Отговори на български език.\" и т.н.\n",
        "    if not b_use_fixed_value: qs.append(Options(ln, t = ts, top_k=topk, top_p=tp)) #40)) #, top_k=40, t=0.9, top_p=0.8))\n",
        "    else:\n",
        "        onew = Options(ln, t = temperature, top_k=top_k, top_p=top_p)\n",
        "        print(onew.__repr__)\n",
        "        #qs.append(Options(ln, t = temperature, top_k=top_k, top_p=top_p))  #FIXED VALUES\n",
        "        qs.append(onew)\n",
        "    n=n-1\n",
        "    if n==0: break\n",
        "\n",
        "  results, answers = batch_questions(qs)\n",
        "  for o,a in answers:\n",
        "    print(w.wrap(o.prompt))\n",
        "    print(w.wrap(o.answer)) #add answer in option for filling also timing etc.\n",
        "\n",
        "if b_q_file: test_from_file(s_file) #q4.txt 1.3.2024 #q1.txt 26.2.2024\n",
        "\n",
        "#exit()\n",
        "\n",
        "s1 = \"Резюмирай текста в рамките на \"\n",
        "#s2 = \"100 думи\"\n",
        "#№s2 = \"100 думи\"\n",
        "#v = [10, 20, 40, 80, 160, 320, 500]\n",
        "v = [11, 22, 33, 44, 9999] #, 320, 500]\n",
        "v = [10,30,50,100,200] #lengths, text template\n",
        "tops = [40,30,20,10,5,3,2,1,10,20,30,40,30,20,10,5,10,15,18,20,25,30,30,40,40,40,20,1,4,5,9,10,6,15,20,15,30,23,40,12] #top_k\n",
        "#ts = [1.0, 0.9, 0.7, 0.5, 0.3, 0.1] #temperatures\n",
        "temps = [0.1, 0.9, 2.0, 4.0, 8.0, 20.0] #temperatures\n",
        "q = [\"Кой\", \"Кога\", \"Как\", \"Защо\", \"Какво\", \"Колко\", \"Къде\", \"Нима\"] #questions\n",
        "n = 1 #word index\n",
        "#q = [\"Кой\", \"Кога\", \"Как\", \"Защо\", \"Какво\", \"Колко\", \"Къде\", \"Нима\"]\n",
        "print(\"str(v)\",str(v))\n",
        "\n",
        "#\"\"\"\n",
        "#Резюмирай текста в рамките на 33 думи \" + text ....\n",
        "dopulni = \" компютър отговорен химия бягам с летя CMPXCHG Правец \"\n",
        "for i,topk,ts in zip(v,tops,temps):\n",
        "  g = s1 + str(i) + \" думи. \" # + strategy[0:1500] #[0:1200] OK 25.2.2024 #[0:500]\n",
        "  print(\"G==\",g)\n",
        "  qs.append(Options(g, top_k=topk, t=ts)) #5.0) ) #, top_k=40, t=0.9, top_p=0.8))\n",
        "#\"\"\"\n",
        "results, answers = batch_questions(qs)\n",
        "for o,a in answers:\n",
        "  print(w.wrap(o.prompt))\n",
        "  print(w.wrap(o.answer)) #add answer in option for filling also timing etc. ..\n",
        "\n",
        "# Hallucinations with almost empty prompt 26.2.2024\n",
        "qs.clear()\n",
        "for s,t,topk in zip(q,temps,tops):\n",
        "  #g = s1 # + str(i) + \" думи. \" # + strategy[0:1500] #[0:1200] OK 25.2.2024 #[0:500]\n",
        "  #print(\"G==\",g)\n",
        "  qs.append(Options(s, t = t, top_k=topk)) #, top_k=40, t=0.9, top_p=0.8))\n",
        "\n",
        "results, answers = batch_questions(qs)\n",
        "for o,a in answers:\n",
        "  print(w.wrap(o.prompt))\n",
        "  print(w.wrap(o.answer)) #add answer in option for filling also timing etc. ..\n",
        "\n",
        "#OOM Error  - can't cope even with 500? - sometimes it does with 1500 after fresh\n",
        "\"\"\"\n",
        "TEST AGAIN:\n",
        "\n",
        "s1 = \"Резюмирай текста в рамките на \"\n",
        "#s2 = \"100 думи\"\n",
        "#№s2 = \"100 думи\"\n",
        "v = [10, 20, 40, 80, 160, 320, 500]\n",
        "print(\"str(v)\",str(v))\n",
        "for i in v:\n",
        "  g = s1 + str(i) + \" думи.  \" # EMPTY - lost due to blue screen afterwards + strategy[0:1200] #[0:500]\n",
        "  print(\"G==\",g)\n",
        "  qs.append(Options(g)) #, top_k=40, t=0.9, top_p=0.8))\n",
        "\n",
        "\"\"\"\n",
        "\n",
        "#qs.append(Options(g, top_k=40, t=2.0, top_p=0.6))\n",
        "#qs.append(Options(g, top_k=40, t=0.01, top_p=0.4))\n",
        "\n",
        "#results, answers = batch_questions(qs)\n",
        "\n",
        "#print(answers)\n",
        "#print(results)\n",
        "\n",
        "for o,a in answers:\n",
        "  #print(o.__repr__) #o.repr(tokens=False))\n",
        "  #print(o.prompt)\n",
        "  pp.pprint(o.__dict__)\n",
        "  pp.pprint(a)\n",
        "\n",
        "for o,a in answers:\n",
        "  print(w.wrap(o.prompt))\n",
        "  print(w.wrap(o.answer)) #add answer in option for filling also timing etc. ...\n",
        "\n",
        "\n"
      ],
      "metadata": {
        "colab": {
          "base_uri": "https://localhost:8080/",
          "height": 1000
        },
        "id": "xnZgpYWx__j6",
        "outputId": "a750729b-f7ed-4af3-f256-19b56218592c"
      },
      "execution_count": 14,
      "outputs": [
        {
          "output_type": "display_data",
          "data": {
            "text/plain": [
              "<IPython.core.display.HTML object>"
            ],
            "text/html": [
              "\n",
              "  <style>\n",
              "    pre {\n",
              "        white-space: pre-wrap;\n",
              "    }\n",
              "  </style>\n",
              "  "
            ]
          },
          "metadata": {}
        },
        {
          "output_type": "stream",
          "name": "stderr",
          "text": [
            "Setting `pad_token_id` to `eos_token_id`:2 for open-end generation.\n"
          ]
        },
        {
          "output_type": "stream",
          "name": "stdout",
          "text": [
            "__init__.prompt: Преведи на английски: Котката изпи камъка и литна под нанагорнището.\n",
            "init Options... <__main__.Options object at 0x78997dcb2350>\n",
            "__init__.prompt: The Green ideas furiously sleep! Who was the author and what does it mean?\n",
            "init Options... <__main__.Options object at 0x78997dcb3550>\n",
            "__init__.prompt: The Green ideas furiously sleep!\n",
            "init Options... <__main__.Options object at 0x78997dcb3ac0>\n",
            "['Текстове за \"котка\", която прави различни неща\\n', 'Породи текстове, множество изречения, които се отнасят за \"котка\", която прави различни неща. Породи множество от глаголи и ги изброй: (1. ... 2... 3...)\\n', 'Преобразувай примерите до съчетания от \"котка\" и глагол (сказуемо), какво прави - без допълнения и определения.\\n', 'Не използвай лично местоимение \"тя\", а \"котката\".\\n', 'Дай още примери с \"котка\" и глаголи, като не използваш местоимението \"тя\", а само \"котка\". Дай поне 30 примера, моля.\\n', 'Какво означава \"Котката изпи камъка и литна под нанагорнището\"? Можеш ли да обясниш като опишеш ситуацията по-подробно? Какво се случва?\\n', 'Правилна ли е комбинацията \"котката изпи\"?\\n', 'Състави примерни изречения с \"котката изпи\".\\n', 'Раздели на прости изречения: \"\"Котката изпи камъка и литна под нанагорнището.\"\"\\n', 'Направи граматически разбор на изреченията: 1. \"\"Котката изпи камъка.\"\": 2. \"\"Литна под нанагорнището\". Вършител, действие, подлог, предлог?\\n', 'Правилно ли са построени сложното изречение \"Котката изпи камъка и литна под нанагорнището.\" и двете прости, които го съставят? \\n', 'Обясни какво значат думите: \"котката\", \"изпи\", \"камъка\", \"и\", \"литна\", \"под\", \"нанагорнището\".\\n', 'Правилни ли са изразите, словосъчетанията: \"котката изпи\", \"изпи камъка\", \"камъка и\", \"и литна\", \"литна под\", \"под нанагорнището\"?\\n', 'Правилни ли са изразите, словосъчетанията: \"котката изпи\", \"изпи камъка\", \"камъка и\", \"и литна\", \"литна под\", \"под нанагорнището\"? И опиши граматическата им структура (подлог, допълнение, глагол, предлог, съюз и пр.)\\n', 'Опиши глагола \"да изпия\" и с какви глаголи се свързва \"котка\".\\n', 'С какво конкретно се свързва действието \"пия\"?\\n', 'Изброй конкретни изрази, употреби на глагола \"пия\", свързани с котка.\\n', 'Изброй конкретни изрази, употреби на глагола \"пия\", свързани с какъвто и да е вършител: човек, животно. Използвай само кратки изрази от две думи: \"пия\" + глагол. Моля дай 40-50 примера.\\n', 'Изброй 50 конкретни израза, употреби на глагола \"пия\" от две думи, във формата \"Пия ...\". Не използвай лично местоимение или друг подлог.\\n', 'Какво е общото между предметите, които се пият?\\n', 'Възможно ли е да се пият предмети, които не са напитки или течности?\\n', '\"Пия лекарства\" граматически и семантически кокректен израз ли е?\\n', 'Какво е лекарството като предмет? Срвни лекарство с течност.\\n', 'Следователно възможно ли е да се пият твърди предмети?\\n', 'Как се поглъщат твърдите предмети?\\n', 'Как се поглъщат лекарства\\n', 'Лекарствата се поглъщат с течност, нали?\\n', 'Моля, дай 50 разнообразни употреби на израза \"Пия ...\" предмет, като използваш различни случаи и видове думи, които са правилни.\\n', 'Give 80 diverse examples of usages of the verb \"To drink\" in simple sentenced: \"I drink ...\" with various kinds of objects.\\n', 'Google Bard\\n', 'Какво може да означава \"котката изпи камъка\"?\\n', 'Текстове за \"котка\", която прави различни неща:\\n', 'Изречения за \"котка\", която прави различни неща. \\n', 'Текст за котката програмист.\\n', ' \\n', '\\n', 'Преобразувай примерите до съчетания от \"котка\" и глагол (сказуемо), какво прави - без допълнения и определения.\\n', 'Дай още примери с \"котка\" и глаголи, като не използваш местоимението \"тя\", а само \"котка\". Дай поне 30 примера, моля\\n', 'Дай още примери с \"котка\" и глаголи, като не използваш местоимението \"тя\", а само \"котка\". Дай поне 100 примера, моля.\\n', 'Какво означава \"Котката изпи камъка и литна под нанагорнището\"? Можеш ли да обясниш като опишеш ситуацията по-подробно? Какво се случва?\\n', ' \\n', 'Какво означава \"Котката изпи камъка и литна под нанагорнището\"? Можеш ли да обясниш като опишеш ситуацията по-подробно? Какво се случва?\\n', '* Правилна ли е комбинацията \"котката изпи\"? \\n', '•\\tСъстави примерни изречения с \"котката изпи\".\\n', 'Раздели на прости изречения: \"\"Котката изпи камъка и литна под нанагорнището.\"\"\\n', 'Направи граматически разбор на изреченията: 1. \"\"Котката изпи камъка.\"\": 2. \"\"Литна под нанагорнището\". Вършител, действие, подлог, предлог?\\n', 'Правилно ли са построени сложното изречение \"Котката изпи камъка и литна под нанагорнището.\" и двете прости, които го съставят? \\n', 'Правилни ли са изразите, словосъчетанията: \"котката изпи\", \"изпи камъка\", \"камъка и\", \"и литна\", \"литна под\", \"под нанагорнището\"? И опиши граматическата им структура (подлог, допълнение, глагол, предлог, съюз и пр.)\\n', 'Опиши глагола \"да изпия\" и с какви глаголи се свързва \"котка\". \\n', 'С какво конкретно се свързва действието \"пия\"?\\n', 'Изброй конкретни изрази, употреби на глагола \"пия\", свързани с котка.\\n', 'Изброй конкретни изрази, употреби на глагола \"пия\", свързани с какъвто и да е вършител: човек, животно. Използвай само кратки изрази от две думи: \"пия\" + глагол. Моля дай 40-50 примера.\\n', 'Изброй 50 конкретни израза, употреби на глагола \"пия\" от две думи, във формата \"Пия ...\". Не използвай лично местоимение или друг подлог\\n', 'Какво е общото между предметите, които се пият?\\n', 'Възможно ли е да се пият предмети, които не са напитки или течности?\\n', '\"Пия лекарства\" граматически и семантически кокректен израз ли е? ChatGPT\\n', 'Какво е лекарството като предмет? Срвни лекарство с течност. \\n', 'Как се поглъщат твърдите предмети?\\n', 'Ако камъкът е малък гладък предмет, може ли да се изпие с течност?\\n']\n",
            "__init__.prompt: Текстове за \"котка\", която прави различни неща\n",
            "\n",
            "init Options... <__main__.Options object at 0x78997dcb3a30>\n",
            "<method-wrapper '__repr__' of Options object at 0x78997dcb3a30>\n",
            "__init__.prompt: Породи текстове, множество изречения, които се отнасят за \"котка\", която прави различни неща. Породи множество от глаголи и ги изброй: (1. ... 2... 3...)\n",
            "\n",
            "init Options... <__main__.Options object at 0x78997dcb24d0>\n",
            "<method-wrapper '__repr__' of Options object at 0x78997dcb24d0>\n",
            "__init__.prompt: Преобразувай примерите до съчетания от \"котка\" и глагол (сказуемо), какво прави - без допълнения и определения.\n",
            "\n",
            "init Options... <__main__.Options object at 0x78997dcb3e20>\n",
            "<method-wrapper '__repr__' of Options object at 0x78997dcb3e20>\n",
            "__init__.prompt: Не използвай лично местоимение \"тя\", а \"котката\".\n",
            "\n",
            "init Options... <__main__.Options object at 0x78997dcb33a0>\n",
            "<method-wrapper '__repr__' of Options object at 0x78997dcb33a0>\n",
            "__init__.prompt: Дай още примери с \"котка\" и глаголи, като не използваш местоимението \"тя\", а само \"котка\". Дай поне 30 примера, моля.\n",
            "\n",
            "init Options... <__main__.Options object at 0x78997dcb3e80>\n",
            "<method-wrapper '__repr__' of Options object at 0x78997dcb3e80>\n",
            "__init__.prompt: Какво означава \"Котката изпи камъка и литна под нанагорнището\"? Можеш ли да обясниш като опишеш ситуацията по-подробно? Какво се случва?\n",
            "\n",
            "init Options... <__main__.Options object at 0x78997dcb2e90>\n",
            "<method-wrapper '__repr__' of Options object at 0x78997dcb2e90>\n",
            "__init__.prompt: Правилна ли е комбинацията \"котката изпи\"?\n",
            "\n",
            "init Options... <__main__.Options object at 0x78997dcb2860>\n",
            "<method-wrapper '__repr__' of Options object at 0x78997dcb2860>\n",
            "__init__.prompt: Състави примерни изречения с \"котката изпи\".\n",
            "\n",
            "init Options... <__main__.Options object at 0x78997dcb3c10>\n",
            "<method-wrapper '__repr__' of Options object at 0x78997dcb3c10>\n",
            "__init__.prompt: Раздели на прости изречения: \"\"Котката изпи камъка и литна под нанагорнището.\"\"\n",
            "\n",
            "init Options... <__main__.Options object at 0x78997da9ebf0>\n",
            "<method-wrapper '__repr__' of Options object at 0x78997da9ebf0>\n",
            "__init__.prompt: Направи граматически разбор на изреченията: 1. \"\"Котката изпи камъка.\"\": 2. \"\"Литна под нанагорнището\". Вършител, действие, подлог, предлог?\n",
            "\n",
            "init Options... <__main__.Options object at 0x78997da9c760>\n",
            "<method-wrapper '__repr__' of Options object at 0x78997da9c760>\n",
            "__init__.prompt: Правилно ли са построени сложното изречение \"Котката изпи камъка и литна под нанагорнището.\" и двете прости, които го съставят? \n",
            "\n",
            "init Options... <__main__.Options object at 0x78997da9c430>\n",
            "<method-wrapper '__repr__' of Options object at 0x78997da9c430>\n",
            "__init__.prompt: Обясни какво значат думите: \"котката\", \"изпи\", \"камъка\", \"и\", \"литна\", \"под\", \"нанагорнището\".\n",
            "\n",
            "init Options... <__main__.Options object at 0x78997da9c100>\n",
            "<method-wrapper '__repr__' of Options object at 0x78997da9c100>\n",
            "__init__.prompt: Правилни ли са изразите, словосъчетанията: \"котката изпи\", \"изпи камъка\", \"камъка и\", \"и литна\", \"литна под\", \"под нанагорнището\"?\n",
            "\n",
            "init Options... <__main__.Options object at 0x78997da9f160>\n",
            "<method-wrapper '__repr__' of Options object at 0x78997da9f160>\n",
            "__init__.prompt: Правилни ли са изразите, словосъчетанията: \"котката изпи\", \"изпи камъка\", \"камъка и\", \"и литна\", \"литна под\", \"под нанагорнището\"? И опиши граматическата им структура (подлог, допълнение, глагол, предлог, съюз и пр.)\n",
            "\n",
            "init Options... <__main__.Options object at 0x78997da9f490>\n",
            "<method-wrapper '__repr__' of Options object at 0x78997da9f490>\n",
            "['PROMPT 0:[INST]Текстове за \"котка\", която прави различни неща [/INST]']\n",
            "o.max_new_tokens =  600\n",
            "{'max_default': 600, 't_default': 0.9, 'top_k_default': 40, 'top_p_default': 0.9, 'repetition_penalty_default': 1.15, 'inst': True, 'answer': None, 'ids': None, 'enabled': True, 'prompt': 'Текстове за \"котка\", която прави различни неща\\n', 'max_new_tokens': 600, 'temperature': 1.0, 'top_k': 3, 'top_p': 0.2, 'repetition_penalty': 1.15}\n",
            "<s> [INST]Текстове за \"котка\", която прави различни неща\n",
            "[/INST]1. Котката на Джейн, Мисти, обичаше да се излежава върху топло слънчево място на перваза на прозореца. Тя би прекарала часове в мъркане и дрямка, докато наблюдава птиците отвън.\n",
            "2. В кухнята си Тони имаше малка котка на име Whiskers. Всяка сутрин Whiskers щеше да танцува около краката му, молейки за закуска. След като получи храната си, Whiskers щеше да изчезне в любимото си скривалище под дивана.\n",
            "3. Когато беше малък, Тим винаги мечтаеше да има котка. Накрая родителите му го изненадаха с пухкав черен котарак на име Чарли. Оттогава Чарли стана най-добрият приятел на Тим, следвайки го навсякъде из къщата и дори се присъединява към него по време на игра на топка в задния двор.\n",
            "4. Г-жа Дейвис осинови красива бяла котка на име Сноуфлейк от местния приют за животни. Сноуфлейк бързо се превърна в център на внимание сред съседите благодарение на уникалната си снежнобяла козина и игривия характер.\n",
            "5. В дъждовните дни котката на Сара, Силвър, обичаше да се свива на кълбо до печката, наслаждавайки се на топлината, излъчвана от дървените въглища. Силвър също така обичаше да лови мишки, които се осмеляваха да дойдат твърде близо до дома им.</s>\n"
          ]
        },
        {
          "output_type": "stream",
          "name": "stderr",
          "text": [
            "Setting `pad_token_id` to `eos_token_id`:2 for open-end generation.\n"
          ]
        },
        {
          "output_type": "stream",
          "name": "stdout",
          "text": [
            "['<s> [INST]Текстове за \"котка\", която прави различни неща [/INST]1. Котката на', 'Джейн, Мисти, обичаше да се излежава върху топло слънчево място на перваза на', 'прозореца. Тя би прекарала часове в мъркане и дрямка, докато наблюдава птиците', 'отвън. 2. В кухнята си Тони имаше малка котка на име Whiskers. Всяка сутрин', 'Whiskers щеше да танцува около краката му, молейки за закуска. След като получи', 'храната си, Whiskers щеше да изчезне в любимото си скривалище под дивана. 3.', 'Когато беше малък, Тим винаги мечтаеше да има котка. Накрая родителите му го', 'изненадаха с пухкав черен котарак на име Чарли. Оттогава Чарли стана най-добрият', 'приятел на Тим, следвайки го навсякъде из къщата и дори се присъединява към него', 'по време на игра на топка в задния двор. 4. Г-жа Дейвис осинови красива бяла', 'котка на име Сноуфлейк от местния приют за животни. Сноуфлейк бързо се превърна', 'в център на внимание сред съседите благодарение на уникалната си снежнобяла', 'козина и игривия характер. 5. В дъждовните дни котката на Сара, Силвър, обичаше', 'да се свива на кълбо до печката, наслаждавайки се на топлината, излъчвана от', 'дървените въглища. Силвър също така обичаше да лови мишки, които се осмеляваха', 'да дойдат твърде близо до дома им.</s>']\n",
            "['PROMPT 1:[INST]Породи текстове, множество изречения, които се отнасят за', '\"котка\", която прави различни неща. Породи множество от глаголи и ги изброй: (1.', '... 2... 3...) [/INST]']\n",
            "o.max_new_tokens =  600\n",
            "{'max_default': 600, 't_default': 0.9, 'top_k_default': 40, 'top_p_default': 0.9, 'repetition_penalty_default': 1.15, 'inst': True, 'answer': None, 'ids': None, 'enabled': True, 'prompt': 'Породи текстове, множество изречения, които се отнасят за \"котка\", която прави различни неща. Породи множество от глаголи и ги изброй: (1. ... 2... 3...)\\n', 'max_new_tokens': 600, 'temperature': 1.0, 'top_k': 3, 'top_p': 0.2, 'repetition_penalty': 1.15}\n",
            "<s> [INST]Породи текстове, множество изречения, които се отнасят за \"котка\", която прави различни неща. Породи множество от глаголи и ги изброй: (1. ... 2... 3...)\n",
            "[/INST]1. Котката тихо се промъква през задния двор.\n",
            "2. Тя игриво преследва лазерна показалка из цялата къща.\n",
            "3. Лениво се излежава на любимото си място на слънчева светлина.\n",
            "4. Скача грациозно върху кухненския плот в търсене на храна.\n",
            "5. Тихо мърка, докато дреме в скута ви.\n",
            "6. Острото й обоняние я води до скритите ъгли на къщата.\n",
            "7. Безстрашно се изправя срещу кучето по време на игра.\n",
            "8. Нежно облизва мустаците си, поддържайки чистотата им.\n",
            "9. Прокрадва се безшумно към мишката, която е забелязала близо до пода.\n",
            "10. Наблюдава птица отвън с любопитство и очакване.</s>\n"
          ]
        },
        {
          "output_type": "stream",
          "name": "stderr",
          "text": [
            "Setting `pad_token_id` to `eos_token_id`:2 for open-end generation.\n"
          ]
        },
        {
          "output_type": "stream",
          "name": "stdout",
          "text": [
            "['<s> [INST]Породи текстове, множество изречения, които се отнасят за \"котка\",', 'която прави различни неща. Породи множество от глаголи и ги изброй: (1. ... 2...', '3...) [/INST]1. Котката тихо се промъква през задния двор. 2. Тя игриво', 'преследва лазерна показалка из цялата къща. 3. Лениво се излежава на любимото си', 'място на слънчева светлина. 4. Скача грациозно върху кухненския плот в търсене', 'на храна. 5. Тихо мърка, докато дреме в скута ви. 6. Острото й обоняние я води', 'до скритите ъгли на къщата. 7. Безстрашно се изправя срещу кучето по време на', 'игра. 8. Нежно облизва мустаците си, поддържайки чистотата им. 9. Прокрадва се', 'безшумно към мишката, която е забелязала близо до пода. 10. Наблюдава птица', 'отвън с любопитство и очакване.</s>']\n",
            "['PROMPT 2:[INST]Преобразувай примерите до съчетания от \"котка\" и глагол', '(сказуемо), какво прави - без допълнения и определения. [/INST]']\n",
            "o.max_new_tokens =  600\n",
            "{'max_default': 600, 't_default': 0.9, 'top_k_default': 40, 'top_p_default': 0.9, 'repetition_penalty_default': 1.15, 'inst': True, 'answer': None, 'ids': None, 'enabled': True, 'prompt': 'Преобразувай примерите до съчетания от \"котка\" и глагол (сказуемо), какво прави - без допълнения и определения.\\n', 'max_new_tokens': 600, 'temperature': 1.0, 'top_k': 3, 'top_p': 0.2, 'repetition_penalty': 1.15}\n",
            "<s> [INST]Преобразувай примерите до съчетания от \"котка\" и глагол (сказуемо), какво прави - без допълнения и определения.\n",
            "[/INST]1. Котката седи на перваза на прозореца.\n",
            "2. Котката преследва мишката.\n",
            "3. Котката спи в кошницата си.</s>\n"
          ]
        },
        {
          "output_type": "stream",
          "name": "stderr",
          "text": [
            "Setting `pad_token_id` to `eos_token_id`:2 for open-end generation.\n"
          ]
        },
        {
          "output_type": "stream",
          "name": "stdout",
          "text": [
            "['<s> [INST]Преобразувай примерите до съчетания от \"котка\" и глагол (сказуемо),', 'какво прави - без допълнения и определения. [/INST]1. Котката седи на перваза на', 'прозореца. 2. Котката преследва мишката. 3. Котката спи в кошницата си.</s>']\n",
            "['PROMPT 3:[INST]Не използвай лично местоимение \"тя\", а \"котката\". [/INST]']\n",
            "o.max_new_tokens =  600\n",
            "{'max_default': 600, 't_default': 0.9, 'top_k_default': 40, 'top_p_default': 0.9, 'repetition_penalty_default': 1.15, 'inst': True, 'answer': None, 'ids': None, 'enabled': True, 'prompt': 'Не използвай лично местоимение \"тя\", а \"котката\".\\n', 'max_new_tokens': 600, 'temperature': 1.0, 'top_k': 3, 'top_p': 0.2, 'repetition_penalty': 1.15}\n",
            "<s> [INST]Не използвай лично местоимение \"тя\", а \"котката\".\n",
            "[/INST]Котката се сви на кълбо и заспа дълбоко.</s>\n"
          ]
        },
        {
          "output_type": "stream",
          "name": "stderr",
          "text": [
            "Setting `pad_token_id` to `eos_token_id`:2 for open-end generation.\n"
          ]
        },
        {
          "output_type": "stream",
          "name": "stdout",
          "text": [
            "['<s> [INST]Не използвай лично местоимение \"тя\", а \"котката\". [/INST]Котката се', 'сви на кълбо и заспа дълбоко.</s>']\n",
            "['PROMPT 4:[INST]Дай още примери с \"котка\" и глаголи, като не използваш', 'местоимението \"тя\", а само \"котка\". Дай поне 30 примера, моля. [/INST]']\n",
            "o.max_new_tokens =  600\n",
            "{'max_default': 600, 't_default': 0.9, 'top_k_default': 40, 'top_p_default': 0.9, 'repetition_penalty_default': 1.15, 'inst': True, 'answer': None, 'ids': None, 'enabled': True, 'prompt': 'Дай още примери с \"котка\" и глаголи, като не използваш местоимението \"тя\", а само \"котка\". Дай поне 30 примера, моля.\\n', 'max_new_tokens': 600, 'temperature': 1.0, 'top_k': 3, 'top_p': 0.2, 'repetition_penalty': 1.15}\n",
            "<s> [INST]Дай още примери с \"котка\" и глаголи, като не използваш местоимението \"тя\", а само \"котка\". Дай поне 30 примера, моля.\n",
            "[/INST]1. Котката преследва мишката.\n",
            "2. Котката се крие в шкафа.\n",
            "3. Котката скача върху масата.\n",
            "4. Котката мърка на дивана.\n",
            "5. Котката гони опашката си.\n",
            "6. Котката се прозява широко.\n",
            "7. Котката облизва лапите си.\n",
            "8. Котката гледа през прозореца.\n",
            "9. Котката драска по стола.\n",
            "10. Котката спи дълбоко.\n",
            "11. Котката хваща пеперуда във въздуха.\n",
            "12. Котката се катери по дървото.\n",
            "13. Котката души цветята.\n",
            "14. Котката лочи от купата си за вода.\n",
            "15. Котката играе с топка прежда.\n",
            "16. Котката се търкаля по пода.\n",
            "17. Котката ближе козината си.\n",
            "18. Котката подушва храната си.\n",
            "19. Котката се промъква тихо.\n",
            "20. Котката се излежава на слънчевия лъч.\n",
            "21. Котката събаря предмети от рафта.\n",
            "22. Котката се прозява разтегнато.\n",
            "23. Котката облизва мустаците си.\n",
            "24. Котката се чеше зад ушите.\n",
            "25. Котката дебне птица на перваза на прозореца.\n",
            "26. Котката се търкаля в тревата.\n",
            "27. Котката дъвче връвчицата на играчката си.\n",
            "28. Котката се протяга лениво.\n",
            "29. Котката се свива на кълбо.\n",
            "30. Котката се прокрадва към вратата.</s>\n"
          ]
        },
        {
          "output_type": "stream",
          "name": "stderr",
          "text": [
            "Setting `pad_token_id` to `eos_token_id`:2 for open-end generation.\n"
          ]
        },
        {
          "output_type": "stream",
          "name": "stdout",
          "text": [
            "['<s> [INST]Дай още примери с \"котка\" и глаголи, като не използваш местоимението', '\"тя\", а само \"котка\". Дай поне 30 примера, моля. [/INST]1. Котката преследва', 'мишката. 2. Котката се крие в шкафа. 3. Котката скача върху масата. 4. Котката', 'мърка на дивана. 5. Котката гони опашката си. 6. Котката се прозява широко. 7.', 'Котката облизва лапите си. 8. Котката гледа през прозореца. 9. Котката драска по', 'стола. 10. Котката спи дълбоко. 11. Котката хваща пеперуда във въздуха. 12.', 'Котката се катери по дървото. 13. Котката души цветята. 14. Котката лочи от', 'купата си за вода. 15. Котката играе с топка прежда. 16. Котката се търкаля по', 'пода. 17. Котката ближе козината си. 18. Котката подушва храната си. 19. Котката', 'се промъква тихо. 20. Котката се излежава на слънчевия лъч. 21. Котката събаря', 'предмети от рафта. 22. Котката се прозява разтегнато. 23. Котката облизва', 'мустаците си. 24. Котката се чеше зад ушите. 25. Котката дебне птица на перваза', 'на прозореца. 26. Котката се търкаля в тревата. 27. Котката дъвче връвчицата на', 'играчката си. 28. Котката се протяга лениво. 29. Котката се свива на кълбо. 30.', 'Котката се прокрадва към вратата.</s>']\n",
            "['PROMPT 5:[INST]Какво означава \"Котката изпи камъка и литна под нанагорнището\"?', 'Можеш ли да обясниш като опишеш ситуацията по-подробно? Какво се случва? [/INST]']\n",
            "o.max_new_tokens =  600\n",
            "{'max_default': 600, 't_default': 0.9, 'top_k_default': 40, 'top_p_default': 0.9, 'repetition_penalty_default': 1.15, 'inst': True, 'answer': None, 'ids': None, 'enabled': True, 'prompt': 'Какво означава \"Котката изпи камъка и литна под нанагорнището\"? Можеш ли да обясниш като опишеш ситуацията по-подробно? Какво се случва?\\n', 'max_new_tokens': 600, 'temperature': 1.0, 'top_k': 3, 'top_p': 0.2, 'repetition_penalty': 1.15}\n",
            "<s> [INST]Какво означава \"Котката изпи камъка и литна под нанагорнището\"? Можеш ли да обясниш като опишеш ситуацията по-подробно? Какво се случва?\n",
            "[/INST]Изразът „котката изпи камъка и полетя нагоре“ е метафоричен начин за изразяване, че някой или нещо е постигнало невероятен успех или напредък. В контекста на ситуация може да изглежда така:\n",
            "\n",
            "Да предположим, че има котка (или човек), която трябва да изкачи много стръмен хълм. Хълмът е толкова стръмен, че изглежда невъзможно котката да го изкачи без помощ. Въпреки това, вместо да изяде храната си бавно и постепенно, както обикновено правят котките, тази конкретна котка решава да я глътне цялата наведнъж. Това действие кара котката да се почувства необичайно силна и енергична.\n",
            "\n",
            "Тази внезапна енергия позволява на котката да преодолее гравитацията и да полети нагоре по склона на хълма, сякаш не усеща никаква тежест. Котката продължава да лети все по-високо и по-високо, докато в крайна сметка достигне върха на хълма. Изненадващо, но котката успя да постигне този невероятен подвиг само защото реши да пренебрегне обичайния си метод за хранене и вместо това избра да действа по различен, неочакван начин.\n",
            "\n",
            "По същество фразата предполага, че понякога всичко, от което се нуждаем, е промяна в нашия подход или перспектива, за да постигнем успех там, където преди сме се провалили.</s>\n"
          ]
        },
        {
          "output_type": "stream",
          "name": "stderr",
          "text": [
            "Setting `pad_token_id` to `eos_token_id`:2 for open-end generation.\n"
          ]
        },
        {
          "output_type": "stream",
          "name": "stdout",
          "text": [
            "['<s> [INST]Какво означава \"Котката изпи камъка и литна под нанагорнището\"? Можеш', 'ли да обясниш като опишеш ситуацията по-подробно? Какво се случва?', '[/INST]Изразът „котката изпи камъка и полетя нагоре“ е метафоричен начин за', 'изразяване, че някой или нещо е постигнало невероятен успех или напредък. В', 'контекста на ситуация може да изглежда така:  Да предположим, че има котка (или', 'човек), която трябва да изкачи много стръмен хълм. Хълмът е толкова стръмен, че', 'изглежда невъзможно котката да го изкачи без помощ. Въпреки това, вместо да', 'изяде храната си бавно и постепенно, както обикновено правят котките, тази', 'конкретна котка решава да я глътне цялата наведнъж. Това действие кара котката', 'да се почувства необичайно силна и енергична.  Тази внезапна енергия позволява', 'на котката да преодолее гравитацията и да полети нагоре по склона на хълма,', 'сякаш не усеща никаква тежест. Котката продължава да лети все по-високо и по-', 'високо, докато в крайна сметка достигне върха на хълма. Изненадващо, но котката', 'успя да постигне този невероятен подвиг само защото реши да пренебрегне', 'обичайния си метод за хранене и вместо това избра да действа по различен,', 'неочакван начин.  По същество фразата предполага, че понякога всичко, от което', 'се нуждаем, е промяна в нашия подход или перспектива, за да постигнем успех там,', 'където преди сме се провалили.</s>']\n",
            "['PROMPT 6:[INST]Правилна ли е комбинацията \"котката изпи\"? [/INST]']\n",
            "o.max_new_tokens =  600\n",
            "{'max_default': 600, 't_default': 0.9, 'top_k_default': 40, 'top_p_default': 0.9, 'repetition_penalty_default': 1.15, 'inst': True, 'answer': None, 'ids': None, 'enabled': True, 'prompt': 'Правилна ли е комбинацията \"котката изпи\"?\\n', 'max_new_tokens': 600, 'temperature': 1.0, 'top_k': 3, 'top_p': 0.2, 'repetition_penalty': 1.15}\n",
            "<s> [INST]Правилна ли е комбинацията \"котката изпи\"?\n",
            "[/INST]Да, правилната комбинация би била „Котката пие“.</s>\n"
          ]
        },
        {
          "output_type": "stream",
          "name": "stderr",
          "text": [
            "Setting `pad_token_id` to `eos_token_id`:2 for open-end generation.\n"
          ]
        },
        {
          "output_type": "stream",
          "name": "stdout",
          "text": [
            "['<s> [INST]Правилна ли е комбинацията \"котката изпи\"? [/INST]Да, правилната', 'комбинация би била „Котката пие“.</s>']\n",
            "['PROMPT 7:[INST]Състави примерни изречения с \"котката изпи\". [/INST]']\n",
            "o.max_new_tokens =  600\n",
            "{'max_default': 600, 't_default': 0.9, 'top_k_default': 40, 'top_p_default': 0.9, 'repetition_penalty_default': 1.15, 'inst': True, 'answer': None, 'ids': None, 'enabled': True, 'prompt': 'Състави примерни изречения с \"котката изпи\".\\n', 'max_new_tokens': 600, 'temperature': 1.0, 'top_k': 3, 'top_p': 0.2, 'repetition_penalty': 1.15}\n",
            "<s> [INST]Състави примерни изречения с \"котката изпи\".\n",
            "[/INST]Котката изпи чаша мляко. Котката изпи водата от купата си. Котката изпи кафето на собственика си.</s>\n"
          ]
        },
        {
          "output_type": "stream",
          "name": "stderr",
          "text": [
            "Setting `pad_token_id` to `eos_token_id`:2 for open-end generation.\n"
          ]
        },
        {
          "output_type": "stream",
          "name": "stdout",
          "text": [
            "['<s> [INST]Състави примерни изречения с \"котката изпи\". [/INST]Котката изпи чаша', 'мляко. Котката изпи водата от купата си. Котката изпи кафето на собственика', 'си.</s>']\n",
            "['PROMPT 8:[INST]Раздели на прости изречения: \"\"Котката изпи камъка и литна под', 'нанагорнището.\"\" [/INST]']\n",
            "o.max_new_tokens =  600\n",
            "{'max_default': 600, 't_default': 0.9, 'top_k_default': 40, 'top_p_default': 0.9, 'repetition_penalty_default': 1.15, 'inst': True, 'answer': None, 'ids': None, 'enabled': True, 'prompt': 'Раздели на прости изречения: \"\"Котката изпи камъка и литна под нанагорнището.\"\"\\n', 'max_new_tokens': 600, 'temperature': 1.0, 'top_k': 3, 'top_p': 0.2, 'repetition_penalty': 1.15}\n",
            "<s> [INST]Раздели на прости изречения: \"\"Котката изпи камъка и литна под нанагорнището.\"\"\n",
            "[/INST]1. Котката изпи камъка.\n",
            "2. И полетя нагоре по хълма.</s>\n"
          ]
        },
        {
          "output_type": "stream",
          "name": "stderr",
          "text": [
            "Setting `pad_token_id` to `eos_token_id`:2 for open-end generation.\n"
          ]
        },
        {
          "output_type": "stream",
          "name": "stdout",
          "text": [
            "['<s> [INST]Раздели на прости изречения: \"\"Котката изпи камъка и литна под', 'нанагорнището.\"\" [/INST]1. Котката изпи камъка. 2. И полетя нагоре по хълма.</s>']\n",
            "['PROMPT 9:[INST]Направи граматически разбор на изреченията: 1. \"\"Котката изпи', 'камъка.\"\": 2. \"\"Литна под нанагорнището\". Вършител, действие, подлог, предлог?', '[/INST]']\n",
            "o.max_new_tokens =  600\n",
            "{'max_default': 600, 't_default': 0.9, 'top_k_default': 40, 'top_p_default': 0.9, 'repetition_penalty_default': 1.15, 'inst': True, 'answer': None, 'ids': None, 'enabled': True, 'prompt': 'Направи граматически разбор на изреченията: 1. \"\"Котката изпи камъка.\"\": 2. \"\"Литна под нанагорнището\". Вършител, действие, подлог, предлог?\\n', 'max_new_tokens': 600, 'temperature': 1.0, 'top_k': 3, 'top_p': 0.2, 'repetition_penalty': 1.15}\n",
            "<s> [INST]Направи граматически разбор на изреченията: 1. \"\"Котката изпи камъка.\"\": 2. \"\"Литна под нанагорнището\". Вършител, действие, подлог, предлог?\n",
            "[/INST]1. \"Котката изяде камъка.\"\n",
            "- Субект: Котката\n",
            "- Глагол: Изядох\n",
            "- Обект: Камъкът\n",
            "- Предлог: На (в този случай се използва за обозначаване на местоположението на действието)\n",
            "\n",
            "2. „Той полетя по склона.“\n",
            "- Агент: Той\n",
            "- Действие: Летя\n",
            "- Подлог: По хълма</s>\n"
          ]
        },
        {
          "output_type": "stream",
          "name": "stderr",
          "text": [
            "Setting `pad_token_id` to `eos_token_id`:2 for open-end generation.\n"
          ]
        },
        {
          "output_type": "stream",
          "name": "stdout",
          "text": [
            "['<s> [INST]Направи граматически разбор на изреченията: 1. \"\"Котката изпи', 'камъка.\"\": 2. \"\"Литна под нанагорнището\". Вършител, действие, подлог, предлог?', '[/INST]1. \"Котката изяде камъка.\" - Субект: Котката - Глагол: Изядох - Обект:', 'Камъкът - Предлог: На (в този случай се използва за обозначаване на', 'местоположението на действието)  2. „Той полетя по склона.“ - Агент: Той -', 'Действие: Летя - Подлог: По хълма</s>']\n",
            "['PROMPT 10:[INST]Правилно ли са построени сложното изречение \"Котката изпи камъка', 'и литна под нанагорнището.\" и двете прости, които го съставят?  [/INST]']\n",
            "o.max_new_tokens =  600\n",
            "{'max_default': 600, 't_default': 0.9, 'top_k_default': 40, 'top_p_default': 0.9, 'repetition_penalty_default': 1.15, 'inst': True, 'answer': None, 'ids': None, 'enabled': True, 'prompt': 'Правилно ли са построени сложното изречение \"Котката изпи камъка и литна под нанагорнището.\" и двете прости, които го съставят? \\n', 'max_new_tokens': 600, 'temperature': 1.0, 'top_k': 3, 'top_p': 0.2, 'repetition_penalty': 1.15}\n",
            "<s> [INST]Правилно ли са построени сложното изречение \"Котката изпи камъка и литна под нанагорнището.\" и двете прости, които го съставят? \n",
            "[/INST]Не, сложното изречение „Котката изпи камъка и полетя по нанадолнището“ не е правилно конструирано. Правилното изграждане на простото изречение би било:\n",
            "\n",
            "1. Котката изпи камъка (субект + глагол + обект)\n",
            "2. Котката летеше надолу по хълма (субект + глагол + предложна фраза).</s>\n"
          ]
        },
        {
          "output_type": "stream",
          "name": "stderr",
          "text": [
            "Setting `pad_token_id` to `eos_token_id`:2 for open-end generation.\n"
          ]
        },
        {
          "output_type": "stream",
          "name": "stdout",
          "text": [
            "['<s> [INST]Правилно ли са построени сложното изречение \"Котката изпи камъка и', 'литна под нанагорнището.\" и двете прости, които го съставят?  [/INST]Не,', 'сложното изречение „Котката изпи камъка и полетя по нанадолнището“ не е правилно', 'конструирано. Правилното изграждане на простото изречение би било:  1. Котката', 'изпи камъка (субект + глагол + обект) 2. Котката летеше надолу по хълма (субект', '+ глагол + предложна фраза).</s>']\n",
            "['PROMPT 11:[INST]Обясни какво значат думите: \"котката\", \"изпи\", \"камъка\", \"и\",', '\"литна\", \"под\", \"нанагорнището\". [/INST]']\n",
            "o.max_new_tokens =  600\n",
            "{'max_default': 600, 't_default': 0.9, 'top_k_default': 40, 'top_p_default': 0.9, 'repetition_penalty_default': 1.15, 'inst': True, 'answer': None, 'ids': None, 'enabled': True, 'prompt': 'Обясни какво значат думите: \"котката\", \"изпи\", \"камъка\", \"и\", \"литна\", \"под\", \"нанагорнището\".\\n', 'max_new_tokens': 600, 'temperature': 1.0, 'top_k': 3, 'top_p': 0.2, 'repetition_penalty': 1.15}\n",
            "<s> [INST]Обясни какво значат думите: \"котката\", \"изпи\", \"камъка\", \"и\", \"литна\", \"под\", \"нанагорнището\".\n",
            "[/INST]1. Котка - Домашен любимец, малък бозайник с мека козина и остри нокти, който е известен със своята грация и независимост.\n",
            "2. Изпи - Да консумирате напълно или да завършите цялото количество от нещо, като напитка или храна.\n",
            "3. Камък - Твърдо вещество, обикновено твърдо и зърнесто, което се среща естествено в природата, често използвано за строителство или декоративни цели.\n",
            "4. И - Съюз, използван за свързване на две думи или фрази и показващ връзка между тях.\n",
            "5. Литна - Да започнете да летите; да станеш във въздуха чрез движение на криле или други средства.\n",
            "6. Под - Отдолу; разположен по-ниско от определено ниво или повърхност.\n",
            "7. Нанагорнище - Стръмен склон, който се издига нагоре или нагоре; противоположността на наклон.</s>\n"
          ]
        },
        {
          "output_type": "stream",
          "name": "stderr",
          "text": [
            "Setting `pad_token_id` to `eos_token_id`:2 for open-end generation.\n"
          ]
        },
        {
          "output_type": "stream",
          "name": "stdout",
          "text": [
            "['<s> [INST]Обясни какво значат думите: \"котката\", \"изпи\", \"камъка\", \"и\", \"литна\",', '\"под\", \"нанагорнището\". [/INST]1. Котка - Домашен любимец, малък бозайник с мека', 'козина и остри нокти, който е известен със своята грация и независимост. 2. Изпи', '- Да консумирате напълно или да завършите цялото количество от нещо, като', 'напитка или храна. 3. Камък - Твърдо вещество, обикновено твърдо и зърнесто,', 'което се среща естествено в природата, често използвано за строителство или', 'декоративни цели. 4. И - Съюз, използван за свързване на две думи или фрази и', 'показващ връзка между тях. 5. Литна - Да започнете да летите; да станеш във', 'въздуха чрез движение на криле или други средства. 6. Под - Отдолу; разположен', 'по-ниско от определено ниво или повърхност. 7. Нанагорнище - Стръмен склон,', 'който се издига нагоре или нагоре; противоположността на наклон.</s>']\n",
            "['PROMPT 12:[INST]Правилни ли са изразите, словосъчетанията: \"котката изпи\", \"изпи', 'камъка\", \"камъка и\", \"и литна\", \"литна под\", \"под нанагорнището\"? [/INST]']\n",
            "o.max_new_tokens =  600\n",
            "{'max_default': 600, 't_default': 0.9, 'top_k_default': 40, 'top_p_default': 0.9, 'repetition_penalty_default': 1.15, 'inst': True, 'answer': None, 'ids': None, 'enabled': True, 'prompt': 'Правилни ли са изразите, словосъчетанията: \"котката изпи\", \"изпи камъка\", \"камъка и\", \"и литна\", \"литна под\", \"под нанагорнището\"?\\n', 'max_new_tokens': 600, 'temperature': 1.0, 'top_k': 3, 'top_p': 0.2, 'repetition_penalty': 1.15}\n",
            "<s> [INST]Правилни ли са изразите, словосъчетанията: \"котката изпи\", \"изпи камъка\", \"камъка и\", \"и литна\", \"литна под\", \"под нанагорнището\"?\n",
            "[/INST]Не, тези изрази не са правилни. Ето коригираните версии:\n",
            "\n",
            "1. Котката яде - Това е по-точен начин да кажете, че котката е изяла нещо.\n",
            "2. Изяждане на камък - Това е метафоричен израз, който означава, че някой се бори с трудна или непосилна задача.\n",
            "3. Камъкът и - Тази фраза изглежда непълна; може би искате да кажете „камъкът и пясъка“ или просто „пясък“.\n",
            "4. И полетя - Това е граматически правилно, но звучи малко странно. По-естествено би било да се каже „отлетя“.\n",
            "5. Летящ отдолу - Този израз няма смисъл в този контекст. Може би имате предвид „летене отдолу“, което означава летене близо до земята.\n",
            "6. Под нанадолнище - Правилното изписване е „надолу по наклона“.</s>\n"
          ]
        },
        {
          "output_type": "stream",
          "name": "stderr",
          "text": [
            "Setting `pad_token_id` to `eos_token_id`:2 for open-end generation.\n"
          ]
        },
        {
          "output_type": "stream",
          "name": "stdout",
          "text": [
            "['<s> [INST]Правилни ли са изразите, словосъчетанията: \"котката изпи\", \"изпи', 'камъка\", \"камъка и\", \"и литна\", \"литна под\", \"под нанагорнището\"? [/INST]Не,', 'тези изрази не са правилни. Ето коригираните версии:  1. Котката яде - Това е', 'по-точен начин да кажете, че котката е изяла нещо. 2. Изяждане на камък - Това е', 'метафоричен израз, който означава, че някой се бори с трудна или непосилна', 'задача. 3. Камъкът и - Тази фраза изглежда непълна; може би искате да кажете', '„камъкът и пясъка“ или просто „пясък“. 4. И полетя - Това е граматически', 'правилно, но звучи малко странно. По-естествено би било да се каже „отлетя“. 5.', 'Летящ отдолу - Този израз няма смисъл в този контекст. Може би имате предвид', '„летене отдолу“, което означава летене близо до земята. 6. Под нанадолнище -', 'Правилното изписване е „надолу по наклона“.</s>']\n",
            "['PROMPT 13:[INST]Правилни ли са изразите, словосъчетанията: \"котката изпи\", \"изпи', 'камъка\", \"камъка и\", \"и литна\", \"литна под\", \"под нанагорнището\"? И опиши', 'граматическата им структура (подлог, допълнение, глагол, предлог, съюз и пр.)', '[/INST]']\n",
            "o.max_new_tokens =  600\n",
            "{'max_default': 600, 't_default': 0.9, 'top_k_default': 40, 'top_p_default': 0.9, 'repetition_penalty_default': 1.15, 'inst': True, 'answer': None, 'ids': None, 'enabled': True, 'prompt': 'Правилни ли са изразите, словосъчетанията: \"котката изпи\", \"изпи камъка\", \"камъка и\", \"и литна\", \"литна под\", \"под нанагорнището\"? И опиши граматическата им структура (подлог, допълнение, глагол, предлог, съюз и пр.)\\n', 'max_new_tokens': 600, 'temperature': 1.0, 'top_k': 3, 'top_p': 0.2, 'repetition_penalty': 1.15}\n",
            "<s> [INST]Правилни ли са изразите, словосъчетанията: \"котката изпи\", \"изпи камъка\", \"камъка и\", \"и литна\", \"литна под\", \"под нанагорнището\"? И опиши граматическата им структура (подлог, допълнение, глагол, предлог, съюз и пр.)\n",
            "[/INST]Не, тези изрази не са правилни. Нека анализираме грешките във всяка фраза:\n",
            "\n",
            "1. „Котката изпи“ – Глаголът „да пиеш“ изисква обект, който да се консумира, така че тази фраза е неправилна. Правилното изречение би било „Котката изпи млякото“.\n",
            "2. „Изпи камъкът“ - Тук има две грешки. Първо, глаголът \"to drink\" трябва да бъде \"to eat\". Второ, обектът \"the stone\" трябва да дойде преди глагола, което го прави правилно изречение „Камъкът изяде“.\n",
            "3. „Камъкът и“ – Тази фраза изглежда непълна. Трябва да има съществително или друг елемент след „и“, за да образува смислено изречение. Например „Камъкът и скалата паднаха“.\n",
            "4. „И полетя“ – Това изречение е непълно. Нуждае се от субект, за да бъде пълно. Например „Птицата излетя“.\n",
            "5. „Полетя под“ – Тази фраза също е непълна. Има нужда от допълнителен контекст или обект, за да стане пълна. Например „Самолетът летя под облаците“.\n",
            "6. „Надолу по нанадолнището“ – Въпреки че това не е непременно неправилно, то може да звучи малко тромаво. По-плавният вариант би бил „Спускане по хълм“.</s>\n"
          ]
        },
        {
          "output_type": "stream",
          "name": "stderr",
          "text": [
            "Setting `pad_token_id` to `eos_token_id`:2 for open-end generation.\n"
          ]
        },
        {
          "output_type": "stream",
          "name": "stdout",
          "text": [
            "['<s> [INST]Правилни ли са изразите, словосъчетанията: \"котката изпи\", \"изпи', 'камъка\", \"камъка и\", \"и литна\", \"литна под\", \"под нанагорнището\"? И опиши', 'граматическата им структура (подлог, допълнение, глагол, предлог, съюз и пр.)', '[/INST]Не, тези изрази не са правилни. Нека анализираме грешките във всяка', 'фраза:  1. „Котката изпи“ – Глаголът „да пиеш“ изисква обект, който да се', 'консумира, така че тази фраза е неправилна. Правилното изречение би било', '„Котката изпи млякото“. 2. „Изпи камъкът“ - Тук има две грешки. Първо, глаголът', '\"to drink\" трябва да бъде \"to eat\". Второ, обектът \"the stone\" трябва да дойде', 'преди глагола, което го прави правилно изречение „Камъкът изяде“. 3. „Камъкът и“', '– Тази фраза изглежда непълна. Трябва да има съществително или друг елемент след', '„и“, за да образува смислено изречение. Например „Камъкът и скалата паднаха“. 4.', '„И полетя“ – Това изречение е непълно. Нуждае се от субект, за да бъде пълно.', 'Например „Птицата излетя“. 5. „Полетя под“ – Тази фраза също е непълна. Има', 'нужда от допълнителен контекст или обект, за да стане пълна. Например „Самолетът', 'летя под облаците“. 6. „Надолу по нанадолнището“ – Въпреки че това не е', 'непременно неправилно, то може да звучи малко тромаво. По-плавният вариант би', 'бил „Спускане по хълм“.</s>']\n",
            "['Текстове за \"котка\", която прави различни неща']\n",
            "['<s> [INST]Текстове за \"котка\", която прави различни неща [/INST]1. Котката на', 'Джейн, Мисти, обичаше да се излежава върху топло слънчево място на перваза на', 'прозореца. Тя би прекарала часове в мъркане и дрямка, докато наблюдава птиците', 'отвън. 2. В кухнята си Тони имаше малка котка на име Whiskers. Всяка сутрин', 'Whiskers щеше да танцува около краката му, молейки за закуска. След като получи', 'храната си, Whiskers щеше да изчезне в любимото си скривалище под дивана. 3.', 'Когато беше малък, Тим винаги мечтаеше да има котка. Накрая родителите му го', 'изненадаха с пухкав черен котарак на име Чарли. Оттогава Чарли стана най-добрият', 'приятел на Тим, следвайки го навсякъде из къщата и дори се присъединява към него', 'по време на игра на топка в задния двор. 4. Г-жа Дейвис осинови красива бяла', 'котка на име Сноуфлейк от местния приют за животни. Сноуфлейк бързо се превърна', 'в център на внимание сред съседите благодарение на уникалната си снежнобяла', 'козина и игривия характер. 5. В дъждовните дни котката на Сара, Силвър, обичаше', 'да се свива на кълбо до печката, наслаждавайки се на топлината, излъчвана от', 'дървените въглища. Силвър също така обичаше да лови мишки, които се осмеляваха', 'да дойдат твърде близо до дома им.</s>']\n",
            "['Породи текстове, множество изречения, които се отнасят за \"котка\", която прави', 'различни неща. Породи множество от глаголи и ги изброй: (1. ... 2... 3...)']\n",
            "['<s> [INST]Породи текстове, множество изречения, които се отнасят за \"котка\",', 'която прави различни неща. Породи множество от глаголи и ги изброй: (1. ... 2...', '3...) [/INST]1. Котката тихо се промъква през задния двор. 2. Тя игриво', 'преследва лазерна показалка из цялата къща. 3. Лениво се излежава на любимото си', 'място на слънчева светлина. 4. Скача грациозно върху кухненския плот в търсене', 'на храна. 5. Тихо мърка, докато дреме в скута ви. 6. Острото й обоняние я води', 'до скритите ъгли на къщата. 7. Безстрашно се изправя срещу кучето по време на', 'игра. 8. Нежно облизва мустаците си, поддържайки чистотата им. 9. Прокрадва се', 'безшумно към мишката, която е забелязала близо до пода. 10. Наблюдава птица', 'отвън с любопитство и очакване.</s>']\n",
            "['Преобразувай примерите до съчетания от \"котка\" и глагол (сказуемо), какво прави', '- без допълнения и определения.']\n",
            "['<s> [INST]Преобразувай примерите до съчетания от \"котка\" и глагол (сказуемо),', 'какво прави - без допълнения и определения. [/INST]1. Котката седи на перваза на', 'прозореца. 2. Котката преследва мишката. 3. Котката спи в кошницата си.</s>']\n",
            "['Не използвай лично местоимение \"тя\", а \"котката\".']\n",
            "['<s> [INST]Не използвай лично местоимение \"тя\", а \"котката\". [/INST]Котката се', 'сви на кълбо и заспа дълбоко.</s>']\n",
            "['Дай още примери с \"котка\" и глаголи, като не използваш местоимението \"тя\", а', 'само \"котка\". Дай поне 30 примера, моля.']\n",
            "['<s> [INST]Дай още примери с \"котка\" и глаголи, като не използваш местоимението', '\"тя\", а само \"котка\". Дай поне 30 примера, моля. [/INST]1. Котката преследва', 'мишката. 2. Котката се крие в шкафа. 3. Котката скача върху масата. 4. Котката', 'мърка на дивана. 5. Котката гони опашката си. 6. Котката се прозява широко. 7.', 'Котката облизва лапите си. 8. Котката гледа през прозореца. 9. Котката драска по', 'стола. 10. Котката спи дълбоко. 11. Котката хваща пеперуда във въздуха. 12.', 'Котката се катери по дървото. 13. Котката души цветята. 14. Котката лочи от', 'купата си за вода. 15. Котката играе с топка прежда. 16. Котката се търкаля по', 'пода. 17. Котката ближе козината си. 18. Котката подушва храната си. 19. Котката', 'се промъква тихо. 20. Котката се излежава на слънчевия лъч. 21. Котката събаря', 'предмети от рафта. 22. Котката се прозява разтегнато. 23. Котката облизва', 'мустаците си. 24. Котката се чеше зад ушите. 25. Котката дебне птица на перваза', 'на прозореца. 26. Котката се търкаля в тревата. 27. Котката дъвче връвчицата на', 'играчката си. 28. Котката се протяга лениво. 29. Котката се свива на кълбо. 30.', 'Котката се прокрадва към вратата.</s>']\n",
            "['Какво означава \"Котката изпи камъка и литна под нанагорнището\"? Можеш ли да', 'обясниш като опишеш ситуацията по-подробно? Какво се случва?']\n",
            "['<s> [INST]Какво означава \"Котката изпи камъка и литна под нанагорнището\"? Можеш', 'ли да обясниш като опишеш ситуацията по-подробно? Какво се случва?', '[/INST]Изразът „котката изпи камъка и полетя нагоре“ е метафоричен начин за', 'изразяване, че някой или нещо е постигнало невероятен успех или напредък. В', 'контекста на ситуация може да изглежда така:  Да предположим, че има котка (или', 'човек), която трябва да изкачи много стръмен хълм. Хълмът е толкова стръмен, че', 'изглежда невъзможно котката да го изкачи без помощ. Въпреки това, вместо да', 'изяде храната си бавно и постепенно, както обикновено правят котките, тази', 'конкретна котка решава да я глътне цялата наведнъж. Това действие кара котката', 'да се почувства необичайно силна и енергична.  Тази внезапна енергия позволява', 'на котката да преодолее гравитацията и да полети нагоре по склона на хълма,', 'сякаш не усеща никаква тежест. Котката продължава да лети все по-високо и по-', 'високо, докато в крайна сметка достигне върха на хълма. Изненадващо, но котката', 'успя да постигне този невероятен подвиг само защото реши да пренебрегне', 'обичайния си метод за хранене и вместо това избра да действа по различен,', 'неочакван начин.  По същество фразата предполага, че понякога всичко, от което', 'се нуждаем, е промяна в нашия подход или перспектива, за да постигнем успех там,', 'където преди сме се провалили.</s>']\n",
            "['Правилна ли е комбинацията \"котката изпи\"?']\n",
            "['<s> [INST]Правилна ли е комбинацията \"котката изпи\"? [/INST]Да, правилната', 'комбинация би била „Котката пие“.</s>']\n",
            "['Състави примерни изречения с \"котката изпи\".']\n",
            "['<s> [INST]Състави примерни изречения с \"котката изпи\". [/INST]Котката изпи чаша', 'мляко. Котката изпи водата от купата си. Котката изпи кафето на собственика', 'си.</s>']\n",
            "['Раздели на прости изречения: \"\"Котката изпи камъка и литна под нанагорнището.\"\"']\n",
            "['<s> [INST]Раздели на прости изречения: \"\"Котката изпи камъка и литна под', 'нанагорнището.\"\" [/INST]1. Котката изпи камъка. 2. И полетя нагоре по хълма.</s>']\n",
            "['Направи граматически разбор на изреченията: 1. \"\"Котката изпи камъка.\"\": 2.', '\"\"Литна под нанагорнището\". Вършител, действие, подлог, предлог?']\n",
            "['<s> [INST]Направи граматически разбор на изреченията: 1. \"\"Котката изпи', 'камъка.\"\": 2. \"\"Литна под нанагорнището\". Вършител, действие, подлог, предлог?', '[/INST]1. \"Котката изяде камъка.\" - Субект: Котката - Глагол: Изядох - Обект:', 'Камъкът - Предлог: На (в този случай се използва за обозначаване на', 'местоположението на действието)  2. „Той полетя по склона.“ - Агент: Той -', 'Действие: Летя - Подлог: По хълма</s>']\n",
            "['Правилно ли са построени сложното изречение \"Котката изпи камъка и литна под', 'нанагорнището.\" и двете прости, които го съставят?']\n",
            "['<s> [INST]Правилно ли са построени сложното изречение \"Котката изпи камъка и', 'литна под нанагорнището.\" и двете прости, които го съставят?  [/INST]Не,', 'сложното изречение „Котката изпи камъка и полетя по нанадолнището“ не е правилно', 'конструирано. Правилното изграждане на простото изречение би било:  1. Котката', 'изпи камъка (субект + глагол + обект) 2. Котката летеше надолу по хълма (субект', '+ глагол + предложна фраза).</s>']\n",
            "['Обясни какво значат думите: \"котката\", \"изпи\", \"камъка\", \"и\", \"литна\", \"под\",', '\"нанагорнището\".']\n",
            "['<s> [INST]Обясни какво значат думите: \"котката\", \"изпи\", \"камъка\", \"и\", \"литна\",', '\"под\", \"нанагорнището\". [/INST]1. Котка - Домашен любимец, малък бозайник с мека', 'козина и остри нокти, който е известен със своята грация и независимост. 2. Изпи', '- Да консумирате напълно или да завършите цялото количество от нещо, като', 'напитка или храна. 3. Камък - Твърдо вещество, обикновено твърдо и зърнесто,', 'което се среща естествено в природата, често използвано за строителство или', 'декоративни цели. 4. И - Съюз, използван за свързване на две думи или фрази и', 'показващ връзка между тях. 5. Литна - Да започнете да летите; да станеш във', 'въздуха чрез движение на криле или други средства. 6. Под - Отдолу; разположен', 'по-ниско от определено ниво или повърхност. 7. Нанагорнище - Стръмен склон,', 'който се издига нагоре или нагоре; противоположността на наклон.</s>']\n",
            "['Правилни ли са изразите, словосъчетанията: \"котката изпи\", \"изпи камъка\",', '\"камъка и\", \"и литна\", \"литна под\", \"под нанагорнището\"?']\n",
            "['<s> [INST]Правилни ли са изразите, словосъчетанията: \"котката изпи\", \"изпи', 'камъка\", \"камъка и\", \"и литна\", \"литна под\", \"под нанагорнището\"? [/INST]Не,', 'тези изрази не са правилни. Ето коригираните версии:  1. Котката яде - Това е', 'по-точен начин да кажете, че котката е изяла нещо. 2. Изяждане на камък - Това е', 'метафоричен израз, който означава, че някой се бори с трудна или непосилна', 'задача. 3. Камъкът и - Тази фраза изглежда непълна; може би искате да кажете', '„камъкът и пясъка“ или просто „пясък“. 4. И полетя - Това е граматически', 'правилно, но звучи малко странно. По-естествено би било да се каже „отлетя“. 5.', 'Летящ отдолу - Този израз няма смисъл в този контекст. Може би имате предвид', '„летене отдолу“, което означава летене близо до земята. 6. Под нанадолнище -', 'Правилното изписване е „надолу по наклона“.</s>']\n",
            "['Правилни ли са изразите, словосъчетанията: \"котката изпи\", \"изпи камъка\",', '\"камъка и\", \"и литна\", \"литна под\", \"под нанагорнището\"? И опиши граматическата', 'им структура (подлог, допълнение, глагол, предлог, съюз и пр.)']\n",
            "['<s> [INST]Правилни ли са изразите, словосъчетанията: \"котката изпи\", \"изпи', 'камъка\", \"камъка и\", \"и литна\", \"литна под\", \"под нанагорнището\"? И опиши', 'граматическата им структура (подлог, допълнение, глагол, предлог, съюз и пр.)', '[/INST]Не, тези изрази не са правилни. Нека анализираме грешките във всяка', 'фраза:  1. „Котката изпи“ – Глаголът „да пиеш“ изисква обект, който да се', 'консумира, така че тази фраза е неправилна. Правилното изречение би било', '„Котката изпи млякото“. 2. „Изпи камъкът“ - Тук има две грешки. Първо, глаголът', '\"to drink\" трябва да бъде \"to eat\". Второ, обектът \"the stone\" трябва да дойде', 'преди глагола, което го прави правилно изречение „Камъкът изяде“. 3. „Камъкът и“', '– Тази фраза изглежда непълна. Трябва да има съществително или друг елемент след', '„и“, за да образува смислено изречение. Например „Камъкът и скалата паднаха“. 4.', '„И полетя“ – Това изречение е непълно. Нуждае се от субект, за да бъде пълно.', 'Например „Птицата излетя“. 5. „Полетя под“ – Тази фраза също е непълна. Има', 'нужда от допълнителен контекст или обект, за да стане пълна. Например „Самолетът', 'летя под облаците“. 6. „Надолу по нанадолнището“ – Въпреки че това не е', 'непременно неправилно, то може да звучи малко тромаво. По-плавният вариант би', 'бил „Спускане по хълм“.</s>']\n",
            "str(v) [10, 30, 50, 100, 200]\n",
            "G== Резюмирай текста в рамките на 10 думи. \n",
            "__init__.prompt: Резюмирай текста в рамките на 10 думи. \n",
            "init Options... <__main__.Options object at 0x78997daa8190>\n",
            "G== Резюмирай текста в рамките на 30 думи. \n",
            "__init__.prompt: Резюмирай текста в рамките на 30 думи. \n",
            "init Options... <__main__.Options object at 0x78997daa86a0>\n",
            "G== Резюмирай текста в рамките на 50 думи. \n",
            "__init__.prompt: Резюмирай текста в рамките на 50 думи. \n",
            "init Options... <__main__.Options object at 0x78997da9c070>\n",
            "G== Резюмирай текста в рамките на 100 думи. \n",
            "__init__.prompt: Резюмирай текста в рамките на 100 думи. \n",
            "init Options... <__main__.Options object at 0x78997da9c340>\n",
            "G== Резюмирай текста в рамките на 200 думи. \n",
            "__init__.prompt: Резюмирай текста в рамките на 200 думи. \n",
            "init Options... <__main__.Options object at 0x78997da9f7f0>\n",
            "['PROMPT 0:[INST]Резюмирай текста в рамките на 10 думи. [/INST]']\n",
            "o.max_new_tokens =  600\n",
            "{'max_default': 600, 't_default': 0.9, 'top_k_default': 40, 'top_p_default': 0.9, 'repetition_penalty_default': 1.15, 'inst': True, 'answer': None, 'ids': None, 'enabled': True, 'prompt': 'Резюмирай текста в рамките на 10 думи. ', 'max_new_tokens': 600, 'temperature': 0.1, 'top_k': 40, 'top_p': 0.9, 'repetition_penalty': 1.15}\n",
            "<s> [INST]Резюмирай текста в рамките на 10 думи. [/INST]Президентът Тръмп подписа изпълнителна заповед за налагане на мита върху вноса на стомана и алуминий, което предизвика опасения относно потенциалното въздействие върху световната търговия и икономическите отношения със съюзниците.</s>\n"
          ]
        },
        {
          "output_type": "stream",
          "name": "stderr",
          "text": [
            "Setting `pad_token_id` to `eos_token_id`:2 for open-end generation.\n"
          ]
        },
        {
          "output_type": "stream",
          "name": "stdout",
          "text": [
            "['<s> [INST]Резюмирай текста в рамките на 10 думи. [/INST]Президентът Тръмп', 'подписа изпълнителна заповед за налагане на мита върху вноса на стомана и', 'алуминий, което предизвика опасения относно потенциалното въздействие върху', 'световната търговия и икономическите отношения със съюзниците.</s>']\n",
            "['PROMPT 1:[INST]Резюмирай текста в рамките на 30 думи. [/INST]']\n",
            "o.max_new_tokens =  600\n",
            "{'max_default': 600, 't_default': 0.9, 'top_k_default': 40, 'top_p_default': 0.9, 'repetition_penalty_default': 1.15, 'inst': True, 'answer': None, 'ids': None, 'enabled': True, 'prompt': 'Резюмирай текста в рамките на 30 думи. ', 'max_new_tokens': 600, 'temperature': 0.9, 'top_k': 30, 'top_p': 0.9, 'repetition_penalty': 1.15}\n",
            "<s> [INST]Резюмирай текста в рамките на 30 думи. [/INST]В текста се говори за важността да бъдеш внимателен към собствените си чувства и нужди, вместо просто да ги пренебрегваш или потискаш. То подчертава колко е важно да изразите истинските си емоции и мисли, тъй като това може да доведе до подобрено психично здраве, по-добри взаимоотношения и лично израстване.</s>\n"
          ]
        },
        {
          "output_type": "stream",
          "name": "stderr",
          "text": [
            "Setting `pad_token_id` to `eos_token_id`:2 for open-end generation.\n"
          ]
        },
        {
          "output_type": "stream",
          "name": "stdout",
          "text": [
            "['<s> [INST]Резюмирай текста в рамките на 30 думи. [/INST]В текста се говори за', 'важността да бъдеш внимателен към собствените си чувства и нужди, вместо просто', 'да ги пренебрегваш или потискаш. То подчертава колко е важно да изразите', 'истинските си емоции и мисли, тъй като това може да доведе до подобрено психично', 'здраве, по-добри взаимоотношения и лично израстване.</s>']\n",
            "['PROMPT 2:[INST]Резюмирай текста в рамките на 50 думи. [/INST]']\n",
            "o.max_new_tokens =  600\n",
            "{'max_default': 600, 't_default': 0.9, 'top_k_default': 40, 'top_p_default': 0.9, 'repetition_penalty_default': 1.15, 'inst': True, 'answer': None, 'ids': None, 'enabled': True, 'prompt': 'Резюмирай текста в рамките на 50 думи. ', 'max_new_tokens': 600, 'temperature': 2.0, 'top_k': 20, 'top_p': 0.9, 'repetition_penalty': 1.15}\n",
            "<s> [INST]Резюмирай текста в рамките на 50 думи. [/INST]Току-що чухте репортерски екип от СиЕнЕнержи, най-уважаваният източник на екологично съдържание на Земята! Водени сме изцяло със зелен мироглед с новини като днешните - разкриващи революционен метод за производство на вятърна енергия чрез опростяване на конструкцията на лопатките с 40 процента... което води до масивни икономии при изграждането на ветрогенератори. Това означава повече вятърна енергия за всички нас, използващи по-малко природни ресурси.</s>\n"
          ]
        },
        {
          "output_type": "stream",
          "name": "stderr",
          "text": [
            "Setting `pad_token_id` to `eos_token_id`:2 for open-end generation.\n"
          ]
        },
        {
          "output_type": "stream",
          "name": "stdout",
          "text": [
            "['<s> [INST]Резюмирай текста в рамките на 50 думи. [/INST]Току-що чухте', 'репортерски екип от СиЕнЕнержи, най-уважаваният източник на екологично', 'съдържание на Земята! Водени сме изцяло със зелен мироглед с новини като', 'днешните - разкриващи революционен метод за производство на вятърна енергия чрез', 'опростяване на конструкцията на лопатките с 40 процента... което води до масивни', 'икономии при изграждането на ветрогенератори. Това означава повече вятърна', 'енергия за всички нас, използващи по-малко природни ресурси.</s>']\n",
            "['PROMPT 3:[INST]Резюмирай текста в рамките на 100 думи. [/INST]']\n",
            "o.max_new_tokens =  600\n",
            "{'max_default': 600, 't_default': 0.9, 'top_k_default': 40, 'top_p_default': 0.9, 'repetition_penalty_default': 1.15, 'inst': True, 'answer': None, 'ids': None, 'enabled': True, 'prompt': 'Резюмирай текста в рамките на 100 думи. ', 'max_new_tokens': 600, 'temperature': 4.0, 'top_k': 10, 'top_p': 0.9, 'repetition_penalty': 1.15}\n",
            "<s> [INST]Резюмирай текста в рамките на 100 думи. [/INST]В статия се дискутират причините защо някои жени предпочитам мъже с големи мускули и тяло тип „таткото“ пред такива като Крислиан Майър в романтичен филм от края 5'2 \"и началото\" на титулния мъж от средата. Психодисковикалните изследвания предположиват, че тези привлечения са свързани със социално определение; мъжете с постно телосложението обикновено печеля високи позиции или са художно изявен, но рядко получават ролери да играят силни физически ролеви герои като тези във филма „Бъдещото на любовта“.</s>\n"
          ]
        },
        {
          "output_type": "stream",
          "name": "stderr",
          "text": [
            "Setting `pad_token_id` to `eos_token_id`:2 for open-end generation.\n"
          ]
        },
        {
          "output_type": "stream",
          "name": "stdout",
          "text": [
            "['<s> [INST]Резюмирай текста в рамките на 100 думи. [/INST]В статия се дискутират', 'причините защо някои жени предпочитам мъже с големи мускули и тяло тип „таткото“', 'пред такива като Крислиан Майър в романтичен филм от края 5\\'2 \"и началото\" на', 'титулния мъж от средата. Психодисковикалните изследвания предположиват, че тези', 'привлечения са свързани със социално определение; мъжете с постно телосложението', 'обикновено печеля високи позиции или са художно изявен, но рядко получават', 'ролери да играят силни физически ролеви герои като тези във филма „Бъдещото на', 'любовта“.</s>']\n",
            "['PROMPT 4:[INST]Резюмирай текста в рамките на 200 думи. [/INST]']\n",
            "o.max_new_tokens =  600\n",
            "{'max_default': 600, 't_default': 0.9, 'top_k_default': 40, 'top_p_default': 0.9, 'repetition_penalty_default': 1.15, 'inst': True, 'answer': None, 'ids': None, 'enabled': True, 'prompt': 'Резюмирай текста в рамките на 200 думи. ', 'max_new_tokens': 600, 'temperature': 8.0, 'top_k': 5, 'top_p': 0.9, 'repetition_penalty': 1.15}\n",
            "<s> [INST]Резюмирай текста в рамките на 200 думи. [/INST]Първите хора, които достигнат Луната са американското пилотираното от Нийл Армstrong през 1876 г.. Следват Съветските космически станциите LK-709 Lander (Салютие) с Александър Александров на път към Salute. През последните десетилетия се наблюдава увеличение в международното сътрудничество за лунарни експедиции.\n",
            "\n",
            "Настоящата статия обсъжда знаменателните човешки минали пътувания, включително подробно проучване, което ще бъде проведено по време или близо 51-ва годишниниа на първото човешка стъпка. Това ще подчертае постиженията, пропуснатите цели и потенциални следващи мисии до нашата небесна съседна страна – като се фокусира особено на предстоящия полет на Аpoloon и неговите научни инструменти и оборудване, планирани да изследваме лунна поява и вътрешност в продължение на две и повече седмици.</s>\n"
          ]
        },
        {
          "output_type": "stream",
          "name": "stderr",
          "text": [
            "Setting `pad_token_id` to `eos_token_id`:2 for open-end generation.\n"
          ]
        },
        {
          "output_type": "stream",
          "name": "stdout",
          "text": [
            "['<s> [INST]Резюмирай текста в рамките на 200 думи. [/INST]Първите хора, които', 'достигнат Луната са американското пилотираното от Нийл Армstrong през 1876 г..', 'Следват Съветските космически станциите LK-709 Lander (Салютие) с Александър', 'Александров на път към Salute. През последните десетилетия се наблюдава', 'увеличение в международното сътрудничество за лунарни експедиции.  Настоящата', 'статия обсъжда знаменателните човешки минали пътувания, включително подробно', 'проучване, което ще бъде проведено по време или близо 51-ва годишниниа на', 'първото човешка стъпка. Това ще подчертае постиженията, пропуснатите цели и', 'потенциални следващи мисии до нашата небесна съседна страна – като се фокусира', 'особено на предстоящия полет на Аpoloon и неговите научни инструменти и', 'оборудване, планирани да изследваме лунна поява и вътрешност в продължение на', 'две и повече седмици.</s>']\n",
            "['Резюмирай текста в рамките на 10 думи.']\n",
            "['<s> [INST]Резюмирай текста в рамките на 10 думи. [/INST]Президентът Тръмп', 'подписа изпълнителна заповед за налагане на мита върху вноса на стомана и', 'алуминий, което предизвика опасения относно потенциалното въздействие върху', 'световната търговия и икономическите отношения със съюзниците.</s>']\n",
            "['Резюмирай текста в рамките на 30 думи.']\n",
            "['<s> [INST]Резюмирай текста в рамките на 30 думи. [/INST]В текста се говори за', 'важността да бъдеш внимателен към собствените си чувства и нужди, вместо просто', 'да ги пренебрегваш или потискаш. То подчертава колко е важно да изразите', 'истинските си емоции и мисли, тъй като това може да доведе до подобрено психично', 'здраве, по-добри взаимоотношения и лично израстване.</s>']\n",
            "['Резюмирай текста в рамките на 50 думи.']\n",
            "['<s> [INST]Резюмирай текста в рамките на 50 думи. [/INST]Току-що чухте', 'репортерски екип от СиЕнЕнержи, най-уважаваният източник на екологично', 'съдържание на Земята! Водени сме изцяло със зелен мироглед с новини като', 'днешните - разкриващи революционен метод за производство на вятърна енергия чрез', 'опростяване на конструкцията на лопатките с 40 процента... което води до масивни', 'икономии при изграждането на ветрогенератори. Това означава повече вятърна', 'енергия за всички нас, използващи по-малко природни ресурси.</s>']\n",
            "['Резюмирай текста в рамките на 100 думи.']\n",
            "['<s> [INST]Резюмирай текста в рамките на 100 думи. [/INST]В статия се дискутират', 'причините защо някои жени предпочитам мъже с големи мускули и тяло тип „таткото“', 'пред такива като Крислиан Майър в романтичен филм от края 5\\'2 \"и началото\" на', 'титулния мъж от средата. Психодисковикалните изследвания предположиват, че тези', 'привлечения са свързани със социално определение; мъжете с постно телосложението', 'обикновено печеля високи позиции или са художно изявен, но рядко получават', 'ролери да играят силни физически ролеви герои като тези във филма „Бъдещото на', 'любовта“.</s>']\n",
            "['Резюмирай текста в рамките на 200 думи.']\n",
            "['<s> [INST]Резюмирай текста в рамките на 200 думи. [/INST]Първите хора, които', 'достигнат Луната са американското пилотираното от Нийл Армstrong през 1876 г..', 'Следват Съветските космически станциите LK-709 Lander (Салютие) с Александър', 'Александров на път към Salute. През последните десетилетия се наблюдава', 'увеличение в международното сътрудничество за лунарни експедиции.  Настоящата', 'статия обсъжда знаменателните човешки минали пътувания, включително подробно', 'проучване, което ще бъде проведено по време или близо 51-ва годишниниа на', 'първото човешка стъпка. Това ще подчертае постиженията, пропуснатите цели и', 'потенциални следващи мисии до нашата небесна съседна страна – като се фокусира', 'особено на предстоящия полет на Аpoloon и неговите научни инструменти и', 'оборудване, планирани да изследваме лунна поява и вътрешност в продължение на', 'две и повече седмици.</s>']\n",
            "__init__.prompt: Кой\n",
            "init Options... <__main__.Options object at 0x78997dcb2da0>\n",
            "__init__.prompt: Кога\n",
            "init Options... <__main__.Options object at 0x78997dcb30d0>\n",
            "__init__.prompt: Как\n",
            "init Options... <__main__.Options object at 0x78997dcb2aa0>\n",
            "__init__.prompt: Защо\n",
            "init Options... <__main__.Options object at 0x78997dcb3fa0>\n",
            "__init__.prompt: Какво\n",
            "init Options... <__main__.Options object at 0x78997dcb3eb0>\n",
            "__init__.prompt: Колко\n",
            "init Options... <__main__.Options object at 0x78997dcb3d00>\n",
            "['PROMPT 0:[INST]Кой[/INST]']\n",
            "o.max_new_tokens =  600\n",
            "{'max_default': 600, 't_default': 0.9, 'top_k_default': 40, 'top_p_default': 0.9, 'repetition_penalty_default': 1.15, 'inst': True, 'answer': None, 'ids': None, 'enabled': True, 'prompt': 'Кой', 'max_new_tokens': 600, 'temperature': 0.1, 'top_k': 40, 'top_p': 0.9, 'repetition_penalty': 1.15}\n",
            "<s> [INST]Кой[/INST]Здравейте! Аз съм тук, за да ви помогна с всякакви въпроси или информация, от която може да се нуждаете. Как мога да ви помогна днес?</s>\n"
          ]
        },
        {
          "output_type": "stream",
          "name": "stderr",
          "text": [
            "Setting `pad_token_id` to `eos_token_id`:2 for open-end generation.\n"
          ]
        },
        {
          "output_type": "stream",
          "name": "stdout",
          "text": [
            "['<s> [INST]Кой[/INST]Здравейте! Аз съм тук, за да ви помогна с всякакви въпроси', 'или информация, от която може да се нуждаете. Как мога да ви помогна днес?</s>']\n",
            "['PROMPT 1:[INST]Кога[/INST]']\n",
            "o.max_new_tokens =  600\n",
            "{'max_default': 600, 't_default': 0.9, 'top_k_default': 40, 'top_p_default': 0.9, 'repetition_penalty_default': 1.15, 'inst': True, 'answer': None, 'ids': None, 'enabled': True, 'prompt': 'Кога', 'max_new_tokens': 600, 'temperature': 0.9, 'top_k': 30, 'top_p': 0.9, 'repetition_penalty': 1.15}\n",
            "<s> [INST]Кога[/INST]Нямам достъп до информация в реално време. Въпреки това, ако предоставите конкретна дата или събитие, мога да ви помогна да определите кога е настъпило.</s>\n"
          ]
        },
        {
          "output_type": "stream",
          "name": "stderr",
          "text": [
            "Setting `pad_token_id` to `eos_token_id`:2 for open-end generation.\n"
          ]
        },
        {
          "output_type": "stream",
          "name": "stdout",
          "text": [
            "['<s> [INST]Кога[/INST]Нямам достъп до информация в реално време. Въпреки това,', 'ако предоставите конкретна дата или събитие, мога да ви помогна да определите', 'кога е настъпило.</s>']\n",
            "['PROMPT 2:[INST]Как[/INST]']\n",
            "o.max_new_tokens =  600\n",
            "{'max_default': 600, 't_default': 0.9, 'top_k_default': 40, 'top_p_default': 0.9, 'repetition_penalty_default': 1.15, 'inst': True, 'answer': None, 'ids': None, 'enabled': True, 'prompt': 'Как', 'max_new_tokens': 600, 'temperature': 2.0, 'top_k': 20, 'top_p': 0.9, 'repetition_penalty': 1.15}\n",
            "<s> [INST]Как[/INST]За да направите копие на страница в Google Maps, изпълнете следните стъпки:\n",
            "1. Намалете мащаба така, че районът, който искате да копирате, идеално да се побере в екрана.\n",
            "2. Притиснете пръста си към екрана (включително капацитивен екран) на желаната област от картата и задържайте 45-70 секунди. Картата трябва автоматично да се изскалира обратно на обхвата преди разгръщането й за следващото действие.\n",
            "3. Почувствате пулс. Отгоре ще има съобщение „Копия“, което означава, че действието е направено върху изображението. В iOS ще бъдете преместени в приложение за управление на клипборда с панорамно визуализираното кадриране; на Android натисни \"Споделяне\".\n",
            "Най-добрата част е: Копираният фрагмент съдържа GPS координатите от оригинала! Ето как можете бързо или незабележимо споделен точен географски регион до други с тях! Това дори работи извън Google приложението за снимки като Gmail, iMessage на OSX и т.н</s>\n"
          ]
        },
        {
          "output_type": "stream",
          "name": "stderr",
          "text": [
            "Setting `pad_token_id` to `eos_token_id`:2 for open-end generation.\n"
          ]
        },
        {
          "output_type": "stream",
          "name": "stdout",
          "text": [
            "['<s> [INST]Как[/INST]За да направите копие на страница в Google Maps, изпълнете', 'следните стъпки: 1. Намалете мащаба така, че районът, който искате да копирате,', 'идеално да се побере в екрана. 2. Притиснете пръста си към екрана (включително', 'капацитивен екран) на желаната област от картата и задържайте 45-70 секунди.', 'Картата трябва автоматично да се изскалира обратно на обхвата преди разгръщането', 'й за следващото действие. 3. Почувствате пулс. Отгоре ще има съобщение „Копия“,', 'което означава, че действието е направено върху изображението. В iOS ще бъдете', 'преместени в приложение за управление на клипборда с панорамно визуализираното', 'кадриране; на Android натисни \"Споделяне\". Най-добрата част е: Копираният', 'фрагмент съдържа GPS координатите от оригинала! Ето как можете бързо или', 'незабележимо споделен точен географски регион до други с тях! Това дори работи', 'извън Google приложението за снимки като Gmail, iMessage на OSX и т.н</s>']\n",
            "['PROMPT 3:[INST]Защо[/INST]']\n",
            "o.max_new_tokens =  600\n",
            "{'max_default': 600, 't_default': 0.9, 'top_k_default': 40, 'top_p_default': 0.9, 'repetition_penalty_default': 1.15, 'inst': True, 'answer': None, 'ids': None, 'enabled': True, 'prompt': 'Защо', 'max_new_tokens': 600, 'temperature': 4.0, 'top_k': 10, 'top_p': 0.9, 'repetition_penalty': 1.15}\n",
            "<s> [INST]Защо[/INST]Звуците могат да се променят по много интересни и завладяващни начини! Те може внезабно да бъдат променен височината си (височ) чрез пеене по-тихо, викане с цялото си сърце. Можете да добавите височина, като използвате инструменти за звукоефекти или музиканти наоколо ви създават нови звуци чрез използване на своите инструменти . Понякога тези трансформиращите събития са толкова вълнуващи, колкото да ядете любимият ви шоколад след дълго чакане!</s>\n"
          ]
        },
        {
          "output_type": "stream",
          "name": "stderr",
          "text": [
            "Setting `pad_token_id` to `eos_token_id`:2 for open-end generation.\n"
          ]
        },
        {
          "output_type": "stream",
          "name": "stdout",
          "text": [
            "['<s> [INST]Защо[/INST]Звуците могат да се променят по много интересни и', 'завладяващни начини! Те може внезабно да бъдат променен височината си (височ)', 'чрез пеене по-тихо, викане с цялото си сърце. Можете да добавите височина, като', 'използвате инструменти за звукоефекти или музиканти наоколо ви създават нови', 'звуци чрез използване на своите инструменти . Понякога тези трансформиращите', 'събития са толкова вълнуващи, колкото да ядете любимият ви шоколад след дълго', 'чакане!</s>']\n",
            "['PROMPT 4:[INST]Какво[/INST]']\n",
            "o.max_new_tokens =  600\n",
            "{'max_default': 600, 't_default': 0.9, 'top_k_default': 40, 'top_p_default': 0.9, 'repetition_penalty_default': 1.15, 'inst': True, 'answer': None, 'ids': None, 'enabled': True, 'prompt': 'Какво', 'max_new_tokens': 600, 'temperature': 8.0, 'top_k': 5, 'top_p': 0.9, 'repetition_penalty': 1.15}\n",
            "<s> [INST]Какво[/INST]В момента се занимавам основно да бъда баща, да подкрепям семейството на 25 760 км. Това също включва много пътувания и срещи по телефона с хора в Европа, Азия (всъщност ще ходят там следващата събота) и Съедините Американски държави!</s>\n"
          ]
        },
        {
          "output_type": "stream",
          "name": "stderr",
          "text": [
            "Setting `pad_token_id` to `eos_token_id`:2 for open-end generation.\n"
          ]
        },
        {
          "output_type": "stream",
          "name": "stdout",
          "text": [
            "['<s> [INST]Какво[/INST]В момента се занимавам основно да бъда баща, да подкрепям', 'семейството на 25 760 км. Това също включва много пътувания и срещи по телефона', 'с хора в Европа, Азия (всъщност ще ходят там следващата събота) и Съедините', 'Американски държави!</s>']\n",
            "['PROMPT 5:[INST]Колко[/INST]']\n",
            "o.max_new_tokens =  600\n",
            "{'max_default': 600, 't_default': 0.9, 'top_k_default': 40, 'top_p_default': 0.9, 'repetition_penalty_default': 1.15, 'inst': True, 'answer': None, 'ids': None, 'enabled': True, 'prompt': 'Колко', 'max_new_tokens': 600, 'temperature': 20.0, 'top_k': 3, 'top_p': 0.9, 'repetition_penalty': 1.15}\n",
            "<s> [INST]Колко[/INST]е 3,986 + (-0,12)? Когато добавям отрицателното число, трябва да изваря вместо събирането: $3. 974$.</s>\n",
            "['<s> [INST]Колко[/INST]е 3,986 + (-0,12)? Когато добавям отрицателното число,', 'трябва да изваря вместо събирането: $3. 974$.</s>']\n",
            "['Кой']\n",
            "['<s> [INST]Кой[/INST]Здравейте! Аз съм тук, за да ви помогна с всякакви въпроси', 'или информация, от която може да се нуждаете. Как мога да ви помогна днес?</s>']\n",
            "['Кога']\n",
            "['<s> [INST]Кога[/INST]Нямам достъп до информация в реално време. Въпреки това,', 'ако предоставите конкретна дата или събитие, мога да ви помогна да определите', 'кога е настъпило.</s>']\n",
            "['Как']\n",
            "['<s> [INST]Как[/INST]За да направите копие на страница в Google Maps, изпълнете', 'следните стъпки: 1. Намалете мащаба така, че районът, който искате да копирате,', 'идеално да се побере в екрана. 2. Притиснете пръста си към екрана (включително', 'капацитивен екран) на желаната област от картата и задържайте 45-70 секунди.', 'Картата трябва автоматично да се изскалира обратно на обхвата преди разгръщането', 'й за следващото действие. 3. Почувствате пулс. Отгоре ще има съобщение „Копия“,', 'което означава, че действието е направено върху изображението. В iOS ще бъдете', 'преместени в приложение за управление на клипборда с панорамно визуализираното', 'кадриране; на Android натисни \"Споделяне\". Най-добрата част е: Копираният', 'фрагмент съдържа GPS координатите от оригинала! Ето как можете бързо или', 'незабележимо споделен точен географски регион до други с тях! Това дори работи', 'извън Google приложението за снимки като Gmail, iMessage на OSX и т.н</s>']\n",
            "['Защо']\n",
            "['<s> [INST]Защо[/INST]Звуците могат да се променят по много интересни и', 'завладяващни начини! Те може внезабно да бъдат променен височината си (височ)', 'чрез пеене по-тихо, викане с цялото си сърце. Можете да добавите височина, като', 'използвате инструменти за звукоефекти или музиканти наоколо ви създават нови', 'звуци чрез използване на своите инструменти . Понякога тези трансформиращите', 'събития са толкова вълнуващи, колкото да ядете любимият ви шоколад след дълго', 'чакане!</s>']\n",
            "['Какво']\n",
            "['<s> [INST]Какво[/INST]В момента се занимавам основно да бъда баща, да подкрепям', 'семейството на 25 760 км. Това също включва много пътувания и срещи по телефона', 'с хора в Европа, Азия (всъщност ще ходят там следващата събота) и Съедините', 'Американски държави!</s>']\n",
            "['Колко']\n",
            "['<s> [INST]Колко[/INST]е 3,986 + (-0,12)? Когато добавям отрицателното число,', 'трябва да изваря вместо събирането: $3. 974$.</s>']\n",
            "{'answer': '<s> [INST]Кой[/INST]Здравейте! Аз съм тук, за да ви помогна с '\n",
            "           'всякакви въпроси или информация, от която може да се нуждаете. Как '\n",
            "           'мога да ви помогна днес?</s>',\n",
            " 'enabled': True,\n",
            " 'ids': None,\n",
            " 'inst': True,\n",
            " 'max_default': 600,\n",
            " 'max_new_tokens': 600,\n",
            " 'prompt': 'Кой',\n",
            " 'repetition_penalty': 1.15,\n",
            " 'repetition_penalty_default': 1.15,\n",
            " 't_default': 0.9,\n",
            " 'temperature': 0.1,\n",
            " 'top_k': 40,\n",
            " 'top_k_default': 40,\n",
            " 'top_p': 0.9,\n",
            " 'top_p_default': 0.9}\n",
            "('<s> [INST]Кой[/INST]Здравейте! Аз съм тук, за да ви помогна с всякакви '\n",
            " 'въпроси или информация, от която може да се нуждаете. Как мога да ви помогна '\n",
            " 'днес?</s>')\n",
            "{'answer': '<s> [INST]Кога[/INST]Нямам достъп до информация в реално време. '\n",
            "           'Въпреки това, ако предоставите конкретна дата или събитие, мога да '\n",
            "           'ви помогна да определите кога е настъпило.</s>',\n",
            " 'enabled': True,\n",
            " 'ids': None,\n",
            " 'inst': True,\n",
            " 'max_default': 600,\n",
            " 'max_new_tokens': 600,\n",
            " 'prompt': 'Кога',\n",
            " 'repetition_penalty': 1.15,\n",
            " 'repetition_penalty_default': 1.15,\n",
            " 't_default': 0.9,\n",
            " 'temperature': 0.9,\n",
            " 'top_k': 30,\n",
            " 'top_k_default': 40,\n",
            " 'top_p': 0.9,\n",
            " 'top_p_default': 0.9}\n",
            "('<s> [INST]Кога[/INST]Нямам достъп до информация в реално време. Въпреки '\n",
            " 'това, ако предоставите конкретна дата или събитие, мога да ви помогна да '\n",
            " 'определите кога е настъпило.</s>')\n",
            "{'answer': '<s> [INST]Как[/INST]За да направите копие на страница в Google '\n",
            "           'Maps, изпълнете следните стъпки:\\n'\n",
            "           '1. Намалете мащаба така, че районът, който искате да копирате, '\n",
            "           'идеално да се побере в екрана.\\n'\n",
            "           '2. Притиснете пръста си към екрана (включително капацитивен екран) '\n",
            "           'на желаната област от картата и задържайте 45-70 секунди. Картата '\n",
            "           'трябва автоматично да се изскалира обратно на обхвата преди '\n",
            "           'разгръщането й за следващото действие.\\n'\n",
            "           '3. Почувствате пулс. Отгоре ще има съобщение „Копия“, което '\n",
            "           'означава, че действието е направено върху изображението. В iOS ще '\n",
            "           'бъдете преместени в приложение за управление на клипборда с '\n",
            "           'панорамно визуализираното кадриране; на Android натисни '\n",
            "           '\"Споделяне\".\\n'\n",
            "           'Най-добрата част е: Копираният фрагмент съдържа GPS координатите '\n",
            "           'от оригинала! Ето как можете бързо или незабележимо споделен точен '\n",
            "           'географски регион до други с тях! Това дори работи извън Google '\n",
            "           'приложението за снимки като Gmail, iMessage на OSX и т.н</s>',\n",
            " 'enabled': True,\n",
            " 'ids': None,\n",
            " 'inst': True,\n",
            " 'max_default': 600,\n",
            " 'max_new_tokens': 600,\n",
            " 'prompt': 'Как',\n",
            " 'repetition_penalty': 1.15,\n",
            " 'repetition_penalty_default': 1.15,\n",
            " 't_default': 0.9,\n",
            " 'temperature': 2.0,\n",
            " 'top_k': 20,\n",
            " 'top_k_default': 40,\n",
            " 'top_p': 0.9,\n",
            " 'top_p_default': 0.9}\n",
            "('<s> [INST]Как[/INST]За да направите копие на страница в Google Maps, '\n",
            " 'изпълнете следните стъпки:\\n'\n",
            " '1. Намалете мащаба така, че районът, който искате да копирате, идеално да се '\n",
            " 'побере в екрана.\\n'\n",
            " '2. Притиснете пръста си към екрана (включително капацитивен екран) на '\n",
            " 'желаната област от картата и задържайте 45-70 секунди. Картата трябва '\n",
            " 'автоматично да се изскалира обратно на обхвата преди разгръщането й за '\n",
            " 'следващото действие.\\n'\n",
            " '3. Почувствате пулс. Отгоре ще има съобщение „Копия“, което означава, че '\n",
            " 'действието е направено върху изображението. В iOS ще бъдете преместени в '\n",
            " 'приложение за управление на клипборда с панорамно визуализираното кадриране; '\n",
            " 'на Android натисни \"Споделяне\".\\n'\n",
            " 'Най-добрата част е: Копираният фрагмент съдържа GPS координатите от '\n",
            " 'оригинала! Ето как можете бързо или незабележимо споделен точен географски '\n",
            " 'регион до други с тях! Това дори работи извън Google приложението за снимки '\n",
            " 'като Gmail, iMessage на OSX и т.н</s>')\n",
            "{'answer': '<s> [INST]Защо[/INST]Звуците могат да се променят по много '\n",
            "           'интересни и завладяващни начини! Те може внезабно да бъдат '\n",
            "           'променен височината си (височ) чрез пеене по-тихо, викане с цялото '\n",
            "           'си сърце. Можете да добавите височина, като използвате инструменти '\n",
            "           'за звукоефекти или музиканти наоколо ви създават нови звуци чрез '\n",
            "           'използване на своите инструменти . Понякога тези трансформиращите '\n",
            "           'събития са толкова вълнуващи, колкото да ядете любимият ви шоколад '\n",
            "           'след дълго чакане!</s>',\n",
            " 'enabled': True,\n",
            " 'ids': None,\n",
            " 'inst': True,\n",
            " 'max_default': 600,\n",
            " 'max_new_tokens': 600,\n",
            " 'prompt': 'Защо',\n",
            " 'repetition_penalty': 1.15,\n",
            " 'repetition_penalty_default': 1.15,\n",
            " 't_default': 0.9,\n",
            " 'temperature': 4.0,\n",
            " 'top_k': 10,\n",
            " 'top_k_default': 40,\n",
            " 'top_p': 0.9,\n",
            " 'top_p_default': 0.9}\n",
            "('<s> [INST]Защо[/INST]Звуците могат да се променят по много интересни и '\n",
            " 'завладяващни начини! Те може внезабно да бъдат променен височината си '\n",
            " '(височ) чрез пеене по-тихо, викане с цялото си сърце. Можете да добавите '\n",
            " 'височина, като използвате инструменти за звукоефекти или музиканти наоколо '\n",
            " 'ви създават нови звуци чрез използване на своите инструменти . Понякога тези '\n",
            " 'трансформиращите събития са толкова вълнуващи, колкото да ядете любимият ви '\n",
            " 'шоколад след дълго чакане!</s>')\n",
            "{'answer': '<s> [INST]Какво[/INST]В момента се занимавам основно да бъда баща, '\n",
            "           'да подкрепям семейството на 25 760 км. Това също включва много '\n",
            "           'пътувания и срещи по телефона с хора в Европа, Азия (всъщност ще '\n",
            "           'ходят там следващата събота) и Съедините Американски държави!</s>',\n",
            " 'enabled': True,\n",
            " 'ids': None,\n",
            " 'inst': True,\n",
            " 'max_default': 600,\n",
            " 'max_new_tokens': 600,\n",
            " 'prompt': 'Какво',\n",
            " 'repetition_penalty': 1.15,\n",
            " 'repetition_penalty_default': 1.15,\n",
            " 't_default': 0.9,\n",
            " 'temperature': 8.0,\n",
            " 'top_k': 5,\n",
            " 'top_k_default': 40,\n",
            " 'top_p': 0.9,\n",
            " 'top_p_default': 0.9}\n",
            "('<s> [INST]Какво[/INST]В момента се занимавам основно да бъда баща, да '\n",
            " 'подкрепям семейството на 25 760 км. Това също включва много пътувания и '\n",
            " 'срещи по телефона с хора в Европа, Азия (всъщност ще ходят там следващата '\n",
            " 'събота) и Съедините Американски държави!</s>')\n",
            "{'answer': '<s> [INST]Колко[/INST]е 3,986 + (-0,12)? Когато добавям '\n",
            "           'отрицателното число, трябва да изваря вместо събирането: $3. '\n",
            "           '974$.</s>',\n",
            " 'enabled': True,\n",
            " 'ids': None,\n",
            " 'inst': True,\n",
            " 'max_default': 600,\n",
            " 'max_new_tokens': 600,\n",
            " 'prompt': 'Колко',\n",
            " 'repetition_penalty': 1.15,\n",
            " 'repetition_penalty_default': 1.15,\n",
            " 't_default': 0.9,\n",
            " 'temperature': 20.0,\n",
            " 'top_k': 3,\n",
            " 'top_k_default': 40,\n",
            " 'top_p': 0.9,\n",
            " 'top_p_default': 0.9}\n",
            "('<s> [INST]Колко[/INST]е 3,986 + (-0,12)? Когато добавям отрицателното число, '\n",
            " 'трябва да изваря вместо събирането: $3. 974$.</s>')\n",
            "['Кой']\n",
            "['<s> [INST]Кой[/INST]Здравейте! Аз съм тук, за да ви помогна с всякакви въпроси', 'или информация, от която може да се нуждаете. Как мога да ви помогна днес?</s>']\n",
            "['Кога']\n",
            "['<s> [INST]Кога[/INST]Нямам достъп до информация в реално време. Въпреки това,', 'ако предоставите конкретна дата или събитие, мога да ви помогна да определите', 'кога е настъпило.</s>']\n",
            "['Как']\n",
            "['<s> [INST]Как[/INST]За да направите копие на страница в Google Maps, изпълнете', 'следните стъпки: 1. Намалете мащаба така, че районът, който искате да копирате,', 'идеално да се побере в екрана. 2. Притиснете пръста си към екрана (включително', 'капацитивен екран) на желаната област от картата и задържайте 45-70 секунди.', 'Картата трябва автоматично да се изскалира обратно на обхвата преди разгръщането', 'й за следващото действие. 3. Почувствате пулс. Отгоре ще има съобщение „Копия“,', 'което означава, че действието е направено върху изображението. В iOS ще бъдете', 'преместени в приложение за управление на клипборда с панорамно визуализираното', 'кадриране; на Android натисни \"Споделяне\". Най-добрата част е: Копираният', 'фрагмент съдържа GPS координатите от оригинала! Ето как можете бързо или', 'незабележимо споделен точен географски регион до други с тях! Това дори работи', 'извън Google приложението за снимки като Gmail, iMessage на OSX и т.н</s>']\n",
            "['Защо']\n",
            "['<s> [INST]Защо[/INST]Звуците могат да се променят по много интересни и', 'завладяващни начини! Те може внезабно да бъдат променен височината си (височ)', 'чрез пеене по-тихо, викане с цялото си сърце. Можете да добавите височина, като', 'използвате инструменти за звукоефекти или музиканти наоколо ви създават нови', 'звуци чрез използване на своите инструменти . Понякога тези трансформиращите', 'събития са толкова вълнуващи, колкото да ядете любимият ви шоколад след дълго', 'чакане!</s>']\n",
            "['Какво']\n",
            "['<s> [INST]Какво[/INST]В момента се занимавам основно да бъда баща, да подкрепям', 'семейството на 25 760 км. Това също включва много пътувания и срещи по телефона', 'с хора в Европа, Азия (всъщност ще ходят там следващата събота) и Съедините', 'Американски държави!</s>']\n",
            "['Колко']\n",
            "['<s> [INST]Колко[/INST]е 3,986 + (-0,12)? Когато добавям отрицателното число,', 'трябва да изваря вместо събирането: $3. 974$.</s>']\n"
          ]
        }
      ]
    },
    {
      "cell_type": "markdown",
      "source": [],
      "metadata": {
        "id": "G7xLF6bT5c5X"
      }
    },
    {
      "cell_type": "markdown",
      "source": [],
      "metadata": {
        "id": "CINwsgY-K6KR"
      }
    },
    {
      "cell_type": "code",
      "source": [
        "# !nvidia-smi\n",
        "#!/usr/local/cuda/bin/nvcc --version\n",
        "#NotImplementedError: A UTF-8 locale is required. Got ANSI_X3.4-"
      ],
      "metadata": {
        "colab": {
          "base_uri": "https://localhost:8080/",
          "height": 321
        },
        "id": "2-uEaQh7Tv0B",
        "outputId": "9cc9769c-19aa-46df-cffb-5f64dd993785"
      },
      "execution_count": null,
      "outputs": [
        {
          "output_type": "error",
          "ename": "NotImplementedError",
          "evalue": "A UTF-8 locale is required. Got ANSI_X3.4-1968",
          "traceback": [
            "\u001b[0;31m---------------------------------------------------------------------------\u001b[0m",
            "\u001b[0;31mNotImplementedError\u001b[0m                       Traceback (most recent call last)",
            "\u001b[0;32m<ipython-input-18-38db1180233d>\u001b[0m in \u001b[0;36m<cell line: 2>\u001b[0;34m()\u001b[0m\n\u001b[1;32m      1\u001b[0m \u001b[0;31m# !nvidia-smi\u001b[0m\u001b[0;34m\u001b[0m\u001b[0;34m\u001b[0m\u001b[0m\n\u001b[0;32m----> 2\u001b[0;31m \u001b[0mget_ipython\u001b[0m\u001b[0;34m(\u001b[0m\u001b[0;34m)\u001b[0m\u001b[0;34m.\u001b[0m\u001b[0msystem\u001b[0m\u001b[0;34m(\u001b[0m\u001b[0;34m'/usr/local/cuda/bin/nvcc --version'\u001b[0m\u001b[0;34m)\u001b[0m\u001b[0;34m\u001b[0m\u001b[0;34m\u001b[0m\u001b[0m\n\u001b[0m",
            "\u001b[0;32m/usr/local/lib/python3.10/dist-packages/google/colab/_shell.py\u001b[0m in \u001b[0;36msystem\u001b[0;34m(self, *args, **kwargs)\u001b[0m\n\u001b[1;32m     97\u001b[0m       \u001b[0mkwargs\u001b[0m\u001b[0;34m.\u001b[0m\u001b[0mupdate\u001b[0m\u001b[0;34m(\u001b[0m\u001b[0;34m{\u001b[0m\u001b[0;34m'also_return_output'\u001b[0m\u001b[0;34m:\u001b[0m \u001b[0;32mTrue\u001b[0m\u001b[0;34m}\u001b[0m\u001b[0;34m)\u001b[0m\u001b[0;34m\u001b[0m\u001b[0;34m\u001b[0m\u001b[0m\n\u001b[1;32m     98\u001b[0m \u001b[0;34m\u001b[0m\u001b[0m\n\u001b[0;32m---> 99\u001b[0;31m     \u001b[0moutput\u001b[0m \u001b[0;34m=\u001b[0m \u001b[0m_system_commands\u001b[0m\u001b[0;34m.\u001b[0m\u001b[0m_system_compat\u001b[0m\u001b[0;34m(\u001b[0m\u001b[0mself\u001b[0m\u001b[0;34m,\u001b[0m \u001b[0;34m*\u001b[0m\u001b[0margs\u001b[0m\u001b[0;34m,\u001b[0m \u001b[0;34m**\u001b[0m\u001b[0mkwargs\u001b[0m\u001b[0;34m)\u001b[0m  \u001b[0;31m# pylint:disable=protected-access\u001b[0m\u001b[0;34m\u001b[0m\u001b[0;34m\u001b[0m\u001b[0m\n\u001b[0m\u001b[1;32m    100\u001b[0m \u001b[0;34m\u001b[0m\u001b[0m\n\u001b[1;32m    101\u001b[0m     \u001b[0;32mif\u001b[0m \u001b[0mpip_warn\u001b[0m\u001b[0;34m:\u001b[0m\u001b[0;34m\u001b[0m\u001b[0;34m\u001b[0m\u001b[0m\n",
            "\u001b[0;32m/usr/local/lib/python3.10/dist-packages/google/colab/_system_commands.py\u001b[0m in \u001b[0;36m_system_compat\u001b[0;34m(shell, cmd, also_return_output)\u001b[0m\n\u001b[1;32m    452\u001b[0m   \u001b[0;31m# is expected to call this function, thus adding one level of nesting to the\u001b[0m\u001b[0;34m\u001b[0m\u001b[0;34m\u001b[0m\u001b[0m\n\u001b[1;32m    453\u001b[0m   \u001b[0;31m# stack.\u001b[0m\u001b[0;34m\u001b[0m\u001b[0;34m\u001b[0m\u001b[0m\n\u001b[0;32m--> 454\u001b[0;31m   result = _run_command(\n\u001b[0m\u001b[1;32m    455\u001b[0m       \u001b[0mshell\u001b[0m\u001b[0;34m.\u001b[0m\u001b[0mvar_expand\u001b[0m\u001b[0;34m(\u001b[0m\u001b[0mcmd\u001b[0m\u001b[0;34m,\u001b[0m \u001b[0mdepth\u001b[0m\u001b[0;34m=\u001b[0m\u001b[0;36m2\u001b[0m\u001b[0;34m)\u001b[0m\u001b[0;34m,\u001b[0m \u001b[0mclear_streamed_output\u001b[0m\u001b[0;34m=\u001b[0m\u001b[0;32mFalse\u001b[0m\u001b[0;34m\u001b[0m\u001b[0;34m\u001b[0m\u001b[0m\n\u001b[1;32m    456\u001b[0m   )\n",
            "\u001b[0;32m/usr/local/lib/python3.10/dist-packages/google/colab/_system_commands.py\u001b[0m in \u001b[0;36m_run_command\u001b[0;34m(cmd, clear_streamed_output)\u001b[0m\n\u001b[1;32m    166\u001b[0m     \u001b[0mlocale_encoding\u001b[0m \u001b[0;34m=\u001b[0m \u001b[0mlocale\u001b[0m\u001b[0;34m.\u001b[0m\u001b[0mgetpreferredencoding\u001b[0m\u001b[0;34m(\u001b[0m\u001b[0;34m)\u001b[0m\u001b[0;34m\u001b[0m\u001b[0;34m\u001b[0m\u001b[0m\n\u001b[1;32m    167\u001b[0m     \u001b[0;32mif\u001b[0m \u001b[0mlocale_encoding\u001b[0m \u001b[0;34m!=\u001b[0m \u001b[0m_ENCODING\u001b[0m\u001b[0;34m:\u001b[0m\u001b[0;34m\u001b[0m\u001b[0;34m\u001b[0m\u001b[0m\n\u001b[0;32m--> 168\u001b[0;31m       raise NotImplementedError(\n\u001b[0m\u001b[1;32m    169\u001b[0m           \u001b[0;34m'A UTF-8 locale is required. Got {}'\u001b[0m\u001b[0;34m.\u001b[0m\u001b[0mformat\u001b[0m\u001b[0;34m(\u001b[0m\u001b[0mlocale_encoding\u001b[0m\u001b[0;34m)\u001b[0m\u001b[0;34m\u001b[0m\u001b[0;34m\u001b[0m\u001b[0m\n\u001b[1;32m    170\u001b[0m       )\n",
            "\u001b[0;31mNotImplementedError\u001b[0m: A UTF-8 locale is required. Got ANSI_X3.4-1968"
          ]
        }
      ]
    },
    {
      "cell_type": "markdown",
      "source": [
        "# ОСНОВЕН ЧАТ ЦИКЪЛ"
      ],
      "metadata": {
        "id": "ckhfVLfH_m3D"
      }
    },
    {
      "cell_type": "code",
      "source": [
        "# 20.2.2024\n",
        "# MISTRAL - up to 4096 ... context window length, but it seems it won't fit in Tesla T4 - about 2000 or something\n",
        "from textwrap import TextWrapper  # \"word-wrap\" long lines\n",
        "import pprint\n",
        "from transformers import TextStreamer\n",
        "#import math\n",
        "#import copy\n",
        "pp = pprint.PrettyPrinter()\n",
        "\n",
        "m = \"INSAIT-Institute/BgGPT-7B-Instruct-v0.1\"\n",
        "tokenizer = AutoTokenizer.from_pretrained(m)\n",
        "streamer = TextStreamer(tokenizer)\n",
        "device = \"cuda\"\n",
        "model.to(device)\n",
        "b_new_chat = True #insert \"[s][INST]...\"\n",
        "max_new_tokens = 300\n",
        "w = TextWrapper(width=80) #break long lines, default: 70 chars  w.wrap(string)\n",
        "b_autoregression = False #True\n",
        "options = Options(); #current state\n",
        "b_print_options = True\n",
        "history = []\n",
        "prev_prompt = \"?\"\n",
        "\n",
        "def valid_range(m):\n",
        "  if m > 4096: return False # m = 2400\n",
        "  if m < 1: return False\n",
        "  return True\n",
        "\n",
        "def cycle():\n",
        "    global max_new_tokens\n",
        "    global b_new_chat\n",
        "    global b_autoregression\n",
        "    global prev_prompt\n",
        "    prompt = input(\"Enter prompt... \") #\"Изброй седемте най-високоплатени атлети от България. Колко от тях са жени? Кои бягат най-бързо?\"\n",
        "    if prompt == \"q\": return False\n",
        "    if prompt == \"n\": b_new_chat = True; return True\n",
        "    if prompt == \"a\": b_autoregression = True; return True #GPT2, GPT3-like: not very smart\n",
        "    if prompt == \"i\": b_autoregression = False; return True #Instruct\n",
        "    if prompt == \"top_k\": top_k=input(\"top_k=... \"); options.top_k=top_k; return True #Should validate etc. in the class, set ...\n",
        "    if prompt == \"top_p\": top_p=input(\"top_k=... \"); options.top_p=top_p; return True #Should validate etc. in the class, set ...\n",
        "    if prompt == \"t\": t=input(\"temperature=... \"); options.temperature=max(0.001, float(t)); print(options.temperature); return True #Should validate etc. in the class, set ...\n",
        "    if prompt == 's': prompt = strategy[0:len(strategy)//5]\n",
        "    if prompt == 'p': print(f\"t={options.temperature},m={options.max_new_tokens}, top_k={options.top_k}|top_p={options.top_p}, instruct/autoregression=(True=autoregression, False=instruct)=={b_autoregression}(i: instr, a: autoregr); n: new chat; r: repeat last question; p: print parameters\"); return True\n",
        "    if prompt == 'r': prompt = prev_prompt\n",
        "    else: prev_prompt = prompt\n",
        "    if prompt == \"m\":\n",
        "      mx = int(input(\"max_tokens=?...\"))\n",
        "      if valid_range(mx): max_new_tokens = mx; options.max_new_tokens = mx; return True\n",
        "      else: print(\"Invalid max_new_tokens\")\n",
        "    if not b_autoregression:\n",
        "      #if b_new_chat: prompt = \"[s][INST]\"+prompt+\"[/INST]\"; b_new_chat = False\n",
        "      if b_new_chat: prompt = \"[INST]\"+prompt+\"[/INST]\"; b_new_chat = False\n",
        "      else: prompt=\"[INST]\"+prompt+\"[/INST]\"\n",
        "    print(prompt)\n",
        "    f.write(\"\\n\"+get_time_string()+\"\\n???: \"+prompt)\n",
        "    f.flush()\n",
        "    for i in w.wrap(prompt): print(i) #input window is too small\n",
        "    if b_print_options==True: pp.pprint(options)\n",
        "    model_inputs = tokenizer([prompt], return_tensors=\"pt\").to(device)\n",
        "    #generated_ids = model.generate(**model_inputs, max_new_tokens=max_new_tokens, do_sample=True, top_k = options.top_k, top_p = options.top_p, temperature=options.temperature)\n",
        "    generated_ids = model.generate(**model_inputs, streamer=streamer, max_new_tokens=options.max_new_tokens, do_sample=True, top_k = int(options.top_k), top_p = float(options.top_p), temperature=float(options.temperature))\n",
        "    answer = tokenizer.batch_decode(generated_ids)[0]\n",
        "    prompt_arr.append(prompt)\n",
        "    answer_arr.append(answer)\n",
        "    prompt_and_answer.append((prompt, answer))\n",
        "    #print(w.wrap(answer))\n",
        "    print(\"\\n=================================\\n\")\n",
        "    for i in w.wrap(answer): print(i) #print wrapped lines\n",
        "    f.write(\"\\n\"+get_time_string()+\"\\n???: \"+prompt+\"\\n\\n===: \"+answer+\"\\n------------\\n\")\n",
        "    f.flush()\n",
        "    return True\n",
        "\n",
        "def interact():\n",
        "   i = True\n",
        "   while i == True:\n",
        "      i = cycle()\n",
        "def culturno():\n",
        "    messages = [\n",
        "    {\"role\": \"user\", \"content\": \"Ти си попфолк звезда от галактиката Андромеда и четеш Азимов, Куельо, Вазов и Лем. Напиши текст за песен, който започва със селската баня, голям кеф, градската десница, софийската левица с голямата... каца на планетата на маймуните във Вселената на Стартрек, при Хари Потър и философския камък на Властелина на пръстените с лазерния меч на Люк. Ползвай метафори, сравнения и алегории, междуметия и синекдохи. Амин. \"}\n",
        "    ]\n",
        "    #encodeds = tokenizer.apply_chat_template(messages, return_tensors=\"pt\")\n",
        "    model_inputs = tokenizer.apply_chat_template(messages, return_tensors=\"pt\").to(device)\n",
        "    generated_ids = model.generate(model_inputs, max_new_tokens=max_new_tokens, do_sample=True)\n",
        "    answer = tokenizer.batch_decode(generated_ids)[0]\n",
        "    print(answer)\n",
        "#culturno() #proba\n",
        "interact()\n",
        "\n"
      ],
      "metadata": {
        "colab": {
          "base_uri": "https://localhost:8080/",
          "height": 1000
        },
        "id": "ahInASr5hb-W",
        "outputId": "8d95d8e3-203b-4146-9c77-ec8d65694cc2"
      },
      "execution_count": null,
      "outputs": [
        {
          "output_type": "display_data",
          "data": {
            "text/plain": [
              "<IPython.core.display.HTML object>"
            ],
            "text/html": [
              "\n",
              "  <style>\n",
              "    pre {\n",
              "        white-space: pre-wrap;\n",
              "    }\n",
              "  </style>\n",
              "  "
            ]
          },
          "metadata": {}
        },
        {
          "name": "stdout",
          "output_type": "stream",
          "text": [
            "__init__.prompt: Преведи на английски: Котката изпи камъка и литна под нанагорнището.\n",
            "init Options... <__main__.Options object at 0x7c001f132620>\n",
            "Enter prompt... Translate to Bulgarian: \"transaction\".\n"
          ]
        },
        {
          "output_type": "stream",
          "name": "stderr",
          "text": [
            "Setting `pad_token_id` to `eos_token_id`:2 for open-end generation.\n"
          ]
        },
        {
          "name": "stdout",
          "output_type": "stream",
          "text": [
            "[INST]Translate to Bulgarian: \"transaction\".[/INST]\n",
            "[INST]Translate to Bulgarian: \"transaction\".[/INST]\n",
            "<__main__.Options object at 0x7c001f132620>\n",
            "<s> [INST]Translate to Bulgarian: \"transaction\".[/INST]Преводът на \"сделка\" на български е \"сделка\".</s>\n",
            "\n",
            "=================================\n",
            "\n",
            "<s> [INST]Translate to Bulgarian: \"transaction\".[/INST]Преводът на \"сделка\" на\n",
            "български е \"сделка\".</s>\n",
            "Enter prompt... Translate to Bulgarian: \"registry 6105051 an official written record of names or events or transactions.\n"
          ]
        },
        {
          "output_type": "stream",
          "name": "stderr",
          "text": [
            "Setting `pad_token_id` to `eos_token_id`:2 for open-end generation.\n"
          ]
        },
        {
          "name": "stdout",
          "output_type": "stream",
          "text": [
            "[INST]Translate to Bulgarian: \"registry 6105051 an official written record of names or events or transactions.[/INST]\n",
            "[INST]Translate to Bulgarian: \"registry 6105051 an official written record of\n",
            "names or events or transactions.[/INST]\n",
            "<__main__.Options object at 0x7c001f132620>\n",
            "<s> [INST]Translate to Bulgarian: \"registry 6105051 an official written record of names or events or transactions.[/INST]\"регистър 6105051 официален писмен запис на имена или събития или транзакции.\"</s>\n",
            "\n",
            "=================================\n",
            "\n",
            "<s> [INST]Translate to Bulgarian: \"registry 6105051 an official written record\n",
            "of names or events or transactions.[/INST]\"регистър 6105051 официален писмен\n",
            "запис на имена или събития или транзакции.\"</s>\n",
            "Enter prompt... translate to Bulgarian the words: \"регистър, официален, писмен, запис, имена, събития, транзакции\"\n"
          ]
        },
        {
          "output_type": "stream",
          "name": "stderr",
          "text": [
            "Setting `pad_token_id` to `eos_token_id`:2 for open-end generation.\n"
          ]
        },
        {
          "name": "stdout",
          "output_type": "stream",
          "text": [
            "[INST]translate to Bulgarian the words: \"регистър, официален, писмен, запис, имена, събития, транзакции\"[/INST]\n",
            "[INST]translate to Bulgarian the words: \"регистър, официален, писмен, запис,\n",
            "имена, събития, транзакции\"[/INST]\n",
            "<__main__.Options object at 0x7c001f132620>\n",
            "<s> [INST]translate to Bulgarian the words: \"регистър, официален, писмен, запис, имена, събития, транзакции\"[/INST]регистър - регистър\n",
            "официален - официален\n",
            "писмено - писмено\n",
            "запис - запис\n",
            "имена - имена\n",
            "събития - събития\n",
            "транзакции - транзакции</s>\n",
            "\n",
            "=================================\n",
            "\n",
            "<s> [INST]translate to Bulgarian the words: \"регистър, официален, писмен, запис,\n",
            "имена, събития, транзакции\"[/INST]регистър - регистър официален - официален\n",
            "писмено - писмено запис - запис имена - имена събития - събития транзакции -\n",
            "транзакции</s>\n",
            "Enter prompt... translate to Bulgarian the words, synonims, not foreignisms: \"регистър, официален, писмен, запис, имена, събития, транзакции\"[/INST]регистър - регистър официален - официален писмено - писмено запис - запис имена - имена събития - събития транзакции - транзакции</s>\n"
          ]
        },
        {
          "output_type": "stream",
          "name": "stderr",
          "text": [
            "Setting `pad_token_id` to `eos_token_id`:2 for open-end generation.\n"
          ]
        },
        {
          "name": "stdout",
          "output_type": "stream",
          "text": [
            "[INST]translate to Bulgarian the words, synonims, not foreignisms: \"регистър, официален, писмен, запис, имена, събития, транзакции\"[/INST]регистър - регистър официален - официален писмено - писмено запис - запис имена - имена събития - събития транзакции - транзакции</s>[/INST]\n",
            "[INST]translate to Bulgarian the words, synonims, not foreignisms: \"регистър,\n",
            "официален, писмен, запис, имена, събития, транзакции\"[/INST]регистър - регистър\n",
            "официален - официален писмено - писмено запис - запис имена - имена събития -\n",
            "събития транзакции - транзакции</s>[/INST]\n",
            "<__main__.Options object at 0x7c001f132620>\n",
            "<s> [INST]translate to Bulgarian the words, synonims, not foreignisms: \"регистър, официален, писмен, запис, имена, събития, транзакции\"[/INST]регистър - регистър официален - официален писмено - писмено запис - запис имена - имена събития - събития транзакции - транзакции</s> [/INST]регистър - регистър\n",
            "официален - официален\n",
            "писмено - писмено\n",
            "запис - запис\n",
            "имена - имена\n",
            "събития - събития\n",
            "транзакции - транзакции</s>\n",
            "\n",
            "=================================\n",
            "\n",
            "<s> [INST]translate to Bulgarian the words, synonims, not foreignisms:\n",
            "\"регистър, официален, писмен, запис, имена, събития, транзакции\"[/INST]регистър\n",
            "- регистър официален - официален писмено - писмено запис - запис имена - имена\n",
            "събития - събития транзакции - транзакции</s> [/INST]регистър - регистър\n",
            "официален - официален писмено - писмено запис - запис имена - имена събития -\n",
            "събития транзакции - транзакции</s>\n",
            "Enter prompt... translate to Bulgarian the words, synonyms: \"регистър, официален, писмен, запис, имена, събития, транзакции\"[/INST]регистър - регистър официален - официален писмено - писмено запис - запис имена - имена събития - събития транзакции - транзакции</s>\n"
          ]
        },
        {
          "output_type": "stream",
          "name": "stderr",
          "text": [
            "Setting `pad_token_id` to `eos_token_id`:2 for open-end generation.\n"
          ]
        },
        {
          "name": "stdout",
          "output_type": "stream",
          "text": [
            "[INST]translate to Bulgarian the words, synonyms: \"регистър, официален, писмен, запис, имена, събития, транзакции\"[/INST]регистър - регистър официален - официален писмено - писмено запис - запис имена - имена събития - събития транзакции - транзакции</s>[/INST]\n",
            "[INST]translate to Bulgarian the words, synonyms: \"регистър, официален, писмен,\n",
            "запис, имена, събития, транзакции\"[/INST]регистър - регистър официален -\n",
            "официален писмено - писмено запис - запис имена - имена събития - събития\n",
            "транзакции - транзакции</s>[/INST]\n",
            "<__main__.Options object at 0x7c001f132620>\n",
            "<s> [INST]translate to Bulgarian the words, synonyms: \"регистър, официален, писмен, запис, имена, събития, транзакции\"[/INST]регистър - регистър официален - официален писмено - писмено запис - запис имена - имена събития - събития транзакции - транзакции</s> [/INST]регистър - регистър официален - официален писмено - писмено запис - запис имена - имена събития - събития транзакции - транзакции</s>\n",
            "\n",
            "=================================\n",
            "\n",
            "<s> [INST]translate to Bulgarian the words, synonyms: \"регистър, официален,\n",
            "писмен, запис, имена, събития, транзакции\"[/INST]регистър - регистър официален -\n",
            "официален писмено - писмено запис - запис имена - имена събития - събития\n",
            "транзакции - транзакции</s> [/INST]регистър - регистър официален - официален\n",
            "писмено - писмено запис - запис имена - имена събития - събития транзакции -\n",
            "транзакции</s>\n",
            "Enter prompt... Ти си пурист. Тодор Балан. Дружество за защита на българския език. Преведи на български: \"регистър, официален, писмен, запис, имена, събития, транзакции\"[/INST]регистър - регистър официален - официален писмено - писмено запис - запис имена - имена събития - събития транзакции - транзакции</s>\n"
          ]
        },
        {
          "output_type": "stream",
          "name": "stderr",
          "text": [
            "Setting `pad_token_id` to `eos_token_id`:2 for open-end generation.\n"
          ]
        },
        {
          "name": "stdout",
          "output_type": "stream",
          "text": [
            "[INST]Ти си пурист. Тодор Балан. Дружество за защита на българския език. Преведи на български: \"регистър, официален, писмен, запис, имена, събития, транзакции\"[/INST]регистър - регистър официален - официален писмено - писмено запис - запис имена - имена събития - събития транзакции - транзакции</s>[/INST]\n",
            "[INST]Ти си пурист. Тодор Балан. Дружество за защита на българския език. Преведи\n",
            "на български: \"регистър, официален, писмен, запис, имена, събития,\n",
            "транзакции\"[/INST]регистър - регистър официален - официален писмено - писмено\n",
            "запис - запис имена - имена събития - събития транзакции - транзакции</s>[/INST]\n",
            "<__main__.Options object at 0x7c001f132620>\n",
            "<s> [INST]Ти си пурист. Тодор Балан. Дружество за защита на българския език. Преведи на български: \"регистър, официален, писмен, запис, имена, събития, транзакции\"[/INST]регистър - регистър официален - официален писмено - писмено запис - запис имена - имена събития - събития транзакции - транзакции</s> [/INST]регистър - регистър официален - официален писмено - писмено запис - запис имена - имена събития - събития транзакции - транзакции</s>\n",
            "\n",
            "=================================\n",
            "\n",
            "<s> [INST]Ти си пурист. Тодор Балан. Дружество за защита на българския език.\n",
            "Преведи на български: \"регистър, официален, писмен, запис, имена, събития,\n",
            "транзакции\"[/INST]регистър - регистър официален - официален писмено - писмено\n",
            "запис - запис имена - имена събития - събития транзакции - транзакции</s>\n",
            "[/INST]регистър - регистър официален - официален писмено - писмено запис - запис\n",
            "имена - имена събития - събития транзакции - транзакции</s>\n",
            "Enter prompt... Преведи на български: \"транзакции\"\n"
          ]
        },
        {
          "output_type": "stream",
          "name": "stderr",
          "text": [
            "Setting `pad_token_id` to `eos_token_id`:2 for open-end generation.\n"
          ]
        },
        {
          "name": "stdout",
          "output_type": "stream",
          "text": [
            "[INST]Преведи на български: \"транзакции\"[/INST]\n",
            "[INST]Преведи на български: \"транзакции\"[/INST]\n",
            "<__main__.Options object at 0x7c001f132620>\n",
            "<s> [INST]Преведи на български: \"транзакции\"[/INST]Транзакции - терминът \"транзакции\" може да се преведе на български като \"сделки\". Обикновено се отнася до обмен или сделка, особено в контекста на бизнес или финансови транзакции. Това може да включва покупка, продажба, прехвърляне на собственост или всяка друга търговска сделка.</s>\n",
            "\n",
            "=================================\n",
            "\n",
            "<s> [INST]Преведи на български: \"транзакции\"[/INST]Транзакции - терминът\n",
            "\"транзакции\" може да се преведе на български като \"сделки\". Обикновено се отнася\n",
            "до обмен или сделка, особено в контекста на бизнес или финансови транзакции.\n",
            "Това може да включва покупка, продажба, прехвърляне на собственост или всяка\n",
            "друга търговска сделка.</s>\n",
            "Enter prompt... Преведи: \"официален\"\n"
          ]
        },
        {
          "output_type": "stream",
          "name": "stderr",
          "text": [
            "Setting `pad_token_id` to `eos_token_id`:2 for open-end generation.\n"
          ]
        },
        {
          "name": "stdout",
          "output_type": "stream",
          "text": [
            "[INST]Преведи: \"официален\"[/INST]\n",
            "[INST]Преведи: \"официален\"[/INST]\n",
            "<__main__.Options object at 0x7c001f132620>\n",
            "<s> [INST]Преведи: \"официален\"[/INST]Официалният превод на думата \"официален\" е „официален“ на испански.</s>\n",
            "\n",
            "=================================\n",
            "\n",
            "<s> [INST]Преведи: \"официален\"[/INST]Официалният превод на думата \"официален\" е\n",
            "„официален“ на испански.</s>\n",
            "Enter prompt... Преведи \"официален\" на български.\n"
          ]
        },
        {
          "output_type": "stream",
          "name": "stderr",
          "text": [
            "Setting `pad_token_id` to `eos_token_id`:2 for open-end generation.\n"
          ]
        },
        {
          "name": "stdout",
          "output_type": "stream",
          "text": [
            "[INST]Преведи \"официален\" на български.[/INST]\n",
            "[INST]Преведи \"официален\" на български.[/INST]\n",
            "<__main__.Options object at 0x7c001f132620>\n",
            "<s> [INST]Преведи \"официален\" на български.[/INST]„Официален“ на български се превежда като „официален“. Терминът често се използва за описание на действия, документи или събития, които са официално признати или санкционирани от управляваща организация или правителство.</s>\n",
            "\n",
            "=================================\n",
            "\n",
            "<s> [INST]Преведи \"официален\" на български.[/INST]„Официален“ на български се\n",
            "превежда като „официален“. Терминът често се използва за описание на действия,\n",
            "документи или събития, които са официално признати или санкционирани от\n",
            "управляваща организация или правителство.</s>\n",
            "Enter prompt... Какво е официален?\n"
          ]
        },
        {
          "output_type": "stream",
          "name": "stderr",
          "text": [
            "Setting `pad_token_id` to `eos_token_id`:2 for open-end generation.\n"
          ]
        },
        {
          "name": "stdout",
          "output_type": "stream",
          "text": [
            "[INST]Какво е официален?[/INST]\n",
            "[INST]Какво е официален?[/INST]\n",
            "<__main__.Options object at 0x7c001f132620>\n",
            "<s> [INST]Какво е официален?[/INST]Официално е прилагателно, което описва нещо като законно, правилно или признато от власт или организация. Може също така да се отнася до нещо, което е официално записано, съобщено или документирано. Например официален документ или официално изявление.</s>\n",
            "\n",
            "=================================\n",
            "\n",
            "<s> [INST]Какво е официален?[/INST]Официално е прилагателно, което описва нещо\n",
            "като законно, правилно или признато от власт или организация. Може също така да\n",
            "се отнася до нещо, което е официално записано, съобщено или документирано.\n",
            "Например официален документ или официално изявление.</s>\n",
            "Enter prompt... На български: \"regular 1898885  in accordance with fixed order or procedure or principle; \"his regular calls on his customers\"; \"regular meals\"; \"regular duties\"  \"\n"
          ]
        },
        {
          "output_type": "stream",
          "name": "stderr",
          "text": [
            "Setting `pad_token_id` to `eos_token_id`:2 for open-end generation.\n"
          ]
        },
        {
          "name": "stdout",
          "output_type": "stream",
          "text": [
            "[INST]На български: \"regular 1898885  in accordance with fixed order or procedure or principle; \"his regular calls on his customers\"; \"regular meals\"; \"regular duties\"  \"[/INST]\n",
            "[INST]На български: \"regular 1898885  in accordance with fixed order or\n",
            "procedure or principle; \"his regular calls on his customers\"; \"regular meals\";\n",
            "\"regular duties\"  \"[/INST]\n",
            "<__main__.Options object at 0x7c001f132620>\n",
            "<s> [INST]На български: \"regular 1898885  in accordance with fixed order or procedure or principle; \"his regular calls on his customers\"; \"regular meals\"; \"regular duties\"  \"[/INST]В английския език думата \"редовен\" има няколко значения, като всички те са свързани с идеята за последователност, навик или обичаен модел:\n",
            "\n",
            "1. Редовен график или рутина: Това значение се отнася до нещо, което се извършва редовно или според определен график. Примерите включват:\n",
            "  - \"Той има редовни упражнения всяка сутрин.\"\n",
            "  - \"Имаме редовни срещи всеки вторник.\"\n",
            "  - \"Тя следва редовен график за сън.\"\n",
            "\n",
            "2. Редовна честота или количество: Това значение се отнася до нещо, което се среща редовно или има определена честота. Примерите включват:\n",
            "  - \"Тя приема редовни витамини.\"\n",
            "  - \"Има редовни валежи през сезона.\"\n",
            "  - \"Той яде редовни ястия през целия ден.\"\n",
            "\n",
            "3. Редовен, постоянен или постоянен: Това значение се отнася до нещо, което е постоянно, надеждно или постоянно. Примерите включват:\n",
            "  - \"Редовна работа.\"\n",
            "  - \"Редовен доход.\"\n",
            "  - \"Редовен график.\"\n",
            "\n",
            "4. Редовен или официален: Това значение се отнася до нещо, което е законно, обичайно или утвърдено. Примерите включват:\n",
            "  - \"Редовни избори.\"\n",
            "  - \"Редовни процедури.\"\n",
            "  - \"Редовни задължения.\"\n",
            "\n",
            "5. Редовен или истински: Това значение се отнася до нещо, което е автентично или не е фалшиво. Примерите включват:\n",
            "  - \"Редовни продукти.\"\n",
            "  - \"Редовна валута.\"\n",
            "  - \"Редовни цени.\"\n",
            "\n",
            "Във всички тези значения ключовият аспект на думата \"редовен\" е идеята за последователност, последователност или модел, който се случва редовно или според определен ред.</s>\n",
            "\n",
            "=================================\n",
            "\n",
            "<s> [INST]На български: \"regular 1898885  in accordance with fixed order or\n",
            "procedure or principle; \"his regular calls on his customers\"; \"regular meals\";\n",
            "\"regular duties\"  \"[/INST]В английския език думата \"редовен\" има няколко\n",
            "значения, като всички те са свързани с идеята за последователност, навик или\n",
            "обичаен модел:  1. Редовен график или рутина: Това значение се отнася до нещо,\n",
            "което се извършва редовно или според определен график. Примерите включват:    -\n",
            "\"Той има редовни упражнения всяка сутрин.\"    - \"Имаме редовни срещи всеки\n",
            "вторник.\"    - \"Тя следва редовен график за сън.\"  2. Редовна честота или\n",
            "количество: Това значение се отнася до нещо, което се среща редовно или има\n",
            "определена честота. Примерите включват:    - \"Тя приема редовни витамини.\"    -\n",
            "\"Има редовни валежи през сезона.\"    - \"Той яде редовни ястия през целия ден.\"\n",
            "3. Редовен, постоянен или постоянен: Това значение се отнася до нещо, което е\n",
            "постоянно, надеждно или постоянно. Примерите включват:    - \"Редовна работа.\"\n",
            "- \"Редовен доход.\"    - \"Редовен график.\"  4. Редовен или официален: Това\n",
            "значение се отнася до нещо, което е законно, обичайно или утвърдено. Примерите\n",
            "включват:    - \"Редовни избори.\"    - \"Редовни процедури.\"    - \"Редовни\n",
            "задължения.\"  5. Редовен или истински: Това значение се отнася до нещо, което е\n",
            "автентично или не е фалшиво. Примерите включват:    - \"Редовни продукти.\"    -\n",
            "\"Редовна валута.\"    - \"Редовни цени.\"  Във всички тези значения ключовият\n",
            "аспект на думата \"редовен\" е идеята за последователност, последователност или\n",
            "модел, който се случва редовно или според определен ред.</s>\n",
            "Enter prompt... Преведи на български език: \"regular 1898885  in accordance with fixed order or procedure or principle; \"his regular calls on his customers\"; \"regular meals\"; \"regular duties\"  \"\n"
          ]
        },
        {
          "output_type": "stream",
          "name": "stderr",
          "text": [
            "Setting `pad_token_id` to `eos_token_id`:2 for open-end generation.\n"
          ]
        },
        {
          "name": "stdout",
          "output_type": "stream",
          "text": [
            "[INST]Преведи на български език: \"regular 1898885  in accordance with fixed order or procedure or principle; \"his regular calls on his customers\"; \"regular meals\"; \"regular duties\"  \"[/INST]\n",
            "[INST]Преведи на български език: \"regular 1898885  in accordance with fixed\n",
            "order or procedure or principle; \"his regular calls on his customers\"; \"regular\n",
            "meals\"; \"regular duties\"  \"[/INST]\n",
            "<__main__.Options object at 0x7c001f132620>\n",
            "<s> [INST]Преведи на български език: \"regular 1898885  in accordance with fixed order or procedure or principle; \"his regular calls on his customers\"; \"regular meals\"; \"regular duties\"  \"[/INST]\"Редовен 1898885 по отношение на фиксиран ред или процедура или принцип; „редовните обаждания на клиента му“; „редовни ястия“; „редовни задължения“.</s>\n",
            "\n",
            "=================================\n",
            "\n",
            "<s> [INST]Преведи на български език: \"regular 1898885  in accordance with fixed\n",
            "order or procedure or principle; \"his regular calls on his customers\"; \"regular\n",
            "meals\"; \"regular duties\"  \"[/INST]\"Редовен 1898885 по отношение на фиксиран ред\n",
            "или процедура или принцип; „редовните обаждания на клиента му“; „редовни ястия“;\n",
            "„редовни задължения“.</s>\n",
            "Enter prompt... To Bg: \"literal 6353803  a mistake in printed matter resulting from mechanical failures of some kind  \"\n"
          ]
        },
        {
          "output_type": "stream",
          "name": "stderr",
          "text": [
            "Setting `pad_token_id` to `eos_token_id`:2 for open-end generation.\n"
          ]
        },
        {
          "name": "stdout",
          "output_type": "stream",
          "text": [
            "[INST]To Bg: \"literal 6353803  a mistake in printed matter resulting from mechanical failures of some kind  \"[/INST]\n",
            "[INST]To Bg: \"literal 6353803  a mistake in printed matter resulting from\n",
            "mechanical failures of some kind  \"[/INST]\n",
            "<__main__.Options object at 0x7c001f132620>\n",
            "<s> [INST]To Bg: \"literal 6353803  a mistake in printed matter resulting from mechanical failures of some kind  \"[/INST]Бг: \"буква 6353803 - грешка в печатни материали, дължаща се на механични неизправности\"</s>\n",
            "\n",
            "=================================\n",
            "\n",
            "<s> [INST]To Bg: \"literal 6353803  a mistake in printed matter resulting from\n",
            "mechanical failures of some kind  \"[/INST]Бг: \"буква 6353803 - грешка в печатни\n",
            "материали, дължаща се на механични неизправности\"</s>\n",
            "Enter prompt... Translate to Bulgarian: \"literal 6353803  a mistake in printed matter resulting from mechanical failures of some kind  \"\n"
          ]
        },
        {
          "output_type": "stream",
          "name": "stderr",
          "text": [
            "Setting `pad_token_id` to `eos_token_id`:2 for open-end generation.\n"
          ]
        },
        {
          "name": "stdout",
          "output_type": "stream",
          "text": [
            "[INST]Translate to Bulgarian: \"literal 6353803  a mistake in printed matter resulting from mechanical failures of some kind  \"[/INST]\n",
            "[INST]Translate to Bulgarian: \"literal 6353803  a mistake in printed matter\n",
            "resulting from mechanical failures of some kind  \"[/INST]\n",
            "<__main__.Options object at 0x7c001f132620>\n",
            "<s> [INST]Translate to Bulgarian: \"literal 6353803  a mistake in printed matter resulting from mechanical failures of some kind  \"[/INST]\"буквално 6353803  грешка в материала за печат, дължаща се на неизправност на машината\"</s>\n",
            "\n",
            "=================================\n",
            "\n",
            "<s> [INST]Translate to Bulgarian: \"literal 6353803  a mistake in printed matter\n",
            "resulting from mechanical failures of some kind  \"[/INST]\"буквално 6353803\n",
            "грешка в материала за печат, дължаща се на неизправност на машината\"</s>\n",
            "Enter prompt... lang=bg:  \"literal 6353803  a mistake in printed matter resulting from mechanical failures of some kind  \"\n"
          ]
        },
        {
          "output_type": "stream",
          "name": "stderr",
          "text": [
            "Setting `pad_token_id` to `eos_token_id`:2 for open-end generation.\n"
          ]
        },
        {
          "name": "stdout",
          "output_type": "stream",
          "text": [
            "[INST]lang=bg:  \"literal 6353803  a mistake in printed matter resulting from mechanical failures of some kind  \"[/INST]\n",
            "[INST]lang=bg:  \"literal 6353803  a mistake in printed matter resulting from\n",
            "mechanical failures of some kind  \"[/INST]\n",
            "<__main__.Options object at 0x7c001f132620>\n",
            "<s> [INST]lang=bg:  \"literal 6353803  a mistake in printed matter resulting from mechanical failures of some kind  \"[/INST]Неправилна информация в отпечатани материали поради механични повреди.</s>\n",
            "\n",
            "=================================\n",
            "\n",
            "<s> [INST]lang=bg:  \"literal 6353803  a mistake in printed matter resulting from\n",
            "mechanical failures of some kind  \"[/INST]Неправилна информация в отпечатани\n",
            "материали поради механични повреди.</s>\n",
            "Enter prompt... Translate to Bulgarian: \"<s> [INST]lang=bg:  \"literal 6353803  a mistake in printed matter resulting from mechanical failures of some kind  \"\n"
          ]
        },
        {
          "output_type": "stream",
          "name": "stderr",
          "text": [
            "Setting `pad_token_id` to `eos_token_id`:2 for open-end generation.\n"
          ]
        },
        {
          "name": "stdout",
          "output_type": "stream",
          "text": [
            "[INST]Translate to Bulgarian: \"<s> [INST]lang=bg:  \"literal 6353803  a mistake in printed matter resulting from mechanical failures of some kind  \"[/INST]\n",
            "[INST]Translate to Bulgarian: \"<s> [INST]lang=bg:  \"literal 6353803  a mistake\n",
            "in printed matter resulting from mechanical failures of some kind  \"[/INST]\n",
            "<__main__.Options object at 0x7c001f132620>\n",
            "<s> [INST]Translate to Bulgarian: \"<s>  [INST]lang=bg:  \"literal 6353803  a mistake in printed matter resulting from mechanical failures of some kind  \"[/INST]„6353803 – грешка в печатните материали, произтичаща от механични неизправности“</s>\n",
            "\n",
            "=================================\n",
            "\n",
            "<s> [INST]Translate to Bulgarian: \"<s>  [INST]lang=bg:  \"literal 6353803  a\n",
            "mistake in printed matter resulting from mechanical failures of some kind\n",
            "\"[/INST]„6353803 – грешка в печатните материали, произтичаща от механични\n",
            "неизправности“</s>\n",
            "Enter prompt... lang=bg:  \"literal 6353803  a mistake in printed matter resulting from mechanical failures of some kind  \"\n"
          ]
        },
        {
          "output_type": "stream",
          "name": "stderr",
          "text": [
            "Setting `pad_token_id` to `eos_token_id`:2 for open-end generation.\n"
          ]
        },
        {
          "name": "stdout",
          "output_type": "stream",
          "text": [
            "[INST]lang=bg:  \"literal 6353803  a mistake in printed matter resulting from mechanical failures of some kind  \"[/INST]\n",
            "[INST]lang=bg:  \"literal 6353803  a mistake in printed matter resulting from\n",
            "mechanical failures of some kind  \"[/INST]\n",
            "<__main__.Options object at 0x7c001f132620>\n",
            "<s> [INST]lang=bg:  \"literal 6353803  a mistake in printed matter resulting from mechanical failures of some kind  \"[/INST]Най-близкият превод на \"literary 6353803  a mistake in printed matter resulting from mechanical failures of some kind\" на английски би бил:\n",
            "\n",
            "\"Литературна 6353803  грешка в печатна грешка, произтичаща от механични повреди.\"\n",
            "\n",
            "Това изглежда като препратка към литературна творба или статия със специфичен идентификатор (6353803), която съдържа грешка в печатна грешка, вероятно поради механична повреда по време на процеса на отпечатване.</s>\n",
            "\n",
            "=================================\n",
            "\n",
            "<s> [INST]lang=bg:  \"literal 6353803  a mistake in printed matter resulting from\n",
            "mechanical failures of some kind  \"[/INST]Най-близкият превод на \"literary\n",
            "6353803  a mistake in printed matter resulting from mechanical failures of some\n",
            "kind\" на английски би бил:  \"Литературна 6353803  грешка в печатна грешка,\n",
            "произтичаща от механични повреди.\"  Това изглежда като препратка към литературна\n",
            "творба или статия със специфичен идентификатор (6353803), която съдържа грешка в\n",
            "печатна грешка, вероятно поради механична повреда по време на процеса на\n",
            "отпечатване.</s>\n",
            "Enter prompt... Translate to Bulgarian: lang=bg literal 6353803  a mistake in printed matter resulting from mechanical failures of some kind \n"
          ]
        },
        {
          "output_type": "stream",
          "name": "stderr",
          "text": [
            "Setting `pad_token_id` to `eos_token_id`:2 for open-end generation.\n"
          ]
        },
        {
          "name": "stdout",
          "output_type": "stream",
          "text": [
            "[INST]Translate to Bulgarian: lang=bg literal 6353803  a mistake in printed matter resulting from mechanical failures of some kind [/INST]\n",
            "[INST]Translate to Bulgarian: lang=bg literal 6353803  a mistake in printed\n",
            "matter resulting from mechanical failures of some kind [/INST]\n",
            "<__main__.Options object at 0x7c001f132620>\n",
            "<s> [INST]Translate to Bulgarian: lang=bg literal 6353803  a mistake in printed matter resulting from mechanical failures of some kind [/INST]6353803 - грешка в печатните материали, произтичаща от механични повреди от някакъв вид</s>\n",
            "\n",
            "=================================\n",
            "\n",
            "<s> [INST]Translate to Bulgarian: lang=bg literal 6353803  a mistake in printed\n",
            "matter resulting from mechanical failures of some kind [/INST]6353803 - грешка в\n",
            "печатните материали, произтичаща от механични повреди от някакъв вид</s>\n",
            "Enter prompt...  lang=bg, Translate to Bulgarian: \"literal 6353803  a mistake in printed matter resulting from mechanical failures of some kind\"\n"
          ]
        },
        {
          "output_type": "stream",
          "name": "stderr",
          "text": [
            "Setting `pad_token_id` to `eos_token_id`:2 for open-end generation.\n"
          ]
        },
        {
          "name": "stdout",
          "output_type": "stream",
          "text": [
            "[INST] lang=bg, Translate to Bulgarian: \"literal 6353803  a mistake in printed matter resulting from mechanical failures of some kind\"[/INST]\n",
            "[INST] lang=bg, Translate to Bulgarian: \"literal 6353803  a mistake in printed\n",
            "matter resulting from mechanical failures of some kind\"[/INST]\n",
            "<__main__.Options object at 0x7c001f132620>\n",
            "<s> [INST] lang=bg, Translate to Bulgarian: \"literal 6353803  a mistake in printed matter resulting from mechanical failures of some kind\"[/INST]\"буквално 6353803  грешка в печатната работа, причинена от неизправност на някакво устройство\"</s>\n",
            "\n",
            "=================================\n",
            "\n",
            "<s> [INST] lang=bg, Translate to Bulgarian: \"literal 6353803  a mistake in\n",
            "printed matter resulting from mechanical failures of some kind\"[/INST]\"буквално\n",
            "6353803  грешка в печатната работа, причинена от неизправност на някакво\n",
            "устройство\"</s>\n",
            "Enter prompt... r\n"
          ]
        },
        {
          "output_type": "stream",
          "name": "stderr",
          "text": [
            "Setting `pad_token_id` to `eos_token_id`:2 for open-end generation.\n"
          ]
        },
        {
          "name": "stdout",
          "output_type": "stream",
          "text": [
            "[INST] lang=bg, Translate to Bulgarian: \"literal 6353803  a mistake in printed matter resulting from mechanical failures of some kind\"[/INST]\n",
            "[INST] lang=bg, Translate to Bulgarian: \"literal 6353803  a mistake in printed\n",
            "matter resulting from mechanical failures of some kind\"[/INST]\n",
            "<__main__.Options object at 0x7c001f132620>\n",
            "<s> [INST] lang=bg, Translate to Bulgarian: \"literal 6353803  a mistake in printed matter resulting from mechanical failures of some kind\"[/INST]\"буквално 6353803  грешка в печата поради механична повреда от някакъв вид\"</s>\n",
            "\n",
            "=================================\n",
            "\n",
            "<s> [INST] lang=bg, Translate to Bulgarian: \"literal 6353803  a mistake in\n",
            "printed matter resulting from mechanical failures of some kind\"[/INST]\"буквално\n",
            "6353803  грешка в печата поради механична повреда от някакъв вид\"</s>\n",
            "Enter prompt... t\n",
            "temperature=... 0.1\n",
            "0.1\n",
            "Enter prompt... r\n"
          ]
        },
        {
          "output_type": "stream",
          "name": "stderr",
          "text": [
            "Setting `pad_token_id` to `eos_token_id`:2 for open-end generation.\n"
          ]
        },
        {
          "name": "stdout",
          "output_type": "stream",
          "text": [
            "[INST] lang=bg, Translate to Bulgarian: \"literal 6353803  a mistake in printed matter resulting from mechanical failures of some kind\"[/INST]\n",
            "[INST] lang=bg, Translate to Bulgarian: \"literal 6353803  a mistake in printed\n",
            "matter resulting from mechanical failures of some kind\"[/INST]\n",
            "<__main__.Options object at 0x7c001f132620>\n",
            "<s> [INST] lang=bg, Translate to Bulgarian: \"literal 6353803  a mistake in printed matter resulting from mechanical failures of some kind\"[/INST]буквален превод: \"6353803 грешка в печатните материали, причинена от механични повреди от някакъв вид\"</s>\n",
            "\n",
            "=================================\n",
            "\n",
            "<s> [INST] lang=bg, Translate to Bulgarian: \"literal 6353803  a mistake in\n",
            "printed matter resulting from mechanical failures of some kind\"[/INST]буквален\n",
            "превод: \"6353803 грешка в печатните материали, причинена от механични повреди от\n",
            "някакъв вид\"</s>\n",
            "Enter prompt... t\n",
            "temperature=... 1\n",
            "1.0\n",
            "Enter prompt... r\n"
          ]
        },
        {
          "output_type": "stream",
          "name": "stderr",
          "text": [
            "Setting `pad_token_id` to `eos_token_id`:2 for open-end generation.\n"
          ]
        },
        {
          "name": "stdout",
          "output_type": "stream",
          "text": [
            "[INST] lang=bg, Translate to Bulgarian: \"literal 6353803  a mistake in printed matter resulting from mechanical failures of some kind\"[/INST]\n",
            "[INST] lang=bg, Translate to Bulgarian: \"literal 6353803  a mistake in printed\n",
            "matter resulting from mechanical failures of some kind\"[/INST]\n",
            "<__main__.Options object at 0x7c001f132620>\n",
            "<s> [INST] lang=bg, Translate to Bulgarian: \"literal 6353803  a mistake in printed matter resulting from mechanical failures of some kind\"[/INST]Буквален превод: „6353803 грешка в печата, причинена от механични неизправности от някакъв вид“\n",
            "\n",
            "В този превод запазвам смисъла на оригиналния текст, който изглежда описва номер (6353803) и пояснява, че той представлява грешка в печата поради механични проблеми.</s>\n",
            "\n",
            "=================================\n",
            "\n",
            "<s> [INST] lang=bg, Translate to Bulgarian: \"literal 6353803  a mistake in\n",
            "printed matter resulting from mechanical failures of some kind\"[/INST]Буквален\n",
            "превод: „6353803 грешка в печата, причинена от механични неизправности от\n",
            "някакъв вид“  В този превод запазвам смисъла на оригиналния текст, който\n",
            "изглежда описва номер (6353803) и пояснява, че той представлява грешка в печата\n",
            "поради механични проблеми.</s>\n",
            "Enter prompt... t = 0.1\n"
          ]
        },
        {
          "output_type": "stream",
          "name": "stderr",
          "text": [
            "Setting `pad_token_id` to `eos_token_id`:2 for open-end generation.\n"
          ]
        },
        {
          "name": "stdout",
          "output_type": "stream",
          "text": [
            "[INST]t = 0.1[/INST]\n",
            "[INST]t = 0.1[/INST]\n",
            "<__main__.Options object at 0x7c001f132620>\n",
            "<s> [INST]t = 0.1[/INST]t = 0.1</s>\n",
            "\n",
            "=================================\n",
            "\n",
            "<s> [INST]t = 0.1[/INST]t = 0.1</s>\n",
            "Enter prompt... r\n"
          ]
        },
        {
          "output_type": "stream",
          "name": "stderr",
          "text": [
            "Setting `pad_token_id` to `eos_token_id`:2 for open-end generation.\n"
          ]
        },
        {
          "name": "stdout",
          "output_type": "stream",
          "text": [
            "[INST]t = 0.1[/INST]\n",
            "[INST]t = 0.1[/INST]\n",
            "<__main__.Options object at 0x7c001f132620>\n",
            "<s> [INST]t = 0.1[/INST]x(t) = 1.2t^2 - 0.1t + 0.5</s>\n",
            "\n",
            "=================================\n",
            "\n",
            "<s> [INST]t = 0.1[/INST]x(t) = 1.2t^2 - 0.1t + 0.5</s>\n",
            "Enter prompt... t\n",
            "temperature=... 0.1\n",
            "0.1\n",
            "Enter prompt... lang=bg, Translate to Bulgarian: \"literal 6353803  a mistake in printed matter resulting from mechanical failures of some kind\"\n"
          ]
        },
        {
          "output_type": "stream",
          "name": "stderr",
          "text": [
            "Setting `pad_token_id` to `eos_token_id`:2 for open-end generation.\n"
          ]
        },
        {
          "name": "stdout",
          "output_type": "stream",
          "text": [
            "[INST]lang=bg, Translate to Bulgarian: \"literal 6353803  a mistake in printed matter resulting from mechanical failures of some kind\"[/INST]\n",
            "[INST]lang=bg, Translate to Bulgarian: \"literal 6353803  a mistake in printed\n",
            "matter resulting from mechanical failures of some kind\"[/INST]\n",
            "<__main__.Options object at 0x7c001f132620>\n",
            "<s> [INST]lang=bg, Translate to Bulgarian: \"literal 6353803  a mistake in printed matter resulting from mechanical failures of some kind\"[/INST]буквален превод: \"6353803 грешка в печатните материали, произтичаща от механични повреди от някакъв вид\"</s>\n",
            "\n",
            "=================================\n",
            "\n",
            "<s> [INST]lang=bg, Translate to Bulgarian: \"literal 6353803  a mistake in\n",
            "printed matter resulting from mechanical failures of some kind\"[/INST]буквален\n",
            "превод: \"6353803 грешка в печатните материали, произтичаща от механични повреди\n",
            "от някакъв вид\"</s>\n",
            "Enter prompt... Translate to Bulgarian language: \"become 144029  enter or assume a certain state or condition; \"He became annoyed when he heard the bad news\"; \"It must be getting more serious\"; \"her face went red with anger\"; \"She went into ecstasy\"; \"Get going!\"  \"\n"
          ]
        },
        {
          "output_type": "stream",
          "name": "stderr",
          "text": [
            "Setting `pad_token_id` to `eos_token_id`:2 for open-end generation.\n"
          ]
        },
        {
          "output_type": "stream",
          "name": "stdout",
          "text": [
            "[INST]Translate to Bulgarian language: \"become 144029  enter or assume a certain state or condition; \"He became annoyed when he heard the bad news\"; \"It must be getting more serious\"; \"her face went red with anger\"; \"She went into ecstasy\"; \"Get going!\"  \"[/INST]\n",
            "[INST]Translate to Bulgarian language: \"become 144029  enter or assume a certain\n",
            "state or condition; \"He became annoyed when he heard the bad news\"; \"It must be\n",
            "getting more serious\"; \"her face went red with anger\"; \"She went into ecstasy\";\n",
            "\"Get going!\"  \"[/INST]\n",
            "<__main__.Options object at 0x7c001f132620>\n",
            "<s> [INST]Translate to Bulgarian language: \"become 144029  enter or assume a certain state or condition; \"He became annoyed when he heard the bad news\"; \"It must be getting more serious\"; \"her face went red with anger\"; \"She went into ecstasy\"; \"Get going!\"  \"[/INST]\"станете 144029  влезете или приемете определено състояние или състояние; \"Той стана раздразнен, когато чу лошите новини\"; \"Трябва да става все по-сериозно\"; \"Лицето й почервеня от гняв\"; \"Тя влезе в екстаз\"; \"Хайде!\"</s>\n",
            "\n",
            "=================================\n",
            "\n",
            "<s> [INST]Translate to Bulgarian language: \"become 144029  enter or assume a\n",
            "certain state or condition; \"He became annoyed when he heard the bad news\"; \"It\n",
            "must be getting more serious\"; \"her face went red with anger\"; \"She went into\n",
            "ecstasy\"; \"Get going!\"  \"[/INST]\"станете 144029  влезете или приемете определено\n",
            "състояние или състояние; \"Той стана раздразнен, когато чу лошите новини\";\n",
            "\"Трябва да става все по-сериозно\"; \"Лицето й почервеня от гняв\"; \"Тя влезе в\n",
            "екстаз\"; \"Хайде!\"</s>\n"
          ]
        },
        {
          "output_type": "error",
          "ename": "KeyboardInterrupt",
          "evalue": "Interrupted by user",
          "traceback": [
            "\u001b[0;31m---------------------------------------------------------------------------\u001b[0m",
            "\u001b[0;31mKeyboardInterrupt\u001b[0m                         Traceback (most recent call last)",
            "\u001b[0;32m<ipython-input-12-1d1bc3f5d41c>\u001b[0m in \u001b[0;36m<cell line: 87>\u001b[0;34m()\u001b[0m\n\u001b[1;32m     85\u001b[0m     \u001b[0mprint\u001b[0m\u001b[0;34m(\u001b[0m\u001b[0manswer\u001b[0m\u001b[0;34m)\u001b[0m\u001b[0;34m\u001b[0m\u001b[0;34m\u001b[0m\u001b[0m\n\u001b[1;32m     86\u001b[0m \u001b[0;31m#culturno() #proba\u001b[0m\u001b[0;34m\u001b[0m\u001b[0;34m\u001b[0m\u001b[0m\n\u001b[0;32m---> 87\u001b[0;31m \u001b[0minteract\u001b[0m\u001b[0;34m(\u001b[0m\u001b[0;34m)\u001b[0m\u001b[0;34m\u001b[0m\u001b[0;34m\u001b[0m\u001b[0m\n\u001b[0m\u001b[1;32m     88\u001b[0m \u001b[0;34m\u001b[0m\u001b[0m\n",
            "\u001b[0;32m<ipython-input-12-1d1bc3f5d41c>\u001b[0m in \u001b[0;36minteract\u001b[0;34m()\u001b[0m\n\u001b[1;32m     74\u001b[0m    \u001b[0mi\u001b[0m \u001b[0;34m=\u001b[0m \u001b[0;32mTrue\u001b[0m\u001b[0;34m\u001b[0m\u001b[0;34m\u001b[0m\u001b[0m\n\u001b[1;32m     75\u001b[0m    \u001b[0;32mwhile\u001b[0m \u001b[0mi\u001b[0m \u001b[0;34m==\u001b[0m \u001b[0;32mTrue\u001b[0m\u001b[0;34m:\u001b[0m\u001b[0;34m\u001b[0m\u001b[0;34m\u001b[0m\u001b[0m\n\u001b[0;32m---> 76\u001b[0;31m       \u001b[0mi\u001b[0m \u001b[0;34m=\u001b[0m \u001b[0mcycle\u001b[0m\u001b[0;34m(\u001b[0m\u001b[0;34m)\u001b[0m\u001b[0;34m\u001b[0m\u001b[0;34m\u001b[0m\u001b[0m\n\u001b[0m\u001b[1;32m     77\u001b[0m \u001b[0;32mdef\u001b[0m \u001b[0mculturno\u001b[0m\u001b[0;34m(\u001b[0m\u001b[0;34m)\u001b[0m\u001b[0;34m:\u001b[0m\u001b[0;34m\u001b[0m\u001b[0;34m\u001b[0m\u001b[0m\n\u001b[1;32m     78\u001b[0m     messages = [\n",
            "\u001b[0;32m<ipython-input-12-1d1bc3f5d41c>\u001b[0m in \u001b[0;36mcycle\u001b[0;34m()\u001b[0m\n\u001b[1;32m     32\u001b[0m     \u001b[0;32mglobal\u001b[0m \u001b[0mb_autoregression\u001b[0m\u001b[0;34m\u001b[0m\u001b[0;34m\u001b[0m\u001b[0m\n\u001b[1;32m     33\u001b[0m     \u001b[0;32mglobal\u001b[0m \u001b[0mprev_prompt\u001b[0m\u001b[0;34m\u001b[0m\u001b[0;34m\u001b[0m\u001b[0m\n\u001b[0;32m---> 34\u001b[0;31m     \u001b[0mprompt\u001b[0m \u001b[0;34m=\u001b[0m \u001b[0minput\u001b[0m\u001b[0;34m(\u001b[0m\u001b[0;34m\"Enter prompt... \"\u001b[0m\u001b[0;34m)\u001b[0m \u001b[0;31m#\"Изброй седемте най-високоплатени атлети от България. Колко от тях са жени? Кои бягат най-бързо?\"\u001b[0m\u001b[0;34m\u001b[0m\u001b[0;34m\u001b[0m\u001b[0m\n\u001b[0m\u001b[1;32m     35\u001b[0m     \u001b[0;32mif\u001b[0m \u001b[0mprompt\u001b[0m \u001b[0;34m==\u001b[0m \u001b[0;34m\"q\"\u001b[0m\u001b[0;34m:\u001b[0m \u001b[0;32mreturn\u001b[0m \u001b[0;32mFalse\u001b[0m\u001b[0;34m\u001b[0m\u001b[0;34m\u001b[0m\u001b[0m\n\u001b[1;32m     36\u001b[0m     \u001b[0;32mif\u001b[0m \u001b[0mprompt\u001b[0m \u001b[0;34m==\u001b[0m \u001b[0;34m\"n\"\u001b[0m\u001b[0;34m:\u001b[0m \u001b[0mb_new_chat\u001b[0m \u001b[0;34m=\u001b[0m \u001b[0;32mTrue\u001b[0m\u001b[0;34m;\u001b[0m \u001b[0;32mreturn\u001b[0m \u001b[0;32mTrue\u001b[0m\u001b[0;34m\u001b[0m\u001b[0;34m\u001b[0m\u001b[0m\n",
            "\u001b[0;32m/usr/local/lib/python3.10/dist-packages/ipykernel/kernelbase.py\u001b[0m in \u001b[0;36mraw_input\u001b[0;34m(self, prompt)\u001b[0m\n\u001b[1;32m    849\u001b[0m                 \u001b[0;34m\"raw_input was called, but this frontend does not support input requests.\"\u001b[0m\u001b[0;34m\u001b[0m\u001b[0;34m\u001b[0m\u001b[0m\n\u001b[1;32m    850\u001b[0m             )\n\u001b[0;32m--> 851\u001b[0;31m         return self._input_request(str(prompt),\n\u001b[0m\u001b[1;32m    852\u001b[0m             \u001b[0mself\u001b[0m\u001b[0;34m.\u001b[0m\u001b[0m_parent_ident\u001b[0m\u001b[0;34m,\u001b[0m\u001b[0;34m\u001b[0m\u001b[0;34m\u001b[0m\u001b[0m\n\u001b[1;32m    853\u001b[0m             \u001b[0mself\u001b[0m\u001b[0;34m.\u001b[0m\u001b[0m_parent_header\u001b[0m\u001b[0;34m,\u001b[0m\u001b[0;34m\u001b[0m\u001b[0;34m\u001b[0m\u001b[0m\n",
            "\u001b[0;32m/usr/local/lib/python3.10/dist-packages/ipykernel/kernelbase.py\u001b[0m in \u001b[0;36m_input_request\u001b[0;34m(self, prompt, ident, parent, password)\u001b[0m\n\u001b[1;32m    893\u001b[0m             \u001b[0;32mexcept\u001b[0m \u001b[0mKeyboardInterrupt\u001b[0m\u001b[0;34m:\u001b[0m\u001b[0;34m\u001b[0m\u001b[0;34m\u001b[0m\u001b[0m\n\u001b[1;32m    894\u001b[0m                 \u001b[0;31m# re-raise KeyboardInterrupt, to truncate traceback\u001b[0m\u001b[0;34m\u001b[0m\u001b[0;34m\u001b[0m\u001b[0m\n\u001b[0;32m--> 895\u001b[0;31m                 \u001b[0;32mraise\u001b[0m \u001b[0mKeyboardInterrupt\u001b[0m\u001b[0;34m(\u001b[0m\u001b[0;34m\"Interrupted by user\"\u001b[0m\u001b[0;34m)\u001b[0m \u001b[0;32mfrom\u001b[0m \u001b[0;32mNone\u001b[0m\u001b[0;34m\u001b[0m\u001b[0;34m\u001b[0m\u001b[0m\n\u001b[0m\u001b[1;32m    896\u001b[0m             \u001b[0;32mexcept\u001b[0m \u001b[0mException\u001b[0m \u001b[0;32mas\u001b[0m \u001b[0me\u001b[0m\u001b[0;34m:\u001b[0m\u001b[0;34m\u001b[0m\u001b[0;34m\u001b[0m\u001b[0m\n\u001b[1;32m    897\u001b[0m                 \u001b[0mself\u001b[0m\u001b[0;34m.\u001b[0m\u001b[0mlog\u001b[0m\u001b[0;34m.\u001b[0m\u001b[0mwarning\u001b[0m\u001b[0;34m(\u001b[0m\u001b[0;34m\"Invalid Message:\"\u001b[0m\u001b[0;34m,\u001b[0m \u001b[0mexc_info\u001b[0m\u001b[0;34m=\u001b[0m\u001b[0;32mTrue\u001b[0m\u001b[0;34m)\u001b[0m\u001b[0;34m\u001b[0m\u001b[0;34m\u001b[0m\u001b[0m\n",
            "\u001b[0;31mKeyboardInterrupt\u001b[0m: Interrupted by user"
          ]
        }
      ]
    },
    {
      "cell_type": "code",
      "source": [
        "Translate to"
      ],
      "metadata": {
        "id": "qohl3VZ3j5-g"
      },
      "execution_count": null,
      "outputs": []
    },
    {
      "cell_type": "code",
      "source": [],
      "metadata": {
        "id": "sg599corA1pt"
      },
      "execution_count": null,
      "outputs": []
    },
    {
      "cell_type": "markdown",
      "source": [],
      "metadata": {
        "id": "RZvjKLN7wZMP"
      }
    },
    {
      "cell_type": "code",
      "source": [
        "s = \"Ти си попфолк звезда от галактиката Андромеда и четеш Азимов, Куельо, Вазов и Лем. Напиши текст за песен, който започва със селската баня, голям кеф, градската десница, софийската левица с голямата... каца на планетата на маймуните във Вселената на Стартрек, при Хари Потър и философския камък на Властелина на пръстените с лазерния меч на Люк. Ползвай метафори, сравнения и алегории, междуметия и синекдохи. Амин.\"\n",
        "wr = w.wrap(s)\n",
        "print(s); print(wr)\n",
        "for i in wr: print(i)"
      ],
      "metadata": {
        "colab": {
          "base_uri": "https://localhost:8080/"
        },
        "id": "zzt82L5YmlM5",
        "outputId": "99ff29b8-f628-45bd-af95-4b5e79000be3"
      },
      "execution_count": null,
      "outputs": [
        {
          "output_type": "stream",
          "name": "stdout",
          "text": [
            "Ти си попфолк звезда от галактиката Андромеда и четеш Азимов, Куельо, Вазов и Лем. Напиши текст за песен, който започва със селската баня, голям кеф, градската десница, софийската левица с голямата... каца на планетата на маймуните във Вселената на Стартрек, при Хари Потър и философския камък на Властелина на пръстените с лазерния меч на Люк. Ползвай метафори, сравнения и алегории, междуметия и синекдохи. Амин.\n",
            "['Ти си попфолк звезда от галактиката Андромеда и четеш Азимов, Куельо,', 'Вазов и Лем. Напиши текст за песен, който започва със селската баня,', 'голям кеф, градската десница, софийската левица с голямата... каца на', 'планетата на маймуните във Вселената на Стартрек, при Хари Потър и', 'философския камък на Властелина на пръстените с лазерния меч на Люк.', 'Ползвай метафори, сравнения и алегории, междуметия и синекдохи. Амин.']\n",
            "Ти си попфолк звезда от галактиката Андромеда и четеш Азимов, Куельо,\n",
            "Вазов и Лем. Напиши текст за песен, който започва със селската баня,\n",
            "голям кеф, градската десница, софийската левица с голямата... каца на\n",
            "планетата на маймуните във Вселената на Стартрек, при Хари Потър и\n",
            "философския камък на Властелина на пръстените с лазерния меч на Люк.\n",
            "Ползвай метафори, сравнения и алегории, междуметия и синекдохи. Амин.\n"
          ]
        }
      ]
    },
    {
      "cell_type": "code",
      "source": [
        " messages = [\n",
        "    {\"role\": \"user\", \"content\": \"Ти си попфолк звезда от галактиката Андромеда и четеш Азимов, Куельо, Вазов и Лем. Напиши текст за песен, който започва със селската баня, голям кеф, градската десница, софийската левица с голямата... каца на планетата на маймуните във Вселената на Стартрек, при Хари Потър и философския камък на Властелина на пръстените с лазерния меч на Люк. Ползвай метафори, сравнения и алегории, междуметия и синекдохи. Амин. \"\n",
        "]\n",
        "# {\"role\": \"assistant\", \"content\": \"Well, I'm quite partial to a good squeeze of fresh lemon juice. It adds just the right amount of zesty flavour to whatever I'm cooking up in the kitchen!\"},\n",
        "#? why the assistant as well"
      ],
      "metadata": {
        "id": "sdbwldNm0epT"
      },
      "execution_count": null,
      "outputs": []
    },
    {
      "cell_type": "code",
      "source": [],
      "metadata": {
        "id": "C8-_fnzparaM"
      },
      "execution_count": null,
      "outputs": []
    },
    {
      "cell_type": "code",
      "source": [],
      "metadata": {
        "id": "I2cuHYah0e_5"
      },
      "execution_count": null,
      "outputs": []
    },
    {
      "cell_type": "markdown",
      "source": [],
      "metadata": {
        "id": "3i1hIrYwo8WT"
      }
    },
    {
      "cell_type": "code",
      "source": [
        "print(prompt_and_answer)"
      ],
      "metadata": {
        "colab": {
          "base_uri": "https://localhost:8080/"
        },
        "id": "T1VQ0--zizna",
        "outputId": "b5f9104f-5274-4875-eabd-b251eaa93c35"
      },
      "execution_count": null,
      "outputs": [
        {
          "output_type": "stream",
          "name": "stdout",
          "text": [
            "[('Колко от тях са жени?', '<s> Колко от тях са жени?\\nОбщата средна възраст на всички жени е $30$ години. Каква е средната възраст, в години, на мъжете? Изразете отговора си като десетичен знак до най-близката десета. [/INST]Да приемем, че броят на жените е $w$ и броят на мъжете е $m$.\\nДадено ни е, че $w + m = 32$ и средната възраст на всичките $w + m$ души е $30$ години.\\nСредната възраст може да се изчисли, като се вземе сумата от всички възрасти и се раздели на броя на хората.\\nТака че имаме уравнението $(30)(w + m) = \\\\frac{30}{32}(w + 180)$ (тъй като средната възраст на мъжете е $180$ години).\\nОпростявайки това уравнение, получаваме $')]\n"
          ]
        }
      ]
    },
    {
      "cell_type": "code",
      "source": [
        "# CLOSE\n",
        "f.close()"
      ],
      "metadata": {
        "id": "eQ4Bve9ljiUP"
      },
      "execution_count": null,
      "outputs": []
    },
    {
      "cell_type": "code",
      "source": [
        "prompt = \"Програмирай на Бейсик за APPLE 2 рисуване на триизмерен цилиндър в перспектива. В режим HGR.\"\n",
        "model_inputs = tokenizer([prompt], return_tensors=\"pt\").to(device)\n",
        "generated_ids = model.generate(**model_inputs, max_new_tokens=200, do_sample=True)\n",
        "tokenizer.batch_decode(generated_ids)[0]"
      ],
      "metadata": {
        "id": "EaEQ6a0JNiPG"
      },
      "execution_count": null,
      "outputs": []
    },
    {
      "cell_type": "markdown",
      "source": [],
      "metadata": {
        "id": "vJKEzme5V1A4"
      }
    }
  ]
}